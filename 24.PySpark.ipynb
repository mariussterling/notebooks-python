{
 "cells": [
  {
   "cell_type": "markdown",
   "metadata": {
    "collapsed": true,
    "slideshow": {
     "slide_type": "skip"
    }
   },
   "source": [
    "Pierre Navaro - [Institut de Recherche Mathématique de Rennes](https://irmar.univ-rennes1.fr) - [CNRS](http://www.cnrs.fr/)"
   ]
  },
  {
   "cell_type": "markdown",
   "metadata": {
    "slideshow": {
     "slide_type": "skip"
    }
   },
   "source": [
    "# References\n",
    "\n",
    "* [Laurent Gautier](https://github.com/lgautier/pragmatic-polyglot-data-analysis)\n",
    "* [PySpark Internals](https://cwiki.apache.org/confluence/display/SPARK/PySpark+Internals)\n",
    "* [Apache Spark website](http://spark.apache.org)\n",
    "* [Step by Step of installing Apache Spark on Apache Hadoop](https://chongyaorobin.wordpress.com/2015/07/01/step-by-step-of-installing-apache-spark-on-apache-hadoop/)"
   ]
  },
  {
   "cell_type": "markdown",
   "metadata": {
    "slideshow": {
     "slide_type": "skip"
    }
   },
   "source": [
    "# Installation\n",
    "```sh\n",
    " pip3 install findspark\n",
    " brew install scala\n",
    " brew install apache-spark\n",
    " pip3 install pyspark\n",
    "```\n",
    "\n",
    "*Note: PySpark requires a little additional setup. Usually, the following environment variables need to be set (using `/usr/libexec/java_home` on OS X or similar on Linux)*:\n",
    "\n",
    "```bash\n",
    "export JAVA_HOME=\"$(/usr/libexec/java_home)\"\n",
    "```\n",
    "\n",
    "*Also, VPNs can interfere with PySpark, so you may need to disable yours if you are running PySpark locally.*\n",
    "\n",
    "Check version of spark with `brew info apache-spark` and set the variable\n",
    "```bash\n",
    "export SPARK_HOME=\"/usr/local/Cellar/apache-spark/2.2.0/libexec/\"\n",
    "export HADOOP_HOME=\"/usr/local/opt/hadoop/libexec/\"\n",
    "export HADOOP_CONF_DIR=${HADOOP_HOME}/etc/hadoop\n",
    "```"
   ]
  },
  {
   "cell_type": "markdown",
   "metadata": {},
   "source": [
    "![PySpark Internals](http://i.imgur.com/YlI8AqEl.png)"
   ]
  },
  {
   "cell_type": "markdown",
   "metadata": {
    "slideshow": {
     "slide_type": "slide"
    }
   },
   "source": [
    "Apache Spark is a fast and general-purpose cluster computing system. It provides high-level APIs in Java, Scala, Python and R, and an optimized engine that supports general execution graphs. It also supports a rich set of higher-level tools including Spark SQL for SQL and structured data processing, MLlib for machine learning, GraphX for graph processing, and Spark Streaming."
   ]
  },
  {
   "cell_type": "markdown",
   "metadata": {
    "slideshow": {
     "slide_type": "slide"
    }
   },
   "source": [
    "Apache Spark provides APIs in non-JVM languages such as Python. Many data scientists use Python because it has a rich variety of numerical libraries with a statistical, machine-learning, or optimization focus.\n",
    "[Cloudera website](https://www.cloudera.com/documentation/enterprise/5-5-x/topics/spark_ipython.html)"
   ]
  },
  {
   "cell_type": "code",
   "execution_count": 23,
   "metadata": {
    "collapsed": true,
    "slideshow": {
     "slide_type": "fragment"
    }
   },
   "outputs": [],
   "source": [
    "import findspark\n",
    "findspark.init()\n",
    "\n",
    "import pyspark\n",
    "\n",
    "conf = pyspark.conf.SparkConf()\n",
    "(conf.setMaster('local[2]')\n",
    " .setAppName('ipython-notebook')\n",
    " .set(\"spark.executor.memory\", \"2g\"))\n",
    "\n",
    "sc = pyspark.SparkContext(conf=conf)\n"
   ]
  },
  {
   "cell_type": "code",
   "execution_count": 24,
   "metadata": {},
   "outputs": [
    {
     "name": "stdout",
     "output_type": "stream",
     "text": [
      "<SparkContext master=local[2] appName=ipython-notebook>\n"
     ]
    }
   ],
   "source": [
    "print(sc) # it is like a Pool Processor executor"
   ]
  },
  {
   "cell_type": "markdown",
   "metadata": {
    "slideshow": {
     "slide_type": "fragment"
    }
   },
   "source": [
    "We have a spark context sc to use with a tiny local spark cluster with 2 nodes (will work just fine on a multicore machine)."
   ]
  },
  {
   "cell_type": "markdown",
   "metadata": {
    "collapsed": true,
    "slideshow": {
     "slide_type": "slide"
    }
   },
   "source": [
    "# Parallel Collections\n",
    "\n",
    "Systems like Spark and Dask include \"big data\" collections with a small set of high-level primitives like `map`, `filter`, `groupby`, and `join`.  With these common patterns we can often handle computations that are more complex than map, but are still structured.\n",
    "\n",
    "\n"
   ]
  },
  {
   "cell_type": "code",
   "execution_count": 25,
   "metadata": {
    "slideshow": {
     "slide_type": "fragment"
    }
   },
   "outputs": [
    {
     "data": {
      "text/plain": [
       "PythonRDD[1] at RDD at PythonRDD.scala:48"
      ]
     },
     "execution_count": 25,
     "metadata": {},
     "output_type": "execute_result"
    }
   ],
   "source": [
    "rdd = sc.parallelize(range(5))  # create collection\n",
    "rdd"
   ]
  },
  {
   "cell_type": "markdown",
   "metadata": {},
   "source": [
    "From Python list we go to spark objects and back to python list."
   ]
  },
  {
   "cell_type": "code",
   "execution_count": 3,
   "metadata": {
    "slideshow": {
     "slide_type": "fragment"
    }
   },
   "outputs": [
    {
     "data": {
      "text/plain": [
       "[0, 1, 2, 3, 4]"
      ]
     },
     "execution_count": 3,
     "metadata": {},
     "output_type": "execute_result"
    }
   ],
   "source": [
    "rdd.collect()  # Gather results back to local process"
   ]
  },
  {
   "cell_type": "markdown",
   "metadata": {
    "slideshow": {
     "slide_type": "slide"
    }
   },
   "source": [
    "### map"
   ]
  },
  {
   "cell_type": "code",
   "execution_count": 4,
   "metadata": {
    "slideshow": {
     "slide_type": "fragment"
    }
   },
   "outputs": [
    {
     "data": {
      "text/plain": [
       "PythonRDD[2] at RDD at PythonRDD.scala:48"
      ]
     },
     "execution_count": 4,
     "metadata": {},
     "output_type": "execute_result"
    }
   ],
   "source": [
    "rdd.map(lambda x: x ** 2) # Square each element"
   ]
  },
  {
   "cell_type": "code",
   "execution_count": 5,
   "metadata": {
    "slideshow": {
     "slide_type": "fragment"
    }
   },
   "outputs": [
    {
     "data": {
      "text/plain": [
       "[0, 1, 4, 9, 16]"
      ]
     },
     "execution_count": 5,
     "metadata": {},
     "output_type": "execute_result"
    }
   ],
   "source": [
    "rdd.map(lambda x: x ** 2).collect() # Square each element and collect results"
   ]
  },
  {
   "cell_type": "code",
   "execution_count": 6,
   "metadata": {
    "slideshow": {
     "slide_type": "fragment"
    }
   },
   "outputs": [
    {
     "data": {
      "text/plain": [
       "[0, 2, 4]"
      ]
     },
     "execution_count": 6,
     "metadata": {},
     "output_type": "execute_result"
    }
   ],
   "source": [
    "rdd.filter(lambda x: x % 2 == 0).collect() # Select only the even elements‹"
   ]
  },
  {
   "cell_type": "code",
   "execution_count": 7,
   "metadata": {
    "slideshow": {
     "slide_type": "fragment"
    }
   },
   "outputs": [
    {
     "data": {
      "text/plain": [
       "[(0, 0), (0, 1), (1, 0), (1, 1), (0, 2), (0, 3), (0, 4), (1, 2)]"
      ]
     },
     "execution_count": 7,
     "metadata": {},
     "output_type": "execute_result"
    }
   ],
   "source": [
    "# Cartesian product of each pair of elements in two sequences \n",
    "# (or the same sequence in this case)\n",
    "rdd.cartesian(rdd).collect()[:8]"
   ]
  },
  {
   "cell_type": "code",
   "execution_count": 8,
   "metadata": {
    "slideshow": {
     "slide_type": "slide"
    }
   },
   "outputs": [
    {
     "data": {
      "text/plain": [
       "[(0, 0),\n",
       " (0, 1),\n",
       " (0, 2),\n",
       " (0, 3),\n",
       " (0, 4),\n",
       " (4, 0),\n",
       " (4, 1),\n",
       " (16, 0),\n",
       " (16, 1),\n",
       " (4, 2),\n",
       " (4, 3),\n",
       " (4, 4),\n",
       " (16, 2),\n",
       " (16, 3),\n",
       " (16, 4)]"
      ]
     },
     "execution_count": 8,
     "metadata": {},
     "output_type": "execute_result"
    }
   ],
   "source": [
    "# Chain operations to construct more complex computations\n",
    "\n",
    "(rdd.map(lambda x: x ** 2)\n",
    "    .cartesian(rdd)\n",
    "    .filter(lambda tup: tup[0] % 2 == 0)\n",
    "    .collect())"
   ]
  },
  {
   "cell_type": "markdown",
   "metadata": {
    "slideshow": {
     "slide_type": "slide"
    }
   },
   "source": [
    "# Prepare data \n",
    "\n",
    "This python script generates some fake stock data by adding a bunch of points between real stock data points. We just need to get some data to work with, you don't need to understand these following lines. We get a list of json files containing dataframes. We will convert these files into hdf5 format and use them to extract some information."
   ]
  },
  {
   "cell_type": "code",
   "execution_count": 2,
   "metadata": {
    "collapsed": true,
    "slideshow": {
     "slide_type": "skip"
    }
   },
   "outputs": [],
   "source": [
    "# Parallel Data Analysis in Python \n",
    "# SciPy 2017 Tutorial \n",
    "# Matthew Rocklin, Ben Zaitlen & Aron Ahmadia\n",
    "# https://github.com/pydata/parallel-tutorial\n",
    "import os\n",
    "from glob import glob\n",
    "import pandas as pd\n",
    "try:\n",
    "    import ujson as json\n",
    "except ImportError:\n",
    "    import json\n",
    "\n",
    "import dask\n",
    "import dask.dataframe as dd\n",
    "import dask.multiprocessing\n",
    "import os\n",
    "import sys\n",
    "\n",
    "WINDOWS = sys.platform.startswith('win')\n",
    "\n",
    "if WINDOWS:\n",
    "    dask.set_options(get=dask.threaded.get)\n",
    "else:\n",
    "    dask.set_options(get=dask.multiprocessing.get)\n",
    "\n",
    "here = os.getcwd()\n",
    "os.makedirs(os.path.join(here, 'data', 'minute'), exist_ok=True)\n",
    "\n",
    "stocks = ['afl', 'aig', 'al', 'amgn', 'avy', 'b', 'bwa', 'ge',\n",
    "          'hal', 'hp', 'hpq', 'ibm', 'jbl', 'jpm', 'luv', 'met', 'pcg',\n",
    "          'tgt', 'usb', 'xom']\n",
    "\n",
    "def write_stock(symbol):\n",
    "    dirname = os.path.join(here, 'data', 'minute', symbol)\n",
    "    if not os.path.exists(dirname):\n",
    "        os.mkdir(dirname)\n",
    "        df = dd.demo.daily_stock(symbol, '2010', '2015', freq='120s',\n",
    "                                 data_source='google')\n",
    "        names = [str(ts.date()) for ts in df.divisions]\n",
    "        df.to_csv(os.path.join(here, 'data', 'minute', symbol, '*.csv'),\n",
    "                  name_function=names.__getitem__)\n",
    "        print(\"Finished CSV: %s\" % symbol)\n",
    "\n",
    "for symbol in stocks:\n",
    "    write_stock(symbol)\n",
    "\n",
    "def convert_to_json(d):\n",
    "    filenames = sorted(glob(os.path.join(d, '*')))[-365:]\n",
    "    outfn = d.replace('minute', 'json') + '.json'\n",
    "    if os.path.exists(outfn):\n",
    "        return\n",
    "    with open(outfn, 'w') as f:\n",
    "        for fn in filenames:\n",
    "            df = pd.read_csv(fn)\n",
    "            for rec in df.to_dict(orient='records'):\n",
    "                json.dump(rec, f)\n",
    "                f.write('\\n')\n",
    "    print(\"Finished JSON: %s\" % d.split(os.path.sep)[-1])\n",
    "\n",
    "js = os.path.join(here, 'data', 'json')\n",
    "if not os.path.exists(js):\n",
    "    os.mkdir(js)\n",
    "\n",
    "directories = sorted(glob(os.path.join(here, 'data', 'minute', '*')))\n",
    "values = [dask.delayed(convert_to_json)(d) for d in directories]\n",
    "dask.compute(values);"
   ]
  },
  {
   "cell_type": "code",
   "execution_count": 3,
   "metadata": {},
   "outputs": [
    {
     "data": {
      "text/plain": [
       "['afl',\n",
       " 'aig',\n",
       " 'al',\n",
       " 'amgn',\n",
       " 'avy',\n",
       " 'b',\n",
       " 'bwa',\n",
       " 'ge',\n",
       " 'hal',\n",
       " 'hp',\n",
       " 'hpq',\n",
       " 'ibm',\n",
       " 'jbl',\n",
       " 'jpm',\n",
       " 'luv',\n",
       " 'met',\n",
       " 'pcg',\n",
       " 'tgt',\n",
       " 'usb',\n",
       " 'xom']"
      ]
     },
     "execution_count": 3,
     "metadata": {},
     "output_type": "execute_result"
    }
   ],
   "source": [
    "stocks"
   ]
  },
  {
   "cell_type": "code",
   "execution_count": 4,
   "metadata": {},
   "outputs": [
    {
     "data": {
      "text/plain": [
       "['./data/json/aet.json',\n",
       " './data/json/afl.json',\n",
       " './data/json/aig.json',\n",
       " './data/json/al.json',\n",
       " './data/json/amgn.json']"
      ]
     },
     "execution_count": 4,
     "metadata": {},
     "output_type": "execute_result"
    }
   ],
   "source": [
    "filenames = sorted(glob(os.path.join('.', 'data', 'json', '*.json')))  # ../data/json/*.json\n",
    "filenames[:5]"
   ]
  },
  {
   "cell_type": "code",
   "execution_count": 5,
   "metadata": {},
   "outputs": [
    {
     "name": "stdout",
     "output_type": "stream",
     "text": [
      "CPU times: user 5.33 s, sys: 617 ms, total: 5.95 s\n",
      "Wall time: 6.03 s\n"
     ]
    }
   ],
   "source": [
    "%%time\n",
    "\n",
    "### Sequential code\n",
    "\n",
    "for fn in filenames:\n",
    "    with open(fn) as f:\n",
    "        data = [json.loads(line) for line in f]\n",
    "        \n",
    "    df = pd.DataFrame(data)\n",
    "    \n",
    "    out_filename = fn[:-5] + '.h5'\n",
    "    df.to_hdf(out_filename, '/data')"
   ]
  },
  {
   "cell_type": "markdown",
   "metadata": {},
   "source": [
    "```bash\n",
    "pip3 install snakeviz tables\n",
    "```"
   ]
  },
  {
   "cell_type": "code",
   "execution_count": 43,
   "metadata": {},
   "outputs": [
    {
     "name": "stdout",
     "output_type": "stream",
     "text": [
      "The snakeviz extension is already loaded. To reload it, use:\n",
      "  %reload_ext snakeviz\n"
     ]
    }
   ],
   "source": [
    "%load_ext snakeviz"
   ]
  },
  {
   "cell_type": "markdown",
   "metadata": {},
   "source": [
    "### Convert JSON data to HDF5 in parallel"
   ]
  },
  {
   "cell_type": "code",
   "execution_count": 30,
   "metadata": {},
   "outputs": [
    {
     "name": "stdout",
     "output_type": "stream",
     "text": [
      "./data/json/aet.json\n",
      "./data/json/afl.json\n",
      "./data/json/aig.json\n",
      "./data/json/al.json\n",
      "./data/json/amgn.json\n",
      "./data/json/avy.json\n",
      "./data/json/b.json\n",
      "./data/json/bwa.json\n",
      "./data/json/ge.json\n",
      "./data/json/hal.json\n",
      "./data/json/hp.json\n",
      "./data/json/hpq.json\n",
      "./data/json/ibm.json\n",
      "./data/json/jbl.json\n",
      "./data/json/jpm.json\n",
      "./data/json/luv.json\n",
      "./data/json/met.json\n",
      "./data/json/pcg.json\n",
      "./data/json/tgt.json\n",
      "./data/json/usb.json\n",
      "./data/json/xom.json\n",
      " \n",
      "*** Profile stats marshalled to file '/var/folders/mw/nwq5qyg56fl585pb9jw81_qc0000gn/T/tmphbx8ox6x'. \n"
     ]
    }
   ],
   "source": [
    "%%snakeviz\n",
    "\n",
    "for fn in filenames:\n",
    "    print(fn)\n",
    "    with open(fn) as f:\n",
    "        data = [json.loads(line) for line in f]\n",
    "        \n",
    "    df = pd.DataFrame(data)\n",
    "    \n",
    "    out_filename = fn[:-5] + '.h5'\n",
    "    df.to_hdf(out_filename, '/data')"
   ]
  },
  {
   "cell_type": "code",
   "execution_count": 5,
   "metadata": {},
   "outputs": [
    {
     "data": {
      "text/plain": [
       "['./data/json/afl.h5',\n",
       " './data/json/aig.h5',\n",
       " './data/json/al.h5',\n",
       " './data/json/amgn.h5',\n",
       " './data/json/avy.h5']"
      ]
     },
     "execution_count": 5,
     "metadata": {},
     "output_type": "execute_result"
    }
   ],
   "source": [
    "from glob import glob\n",
    "import os\n",
    "import pandas as pd\n",
    "\n",
    "filenames = sorted(glob(os.path.join('.','data', 'json', '*.h5')))  # ./data/json/*.json\n",
    "filenames[:5]"
   ]
  },
  {
   "cell_type": "markdown",
   "metadata": {},
   "source": [
    "Application\n",
    "Given our HDF5 files from the last section we want to find the two datasets with the greatest pair-wise correlation. This forces us to consider all  $n \\times (n−1)$\n",
    "  possibilities.\n",
    "\n",
    "\n",
    "## Sequential code\n",
    "\n",
    "### Load data from disk\n"
   ]
  },
  {
   "cell_type": "code",
   "execution_count": 8,
   "metadata": {
    "collapsed": true
   },
   "outputs": [],
   "source": [
    "series = {} \n",
    "for fn in filenames:  \n",
    "    series[fn] = pd.read_hdf(fn)['close']"
   ]
  },
  {
   "cell_type": "code",
   "execution_count": 10,
   "metadata": {},
   "outputs": [
    {
     "name": "stdout",
     "output_type": "stream",
     "text": [
      "./data/json/luv.h5 matches with ./data/json/hpq.h5 with correlation 0.934552\n",
      "CPU times: user 503 ms, sys: 4.48 ms, total: 508 ms\n",
      "Wall time: 507 ms\n"
     ]
    }
   ],
   "source": [
    "%%time\n",
    "\n",
    "results = {}\n",
    "\n",
    "for a in filenames:\n",
    "    for b in filenames:\n",
    "        if a != b:\n",
    "            results[a, b] = series[a].corr(series[b])\n",
    "            \n",
    "((a, b), corr) = max(results.items(), key=lambda kv: kv[1])\n",
    "print(\"%s matches with %s with correlation %f\" % (a, b, corr))"
   ]
  },
  {
   "cell_type": "code",
   "execution_count": 12,
   "metadata": {},
   "outputs": [
    {
     "data": {
      "image/png": "[encoded data removed]",
      "text/plain": [
       "<matplotlib.figure.Figure at 0x10f52dda0>"
      ]
     },
     "metadata": {},
     "output_type": "display_data"
    }
   ],
   "source": [
    "%matplotlib inline\n",
    "from matplotlib import pyplot as plt\n",
    "plt.figure(figsize=(10, 4))\n",
    "plt.plot(series[a] / series[a].max())\n",
    "plt.plot(series[b] / series[b].max())\n",
    "plt.xticks(visible=False);"
   ]
  },
  {
   "cell_type": "markdown",
   "metadata": {
    "slideshow": {
     "slide_type": "slide"
    }
   },
   "source": [
    "### Solve same problem with map."
   ]
  },
  {
   "cell_type": "code",
   "execution_count": 14,
   "metadata": {
    "slideshow": {
     "slide_type": "fragment"
    }
   },
   "outputs": [
    {
     "name": "stdout",
     "output_type": "stream",
     "text": [
      "CPU times: user 1.27 s, sys: 114 ms, total: 1.38 s\n",
      "Wall time: 1.38 s\n"
     ]
    }
   ],
   "source": [
    "%%time\n",
    "\n",
    "series = []\n",
    "for fn in filenames:   # Simple map over filenames\n",
    "    series.append(pd.read_hdf(fn)['close'])\n",
    "\n",
    "results = []\n",
    "\n",
    "for a in series:    # Doubly nested loop over the same collection\n",
    "    for b in series:  \n",
    "        if not (a == b).all():     # Filter out comparisons of the same series \n",
    "            results.append(a.corr(b))  # Apply function\n",
    "\n",
    "result = max(results)"
   ]
  },
  {
   "cell_type": "code",
   "execution_count": 20,
   "metadata": {},
   "outputs": [
    {
     "data": {
      "text/plain": [
       "276"
      ]
     },
     "execution_count": 20,
     "metadata": {},
     "output_type": "execute_result"
    }
   ],
   "source": [
    "import numpy as np\n",
    "np.array(results).argmax()"
   ]
  },
  {
   "cell_type": "markdown",
   "metadata": {
    "slideshow": {
     "slide_type": "slide"
    }
   },
   "source": [
    "### Parallel code"
   ]
  },
  {
   "cell_type": "code",
   "execution_count": 13,
   "metadata": {
    "collapsed": true
   },
   "outputs": [],
   "source": [
    "rdd = sc.parallelize(filenames)\n",
    "series = rdd.map(lambda fn: pd.read_hdf(fn)['close'])\n",
    "\n",
    "corr = (series.cartesian(series)  # handles nested for loop\n",
    "              .filter(lambda ab: not (ab[0] == ab[1]).all())\n",
    "              .map(lambda ab: ab[0].corr(ab[1]))\n",
    "              .max())\n",
    "\n",
    "result = corr\n",
    "\n"
   ]
  },
  {
   "cell_type": "code",
   "execution_count": 14,
   "metadata": {},
   "outputs": [
    {
     "data": {
      "text/plain": [
       "0.9345517675657099"
      ]
     },
     "execution_count": 14,
     "metadata": {},
     "output_type": "execute_result"
    }
   ],
   "source": [
    "result"
   ]
  },
  {
   "cell_type": "markdown",
   "metadata": {
    "slideshow": {
     "slide_type": "slide"
    }
   },
   "source": [
    "# Dask bag"
   ]
  },
  {
   "cell_type": "code",
   "execution_count": 16,
   "metadata": {
    "collapsed": true,
    "slideshow": {
     "slide_type": "fragment"
    }
   },
   "outputs": [],
   "source": [
    "import dask.bag as db\n",
    "\n",
    "b = db.from_sequence(filenames)\n",
    "series = b.map(lambda fn: pd.read_hdf(fn)['close'])\n",
    "\n",
    "corr = (series.product(series) # handles nested for loop\n",
    "              .filter(lambda ab: not (ab[0] == ab[1]).all())\n",
    "              .map(lambda ab: ab[0].corr(ab[1]))\n",
    "              .max())\n",
    "\n",
    "result = corr.compute() # Effective computation of the lazy object\n"
   ]
  },
  {
   "cell_type": "code",
   "execution_count": 17,
   "metadata": {
    "slideshow": {
     "slide_type": "fragment"
    }
   },
   "outputs": [
    {
     "data": {
      "text/plain": [
       "0.9345517675657099"
      ]
     },
     "execution_count": 17,
     "metadata": {},
     "output_type": "execute_result"
    }
   ],
   "source": [
    "result"
   ]
  },
  {
   "cell_type": "markdown",
   "metadata": {
    "slideshow": {
     "slide_type": "slide"
    }
   },
   "source": [
    "## Use spark with mrjob"
   ]
  },
  {
   "cell_type": "code",
   "execution_count": 1,
   "metadata": {
    "slideshow": {
     "slide_type": "fragment"
    }
   },
   "outputs": [
    {
     "name": "stdout",
     "output_type": "stream",
     "text": [
      "Overwriting mr_spark_word_count.py\n"
     ]
    }
   ],
   "source": [
    "%%file mr_spark_word_count.py\n",
    "import re\n",
    "from operator import add\n",
    "\n",
    "from mrjob.job import MRJob\n",
    "\n",
    "\n",
    "\n",
    "WORD_RE = re.compile(r\"[\\w']+\")\n",
    "\n",
    "class MRSparkWordcount(MRJob):\n",
    "\n",
    "    def spark(self, input_path, output_path):\n",
    "        # Spark may not be available where script is launched\n",
    "        \n",
    "        from pyspark import SparkContext\n",
    "        import findspark\n",
    "        findspark.init()\n",
    "\n",
    "        sc = SparkContext(appName='mrjob Spark wordcount script')\n",
    "\n",
    "        lines = sc.textFile(input_path)\n",
    "\n",
    "        counts = (\n",
    "            lines.flatMap(lambda line: WORD_RE.findall(line))\n",
    "            .map(lambda word: (word, 1))\n",
    "            .reduceByKey(add))\n",
    "\n",
    "        counts.saveAsTextFile(output_path)\n",
    "\n",
    "        sc.stop()\n",
    "\n",
    "if __name__ == '__main__':\n",
    "    MRSparkWordcount.run()\n"
   ]
  },
  {
   "cell_type": "code",
   "execution_count": 3,
   "metadata": {},
   "outputs": [
    {
     "name": "stdout",
     "output_type": "stream",
     "text": [
      "No configs found; falling back on auto-configuration\n",
      "Looking for hadoop binary in $PATH...\n",
      "Found hadoop binary: /usr/local/bin/hadoop\n",
      "Using Hadoop version 2.8.1\n",
      "Looking for spark-submit binary in $PATH...\n",
      "Found spark-submit binary: /usr/local/bin/spark-submit\n",
      "Creating temp directory /var/folders/mw/nwq5qyg56fl585pb9jw81_qc0000gn/T/mr_spark_word_count.navaro.20170905.100301.897215\n",
      "Copying local files to hdfs:///user/navaro/tmp/mrjob/mr_spark_word_count.navaro.20170905.100301.897215/files/...\n",
      "Running step 1 of 1...\n",
      "  Your hostname, m-navaro resolves to a loopback address: 127.0.0.1; using 129.20.39.133 instead (on interface en0)\n",
      "  Set SPARK_LOCAL_IP if you need to bind to another address\n",
      "  Running Spark version 2.2.0\n",
      "  Unable to load native-hadoop library for your platform... using builtin-java classes where applicable\n",
      "  Submitted application: mrjob Spark wordcount script\n",
      "  Changing view acls to: navaro\n",
      "  Changing modify acls to: navaro\n",
      "  Changing view acls groups to: \n",
      "  Changing modify acls groups to: \n",
      "  SecurityManager: authentication disabled; ui acls disabled; users  with view permissions: Set(navaro); groups with view permissions: Set(); users  with modify permissions: Set(navaro); groups with modify permissions: Set()\n",
      "  Successfully started service 'sparkDriver' on port 58747.\n",
      "  Registering MapOutputTracker\n",
      "  Registering BlockManagerMaster\n",
      "  Using org.apache.spark.storage.DefaultTopologyMapper for getting topology information\n",
      "  BlockManagerMasterEndpoint up\n",
      "  Created local directory at /private/var/folders/mw/nwq5qyg56fl585pb9jw81_qc0000gn/T/blockmgr-f4cd18af-8094-4d01-be5f-696424a7f64d\n",
      "  MemoryStore started with capacity 366.3 MB\n",
      "  Registering OutputCommitCoordinator\n",
      "  Logging initialized @2105ms\n",
      "  jetty-9.3.z-SNAPSHOT\n",
      "  Started @2190ms\n",
      "  Started ServerConnector@5ff35098{HTTP/1.1,[http/1.1]}{0.0.0.0:4040}\n",
      "  Successfully started service 'SparkUI' on port 4040.\n",
      "  Started o.s.j.s.ServletContextHandler@41e712ca{/jobs,null,AVAILABLE,@Spark}\n",
      "  Started o.s.j.s.ServletContextHandler@37017153{/jobs/json,null,AVAILABLE,@Spark}\n",
      "  Started o.s.j.s.ServletContextHandler@5d1f885c{/jobs/job,null,AVAILABLE,@Spark}\n",
      "  Started o.s.j.s.ServletContextHandler@7305554b{/jobs/job/json,null,AVAILABLE,@Spark}\n",
      "  Started o.s.j.s.ServletContextHandler@365a2674{/stages,null,AVAILABLE,@Spark}\n",
      "  Started o.s.j.s.ServletContextHandler@cbe64d3{/stages/json,null,AVAILABLE,@Spark}\n",
      "  Started o.s.j.s.ServletContextHandler@72a0079a{/stages/stage,null,AVAILABLE,@Spark}\n",
      "  Started o.s.j.s.ServletContextHandler@e095993{/stages/stage/json,null,AVAILABLE,@Spark}\n",
      "  Started o.s.j.s.ServletContextHandler@4aeae02e{/stages/pool,null,AVAILABLE,@Spark}\n",
      "  Started o.s.j.s.ServletContextHandler@4a22ecba{/stages/pool/json,null,AVAILABLE,@Spark}\n",
      "  Started o.s.j.s.ServletContextHandler@4a4edb0f{/storage,null,AVAILABLE,@Spark}\n",
      "  Started o.s.j.s.ServletContextHandler@62fc193{/storage/json,null,AVAILABLE,@Spark}\n",
      "  Started o.s.j.s.ServletContextHandler@28fd962c{/storage/rdd,null,AVAILABLE,@Spark}\n",
      "  Started o.s.j.s.ServletContextHandler@26ee65f5{/storage/rdd/json,null,AVAILABLE,@Spark}\n",
      "  Started o.s.j.s.ServletContextHandler@4b90646a{/environment,null,AVAILABLE,@Spark}\n",
      "  Started o.s.j.s.ServletContextHandler@68e038bb{/environment/json,null,AVAILABLE,@Spark}\n",
      "  Started o.s.j.s.ServletContextHandler@69300354{/executors,null,AVAILABLE,@Spark}\n",
      "  Started o.s.j.s.ServletContextHandler@1c8de367{/executors/json,null,AVAILABLE,@Spark}\n",
      "  Started o.s.j.s.ServletContextHandler@879379d{/executors/threadDump,null,AVAILABLE,@Spark}\n",
      "  Started o.s.j.s.ServletContextHandler@765f832{/executors/threadDump/json,null,AVAILABLE,@Spark}\n",
      "  Started o.s.j.s.ServletContextHandler@72fd06f4{/static,null,AVAILABLE,@Spark}\n",
      "  Started o.s.j.s.ServletContextHandler@180e45bc{/,null,AVAILABLE,@Spark}\n",
      "  Started o.s.j.s.ServletContextHandler@71139d55{/api,null,AVAILABLE,@Spark}\n",
      "  Started o.s.j.s.ServletContextHandler@31922b9a{/jobs/job/kill,null,AVAILABLE,@Spark}\n",
      "  Started o.s.j.s.ServletContextHandler@7ad4cb7e{/stages/stage/kill,null,AVAILABLE,@Spark}\n",
      "  Bound SparkUI to 0.0.0.0, and started at http://129.20.39.133:4040\n",
      "  Connecting to ResourceManager at /0.0.0.0:8032\n",
      "  Requesting a new application from cluster with 1 NodeManagers\n",
      "  Verifying our application has not requested more than the maximum memory capability of the cluster (8192 MB per container)\n",
      "  Will allocate AM container, with 896 MB memory including 384 MB overhead\n",
      "  Setting up container launch context for our AM\n",
      "  Setting up the launch environment for our AM container\n",
      "  Preparing resources for our AM container\n",
      "  Neither spark.yarn.jars nor spark.yarn.archive is set, falling back to uploading libraries under SPARK_HOME.\n",
      "  Uploading resource file:/private/var/folders/mw/nwq5qyg56fl585pb9jw81_qc0000gn/T/spark-5fabf5b0-cfc1-48c9-91a0-2bcf29aa7fbb/__spark_libs__4761614146619310552.zip -> hdfs://localhost:9000/user/navaro/.sparkStaging/application_1504541035011_0002/__spark_libs__4761614146619310552.zip\n",
      "  Uploading resource file:/usr/local/lib/python3.6/site-packages/pyspark/python/lib/pyspark.zip -> hdfs://localhost:9000/user/navaro/.sparkStaging/application_1504541035011_0002/pyspark.zip\n",
      "  Uploading resource file:/usr/local/lib/python3.6/site-packages/pyspark/python/lib/py4j-0.10.4-src.zip -> hdfs://localhost:9000/user/navaro/.sparkStaging/application_1504541035011_0002/py4j-0.10.4-src.zip\n",
      "  Uploading resource file:/var/folders/mw/nwq5qyg56fl585pb9jw81_qc0000gn/T/mr_spark_word_count.navaro.20170905.100301.897215/mrjob.zip -> hdfs://localhost:9000/user/navaro/.sparkStaging/application_1504541035011_0002/mrjob.zip\n",
      "  Uploading resource file:/private/var/folders/mw/nwq5qyg56fl585pb9jw81_qc0000gn/T/spark-5fabf5b0-cfc1-48c9-91a0-2bcf29aa7fbb/__spark_conf__4261244583698952050.zip -> hdfs://localhost:9000/user/navaro/.sparkStaging/application_1504541035011_0002/__spark_conf__.zip\n",
      "  Changing view acls to: navaro\n",
      "  Changing modify acls to: navaro\n",
      "  Changing view acls groups to: \n",
      "  Changing modify acls groups to: \n",
      "  SecurityManager: authentication disabled; ui acls disabled; users  with view permissions: Set(navaro); groups with view permissions: Set(); users  with modify permissions: Set(navaro); groups with modify permissions: Set()\n",
      "  Submitting application application_1504541035011_0002 to ResourceManager\n",
      "  Submitted application application_1504541035011_0002\n",
      "  Starting Yarn extension services with app application_1504541035011_0002 and attemptId None\n",
      "  Application report for application_1504541035011_0002 (state: ACCEPTED)\n",
      "  \n",
      "\t client token: N/A\n",
      "\t diagnostics: AM container is launched, waiting for AM container to Register with RM\n",
      "\t ApplicationMaster host: N/A\n",
      "  -1\n",
      "\t queue: default\n",
      "\t start time: 1504605798324\n",
      "\t final status: UNDEFINED\n",
      "\t tracking URL: http://localhost:8088/proxy/application_1504541035011_0002/\n",
      "\t user: navaro\n",
      "  Application report for application_1504541035011_0002 (state: ACCEPTED)\n",
      "  Application report for application_1504541035011_0002 (state: ACCEPTED)\n",
      "  Application report for application_1504541035011_0002 (state: ACCEPTED)\n",
      "  Application report for application_1504541035011_0002 (state: ACCEPTED)\n",
      "  ApplicationMaster registered as NettyRpcEndpointRef(spark-client://YarnAM)\n",
      "  Add WebUI Filter. org.apache.hadoop.yarn.server.webproxy.amfilter.AmIpFilter, Map(PROXY_HOSTS -> localhost, PROXY_URI_BASES -> http://localhost:8088/proxy/application_1504541035011_0002), /proxy/application_1504541035011_0002\n",
      "  Adding filter: org.apache.hadoop.yarn.server.webproxy.amfilter.AmIpFilter\n",
      "  Application report for application_1504541035011_0002 (state: RUNNING)\n",
      "  \n",
      "\t client token: N/A\n",
      "\t diagnostics: N/A\n",
      "\t ApplicationMaster host: 129.20.39.133\n",
      "  0\n",
      "\t queue: default\n",
      "\t start time: 1504605798324\n",
      "\t final status: UNDEFINED\n",
      "\t tracking URL: http://localhost:8088/proxy/application_1504541035011_0002/\n",
      "\t user: navaro\n",
      "  Application application_1504541035011_0002 has started running.\n",
      "  Successfully started service 'org.apache.spark.network.netty.NettyBlockTransferService' on port 58764.\n",
      "  Server created on 129.20.39.133:58764\n",
      "  Using org.apache.spark.storage.RandomBlockReplicationPolicy for block replication policy\n",
      "  Registering BlockManager BlockManagerId(driver, 129.20.39.133, 58764, None)\n",
      "  Registering block manager 129.20.39.133:58764 with 366.3 MB RAM, BlockManagerId(driver, 129.20.39.133, 58764, None)\n",
      "  Registered BlockManager BlockManagerId(driver, 129.20.39.133, 58764, None)\n"
     ]
    },
    {
     "name": "stdout",
     "output_type": "stream",
     "text": [
      "  Initialized BlockManager: BlockManagerId(driver, 129.20.39.133, 58764, None)\n",
      "  Started o.s.j.s.ServletContextHandler@295909c5{/metrics/json,null,AVAILABLE,@Spark}\n",
      "  Registered executor NettyRpcEndpointRef(spark-client://Executor) (129.20.39.133:58768) with ID 1\n",
      "  Registering block manager localhost:58769 with 366.3 MB RAM, BlockManagerId(1, localhost, 58769, None)\n",
      "  Registered executor NettyRpcEndpointRef(spark-client://Executor) (129.20.39.133:58771) with ID 2\n",
      "  Registering block manager localhost:58772 with 366.3 MB RAM, BlockManagerId(2, localhost, 58772, None)\n",
      "  SchedulerBackend is ready for scheduling beginning after reached minRegisteredResourcesRatio: 0.8\n",
      "  Block broadcast_0 stored as values in memory (estimated size 282.9 KB, free 366.0 MB)\n",
      "  Block broadcast_0_piece0 stored as bytes in memory (estimated size 23.0 KB, free 366.0 MB)\n",
      "  Added broadcast_0_piece0 in memory on 129.20.39.133:58764 (size: 23.0 KB, free: 366.3 MB)\n",
      "  Created broadcast 0 from textFile at NativeMethodAccessorImpl.java:0\n",
      "  Total input paths to process : 1\n",
      "  File Output Committer Algorithm version is 1\n",
      "  Starting job: saveAsTextFile at NativeMethodAccessorImpl.java:0\n",
      "  Registering RDD 3 (reduceByKey at /Users/navaro/PycharmProjects/notebooks-python/mr_spark_word_count.py:26)\n",
      "  Got job 0 (saveAsTextFile at NativeMethodAccessorImpl.java:0) with 2 output partitions\n",
      "  Final stage: ResultStage 1 (saveAsTextFile at NativeMethodAccessorImpl.java:0)\n",
      "  Parents of final stage: List(ShuffleMapStage 0)\n",
      "  Missing parents: List(ShuffleMapStage 0)\n",
      "  Submitting ShuffleMapStage 0 (PairwiseRDD[3] at reduceByKey at /Users/navaro/PycharmProjects/notebooks-python/mr_spark_word_count.py:26), which has no missing parents\n",
      "  Block broadcast_1 stored as values in memory (estimated size 9.4 KB, free 366.0 MB)\n",
      "  Block broadcast_1_piece0 stored as bytes in memory (estimated size 6.2 KB, free 366.0 MB)\n",
      "  Added broadcast_1_piece0 in memory on 129.20.39.133:58764 (size: 6.2 KB, free: 366.3 MB)\n",
      "  Created broadcast 1 from broadcast at DAGScheduler.scala:1006\n",
      "  Submitting 2 missing tasks from ShuffleMapStage 0 (PairwiseRDD[3] at reduceByKey at /Users/navaro/PycharmProjects/notebooks-python/mr_spark_word_count.py:26) (first 15 tasks are for partitions Vector(0, 1))\n",
      "  Adding task set 0.0 with 2 tasks\n",
      "  Starting task 0.0 in stage 0.0 (TID 0, localhost, executor 2, partition 0, PROCESS_LOCAL, 4929 bytes)\n",
      "  Starting task 1.0 in stage 0.0 (TID 1, localhost, executor 1, partition 1, PROCESS_LOCAL, 4929 bytes)\n",
      "  Added broadcast_1_piece0 in memory on localhost:58772 (size: 6.2 KB, free: 366.3 MB)\n",
      "  Added broadcast_1_piece0 in memory on localhost:58769 (size: 6.2 KB, free: 366.3 MB)\n",
      "  Added broadcast_0_piece0 in memory on localhost:58772 (size: 23.0 KB, free: 366.3 MB)\n",
      "  Added broadcast_0_piece0 in memory on localhost:58769 (size: 23.0 KB, free: 366.3 MB)\n",
      "  Finished task 0.0 in stage 0.0 (TID 0) in 1874 ms on localhost (executor 2) (1/2)\n",
      "  Finished task 1.0 in stage 0.0 (TID 1) in 1870 ms on localhost (executor 1) (2/2)\n",
      "  Removed TaskSet 0.0, whose tasks have all completed, from pool \n",
      "  ShuffleMapStage 0 (reduceByKey at /Users/navaro/PycharmProjects/notebooks-python/mr_spark_word_count.py:26) finished in 1.888 s\n",
      "  looking for newly runnable stages\n",
      "  running: Set()\n",
      "  waiting: Set(ResultStage 1)\n",
      "  failed: Set()\n",
      "  Submitting ResultStage 1 (MapPartitionsRDD[8] at saveAsTextFile at NativeMethodAccessorImpl.java:0), which has no missing parents\n",
      "  Block broadcast_2 stored as values in memory (estimated size 75.9 KB, free 365.9 MB)\n",
      "  Block broadcast_2_piece0 stored as bytes in memory (estimated size 28.6 KB, free 365.9 MB)\n",
      "  Added broadcast_2_piece0 in memory on 129.20.39.133:58764 (size: 28.6 KB, free: 366.2 MB)\n",
      "  Created broadcast 2 from broadcast at DAGScheduler.scala:1006\n",
      "  Submitting 2 missing tasks from ResultStage 1 (MapPartitionsRDD[8] at saveAsTextFile at NativeMethodAccessorImpl.java:0) (first 15 tasks are for partitions Vector(0, 1))\n",
      "  Adding task set 1.0 with 2 tasks\n",
      "  Starting task 0.0 in stage 1.0 (TID 2, localhost, executor 1, partition 0, NODE_LOCAL, 4632 bytes)\n",
      "  Starting task 1.0 in stage 1.0 (TID 3, localhost, executor 2, partition 1, NODE_LOCAL, 4632 bytes)\n",
      "  Added broadcast_2_piece0 in memory on localhost:58772 (size: 28.6 KB, free: 366.2 MB)\n",
      "  Asked to send map output locations for shuffle 0 to 129.20.39.133:58771\n",
      "  Size of output statuses for shuffle 0 is 158 bytes\n",
      "  Added broadcast_2_piece0 in memory on localhost:58769 (size: 28.6 KB, free: 366.2 MB)\n",
      "  Asked to send map output locations for shuffle 0 to 129.20.39.133:58768\n",
      "  Finished task 1.0 in stage 1.0 (TID 3) in 368 ms on localhost (executor 2) (1/2)\n",
      "  Finished task 0.0 in stage 1.0 (TID 2) in 387 ms on localhost (executor 1) (2/2)\n",
      "  Removed TaskSet 1.0, whose tasks have all completed, from pool \n",
      "  ResultStage 1 (saveAsTextFile at NativeMethodAccessorImpl.java:0) finished in 0.388 s\n",
      "  Job 0 finished: saveAsTextFile at NativeMethodAccessorImpl.java:0, took 2.406736 s\n",
      "  Stopped Spark@5ff35098{HTTP/1.1,[http/1.1]}{0.0.0.0:4040}\n",
      "  Stopped Spark web UI at http://129.20.39.133:4040\n",
      "  Interrupting monitor thread\n",
      "  Shutting down all executors\n",
      "  Asking each executor to shut down\n",
      "  Stopping SchedulerExtensionServices\n",
      "(serviceOption=None,\n",
      " services=List(),\n",
      " started=false)\n",
      "  Stopped\n",
      "  MapOutputTrackerMasterEndpoint stopped!\n",
      "  MemoryStore cleared\n",
      "  BlockManager stopped\n",
      "  BlockManagerMaster stopped\n",
      "  OutputCommitCoordinator stopped!\n",
      "  Successfully stopped SparkContext\n",
      "  Shutdown hook called\n",
      "  Deleting directory /private/var/folders/mw/nwq5qyg56fl585pb9jw81_qc0000gn/T/spark-5fabf5b0-cfc1-48c9-91a0-2bcf29aa7fbb\n",
      "  Deleting directory /private/var/folders/mw/nwq5qyg56fl585pb9jw81_qc0000gn/T/spark-5fabf5b0-cfc1-48c9-91a0-2bcf29aa7fbb/pyspark-52804c9f-2528-46ac-922d-9e879b82d6f3\n",
      "Streaming final output from hdfs:///user/navaro/tmp/mrjob/mr_spark_word_count.navaro.20170905.100301.897215/output...\n",
      "STDERR: 17/09/05 12:03:34 WARN util.NativeCodeLoader: Unable to load native-hadoop library for your platform... using builtin-java classes where applicable\n",
      "STDERR: 17/09/05 12:03:35 WARN util.NativeCodeLoader: Unable to load native-hadoop library for your platform... using builtin-java classes where applicable\n",
      "Removing HDFS temp directory hdfs:///user/navaro/tmp/mrjob/mr_spark_word_count.navaro.20170905.100301.897215...\n",
      "Removing temp directory /var/folders/mw/nwq5qyg56fl585pb9jw81_qc0000gn/T/mr_spark_word_count.navaro.20170905.100301.897215...\n"
     ]
    }
   ],
   "source": [
    "!env HADOOP_CONF_DIR=/usr/local/opt/hadoop/libexec/etc/hadoop \\\n",
    "     python3 mr_spark_word_count.py -r hadoop hadoop/sample.txt > output\n"
   ]
  },
  {
   "cell_type": "code",
   "execution_count": null,
   "metadata": {
    "collapsed": true
   },
   "outputs": [],
   "source": []
  }
 ],
 "metadata": {
  "celltoolbar": "Slideshow",
  "kernelspec": {
   "display_name": "Python 3",
   "language": "python",
   "name": "python3"
  },
  "language_info": {
   "codemirror_mode": {
    "name": "ipython",
    "version": 3
   },
   "file_extension": ".py",
   "mimetype": "text/x-python",
   "name": "python",
   "nbconvert_exporter": "python",
   "pygments_lexer": "ipython3",
   "version": "3.6.2"
  }
 },
 "nbformat": 4,
 "nbformat_minor": 2
}
