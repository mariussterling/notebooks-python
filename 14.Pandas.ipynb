{
 "cells": [
  {
   "cell_type": "markdown",
   "metadata": {
    "slideshow": {
     "slide_type": "slide"
    }
   },
   "source": [
    "Pierre Navaro - [Institut de Recherche Mathématique de Rennes](https://irmar.univ-rennes1.fr) - [CNRS](http://www.cnrs.fr/)"
   ]
  },
  {
   "cell_type": "raw",
   "metadata": {
    "collapsed": true,
    "hide_input": true,
    "slideshow": {
     "slide_type": "-"
    }
   },
   "source": [
    "<script>\n",
    "    function hide_prompt() {\n",
    "        $('div.prompt').hide(); // always hide prompt\n",
    "    }\n",
    "    $( document ).ready(hide_prompt);\n",
    "</script>"
   ]
  },
  {
   "cell_type": "markdown",
   "metadata": {
    "collapsed": true,
    "slideshow": {
     "slide_type": "skip"
    }
   },
   "source": [
    "# References\n",
    "\n",
    "- [Pandas website](http://pandas.pydata.org).\n",
    "- *Python for Data Analysis* by Wes McKinney ([O'Reilly Media](http://shop.oreilly.com/product/0636920023784.do)).\n",
    "- [Analyzing and Manipulating Data with Pandas Beginner](https://youtu.be/6ohWS7J1hVA) | SciPy 2016 Tutorial | Jonathan Rocher.\n"
   ]
  },
  {
   "cell_type": "markdown",
   "metadata": {
    "slideshow": {
     "slide_type": "slide"
    }
   },
   "source": [
    "![pandas](http://pandas.pydata.org/_static/pandas_logo.png \"Pandas Logo\")\n",
    "\n",
    "\n",
    "- Started by Wes MacKinney with a first release in 2011.\n",
    "- Based on NumPy, it is the most used library for all things data.\n",
    "- Motivated by the toolbox in R for manipulating data easily.\n",
    "- A lot of names in Pandas come from R world.\n",
    "- It is Open source (BSD)\n",
    "\n",
    "https://pandas.pydata.org/"
   ]
  },
  {
   "cell_type": "markdown",
   "metadata": {
    "slideshow": {
     "slide_type": "slide"
    }
   },
   "source": [
    "# Pandas \n",
    "```sh\n",
    "conda install pandas\n",
    "pip3 install pandas\n",
    "```\n",
    "\n",
    "```python\n",
    "import pandas as pd\n",
    "```\n",
    "\n",
    "\"*Pandas provides high-performance, easy-to-use data structures \n",
    "and data analysis tools in Python*\"\n",
    "\n",
    "- Self-describing data structures\n",
    "- Data loaders to/from common file formats\n",
    "- Plotting functions\n",
    "- Basic statistical tools.\n"
   ]
  },
  {
   "cell_type": "code",
   "execution_count": 2,
   "metadata": {
    "collapsed": true,
    "slideshow": {
     "slide_type": "skip"
    }
   },
   "outputs": [],
   "source": [
    "%reset -f\n",
    "%matplotlib inline\n",
    "%config InlineBackend.figure_format = 'retina'\n",
    "import pandas as pd\n",
    "import numpy as np\n",
    "import matplotlib.pyplot as plt\n",
    "\n",
    "pd.set_option(\"display.max_rows\", 8)\n",
    "plt.rcParams['figure.figsize'] = (9, 6)"
   ]
  },
  {
   "cell_type": "markdown",
   "metadata": {
    "slideshow": {
     "slide_type": "slide"
    }
   },
   "source": [
    "# Object Creation: [Series](https://pandas.pydata.org/pandas-docs/stable/dsintro.html#series)"
   ]
  },
  {
   "cell_type": "code",
   "execution_count": 3,
   "metadata": {
    "slideshow": {
     "slide_type": "fragment"
    }
   },
   "outputs": [
    {
     "data": {
      "text/plain": [
       "0    1.0\n",
       "1    3.0\n",
       "2    5.0\n",
       "3    NaN\n",
       "4    6.0\n",
       "5    8.0\n",
       "dtype: float64"
      ]
     },
     "execution_count": 3,
     "metadata": {},
     "output_type": "execute_result"
    }
   ],
   "source": [
    "pd.Series([1,3,5,np.nan,6,8])"
   ]
  },
  {
   "cell_type": "code",
   "execution_count": 4,
   "metadata": {
    "slideshow": {
     "slide_type": "fragment"
    }
   },
   "outputs": [
    {
     "data": {
      "text/plain": [
       "2017-09-11   NaN\n",
       "2017-09-12   NaN\n",
       "2017-09-13   NaN\n",
       "2017-09-14   NaN\n",
       "2017-09-15   NaN\n",
       "2017-09-16   NaN\n",
       "2017-09-17   NaN\n",
       "2017-09-18   NaN\n",
       "Freq: D, dtype: float64"
      ]
     },
     "execution_count": 4,
     "metadata": {},
     "output_type": "execute_result"
    }
   ],
   "source": [
    "pd.Series(index=pd.period_range('09/11/2017', '09/18/2017', freq=\"D\"))"
   ]
  },
  {
   "cell_type": "markdown",
   "metadata": {
    "slideshow": {
     "slide_type": "slide"
    }
   },
   "source": [
    "# Object Creation: [DataFrame](https://pandas.pydata.org/pandas-docs/stable/dsintro.html#dataframe)"
   ]
  },
  {
   "cell_type": "code",
   "execution_count": 29,
   "metadata": {
    "slideshow": {
     "slide_type": "fragment"
    }
   },
   "outputs": [
    {
     "data": {
      "text/html": [
       "<div>\n",
       "<style>\n",
       "    .dataframe thead tr:only-child th {\n",
       "        text-align: right;\n",
       "    }\n",
       "\n",
       "    .dataframe thead th {\n",
       "        text-align: left;\n",
       "    }\n",
       "\n",
       "    .dataframe tbody tr th {\n",
       "        vertical-align: top;\n",
       "    }\n",
       "</style>\n",
       "<table border=\"1\" class=\"dataframe\">\n",
       "  <thead>\n",
       "    <tr style=\"text-align: right;\">\n",
       "      <th></th>\n",
       "      <th>A</th>\n",
       "      <th>B</th>\n",
       "      <th>C</th>\n",
       "      <th>D</th>\n",
       "    </tr>\n",
       "  </thead>\n",
       "  <tbody>\n",
       "    <tr>\n",
       "      <th>2013-01-01</th>\n",
       "      <td>-0.857560</td>\n",
       "      <td>-0.401571</td>\n",
       "      <td>-0.743924</td>\n",
       "      <td>0.785534</td>\n",
       "    </tr>\n",
       "    <tr>\n",
       "      <th>2013-01-02</th>\n",
       "      <td>1.332814</td>\n",
       "      <td>0.123926</td>\n",
       "      <td>-0.278949</td>\n",
       "      <td>1.045542</td>\n",
       "    </tr>\n",
       "    <tr>\n",
       "      <th>2013-01-03</th>\n",
       "      <td>-1.619621</td>\n",
       "      <td>-0.959412</td>\n",
       "      <td>-0.296865</td>\n",
       "      <td>-1.396076</td>\n",
       "    </tr>\n",
       "    <tr>\n",
       "      <th>2013-01-04</th>\n",
       "      <td>-1.043330</td>\n",
       "      <td>-0.643356</td>\n",
       "      <td>-1.207034</td>\n",
       "      <td>-1.119602</td>\n",
       "    </tr>\n",
       "    <tr>\n",
       "      <th>2013-01-05</th>\n",
       "      <td>-0.286782</td>\n",
       "      <td>-0.378623</td>\n",
       "      <td>1.835449</td>\n",
       "      <td>-1.290708</td>\n",
       "    </tr>\n",
       "    <tr>\n",
       "      <th>2013-01-06</th>\n",
       "      <td>-1.173767</td>\n",
       "      <td>-0.074961</td>\n",
       "      <td>-1.442327</td>\n",
       "      <td>-1.486303</td>\n",
       "    </tr>\n",
       "  </tbody>\n",
       "</table>\n",
       "</div>"
      ],
      "text/plain": [
       "                   A         B         C         D\n",
       "2013-01-01 -0.857560 -0.401571 -0.743924  0.785534\n",
       "2013-01-02  1.332814  0.123926 -0.278949  1.045542\n",
       "2013-01-03 -1.619621 -0.959412 -0.296865 -1.396076\n",
       "2013-01-04 -1.043330 -0.643356 -1.207034 -1.119602\n",
       "2013-01-05 -0.286782 -0.378623  1.835449 -1.290708\n",
       "2013-01-06 -1.173767 -0.074961 -1.442327 -1.486303"
      ]
     },
     "execution_count": 29,
     "metadata": {},
     "output_type": "execute_result"
    }
   ],
   "source": [
    "dates = pd.date_range('20130101', periods=6)\n",
    "pd.DataFrame(np.random.randn(6,4), index=dates, columns=list('ABCD'))"
   ]
  },
  {
   "cell_type": "code",
   "execution_count": 6,
   "metadata": {
    "slideshow": {
     "slide_type": "slide"
    }
   },
   "outputs": [
    {
     "data": {
      "text/html": [
       "<div>\n",
       "<style>\n",
       "    .dataframe thead tr:only-child th {\n",
       "        text-align: right;\n",
       "    }\n",
       "\n",
       "    .dataframe thead th {\n",
       "        text-align: left;\n",
       "    }\n",
       "\n",
       "    .dataframe tbody tr th {\n",
       "        vertical-align: top;\n",
       "    }\n",
       "</style>\n",
       "<table border=\"1\" class=\"dataframe\">\n",
       "  <thead>\n",
       "    <tr style=\"text-align: right;\">\n",
       "      <th></th>\n",
       "      <th>A</th>\n",
       "      <th>B</th>\n",
       "      <th>C</th>\n",
       "      <th>D</th>\n",
       "      <th>E</th>\n",
       "      <th>F</th>\n",
       "    </tr>\n",
       "  </thead>\n",
       "  <tbody>\n",
       "    <tr>\n",
       "      <th>0</th>\n",
       "      <td>1.0</td>\n",
       "      <td>2013-01-02</td>\n",
       "      <td>1.0</td>\n",
       "      <td>0</td>\n",
       "      <td>test</td>\n",
       "      <td>foo</td>\n",
       "    </tr>\n",
       "    <tr>\n",
       "      <th>1</th>\n",
       "      <td>1.0</td>\n",
       "      <td>2013-01-02</td>\n",
       "      <td>1.0</td>\n",
       "      <td>1</td>\n",
       "      <td>train</td>\n",
       "      <td>foo</td>\n",
       "    </tr>\n",
       "    <tr>\n",
       "      <th>2</th>\n",
       "      <td>1.0</td>\n",
       "      <td>2013-01-02</td>\n",
       "      <td>1.0</td>\n",
       "      <td>2</td>\n",
       "      <td>test</td>\n",
       "      <td>foo</td>\n",
       "    </tr>\n",
       "    <tr>\n",
       "      <th>3</th>\n",
       "      <td>1.0</td>\n",
       "      <td>2013-01-02</td>\n",
       "      <td>1.0</td>\n",
       "      <td>3</td>\n",
       "      <td>train</td>\n",
       "      <td>foo</td>\n",
       "    </tr>\n",
       "  </tbody>\n",
       "</table>\n",
       "</div>"
      ],
      "text/plain": [
       "     A          B    C  D      E    F\n",
       "0  1.0 2013-01-02  1.0  0   test  foo\n",
       "1  1.0 2013-01-02  1.0  1  train  foo\n",
       "2  1.0 2013-01-02  1.0  2   test  foo\n",
       "3  1.0 2013-01-02  1.0  3  train  foo"
      ]
     },
     "execution_count": 6,
     "metadata": {},
     "output_type": "execute_result"
    }
   ],
   "source": [
    "pd.DataFrame({'A' : 1.,\n",
    "              'B' : pd.Timestamp('20130102'),\n",
    "              'C' : pd.Series(1,index=list(range(4)),dtype='float32'),\n",
    "              'D' : np.arange(4,dtype='int32'),\n",
    "              'E' : pd.Categorical([\"test\",\"train\",\"test\",\"train\"]),\n",
    "              'F' : 'foo' })\n"
   ]
  },
  {
   "cell_type": "markdown",
   "metadata": {
    "slideshow": {
     "slide_type": "slide"
    }
   },
   "source": [
    "# [Load data](http://pandas.pydata.org/pandas-docs/stable/io.html)\n",
    "\n",
    "We load data from [National Centers for Environmental Information](https://www.ncdc.noaa.gov/cag/time-series/global). This series is the mean of temperatures measured on the globe from 1901 to 2010."
   ]
  },
  {
   "cell_type": "code",
   "execution_count": 7,
   "metadata": {
    "slideshow": {
     "slide_type": "fragment"
    }
   },
   "outputs": [
    {
     "data": {
      "text/html": [
       "<div>\n",
       "<style>\n",
       "    .dataframe thead tr:only-child th {\n",
       "        text-align: right;\n",
       "    }\n",
       "\n",
       "    .dataframe thead th {\n",
       "        text-align: left;\n",
       "    }\n",
       "\n",
       "    .dataframe tbody tr th {\n",
       "        vertical-align: top;\n",
       "    }\n",
       "</style>\n",
       "<table border=\"1\" class=\"dataframe\">\n",
       "  <thead>\n",
       "    <tr style=\"text-align: right;\">\n",
       "      <th></th>\n",
       "      <th>1880   -0.1373</th>\n",
       "    </tr>\n",
       "  </thead>\n",
       "  <tbody>\n",
       "    <tr>\n",
       "      <th>0</th>\n",
       "      <td>1881   -0.0600</td>\n",
       "    </tr>\n",
       "    <tr>\n",
       "      <th>1</th>\n",
       "      <td>1882   -0.1130</td>\n",
       "    </tr>\n",
       "    <tr>\n",
       "      <th>2</th>\n",
       "      <td>1883   -0.1505</td>\n",
       "    </tr>\n",
       "    <tr>\n",
       "      <th>3</th>\n",
       "      <td>1884   -0.2323</td>\n",
       "    </tr>\n",
       "    <tr>\n",
       "      <th>...</th>\n",
       "      <td>...</td>\n",
       "    </tr>\n",
       "    <tr>\n",
       "      <th>127</th>\n",
       "      <td>2008    0.4842</td>\n",
       "    </tr>\n",
       "    <tr>\n",
       "      <th>128</th>\n",
       "      <td>2009    0.5588</td>\n",
       "    </tr>\n",
       "    <tr>\n",
       "      <th>129</th>\n",
       "      <td>2010    0.6147</td>\n",
       "    </tr>\n",
       "    <tr>\n",
       "      <th>130</th>\n",
       "      <td>2011 -999.0000</td>\n",
       "    </tr>\n",
       "  </tbody>\n",
       "</table>\n",
       "<p>131 rows × 1 columns</p>\n",
       "</div>"
      ],
      "text/plain": [
       "     1880   -0.1373\n",
       "0    1881   -0.0600\n",
       "1    1882   -0.1130\n",
       "2    1883   -0.1505\n",
       "3    1884   -0.2323\n",
       "..              ...\n",
       "127  2008    0.4842\n",
       "128  2009    0.5588\n",
       "129  2010    0.6147\n",
       "130  2011 -999.0000\n",
       "\n",
       "[131 rows x 1 columns]"
      ]
     },
     "execution_count": 7,
     "metadata": {},
     "output_type": "execute_result"
    }
   ],
   "source": [
    "filename = \"https://www1.ncdc.noaa.gov/pub/data/anomalies/usingGHCNMv2/annual.land_ocean.90S.90N.df_1901-2000mean.dat\"\n",
    "#pd.read_table?\n",
    "full_globe_temp = pd.read_table(filename)\n",
    "full_globe_temp"
   ]
  },
  {
   "cell_type": "markdown",
   "metadata": {
    "slideshow": {
     "slide_type": "slide"
    }
   },
   "source": [
    "### Values are separated by spaces"
   ]
  },
  {
   "cell_type": "code",
   "execution_count": 8,
   "metadata": {
    "slideshow": {
     "slide_type": "fragment"
    }
   },
   "outputs": [
    {
     "data": {
      "text/html": [
       "<div>\n",
       "<style>\n",
       "    .dataframe thead tr:only-child th {\n",
       "        text-align: right;\n",
       "    }\n",
       "\n",
       "    .dataframe thead th {\n",
       "        text-align: left;\n",
       "    }\n",
       "\n",
       "    .dataframe tbody tr th {\n",
       "        vertical-align: top;\n",
       "    }\n",
       "</style>\n",
       "<table border=\"1\" class=\"dataframe\">\n",
       "  <thead>\n",
       "    <tr style=\"text-align: right;\">\n",
       "      <th></th>\n",
       "      <th>1880</th>\n",
       "      <th>-0.1373</th>\n",
       "    </tr>\n",
       "  </thead>\n",
       "  <tbody>\n",
       "    <tr>\n",
       "      <th>0</th>\n",
       "      <td>1881</td>\n",
       "      <td>-0.0600</td>\n",
       "    </tr>\n",
       "    <tr>\n",
       "      <th>1</th>\n",
       "      <td>1882</td>\n",
       "      <td>-0.1130</td>\n",
       "    </tr>\n",
       "    <tr>\n",
       "      <th>2</th>\n",
       "      <td>1883</td>\n",
       "      <td>-0.1505</td>\n",
       "    </tr>\n",
       "    <tr>\n",
       "      <th>3</th>\n",
       "      <td>1884</td>\n",
       "      <td>-0.2323</td>\n",
       "    </tr>\n",
       "    <tr>\n",
       "      <th>...</th>\n",
       "      <td>...</td>\n",
       "      <td>...</td>\n",
       "    </tr>\n",
       "    <tr>\n",
       "      <th>127</th>\n",
       "      <td>2008</td>\n",
       "      <td>0.4842</td>\n",
       "    </tr>\n",
       "    <tr>\n",
       "      <th>128</th>\n",
       "      <td>2009</td>\n",
       "      <td>0.5588</td>\n",
       "    </tr>\n",
       "    <tr>\n",
       "      <th>129</th>\n",
       "      <td>2010</td>\n",
       "      <td>0.6147</td>\n",
       "    </tr>\n",
       "    <tr>\n",
       "      <th>130</th>\n",
       "      <td>2011</td>\n",
       "      <td>-999.0000</td>\n",
       "    </tr>\n",
       "  </tbody>\n",
       "</table>\n",
       "<p>131 rows × 2 columns</p>\n",
       "</div>"
      ],
      "text/plain": [
       "     1880   -0.1373\n",
       "0    1881   -0.0600\n",
       "1    1882   -0.1130\n",
       "2    1883   -0.1505\n",
       "3    1884   -0.2323\n",
       "..    ...       ...\n",
       "127  2008    0.4842\n",
       "128  2009    0.5588\n",
       "129  2010    0.6147\n",
       "130  2011 -999.0000\n",
       "\n",
       "[131 rows x 2 columns]"
      ]
     },
     "execution_count": 8,
     "metadata": {},
     "output_type": "execute_result"
    }
   ],
   "source": [
    "full_globe_temp = pd.read_table(filename, sep=\"\\s+\")\n",
    "full_globe_temp"
   ]
  },
  {
   "cell_type": "markdown",
   "metadata": {
    "slideshow": {
     "slide_type": "slide"
    }
   },
   "source": [
    "### Change the column name"
   ]
  },
  {
   "cell_type": "code",
   "execution_count": 9,
   "metadata": {
    "slideshow": {
     "slide_type": "fragment"
    }
   },
   "outputs": [
    {
     "data": {
      "text/html": [
       "<div>\n",
       "<style>\n",
       "    .dataframe thead tr:only-child th {\n",
       "        text-align: right;\n",
       "    }\n",
       "\n",
       "    .dataframe thead th {\n",
       "        text-align: left;\n",
       "    }\n",
       "\n",
       "    .dataframe tbody tr th {\n",
       "        vertical-align: top;\n",
       "    }\n",
       "</style>\n",
       "<table border=\"1\" class=\"dataframe\">\n",
       "  <thead>\n",
       "    <tr style=\"text-align: right;\">\n",
       "      <th></th>\n",
       "      <th>year</th>\n",
       "      <th>mean temp</th>\n",
       "    </tr>\n",
       "  </thead>\n",
       "  <tbody>\n",
       "    <tr>\n",
       "      <th>0</th>\n",
       "      <td>1880</td>\n",
       "      <td>-0.1373</td>\n",
       "    </tr>\n",
       "    <tr>\n",
       "      <th>1</th>\n",
       "      <td>1881</td>\n",
       "      <td>-0.0600</td>\n",
       "    </tr>\n",
       "    <tr>\n",
       "      <th>2</th>\n",
       "      <td>1882</td>\n",
       "      <td>-0.1130</td>\n",
       "    </tr>\n",
       "    <tr>\n",
       "      <th>3</th>\n",
       "      <td>1883</td>\n",
       "      <td>-0.1505</td>\n",
       "    </tr>\n",
       "    <tr>\n",
       "      <th>...</th>\n",
       "      <td>...</td>\n",
       "      <td>...</td>\n",
       "    </tr>\n",
       "    <tr>\n",
       "      <th>128</th>\n",
       "      <td>2008</td>\n",
       "      <td>0.4842</td>\n",
       "    </tr>\n",
       "    <tr>\n",
       "      <th>129</th>\n",
       "      <td>2009</td>\n",
       "      <td>0.5588</td>\n",
       "    </tr>\n",
       "    <tr>\n",
       "      <th>130</th>\n",
       "      <td>2010</td>\n",
       "      <td>0.6147</td>\n",
       "    </tr>\n",
       "    <tr>\n",
       "      <th>131</th>\n",
       "      <td>2011</td>\n",
       "      <td>-999.0000</td>\n",
       "    </tr>\n",
       "  </tbody>\n",
       "</table>\n",
       "<p>132 rows × 2 columns</p>\n",
       "</div>"
      ],
      "text/plain": [
       "     year  mean temp\n",
       "0    1880    -0.1373\n",
       "1    1881    -0.0600\n",
       "2    1882    -0.1130\n",
       "3    1883    -0.1505\n",
       "..    ...        ...\n",
       "128  2008     0.4842\n",
       "129  2009     0.5588\n",
       "130  2010     0.6147\n",
       "131  2011  -999.0000\n",
       "\n",
       "[132 rows x 2 columns]"
      ]
     },
     "execution_count": 9,
     "metadata": {},
     "output_type": "execute_result"
    }
   ],
   "source": [
    "full_globe_temp = pd.read_table(filename, sep=\"\\s+\", names=[\"year\", \"mean temp\"])\n",
    "full_globe_temp"
   ]
  },
  {
   "cell_type": "markdown",
   "metadata": {
    "slideshow": {
     "slide_type": "slide"
    }
   },
   "source": [
    "### Set index to the year of the record"
   ]
  },
  {
   "cell_type": "code",
   "execution_count": 10,
   "metadata": {
    "slideshow": {
     "slide_type": "fragment"
    }
   },
   "outputs": [
    {
     "data": {
      "text/html": [
       "<div>\n",
       "<style>\n",
       "    .dataframe thead tr:only-child th {\n",
       "        text-align: right;\n",
       "    }\n",
       "\n",
       "    .dataframe thead th {\n",
       "        text-align: left;\n",
       "    }\n",
       "\n",
       "    .dataframe tbody tr th {\n",
       "        vertical-align: top;\n",
       "    }\n",
       "</style>\n",
       "<table border=\"1\" class=\"dataframe\">\n",
       "  <thead>\n",
       "    <tr style=\"text-align: right;\">\n",
       "      <th></th>\n",
       "      <th>mean temp</th>\n",
       "    </tr>\n",
       "    <tr>\n",
       "      <th>year</th>\n",
       "      <th></th>\n",
       "    </tr>\n",
       "  </thead>\n",
       "  <tbody>\n",
       "    <tr>\n",
       "      <th>1880</th>\n",
       "      <td>-0.1373</td>\n",
       "    </tr>\n",
       "    <tr>\n",
       "      <th>1881</th>\n",
       "      <td>-0.0600</td>\n",
       "    </tr>\n",
       "    <tr>\n",
       "      <th>1882</th>\n",
       "      <td>-0.1130</td>\n",
       "    </tr>\n",
       "    <tr>\n",
       "      <th>1883</th>\n",
       "      <td>-0.1505</td>\n",
       "    </tr>\n",
       "    <tr>\n",
       "      <th>...</th>\n",
       "      <td>...</td>\n",
       "    </tr>\n",
       "    <tr>\n",
       "      <th>2008</th>\n",
       "      <td>0.4842</td>\n",
       "    </tr>\n",
       "    <tr>\n",
       "      <th>2009</th>\n",
       "      <td>0.5588</td>\n",
       "    </tr>\n",
       "    <tr>\n",
       "      <th>2010</th>\n",
       "      <td>0.6147</td>\n",
       "    </tr>\n",
       "    <tr>\n",
       "      <th>2011</th>\n",
       "      <td>-999.0000</td>\n",
       "    </tr>\n",
       "  </tbody>\n",
       "</table>\n",
       "<p>132 rows × 1 columns</p>\n",
       "</div>"
      ],
      "text/plain": [
       "      mean temp\n",
       "year           \n",
       "1880    -0.1373\n",
       "1881    -0.0600\n",
       "1882    -0.1130\n",
       "1883    -0.1505\n",
       "...         ...\n",
       "2008     0.4842\n",
       "2009     0.5588\n",
       "2010     0.6147\n",
       "2011  -999.0000\n",
       "\n",
       "[132 rows x 1 columns]"
      ]
     },
     "execution_count": 10,
     "metadata": {},
     "output_type": "execute_result"
    }
   ],
   "source": [
    "full_globe_temp = pd.read_table(filename, sep=\"\\s+\", \n",
    "                                names=[\"year\", \"mean temp\"], \n",
    "                                index_col=0)\n",
    "full_globe_temp"
   ]
  },
  {
   "cell_type": "markdown",
   "metadata": {
    "slideshow": {
     "slide_type": "slide"
    }
   },
   "source": [
    "Index is the most important attribute of a Series or DataFrame because it is used into the structures to access the information.\n"
   ]
  },
  {
   "cell_type": "code",
   "execution_count": 11,
   "metadata": {
    "slideshow": {
     "slide_type": "fragment"
    }
   },
   "outputs": [
    {
     "data": {
      "text/plain": [
       "Int64Index([1880, 1881, 1882, 1883, 1884, 1885, 1886, 1887, 1888, 1889,\n",
       "            ...\n",
       "            2002, 2003, 2004, 2005, 2006, 2007, 2008, 2009, 2010, 2011],\n",
       "           dtype='int64', name='year', length=132)"
      ]
     },
     "execution_count": 11,
     "metadata": {},
     "output_type": "execute_result"
    }
   ],
   "source": [
    "full_globe_temp.index"
   ]
  },
  {
   "cell_type": "markdown",
   "metadata": {
    "slideshow": {
     "slide_type": "slide"
    }
   },
   "source": [
    "### This table is a pandas DataFrame with only one column"
   ]
  },
  {
   "cell_type": "code",
   "execution_count": 12,
   "metadata": {
    "slideshow": {
     "slide_type": "fragment"
    }
   },
   "outputs": [
    {
     "data": {
      "text/plain": [
       "pandas.core.frame.DataFrame"
      ]
     },
     "execution_count": 12,
     "metadata": {},
     "output_type": "execute_result"
    }
   ],
   "source": [
    "type(full_globe_temp)"
   ]
  },
  {
   "cell_type": "markdown",
   "metadata": {
    "slideshow": {
     "slide_type": "fragment"
    }
   },
   "source": [
    "### Create a Series from this DataFrame"
   ]
  },
  {
   "cell_type": "code",
   "execution_count": 13,
   "metadata": {
    "slideshow": {
     "slide_type": "fragment"
    }
   },
   "outputs": [
    {
     "name": "stdout",
     "output_type": "stream",
     "text": [
      "<class 'pandas.core.series.Series'>\n",
      "float64\n",
      "(132,)\n",
      "1056\n"
     ]
    }
   ],
   "source": [
    "full_globe_temp = full_globe_temp[\"mean temp\"]\n",
    "print(type(full_globe_temp))\n",
    "print(full_globe_temp.dtype)\n",
    "print(full_globe_temp.shape)\n",
    "print(full_globe_temp.nbytes)"
   ]
  },
  {
   "cell_type": "markdown",
   "metadata": {
    "slideshow": {
     "slide_type": "slide"
    }
   },
   "source": [
    "### NumPy arrays as backend of Pandas"
   ]
  },
  {
   "cell_type": "code",
   "execution_count": 14,
   "metadata": {
    "slideshow": {
     "slide_type": "fragment"
    }
   },
   "outputs": [
    {
     "data": {
      "text/plain": [
       "numpy.ndarray"
      ]
     },
     "execution_count": 14,
     "metadata": {},
     "output_type": "execute_result"
    }
   ],
   "source": [
    "type(full_globe_temp.values)"
   ]
  },
  {
   "cell_type": "markdown",
   "metadata": {
    "slideshow": {
     "slide_type": "fragment"
    }
   },
   "source": [
    "In the dataset, -999.00 was used to indicate that there was no value for that year."
   ]
  },
  {
   "cell_type": "code",
   "execution_count": 15,
   "metadata": {
    "slideshow": {
     "slide_type": "fragment"
    }
   },
   "outputs": [
    {
     "data": {
      "text/plain": [
       "year\n",
       "2011   -999.0\n",
       "Name: mean temp, dtype: float64"
      ]
     },
     "execution_count": 15,
     "metadata": {},
     "output_type": "execute_result"
    }
   ],
   "source": [
    "full_globe_temp[full_globe_temp.values == -999.00]"
   ]
  },
  {
   "cell_type": "markdown",
   "metadata": {
    "slideshow": {
     "slide_type": "slide"
    }
   },
   "source": [
    "### Setting missing values"
   ]
  },
  {
   "cell_type": "markdown",
   "metadata": {
    "slideshow": {
     "slide_type": "fragment"
    }
   },
   "source": [
    "Replace the missing value (-999.000) with what Pandas understand: np.nan"
   ]
  },
  {
   "cell_type": "code",
   "execution_count": 16,
   "metadata": {
    "slideshow": {
     "slide_type": "fragment"
    }
   },
   "outputs": [
    {
     "data": {
      "text/plain": [
       "year\n",
       "2007    0.5510\n",
       "2008    0.4842\n",
       "2009    0.5588\n",
       "2010    0.6147\n",
       "2011       NaN\n",
       "Name: mean temp, dtype: float64"
      ]
     },
     "execution_count": 16,
     "metadata": {},
     "output_type": "execute_result"
    }
   ],
   "source": [
    "full_globe_temp[full_globe_temp == -999.000] = np.nan\n",
    "full_globe_temp.tail()"
   ]
  },
  {
   "cell_type": "markdown",
   "metadata": {
    "slideshow": {
     "slide_type": "slide"
    }
   },
   "source": [
    "### Removing missing values\n",
    "\n",
    "Once they have been converted to np.nan, missing values can be removed (dropped)."
   ]
  },
  {
   "cell_type": "code",
   "execution_count": 17,
   "metadata": {
    "slideshow": {
     "slide_type": "fragment"
    }
   },
   "outputs": [
    {
     "data": {
      "text/plain": [
       "year\n",
       "2006    0.5623\n",
       "2007    0.5510\n",
       "2008    0.4842\n",
       "2009    0.5588\n",
       "2010    0.6147\n",
       "Name: mean temp, dtype: float64"
      ]
     },
     "execution_count": 17,
     "metadata": {},
     "output_type": "execute_result"
    }
   ],
   "source": [
    "full_globe_temp.dropna().tail() # NaN value is removed"
   ]
  },
  {
   "cell_type": "markdown",
   "metadata": {
    "slideshow": {
     "slide_type": "slide"
    }
   },
   "source": [
    "### Visualization\n",
    "\n",
    "`.plot` generates a basic visualization using matplotlib.\n"
   ]
  },
  {
   "cell_type": "code",
   "execution_count": 18,
   "metadata": {
    "scrolled": false,
    "slideshow": {
     "slide_type": "fragment"
    }
   },
   "outputs": [
    {
     "data": {
      "image/png": "[encoded data removed]",
      "text/plain": [
       "<matplotlib.figure.Figure at 0x10ca9d860>"
      ]
     },
     "metadata": {
      "image/png": {
       "height": 372,
       "width": 549
      }
     },
     "output_type": "display_data"
    }
   ],
   "source": [
    "full_globe_temp.plot();"
   ]
  },
  {
   "cell_type": "markdown",
   "metadata": {
    "slideshow": {
     "slide_type": "slide"
    }
   },
   "source": [
    "## Seaborn\n",
    "\n",
    "[seaborn.regplot](https://seaborn.pydata.org/generated/seaborn.regplot.html?highlight=regplot#seaborn.regplot) plots data and a linear regression model fit  (plot was easier if we kept the DataFrame format)."
   ]
  },
  {
   "cell_type": "code",
   "execution_count": 19,
   "metadata": {
    "slideshow": {
     "slide_type": "fragment"
    }
   },
   "outputs": [
    {
     "data": {
      "image/png": "[encoded data removed]",
      "text/plain": [
       "<matplotlib.figure.Figure at 0x1102bbac8>"
      ]
     },
     "metadata": {
      "image/png": {
       "height": 371,
       "width": 557
      }
     },
     "output_type": "display_data"
    }
   ],
   "source": [
    "import seaborn as sns\n",
    "sns.set()\n",
    "\n",
    "sns.regplot(x=full_globe_temp.index.to_series(),\n",
    "            y=full_globe_temp);\n"
   ]
  },
  {
   "cell_type": "code",
   "execution_count": 20,
   "metadata": {},
   "outputs": [
    {
     "data": {
      "text/plain": [
       "Int64Index([1880, 1881, 1882, 1883, 1884, 1885, 1886, 1887, 1888, 1889,\n",
       "            ...\n",
       "            2001, 2002, 2003, 2004, 2005, 2006, 2007, 2008, 2009, 2010],\n",
       "           dtype='int64', name='year', length=131)"
      ]
     },
     "execution_count": 20,
     "metadata": {},
     "output_type": "execute_result"
    }
   ],
   "source": [
    "full_globe_temp[:-1].index"
   ]
  },
  {
   "cell_type": "markdown",
   "metadata": {
    "slideshow": {
     "slide_type": "slide"
    }
   },
   "source": [
    "# Load Data from CSV File"
   ]
  },
  {
   "cell_type": "code",
   "execution_count": 21,
   "metadata": {
    "slideshow": {
     "slide_type": "fragment"
    }
   },
   "outputs": [
    {
     "data": {
      "text/html": [
       "<div>\n",
       "<style>\n",
       "    .dataframe thead tr:only-child th {\n",
       "        text-align: right;\n",
       "    }\n",
       "\n",
       "    .dataframe thead th {\n",
       "        text-align: left;\n",
       "    }\n",
       "\n",
       "    .dataframe tbody tr th {\n",
       "        vertical-align: top;\n",
       "    }\n",
       "</style>\n",
       "<table border=\"1\" class=\"dataframe\">\n",
       "  <thead>\n",
       "    <tr style=\"text-align: right;\">\n",
       "      <th></th>\n",
       "      <th>Janv</th>\n",
       "      <th>Févr</th>\n",
       "      <th>Mars</th>\n",
       "      <th>Avri</th>\n",
       "      <th>Mai</th>\n",
       "      <th>Juin</th>\n",
       "      <th>juil</th>\n",
       "      <th>Août</th>\n",
       "      <th>Sept</th>\n",
       "      <th>Octo</th>\n",
       "      <th>Nove</th>\n",
       "      <th>Déce</th>\n",
       "      <th>Lati</th>\n",
       "      <th>Long</th>\n",
       "      <th>Moye</th>\n",
       "      <th>Ampl</th>\n",
       "      <th>Région</th>\n",
       "    </tr>\n",
       "  </thead>\n",
       "  <tbody>\n",
       "    <tr>\n",
       "      <th>Bordeaux</th>\n",
       "      <td>5.6</td>\n",
       "      <td>6.6</td>\n",
       "      <td>10.3</td>\n",
       "      <td>12.8</td>\n",
       "      <td>15.8</td>\n",
       "      <td>19.3</td>\n",
       "      <td>20.9</td>\n",
       "      <td>21.0</td>\n",
       "      <td>18.6</td>\n",
       "      <td>13.8</td>\n",
       "      <td>9.1</td>\n",
       "      <td>6.2</td>\n",
       "      <td>44.50</td>\n",
       "      <td>-0.34</td>\n",
       "      <td>13.33</td>\n",
       "      <td>15.4</td>\n",
       "      <td>SO</td>\n",
       "    </tr>\n",
       "    <tr>\n",
       "      <th>Brest</th>\n",
       "      <td>6.1</td>\n",
       "      <td>5.8</td>\n",
       "      <td>7.8</td>\n",
       "      <td>9.2</td>\n",
       "      <td>11.6</td>\n",
       "      <td>14.4</td>\n",
       "      <td>15.6</td>\n",
       "      <td>16.0</td>\n",
       "      <td>14.7</td>\n",
       "      <td>12.0</td>\n",
       "      <td>9.0</td>\n",
       "      <td>7.0</td>\n",
       "      <td>48.24</td>\n",
       "      <td>-4.29</td>\n",
       "      <td>10.77</td>\n",
       "      <td>10.2</td>\n",
       "      <td>NO</td>\n",
       "    </tr>\n",
       "    <tr>\n",
       "      <th>Clermont</th>\n",
       "      <td>2.6</td>\n",
       "      <td>3.7</td>\n",
       "      <td>7.5</td>\n",
       "      <td>10.3</td>\n",
       "      <td>13.8</td>\n",
       "      <td>17.3</td>\n",
       "      <td>19.4</td>\n",
       "      <td>19.1</td>\n",
       "      <td>16.2</td>\n",
       "      <td>11.2</td>\n",
       "      <td>6.6</td>\n",
       "      <td>3.6</td>\n",
       "      <td>45.47</td>\n",
       "      <td>3.05</td>\n",
       "      <td>10.94</td>\n",
       "      <td>16.8</td>\n",
       "      <td>SE</td>\n",
       "    </tr>\n",
       "    <tr>\n",
       "      <th>Grenoble</th>\n",
       "      <td>1.5</td>\n",
       "      <td>3.2</td>\n",
       "      <td>7.7</td>\n",
       "      <td>10.6</td>\n",
       "      <td>14.5</td>\n",
       "      <td>17.8</td>\n",
       "      <td>20.1</td>\n",
       "      <td>19.5</td>\n",
       "      <td>16.7</td>\n",
       "      <td>11.4</td>\n",
       "      <td>6.5</td>\n",
       "      <td>2.3</td>\n",
       "      <td>45.10</td>\n",
       "      <td>5.43</td>\n",
       "      <td>10.98</td>\n",
       "      <td>18.6</td>\n",
       "      <td>SE</td>\n",
       "    </tr>\n",
       "    <tr>\n",
       "      <th>...</th>\n",
       "      <td>...</td>\n",
       "      <td>...</td>\n",
       "      <td>...</td>\n",
       "      <td>...</td>\n",
       "      <td>...</td>\n",
       "      <td>...</td>\n",
       "      <td>...</td>\n",
       "      <td>...</td>\n",
       "      <td>...</td>\n",
       "      <td>...</td>\n",
       "      <td>...</td>\n",
       "      <td>...</td>\n",
       "      <td>...</td>\n",
       "      <td>...</td>\n",
       "      <td>...</td>\n",
       "      <td>...</td>\n",
       "      <td>...</td>\n",
       "    </tr>\n",
       "    <tr>\n",
       "      <th>Rennes</th>\n",
       "      <td>4.8</td>\n",
       "      <td>5.3</td>\n",
       "      <td>7.9</td>\n",
       "      <td>10.1</td>\n",
       "      <td>13.1</td>\n",
       "      <td>16.2</td>\n",
       "      <td>17.9</td>\n",
       "      <td>17.8</td>\n",
       "      <td>15.7</td>\n",
       "      <td>11.6</td>\n",
       "      <td>7.8</td>\n",
       "      <td>5.4</td>\n",
       "      <td>48.05</td>\n",
       "      <td>-1.41</td>\n",
       "      <td>11.13</td>\n",
       "      <td>13.1</td>\n",
       "      <td>NO</td>\n",
       "    </tr>\n",
       "    <tr>\n",
       "      <th>Strasbourg</th>\n",
       "      <td>0.4</td>\n",
       "      <td>1.5</td>\n",
       "      <td>5.6</td>\n",
       "      <td>9.8</td>\n",
       "      <td>14.0</td>\n",
       "      <td>17.2</td>\n",
       "      <td>19.0</td>\n",
       "      <td>18.3</td>\n",
       "      <td>15.1</td>\n",
       "      <td>9.5</td>\n",
       "      <td>4.9</td>\n",
       "      <td>1.3</td>\n",
       "      <td>48.35</td>\n",
       "      <td>7.45</td>\n",
       "      <td>9.72</td>\n",
       "      <td>18.6</td>\n",
       "      <td>NE</td>\n",
       "    </tr>\n",
       "    <tr>\n",
       "      <th>Toulouse</th>\n",
       "      <td>4.7</td>\n",
       "      <td>5.6</td>\n",
       "      <td>9.2</td>\n",
       "      <td>11.6</td>\n",
       "      <td>14.9</td>\n",
       "      <td>18.7</td>\n",
       "      <td>20.9</td>\n",
       "      <td>20.9</td>\n",
       "      <td>18.3</td>\n",
       "      <td>13.3</td>\n",
       "      <td>8.6</td>\n",
       "      <td>5.5</td>\n",
       "      <td>43.36</td>\n",
       "      <td>1.26</td>\n",
       "      <td>12.68</td>\n",
       "      <td>16.2</td>\n",
       "      <td>SO</td>\n",
       "    </tr>\n",
       "    <tr>\n",
       "      <th>Vichy</th>\n",
       "      <td>2.4</td>\n",
       "      <td>3.4</td>\n",
       "      <td>7.1</td>\n",
       "      <td>9.9</td>\n",
       "      <td>13.6</td>\n",
       "      <td>17.1</td>\n",
       "      <td>19.3</td>\n",
       "      <td>18.8</td>\n",
       "      <td>16.0</td>\n",
       "      <td>11.0</td>\n",
       "      <td>6.6</td>\n",
       "      <td>3.4</td>\n",
       "      <td>46.08</td>\n",
       "      <td>3.26</td>\n",
       "      <td>10.72</td>\n",
       "      <td>16.9</td>\n",
       "      <td>SE</td>\n",
       "    </tr>\n",
       "  </tbody>\n",
       "</table>\n",
       "<p>15 rows × 17 columns</p>\n",
       "</div>"
      ],
      "text/plain": [
       "            Janv  Févr  Mars  Avri   Mai  Juin  juil  Août  Sept  Octo  Nove  \\\n",
       "Bordeaux     5.6   6.6  10.3  12.8  15.8  19.3  20.9  21.0  18.6  13.8   9.1   \n",
       "Brest        6.1   5.8   7.8   9.2  11.6  14.4  15.6  16.0  14.7  12.0   9.0   \n",
       "Clermont     2.6   3.7   7.5  10.3  13.8  17.3  19.4  19.1  16.2  11.2   6.6   \n",
       "Grenoble     1.5   3.2   7.7  10.6  14.5  17.8  20.1  19.5  16.7  11.4   6.5   \n",
       "...          ...   ...   ...   ...   ...   ...   ...   ...   ...   ...   ...   \n",
       "Rennes       4.8   5.3   7.9  10.1  13.1  16.2  17.9  17.8  15.7  11.6   7.8   \n",
       "Strasbourg   0.4   1.5   5.6   9.8  14.0  17.2  19.0  18.3  15.1   9.5   4.9   \n",
       "Toulouse     4.7   5.6   9.2  11.6  14.9  18.7  20.9  20.9  18.3  13.3   8.6   \n",
       "Vichy        2.4   3.4   7.1   9.9  13.6  17.1  19.3  18.8  16.0  11.0   6.6   \n",
       "\n",
       "            Déce   Lati  Long   Moye  Ampl Région  \n",
       "Bordeaux     6.2  44.50 -0.34  13.33  15.4     SO  \n",
       "Brest        7.0  48.24 -4.29  10.77  10.2     NO  \n",
       "Clermont     3.6  45.47  3.05  10.94  16.8     SE  \n",
       "Grenoble     2.3  45.10  5.43  10.98  18.6     SE  \n",
       "...          ...    ...   ...    ...   ...    ...  \n",
       "Rennes       5.4  48.05 -1.41  11.13  13.1     NO  \n",
       "Strasbourg   1.3  48.35  7.45   9.72  18.6     NE  \n",
       "Toulouse     5.5  43.36  1.26  12.68  16.2     SO  \n",
       "Vichy        3.4  46.08  3.26  10.72  16.9     SE  \n",
       "\n",
       "[15 rows x 17 columns]"
      ]
     },
     "execution_count": 21,
     "metadata": {},
     "output_type": "execute_result"
    }
   ],
   "source": [
    "url = \"https://www.fun-mooc.fr/c4x/agrocampusouest/40001S03/asset/AnaDo_JeuDonnees_TemperatFrance.csv\"\n",
    "french_cities = pd.read_csv(url, delimiter=\";\", encoding=\"latin1\", index_col=0)\n",
    "french_cities"
   ]
  },
  {
   "cell_type": "markdown",
   "metadata": {
    "slideshow": {
     "slide_type": "slide"
    }
   },
   "source": [
    "# Viewing Data"
   ]
  },
  {
   "cell_type": "code",
   "execution_count": 243,
   "metadata": {
    "slideshow": {
     "slide_type": "fragment"
    }
   },
   "outputs": [
    {
     "data": {
      "text/html": [
       "<div>\n",
       "<style>\n",
       "    .dataframe thead tr:only-child th {\n",
       "        text-align: right;\n",
       "    }\n",
       "\n",
       "    .dataframe thead th {\n",
       "        text-align: left;\n",
       "    }\n",
       "\n",
       "    .dataframe tbody tr th {\n",
       "        vertical-align: top;\n",
       "    }\n",
       "</style>\n",
       "<table border=\"1\" class=\"dataframe\">\n",
       "  <thead>\n",
       "    <tr style=\"text-align: right;\">\n",
       "      <th></th>\n",
       "      <th>Janv</th>\n",
       "      <th>Févr</th>\n",
       "      <th>Mars</th>\n",
       "      <th>Avri</th>\n",
       "      <th>Mai</th>\n",
       "      <th>Juin</th>\n",
       "      <th>juil</th>\n",
       "      <th>Août</th>\n",
       "      <th>Sept</th>\n",
       "      <th>Octo</th>\n",
       "      <th>Nove</th>\n",
       "      <th>Déce</th>\n",
       "      <th>Lati</th>\n",
       "      <th>Long</th>\n",
       "      <th>Moye</th>\n",
       "      <th>Ampl</th>\n",
       "      <th>Région</th>\n",
       "    </tr>\n",
       "  </thead>\n",
       "  <tbody>\n",
       "    <tr>\n",
       "      <th>Bordeaux</th>\n",
       "      <td>5.6</td>\n",
       "      <td>6.6</td>\n",
       "      <td>10.3</td>\n",
       "      <td>12.8</td>\n",
       "      <td>15.8</td>\n",
       "      <td>19.3</td>\n",
       "      <td>20.9</td>\n",
       "      <td>21.0</td>\n",
       "      <td>18.6</td>\n",
       "      <td>13.8</td>\n",
       "      <td>9.1</td>\n",
       "      <td>6.2</td>\n",
       "      <td>44.50</td>\n",
       "      <td>-0.34</td>\n",
       "      <td>13.33</td>\n",
       "      <td>15.4</td>\n",
       "      <td>SO</td>\n",
       "    </tr>\n",
       "    <tr>\n",
       "      <th>Brest</th>\n",
       "      <td>6.1</td>\n",
       "      <td>5.8</td>\n",
       "      <td>7.8</td>\n",
       "      <td>9.2</td>\n",
       "      <td>11.6</td>\n",
       "      <td>14.4</td>\n",
       "      <td>15.6</td>\n",
       "      <td>16.0</td>\n",
       "      <td>14.7</td>\n",
       "      <td>12.0</td>\n",
       "      <td>9.0</td>\n",
       "      <td>7.0</td>\n",
       "      <td>48.24</td>\n",
       "      <td>-4.29</td>\n",
       "      <td>10.77</td>\n",
       "      <td>10.2</td>\n",
       "      <td>NO</td>\n",
       "    </tr>\n",
       "    <tr>\n",
       "      <th>Clermont</th>\n",
       "      <td>2.6</td>\n",
       "      <td>3.7</td>\n",
       "      <td>7.5</td>\n",
       "      <td>10.3</td>\n",
       "      <td>13.8</td>\n",
       "      <td>17.3</td>\n",
       "      <td>19.4</td>\n",
       "      <td>19.1</td>\n",
       "      <td>16.2</td>\n",
       "      <td>11.2</td>\n",
       "      <td>6.6</td>\n",
       "      <td>3.6</td>\n",
       "      <td>45.47</td>\n",
       "      <td>3.05</td>\n",
       "      <td>10.94</td>\n",
       "      <td>16.8</td>\n",
       "      <td>SE</td>\n",
       "    </tr>\n",
       "    <tr>\n",
       "      <th>Grenoble</th>\n",
       "      <td>1.5</td>\n",
       "      <td>3.2</td>\n",
       "      <td>7.7</td>\n",
       "      <td>10.6</td>\n",
       "      <td>14.5</td>\n",
       "      <td>17.8</td>\n",
       "      <td>20.1</td>\n",
       "      <td>19.5</td>\n",
       "      <td>16.7</td>\n",
       "      <td>11.4</td>\n",
       "      <td>6.5</td>\n",
       "      <td>2.3</td>\n",
       "      <td>45.10</td>\n",
       "      <td>5.43</td>\n",
       "      <td>10.98</td>\n",
       "      <td>18.6</td>\n",
       "      <td>SE</td>\n",
       "    </tr>\n",
       "    <tr>\n",
       "      <th>Lille</th>\n",
       "      <td>2.4</td>\n",
       "      <td>2.9</td>\n",
       "      <td>6.0</td>\n",
       "      <td>8.9</td>\n",
       "      <td>12.4</td>\n",
       "      <td>15.3</td>\n",
       "      <td>17.1</td>\n",
       "      <td>17.1</td>\n",
       "      <td>14.7</td>\n",
       "      <td>10.4</td>\n",
       "      <td>6.1</td>\n",
       "      <td>3.5</td>\n",
       "      <td>50.38</td>\n",
       "      <td>3.04</td>\n",
       "      <td>9.73</td>\n",
       "      <td>14.7</td>\n",
       "      <td>NE</td>\n",
       "    </tr>\n",
       "  </tbody>\n",
       "</table>\n",
       "</div>"
      ],
      "text/plain": [
       "          Janv  Févr  Mars  Avri   Mai  Juin  juil  Août  Sept  Octo  Nove  \\\n",
       "Bordeaux   5.6   6.6  10.3  12.8  15.8  19.3  20.9  21.0  18.6  13.8   9.1   \n",
       "Brest      6.1   5.8   7.8   9.2  11.6  14.4  15.6  16.0  14.7  12.0   9.0   \n",
       "Clermont   2.6   3.7   7.5  10.3  13.8  17.3  19.4  19.1  16.2  11.2   6.6   \n",
       "Grenoble   1.5   3.2   7.7  10.6  14.5  17.8  20.1  19.5  16.7  11.4   6.5   \n",
       "Lille      2.4   2.9   6.0   8.9  12.4  15.3  17.1  17.1  14.7  10.4   6.1   \n",
       "\n",
       "          Déce   Lati  Long   Moye  Ampl Région  \n",
       "Bordeaux   6.2  44.50 -0.34  13.33  15.4     SO  \n",
       "Brest      7.0  48.24 -4.29  10.77  10.2     NO  \n",
       "Clermont   3.6  45.47  3.05  10.94  16.8     SE  \n",
       "Grenoble   2.3  45.10  5.43  10.98  18.6     SE  \n",
       "Lille      3.5  50.38  3.04   9.73  14.7     NE  "
      ]
     },
     "execution_count": 243,
     "metadata": {},
     "output_type": "execute_result"
    }
   ],
   "source": [
    "french_cities.head()"
   ]
  },
  {
   "cell_type": "code",
   "execution_count": 244,
   "metadata": {
    "slideshow": {
     "slide_type": "slide"
    }
   },
   "outputs": [
    {
     "data": {
      "text/html": [
       "<div>\n",
       "<style>\n",
       "    .dataframe thead tr:only-child th {\n",
       "        text-align: right;\n",
       "    }\n",
       "\n",
       "    .dataframe thead th {\n",
       "        text-align: left;\n",
       "    }\n",
       "\n",
       "    .dataframe tbody tr th {\n",
       "        vertical-align: top;\n",
       "    }\n",
       "</style>\n",
       "<table border=\"1\" class=\"dataframe\">\n",
       "  <thead>\n",
       "    <tr style=\"text-align: right;\">\n",
       "      <th></th>\n",
       "      <th>Janv</th>\n",
       "      <th>Févr</th>\n",
       "      <th>Mars</th>\n",
       "      <th>Avri</th>\n",
       "      <th>Mai</th>\n",
       "      <th>Juin</th>\n",
       "      <th>juil</th>\n",
       "      <th>Août</th>\n",
       "      <th>Sept</th>\n",
       "      <th>Octo</th>\n",
       "      <th>Nove</th>\n",
       "      <th>Déce</th>\n",
       "      <th>Lati</th>\n",
       "      <th>Long</th>\n",
       "      <th>Moye</th>\n",
       "      <th>Ampl</th>\n",
       "      <th>Région</th>\n",
       "    </tr>\n",
       "  </thead>\n",
       "  <tbody>\n",
       "    <tr>\n",
       "      <th>Paris</th>\n",
       "      <td>3.4</td>\n",
       "      <td>4.1</td>\n",
       "      <td>7.6</td>\n",
       "      <td>10.7</td>\n",
       "      <td>14.3</td>\n",
       "      <td>17.5</td>\n",
       "      <td>19.1</td>\n",
       "      <td>18.7</td>\n",
       "      <td>16.0</td>\n",
       "      <td>11.4</td>\n",
       "      <td>7.1</td>\n",
       "      <td>4.3</td>\n",
       "      <td>48.52</td>\n",
       "      <td>2.20</td>\n",
       "      <td>11.18</td>\n",
       "      <td>15.7</td>\n",
       "      <td>NE</td>\n",
       "    </tr>\n",
       "    <tr>\n",
       "      <th>Rennes</th>\n",
       "      <td>4.8</td>\n",
       "      <td>5.3</td>\n",
       "      <td>7.9</td>\n",
       "      <td>10.1</td>\n",
       "      <td>13.1</td>\n",
       "      <td>16.2</td>\n",
       "      <td>17.9</td>\n",
       "      <td>17.8</td>\n",
       "      <td>15.7</td>\n",
       "      <td>11.6</td>\n",
       "      <td>7.8</td>\n",
       "      <td>5.4</td>\n",
       "      <td>48.05</td>\n",
       "      <td>-1.41</td>\n",
       "      <td>11.13</td>\n",
       "      <td>13.1</td>\n",
       "      <td>NO</td>\n",
       "    </tr>\n",
       "    <tr>\n",
       "      <th>Strasbourg</th>\n",
       "      <td>0.4</td>\n",
       "      <td>1.5</td>\n",
       "      <td>5.6</td>\n",
       "      <td>9.8</td>\n",
       "      <td>14.0</td>\n",
       "      <td>17.2</td>\n",
       "      <td>19.0</td>\n",
       "      <td>18.3</td>\n",
       "      <td>15.1</td>\n",
       "      <td>9.5</td>\n",
       "      <td>4.9</td>\n",
       "      <td>1.3</td>\n",
       "      <td>48.35</td>\n",
       "      <td>7.45</td>\n",
       "      <td>9.72</td>\n",
       "      <td>18.6</td>\n",
       "      <td>NE</td>\n",
       "    </tr>\n",
       "    <tr>\n",
       "      <th>Toulouse</th>\n",
       "      <td>4.7</td>\n",
       "      <td>5.6</td>\n",
       "      <td>9.2</td>\n",
       "      <td>11.6</td>\n",
       "      <td>14.9</td>\n",
       "      <td>18.7</td>\n",
       "      <td>20.9</td>\n",
       "      <td>20.9</td>\n",
       "      <td>18.3</td>\n",
       "      <td>13.3</td>\n",
       "      <td>8.6</td>\n",
       "      <td>5.5</td>\n",
       "      <td>43.36</td>\n",
       "      <td>1.26</td>\n",
       "      <td>12.68</td>\n",
       "      <td>16.2</td>\n",
       "      <td>SO</td>\n",
       "    </tr>\n",
       "    <tr>\n",
       "      <th>Vichy</th>\n",
       "      <td>2.4</td>\n",
       "      <td>3.4</td>\n",
       "      <td>7.1</td>\n",
       "      <td>9.9</td>\n",
       "      <td>13.6</td>\n",
       "      <td>17.1</td>\n",
       "      <td>19.3</td>\n",
       "      <td>18.8</td>\n",
       "      <td>16.0</td>\n",
       "      <td>11.0</td>\n",
       "      <td>6.6</td>\n",
       "      <td>3.4</td>\n",
       "      <td>46.08</td>\n",
       "      <td>3.26</td>\n",
       "      <td>10.72</td>\n",
       "      <td>16.9</td>\n",
       "      <td>SE</td>\n",
       "    </tr>\n",
       "  </tbody>\n",
       "</table>\n",
       "</div>"
      ],
      "text/plain": [
       "            Janv  Févr  Mars  Avri   Mai  Juin  juil  Août  Sept  Octo  Nove  \\\n",
       "Paris        3.4   4.1   7.6  10.7  14.3  17.5  19.1  18.7  16.0  11.4   7.1   \n",
       "Rennes       4.8   5.3   7.9  10.1  13.1  16.2  17.9  17.8  15.7  11.6   7.8   \n",
       "Strasbourg   0.4   1.5   5.6   9.8  14.0  17.2  19.0  18.3  15.1   9.5   4.9   \n",
       "Toulouse     4.7   5.6   9.2  11.6  14.9  18.7  20.9  20.9  18.3  13.3   8.6   \n",
       "Vichy        2.4   3.4   7.1   9.9  13.6  17.1  19.3  18.8  16.0  11.0   6.6   \n",
       "\n",
       "            Déce   Lati  Long   Moye  Ampl Région  \n",
       "Paris        4.3  48.52  2.20  11.18  15.7     NE  \n",
       "Rennes       5.4  48.05 -1.41  11.13  13.1     NO  \n",
       "Strasbourg   1.3  48.35  7.45   9.72  18.6     NE  \n",
       "Toulouse     5.5  43.36  1.26  12.68  16.2     SO  \n",
       "Vichy        3.4  46.08  3.26  10.72  16.9     SE  "
      ]
     },
     "execution_count": 244,
     "metadata": {},
     "output_type": "execute_result"
    }
   ],
   "source": [
    "french_cities.tail()"
   ]
  },
  {
   "cell_type": "markdown",
   "metadata": {
    "slideshow": {
     "slide_type": "slide"
    }
   },
   "source": [
    "# Index"
   ]
  },
  {
   "cell_type": "code",
   "execution_count": 245,
   "metadata": {
    "slideshow": {
     "slide_type": "fragment"
    }
   },
   "outputs": [
    {
     "data": {
      "text/plain": [
       "Index(['Bordeaux', 'Brest', 'Clermont', 'Grenoble', 'Lille', 'Lyon',\n",
       "       'Marseille', 'Montpellier', 'Nantes', 'Nice', 'Paris', 'Rennes',\n",
       "       'Strasbourg', 'Toulouse', 'Vichy'],\n",
       "      dtype='object')"
      ]
     },
     "execution_count": 245,
     "metadata": {},
     "output_type": "execute_result"
    }
   ],
   "source": [
    "french_cities.index"
   ]
  },
  {
   "cell_type": "markdown",
   "metadata": {
    "slideshow": {
     "slide_type": "fragment"
    }
   },
   "source": [
    "We can rename an index by setting its name."
   ]
  },
  {
   "cell_type": "code",
   "execution_count": 246,
   "metadata": {
    "slideshow": {
     "slide_type": "slide"
    }
   },
   "outputs": [
    {
     "data": {
      "text/html": [
       "<div>\n",
       "<style>\n",
       "    .dataframe thead tr:only-child th {\n",
       "        text-align: right;\n",
       "    }\n",
       "\n",
       "    .dataframe thead th {\n",
       "        text-align: left;\n",
       "    }\n",
       "\n",
       "    .dataframe tbody tr th {\n",
       "        vertical-align: top;\n",
       "    }\n",
       "</style>\n",
       "<table border=\"1\" class=\"dataframe\">\n",
       "  <thead>\n",
       "    <tr style=\"text-align: right;\">\n",
       "      <th></th>\n",
       "      <th>Janv</th>\n",
       "      <th>Févr</th>\n",
       "      <th>Mars</th>\n",
       "      <th>Avri</th>\n",
       "      <th>Mai</th>\n",
       "      <th>Juin</th>\n",
       "      <th>juil</th>\n",
       "      <th>Août</th>\n",
       "      <th>Sept</th>\n",
       "      <th>Octo</th>\n",
       "      <th>Nove</th>\n",
       "      <th>Déce</th>\n",
       "      <th>Lati</th>\n",
       "      <th>Long</th>\n",
       "      <th>Moye</th>\n",
       "      <th>Ampl</th>\n",
       "      <th>Région</th>\n",
       "    </tr>\n",
       "    <tr>\n",
       "      <th>City</th>\n",
       "      <th></th>\n",
       "      <th></th>\n",
       "      <th></th>\n",
       "      <th></th>\n",
       "      <th></th>\n",
       "      <th></th>\n",
       "      <th></th>\n",
       "      <th></th>\n",
       "      <th></th>\n",
       "      <th></th>\n",
       "      <th></th>\n",
       "      <th></th>\n",
       "      <th></th>\n",
       "      <th></th>\n",
       "      <th></th>\n",
       "      <th></th>\n",
       "      <th></th>\n",
       "    </tr>\n",
       "  </thead>\n",
       "  <tbody>\n",
       "    <tr>\n",
       "      <th>Bordeaux</th>\n",
       "      <td>5.6</td>\n",
       "      <td>6.6</td>\n",
       "      <td>10.3</td>\n",
       "      <td>12.8</td>\n",
       "      <td>15.8</td>\n",
       "      <td>19.3</td>\n",
       "      <td>20.9</td>\n",
       "      <td>21.0</td>\n",
       "      <td>18.6</td>\n",
       "      <td>13.8</td>\n",
       "      <td>9.1</td>\n",
       "      <td>6.2</td>\n",
       "      <td>44.50</td>\n",
       "      <td>-0.34</td>\n",
       "      <td>13.33</td>\n",
       "      <td>15.4</td>\n",
       "      <td>SO</td>\n",
       "    </tr>\n",
       "    <tr>\n",
       "      <th>Brest</th>\n",
       "      <td>6.1</td>\n",
       "      <td>5.8</td>\n",
       "      <td>7.8</td>\n",
       "      <td>9.2</td>\n",
       "      <td>11.6</td>\n",
       "      <td>14.4</td>\n",
       "      <td>15.6</td>\n",
       "      <td>16.0</td>\n",
       "      <td>14.7</td>\n",
       "      <td>12.0</td>\n",
       "      <td>9.0</td>\n",
       "      <td>7.0</td>\n",
       "      <td>48.24</td>\n",
       "      <td>-4.29</td>\n",
       "      <td>10.77</td>\n",
       "      <td>10.2</td>\n",
       "      <td>NO</td>\n",
       "    </tr>\n",
       "    <tr>\n",
       "      <th>Clermont</th>\n",
       "      <td>2.6</td>\n",
       "      <td>3.7</td>\n",
       "      <td>7.5</td>\n",
       "      <td>10.3</td>\n",
       "      <td>13.8</td>\n",
       "      <td>17.3</td>\n",
       "      <td>19.4</td>\n",
       "      <td>19.1</td>\n",
       "      <td>16.2</td>\n",
       "      <td>11.2</td>\n",
       "      <td>6.6</td>\n",
       "      <td>3.6</td>\n",
       "      <td>45.47</td>\n",
       "      <td>3.05</td>\n",
       "      <td>10.94</td>\n",
       "      <td>16.8</td>\n",
       "      <td>SE</td>\n",
       "    </tr>\n",
       "    <tr>\n",
       "      <th>Grenoble</th>\n",
       "      <td>1.5</td>\n",
       "      <td>3.2</td>\n",
       "      <td>7.7</td>\n",
       "      <td>10.6</td>\n",
       "      <td>14.5</td>\n",
       "      <td>17.8</td>\n",
       "      <td>20.1</td>\n",
       "      <td>19.5</td>\n",
       "      <td>16.7</td>\n",
       "      <td>11.4</td>\n",
       "      <td>6.5</td>\n",
       "      <td>2.3</td>\n",
       "      <td>45.10</td>\n",
       "      <td>5.43</td>\n",
       "      <td>10.98</td>\n",
       "      <td>18.6</td>\n",
       "      <td>SE</td>\n",
       "    </tr>\n",
       "    <tr>\n",
       "      <th>Lille</th>\n",
       "      <td>2.4</td>\n",
       "      <td>2.9</td>\n",
       "      <td>6.0</td>\n",
       "      <td>8.9</td>\n",
       "      <td>12.4</td>\n",
       "      <td>15.3</td>\n",
       "      <td>17.1</td>\n",
       "      <td>17.1</td>\n",
       "      <td>14.7</td>\n",
       "      <td>10.4</td>\n",
       "      <td>6.1</td>\n",
       "      <td>3.5</td>\n",
       "      <td>50.38</td>\n",
       "      <td>3.04</td>\n",
       "      <td>9.73</td>\n",
       "      <td>14.7</td>\n",
       "      <td>NE</td>\n",
       "    </tr>\n",
       "  </tbody>\n",
       "</table>\n",
       "</div>"
      ],
      "text/plain": [
       "          Janv  Févr  Mars  Avri   Mai  Juin  juil  Août  Sept  Octo  Nove  \\\n",
       "City                                                                         \n",
       "Bordeaux   5.6   6.6  10.3  12.8  15.8  19.3  20.9  21.0  18.6  13.8   9.1   \n",
       "Brest      6.1   5.8   7.8   9.2  11.6  14.4  15.6  16.0  14.7  12.0   9.0   \n",
       "Clermont   2.6   3.7   7.5  10.3  13.8  17.3  19.4  19.1  16.2  11.2   6.6   \n",
       "Grenoble   1.5   3.2   7.7  10.6  14.5  17.8  20.1  19.5  16.7  11.4   6.5   \n",
       "Lille      2.4   2.9   6.0   8.9  12.4  15.3  17.1  17.1  14.7  10.4   6.1   \n",
       "\n",
       "          Déce   Lati  Long   Moye  Ampl Région  \n",
       "City                                             \n",
       "Bordeaux   6.2  44.50 -0.34  13.33  15.4     SO  \n",
       "Brest      7.0  48.24 -4.29  10.77  10.2     NO  \n",
       "Clermont   3.6  45.47  3.05  10.94  16.8     SE  \n",
       "Grenoble   2.3  45.10  5.43  10.98  18.6     SE  \n",
       "Lille      3.5  50.38  3.04   9.73  14.7     NE  "
      ]
     },
     "execution_count": 246,
     "metadata": {},
     "output_type": "execute_result"
    }
   ],
   "source": [
    "french_cities.index.name = \"City\"\n",
    "french_cities.head()"
   ]
  },
  {
   "cell_type": "markdown",
   "metadata": {
    "slideshow": {
     "slide_type": "slide"
    }
   },
   "source": [
    "# Exercice \n",
    "## Rename DataFrame Months in English"
   ]
  },
  {
   "cell_type": "code",
   "execution_count": 247,
   "metadata": {
    "slideshow": {
     "slide_type": "fragment"
    }
   },
   "outputs": [
    {
     "name": "stdout",
     "output_type": "stream",
     "text": [
      " Jan Feb Mar Apr May Jun Jul Aug Sep Oct Nov Dec\n"
     ]
    }
   ],
   "source": [
    "import locale\n",
    "import calendar\n",
    "\n",
    "locale.setlocale(locale.LC_ALL,'en_US')\n",
    "\n",
    "months = calendar.month_abbr\n",
    "print(*months)"
   ]
  },
  {
   "cell_type": "code",
   "execution_count": 248,
   "metadata": {
    "slideshow": {
     "slide_type": "fragment"
    }
   },
   "outputs": [
    {
     "data": {
      "text/plain": [
       "Index(['Jan', 'Feb', 'Mar', 'Apr', 'May', 'Jun', 'Jul', 'Aug', 'Sep', 'Oct',\n",
       "       'Nov', 'Dec', 'Lati', 'Long', 'Moye', 'Ampl', 'Région'],\n",
       "      dtype='object')"
      ]
     },
     "execution_count": 248,
     "metadata": {},
     "output_type": "execute_result"
    }
   ],
   "source": [
    "french_cities.rename(\n",
    "  columns={ old : new \n",
    "           for old, new in zip(french_cities.columns[:12], months[1:])\n",
    "          if old != new },\n",
    "  inplace=True)\n",
    "french_cities.columns"
   ]
  },
  {
   "cell_type": "markdown",
   "metadata": {
    "slideshow": {
     "slide_type": "slide"
    }
   },
   "source": [
    "# From a local or remote HTML file\n",
    "We can download and extract data about mean sea level stations around the world from the [PSMSL website](http://www.psmsl.org/)."
   ]
  },
  {
   "cell_type": "code",
   "execution_count": 249,
   "metadata": {
    "collapsed": true,
    "slideshow": {
     "slide_type": "fragment"
    }
   },
   "outputs": [],
   "source": [
    "# Needs `lxml`, `beautifulSoup4` and `html5lib` python packages\n",
    "table_list = pd.read_html(\"http://www.psmsl.org/data/obtaining/\")"
   ]
  },
  {
   "cell_type": "code",
   "execution_count": 250,
   "metadata": {
    "slideshow": {
     "slide_type": "fragment"
    }
   },
   "outputs": [
    {
     "data": {
      "text/html": [
       "<div>\n",
       "<style>\n",
       "    .dataframe thead tr:only-child th {\n",
       "        text-align: right;\n",
       "    }\n",
       "\n",
       "    .dataframe thead th {\n",
       "        text-align: left;\n",
       "    }\n",
       "\n",
       "    .dataframe tbody tr th {\n",
       "        vertical-align: top;\n",
       "    }\n",
       "</style>\n",
       "<table border=\"1\" class=\"dataframe\">\n",
       "  <thead>\n",
       "    <tr style=\"text-align: right;\">\n",
       "      <th></th>\n",
       "      <th>Station Name</th>\n",
       "      <th>ID</th>\n",
       "      <th>Lat.</th>\n",
       "      <th>Lon.</th>\n",
       "      <th>GLOSS ID</th>\n",
       "      <th>Country</th>\n",
       "      <th>Date</th>\n",
       "      <th>Coastline</th>\n",
       "      <th>Station</th>\n",
       "    </tr>\n",
       "  </thead>\n",
       "  <tbody>\n",
       "    <tr>\n",
       "      <th>0</th>\n",
       "      <td>HELIGMAN</td>\n",
       "      <td>231</td>\n",
       "      <td>60.200</td>\n",
       "      <td>19.300</td>\n",
       "      <td>NaN</td>\n",
       "      <td>ALA</td>\n",
       "      <td>01/01/1980</td>\n",
       "      <td>60</td>\n",
       "      <td>251</td>\n",
       "    </tr>\n",
       "    <tr>\n",
       "      <th>1</th>\n",
       "      <td>KOBBAKLINTAR</td>\n",
       "      <td>63</td>\n",
       "      <td>60.033</td>\n",
       "      <td>19.883</td>\n",
       "      <td>NaN</td>\n",
       "      <td>ALA</td>\n",
       "      <td>01/01/1980</td>\n",
       "      <td>60</td>\n",
       "      <td>261</td>\n",
       "    </tr>\n",
       "    <tr>\n",
       "      <th>2</th>\n",
       "      <td>LEMSTROM</td>\n",
       "      <td>84</td>\n",
       "      <td>60.100</td>\n",
       "      <td>20.017</td>\n",
       "      <td>NaN</td>\n",
       "      <td>ALA</td>\n",
       "      <td>01/01/1980</td>\n",
       "      <td>60</td>\n",
       "      <td>271</td>\n",
       "    </tr>\n",
       "    <tr>\n",
       "      <th>3</th>\n",
       "      <td>FOGLO / DEGERBY</td>\n",
       "      <td>249</td>\n",
       "      <td>60.032</td>\n",
       "      <td>20.385</td>\n",
       "      <td>NaN</td>\n",
       "      <td>ALA</td>\n",
       "      <td>24/01/2017</td>\n",
       "      <td>60</td>\n",
       "      <td>281</td>\n",
       "    </tr>\n",
       "    <tr>\n",
       "      <th>...</th>\n",
       "      <td>...</td>\n",
       "      <td>...</td>\n",
       "      <td>...</td>\n",
       "      <td>...</td>\n",
       "      <td>...</td>\n",
       "      <td>...</td>\n",
       "      <td>...</td>\n",
       "      <td>...</td>\n",
       "      <td>...</td>\n",
       "    </tr>\n",
       "    <tr>\n",
       "      <th>1502</th>\n",
       "      <td>LIME TREE BAY, ST CROIX</td>\n",
       "      <td>1447</td>\n",
       "      <td>17.693</td>\n",
       "      <td>-64.753</td>\n",
       "      <td>NaN</td>\n",
       "      <td>VIR</td>\n",
       "      <td>02/02/2017</td>\n",
       "      <td>939</td>\n",
       "      <td>11</td>\n",
       "    </tr>\n",
       "    <tr>\n",
       "      <th>1503</th>\n",
       "      <td>CHRISTIANSTED HARBOUR</td>\n",
       "      <td>2118</td>\n",
       "      <td>17.750</td>\n",
       "      <td>-64.705</td>\n",
       "      <td>NaN</td>\n",
       "      <td>VIR</td>\n",
       "      <td>02/02/2017</td>\n",
       "      <td>939</td>\n",
       "      <td>15</td>\n",
       "    </tr>\n",
       "    <tr>\n",
       "      <th>1504</th>\n",
       "      <td>LAMESHUR BAY</td>\n",
       "      <td>2119</td>\n",
       "      <td>18.317</td>\n",
       "      <td>-64.723</td>\n",
       "      <td>NaN</td>\n",
       "      <td>VIR</td>\n",
       "      <td>02/02/2017</td>\n",
       "      <td>939</td>\n",
       "      <td>21</td>\n",
       "    </tr>\n",
       "    <tr>\n",
       "      <th>1505</th>\n",
       "      <td>ADEN</td>\n",
       "      <td>44</td>\n",
       "      <td>12.788</td>\n",
       "      <td>44.974</td>\n",
       "      <td>3.0</td>\n",
       "      <td>YEM</td>\n",
       "      <td>01/02/2016</td>\n",
       "      <td>485</td>\n",
       "      <td>1</td>\n",
       "    </tr>\n",
       "  </tbody>\n",
       "</table>\n",
       "<p>1506 rows × 9 columns</p>\n",
       "</div>"
      ],
      "text/plain": [
       "                 Station Name    ID    Lat.    Lon.  GLOSS ID   Country    \\\n",
       "0                    HELIGMAN   231  60.200  19.300         NaN       ALA   \n",
       "1                KOBBAKLINTAR    63  60.033  19.883         NaN       ALA   \n",
       "2                    LEMSTROM    84  60.100  20.017         NaN       ALA   \n",
       "3             FOGLO / DEGERBY   249  60.032  20.385         NaN       ALA   \n",
       "...                       ...   ...     ...     ...         ...       ...   \n",
       "1502  LIME TREE BAY, ST CROIX  1447  17.693 -64.753         NaN       VIR   \n",
       "1503    CHRISTIANSTED HARBOUR  2118  17.750 -64.705         NaN       VIR   \n",
       "1504             LAMESHUR BAY  2119  18.317 -64.723         NaN       VIR   \n",
       "1505                     ADEN    44  12.788  44.974         3.0       YEM   \n",
       "\n",
       "            Date  Coastline    Station    \n",
       "0     01/01/1980           60        251  \n",
       "1     01/01/1980           60        261  \n",
       "2     01/01/1980           60        271  \n",
       "3     24/01/2017           60        281  \n",
       "...          ...          ...        ...  \n",
       "1502  02/02/2017          939         11  \n",
       "1503  02/02/2017          939         15  \n",
       "1504  02/02/2017          939         21  \n",
       "1505  01/02/2016          485          1  \n",
       "\n",
       "[1506 rows x 9 columns]"
      ]
     },
     "execution_count": 250,
     "metadata": {},
     "output_type": "execute_result"
    }
   ],
   "source": [
    "# there is 1 table on that page which contains metadata about the stations where \n",
    "# sea levels are recorded\n",
    "local_sea_level_stations = table_list[0]\n",
    "local_sea_level_stations"
   ]
  },
  {
   "cell_type": "markdown",
   "metadata": {
    "slideshow": {
     "slide_type": "slide"
    }
   },
   "source": [
    "# Indexing on Series\n",
    "- By default [] on a series accesses values using the index, not the location in the series."
   ]
  },
  {
   "cell_type": "code",
   "execution_count": 251,
   "metadata": {
    "slideshow": {
     "slide_type": "fragment"
    }
   },
   "outputs": [
    {
     "data": {
      "text/plain": [
       "(True, -0.13730000000000001)"
      ]
     },
     "execution_count": 251,
     "metadata": {},
     "output_type": "execute_result"
    }
   ],
   "source": [
    "first_date = full_globe_temp.index[0]\n",
    "first_date == 1880,  full_globe_temp[1880]"
   ]
  },
  {
   "cell_type": "markdown",
   "metadata": {
    "slideshow": {
     "slide_type": "fragment"
    }
   },
   "source": [
    "- This kind of indexing is sometimes ambiguous\n",
    "- Pandas provides another more explicit way to do the same thing with `loc` and `iloc`."
   ]
  },
  {
   "cell_type": "code",
   "execution_count": 252,
   "metadata": {
    "slideshow": {
     "slide_type": "fragment"
    }
   },
   "outputs": [
    {
     "name": "stdout",
     "output_type": "stream",
     "text": [
      "-0.1373 nan\n",
      "-0.1373 nan\n",
      "-0.1373 nan\n"
     ]
    }
   ],
   "source": [
    "print(full_globe_temp[1880], full_globe_temp[2011])\n",
    "print(full_globe_temp.loc[1880], full_globe_temp.loc[2011])\n",
    "print(full_globe_temp.iloc[0], full_globe_temp.iloc[-1])"
   ]
  },
  {
   "cell_type": "code",
   "execution_count": 253,
   "metadata": {
    "slideshow": {
     "slide_type": "slide"
    }
   },
   "outputs": [
    {
     "data": {
      "text/plain": [
       "2011"
      ]
     },
     "execution_count": 253,
     "metadata": {},
     "output_type": "execute_result"
    }
   ],
   "source": [
    "full_globe_temp.index[-1] # Year of the last record"
   ]
  },
  {
   "cell_type": "code",
   "execution_count": 254,
   "metadata": {
    "slideshow": {
     "slide_type": "fragment"
    }
   },
   "outputs": [
    {
     "data": {
      "text/plain": [
       "nan"
      ]
     },
     "execution_count": 254,
     "metadata": {},
     "output_type": "execute_result"
    }
   ],
   "source": [
    "full_globe_temp[2011] = np.nan # New records can be added:\n",
    "full_globe_temp.iloc[-1]"
   ]
  },
  {
   "cell_type": "markdown",
   "metadata": {
    "slideshow": {
     "slide_type": "slide"
    }
   },
   "source": [
    "# Indexing on DataFrames"
   ]
  },
  {
   "cell_type": "code",
   "execution_count": 255,
   "metadata": {
    "slideshow": {
     "slide_type": "fragment"
    }
   },
   "outputs": [
    {
     "data": {
      "text/plain": [
       "City\n",
       "Bordeaux      44.50\n",
       "Brest         48.24\n",
       "Clermont      45.47\n",
       "Grenoble      45.10\n",
       "              ...  \n",
       "Rennes        48.05\n",
       "Strasbourg    48.35\n",
       "Toulouse      43.36\n",
       "Vichy         46.08\n",
       "Name: Lati, Length: 15, dtype: float64"
      ]
     },
     "execution_count": 255,
     "metadata": {},
     "output_type": "execute_result"
    }
   ],
   "source": [
    "french_cities['Lati']  # DF [] accesses columns (Series)"
   ]
  },
  {
   "cell_type": "markdown",
   "metadata": {
    "slideshow": {
     "slide_type": "slide"
    }
   },
   "source": [
    "`.loc` and `.iloc` allow to access individual values, slices or masked selections:"
   ]
  },
  {
   "cell_type": "code",
   "execution_count": 256,
   "metadata": {
    "slideshow": {
     "slide_type": "fragment"
    }
   },
   "outputs": [
    {
     "data": {
      "text/plain": [
       "15.699999999999999"
      ]
     },
     "execution_count": 256,
     "metadata": {},
     "output_type": "execute_result"
    }
   ],
   "source": [
    "french_cities.loc['Rennes', \"Sep\"]"
   ]
  },
  {
   "cell_type": "code",
   "execution_count": 257,
   "metadata": {
    "slideshow": {
     "slide_type": "fragment"
    }
   },
   "outputs": [
    {
     "data": {
      "text/plain": [
       "Sep    15.7\n",
       "Dec     5.4\n",
       "Name: Rennes, dtype: object"
      ]
     },
     "execution_count": 257,
     "metadata": {},
     "output_type": "execute_result"
    }
   ],
   "source": [
    "french_cities.loc['Rennes', [\"Sep\", \"Dec\"]]"
   ]
  },
  {
   "cell_type": "code",
   "execution_count": 258,
   "metadata": {
    "slideshow": {
     "slide_type": "fragment"
    }
   },
   "outputs": [
    {
     "data": {
      "text/plain": [
       "Sep    15.7\n",
       "Oct    11.6\n",
       "Nov     7.8\n",
       "Dec     5.4\n",
       "Name: Rennes, dtype: object"
      ]
     },
     "execution_count": 258,
     "metadata": {},
     "output_type": "execute_result"
    }
   ],
   "source": [
    "french_cities.loc['Rennes', \"Sep\":\"Dec\"]"
   ]
  },
  {
   "cell_type": "markdown",
   "metadata": {
    "slideshow": {
     "slide_type": "slide"
    }
   },
   "source": [
    "# Masking"
   ]
  },
  {
   "cell_type": "code",
   "execution_count": 259,
   "metadata": {
    "slideshow": {
     "slide_type": "fragment"
    }
   },
   "outputs": [
    {
     "name": "stdout",
     "output_type": "stream",
     "text": [
      "Jan     5.6\n",
      "Mar    10.3\n",
      "May    15.8\n",
      "Jul    20.9\n",
      "Sep    18.6\n",
      "Nov     9.1\n",
      "Name: Bordeaux, dtype: object\n",
      "Jan     4.8\n",
      "Mar     7.9\n",
      "May    13.1\n",
      "Jul    17.9\n",
      "Sep    15.7\n",
      "Nov     7.8\n",
      "Name: Rennes, dtype: object\n"
     ]
    }
   ],
   "source": [
    "mask = [True, False] * 6\n",
    "print(french_cities.iloc[0, mask])\n",
    "print(french_cities.loc[\"Rennes\", mask])"
   ]
  },
  {
   "cell_type": "markdown",
   "metadata": {
    "slideshow": {
     "slide_type": "slide"
    }
   },
   "source": [
    "# New column\n"
   ]
  },
  {
   "cell_type": "code",
   "execution_count": 260,
   "metadata": {
    "slideshow": {
     "slide_type": "fragment"
    }
   },
   "outputs": [
    {
     "data": {
      "text/html": [
       "<div>\n",
       "<style>\n",
       "    .dataframe thead tr:only-child th {\n",
       "        text-align: right;\n",
       "    }\n",
       "\n",
       "    .dataframe thead th {\n",
       "        text-align: left;\n",
       "    }\n",
       "\n",
       "    .dataframe tbody tr th {\n",
       "        vertical-align: top;\n",
       "    }\n",
       "</style>\n",
       "<table border=\"1\" class=\"dataframe\">\n",
       "  <thead>\n",
       "    <tr style=\"text-align: right;\">\n",
       "      <th></th>\n",
       "      <th>Jan</th>\n",
       "      <th>Feb</th>\n",
       "      <th>Mar</th>\n",
       "      <th>Apr</th>\n",
       "      <th>May</th>\n",
       "      <th>Jun</th>\n",
       "      <th>Jul</th>\n",
       "      <th>Aug</th>\n",
       "      <th>Sep</th>\n",
       "      <th>Oct</th>\n",
       "      <th>Nov</th>\n",
       "      <th>Dec</th>\n",
       "      <th>Lati</th>\n",
       "      <th>Long</th>\n",
       "      <th>Moye</th>\n",
       "      <th>Ampl</th>\n",
       "      <th>Région</th>\n",
       "      <th>std</th>\n",
       "    </tr>\n",
       "    <tr>\n",
       "      <th>City</th>\n",
       "      <th></th>\n",
       "      <th></th>\n",
       "      <th></th>\n",
       "      <th></th>\n",
       "      <th></th>\n",
       "      <th></th>\n",
       "      <th></th>\n",
       "      <th></th>\n",
       "      <th></th>\n",
       "      <th></th>\n",
       "      <th></th>\n",
       "      <th></th>\n",
       "      <th></th>\n",
       "      <th></th>\n",
       "      <th></th>\n",
       "      <th></th>\n",
       "      <th></th>\n",
       "      <th></th>\n",
       "    </tr>\n",
       "  </thead>\n",
       "  <tbody>\n",
       "    <tr>\n",
       "      <th>Bordeaux</th>\n",
       "      <td>5.6</td>\n",
       "      <td>6.6</td>\n",
       "      <td>10.3</td>\n",
       "      <td>12.8</td>\n",
       "      <td>15.8</td>\n",
       "      <td>19.3</td>\n",
       "      <td>20.9</td>\n",
       "      <td>21.0</td>\n",
       "      <td>18.6</td>\n",
       "      <td>13.8</td>\n",
       "      <td>9.1</td>\n",
       "      <td>6.2</td>\n",
       "      <td>44.50</td>\n",
       "      <td>-0.34</td>\n",
       "      <td>13.33</td>\n",
       "      <td>15.4</td>\n",
       "      <td>SO</td>\n",
       "      <td>5.792681</td>\n",
       "    </tr>\n",
       "    <tr>\n",
       "      <th>Brest</th>\n",
       "      <td>6.1</td>\n",
       "      <td>5.8</td>\n",
       "      <td>7.8</td>\n",
       "      <td>9.2</td>\n",
       "      <td>11.6</td>\n",
       "      <td>14.4</td>\n",
       "      <td>15.6</td>\n",
       "      <td>16.0</td>\n",
       "      <td>14.7</td>\n",
       "      <td>12.0</td>\n",
       "      <td>9.0</td>\n",
       "      <td>7.0</td>\n",
       "      <td>48.24</td>\n",
       "      <td>-4.29</td>\n",
       "      <td>10.77</td>\n",
       "      <td>10.2</td>\n",
       "      <td>NO</td>\n",
       "      <td>3.773673</td>\n",
       "    </tr>\n",
       "    <tr>\n",
       "      <th>Clermont</th>\n",
       "      <td>2.6</td>\n",
       "      <td>3.7</td>\n",
       "      <td>7.5</td>\n",
       "      <td>10.3</td>\n",
       "      <td>13.8</td>\n",
       "      <td>17.3</td>\n",
       "      <td>19.4</td>\n",
       "      <td>19.1</td>\n",
       "      <td>16.2</td>\n",
       "      <td>11.2</td>\n",
       "      <td>6.6</td>\n",
       "      <td>3.6</td>\n",
       "      <td>45.47</td>\n",
       "      <td>3.05</td>\n",
       "      <td>10.94</td>\n",
       "      <td>16.8</td>\n",
       "      <td>SE</td>\n",
       "      <td>6.189795</td>\n",
       "    </tr>\n",
       "    <tr>\n",
       "      <th>Grenoble</th>\n",
       "      <td>1.5</td>\n",
       "      <td>3.2</td>\n",
       "      <td>7.7</td>\n",
       "      <td>10.6</td>\n",
       "      <td>14.5</td>\n",
       "      <td>17.8</td>\n",
       "      <td>20.1</td>\n",
       "      <td>19.5</td>\n",
       "      <td>16.7</td>\n",
       "      <td>11.4</td>\n",
       "      <td>6.5</td>\n",
       "      <td>2.3</td>\n",
       "      <td>45.10</td>\n",
       "      <td>5.43</td>\n",
       "      <td>10.98</td>\n",
       "      <td>18.6</td>\n",
       "      <td>SE</td>\n",
       "      <td>6.770771</td>\n",
       "    </tr>\n",
       "    <tr>\n",
       "      <th>...</th>\n",
       "      <td>...</td>\n",
       "      <td>...</td>\n",
       "      <td>...</td>\n",
       "      <td>...</td>\n",
       "      <td>...</td>\n",
       "      <td>...</td>\n",
       "      <td>...</td>\n",
       "      <td>...</td>\n",
       "      <td>...</td>\n",
       "      <td>...</td>\n",
       "      <td>...</td>\n",
       "      <td>...</td>\n",
       "      <td>...</td>\n",
       "      <td>...</td>\n",
       "      <td>...</td>\n",
       "      <td>...</td>\n",
       "      <td>...</td>\n",
       "      <td>...</td>\n",
       "    </tr>\n",
       "    <tr>\n",
       "      <th>Rennes</th>\n",
       "      <td>4.8</td>\n",
       "      <td>5.3</td>\n",
       "      <td>7.9</td>\n",
       "      <td>10.1</td>\n",
       "      <td>13.1</td>\n",
       "      <td>16.2</td>\n",
       "      <td>17.9</td>\n",
       "      <td>17.8</td>\n",
       "      <td>15.7</td>\n",
       "      <td>11.6</td>\n",
       "      <td>7.8</td>\n",
       "      <td>5.4</td>\n",
       "      <td>48.05</td>\n",
       "      <td>-1.41</td>\n",
       "      <td>11.13</td>\n",
       "      <td>13.1</td>\n",
       "      <td>NO</td>\n",
       "      <td>4.958800</td>\n",
       "    </tr>\n",
       "    <tr>\n",
       "      <th>Strasbourg</th>\n",
       "      <td>0.4</td>\n",
       "      <td>1.5</td>\n",
       "      <td>5.6</td>\n",
       "      <td>9.8</td>\n",
       "      <td>14.0</td>\n",
       "      <td>17.2</td>\n",
       "      <td>19.0</td>\n",
       "      <td>18.3</td>\n",
       "      <td>15.1</td>\n",
       "      <td>9.5</td>\n",
       "      <td>4.9</td>\n",
       "      <td>1.3</td>\n",
       "      <td>48.35</td>\n",
       "      <td>7.45</td>\n",
       "      <td>9.72</td>\n",
       "      <td>18.6</td>\n",
       "      <td>NE</td>\n",
       "      <td>6.931723</td>\n",
       "    </tr>\n",
       "    <tr>\n",
       "      <th>Toulouse</th>\n",
       "      <td>4.7</td>\n",
       "      <td>5.6</td>\n",
       "      <td>9.2</td>\n",
       "      <td>11.6</td>\n",
       "      <td>14.9</td>\n",
       "      <td>18.7</td>\n",
       "      <td>20.9</td>\n",
       "      <td>20.9</td>\n",
       "      <td>18.3</td>\n",
       "      <td>13.3</td>\n",
       "      <td>8.6</td>\n",
       "      <td>5.5</td>\n",
       "      <td>43.36</td>\n",
       "      <td>1.26</td>\n",
       "      <td>12.68</td>\n",
       "      <td>16.2</td>\n",
       "      <td>SO</td>\n",
       "      <td>6.056977</td>\n",
       "    </tr>\n",
       "    <tr>\n",
       "      <th>Vichy</th>\n",
       "      <td>2.4</td>\n",
       "      <td>3.4</td>\n",
       "      <td>7.1</td>\n",
       "      <td>9.9</td>\n",
       "      <td>13.6</td>\n",
       "      <td>17.1</td>\n",
       "      <td>19.3</td>\n",
       "      <td>18.8</td>\n",
       "      <td>16.0</td>\n",
       "      <td>11.0</td>\n",
       "      <td>6.6</td>\n",
       "      <td>3.4</td>\n",
       "      <td>46.08</td>\n",
       "      <td>3.26</td>\n",
       "      <td>10.72</td>\n",
       "      <td>16.9</td>\n",
       "      <td>SE</td>\n",
       "      <td>6.201148</td>\n",
       "    </tr>\n",
       "  </tbody>\n",
       "</table>\n",
       "<p>15 rows × 18 columns</p>\n",
       "</div>"
      ],
      "text/plain": [
       "            Jan  Feb   Mar   Apr   May   Jun   Jul   Aug   Sep   Oct  Nov  \\\n",
       "City                                                                        \n",
       "Bordeaux    5.6  6.6  10.3  12.8  15.8  19.3  20.9  21.0  18.6  13.8  9.1   \n",
       "Brest       6.1  5.8   7.8   9.2  11.6  14.4  15.6  16.0  14.7  12.0  9.0   \n",
       "Clermont    2.6  3.7   7.5  10.3  13.8  17.3  19.4  19.1  16.2  11.2  6.6   \n",
       "Grenoble    1.5  3.2   7.7  10.6  14.5  17.8  20.1  19.5  16.7  11.4  6.5   \n",
       "...         ...  ...   ...   ...   ...   ...   ...   ...   ...   ...  ...   \n",
       "Rennes      4.8  5.3   7.9  10.1  13.1  16.2  17.9  17.8  15.7  11.6  7.8   \n",
       "Strasbourg  0.4  1.5   5.6   9.8  14.0  17.2  19.0  18.3  15.1   9.5  4.9   \n",
       "Toulouse    4.7  5.6   9.2  11.6  14.9  18.7  20.9  20.9  18.3  13.3  8.6   \n",
       "Vichy       2.4  3.4   7.1   9.9  13.6  17.1  19.3  18.8  16.0  11.0  6.6   \n",
       "\n",
       "            Dec   Lati  Long   Moye  Ampl Région       std  \n",
       "City                                                        \n",
       "Bordeaux    6.2  44.50 -0.34  13.33  15.4     SO  5.792681  \n",
       "Brest       7.0  48.24 -4.29  10.77  10.2     NO  3.773673  \n",
       "Clermont    3.6  45.47  3.05  10.94  16.8     SE  6.189795  \n",
       "Grenoble    2.3  45.10  5.43  10.98  18.6     SE  6.770771  \n",
       "...         ...    ...   ...    ...   ...    ...       ...  \n",
       "Rennes      5.4  48.05 -1.41  11.13  13.1     NO  4.958800  \n",
       "Strasbourg  1.3  48.35  7.45   9.72  18.6     NE  6.931723  \n",
       "Toulouse    5.5  43.36  1.26  12.68  16.2     SO  6.056977  \n",
       "Vichy       3.4  46.08  3.26  10.72  16.9     SE  6.201148  \n",
       "\n",
       "[15 rows x 18 columns]"
      ]
     },
     "execution_count": 260,
     "metadata": {},
     "output_type": "execute_result"
    }
   ],
   "source": [
    "french_cities[\"std\"] = french_cities.iloc[:,:12].std(axis=1)\n",
    "french_cities"
   ]
  },
  {
   "cell_type": "code",
   "execution_count": 261,
   "metadata": {
    "collapsed": true,
    "slideshow": {
     "slide_type": "fragment"
    }
   },
   "outputs": [],
   "source": [
    "french_cities = french_cities.drop(\"std\", axis=1) # remove this new column"
   ]
  },
  {
   "cell_type": "code",
   "execution_count": 262,
   "metadata": {
    "slideshow": {
     "slide_type": "skip"
    }
   },
   "outputs": [
    {
     "data": {
      "text/html": [
       "<div>\n",
       "<style>\n",
       "    .dataframe thead tr:only-child th {\n",
       "        text-align: right;\n",
       "    }\n",
       "\n",
       "    .dataframe thead th {\n",
       "        text-align: left;\n",
       "    }\n",
       "\n",
       "    .dataframe tbody tr th {\n",
       "        vertical-align: top;\n",
       "    }\n",
       "</style>\n",
       "<table border=\"1\" class=\"dataframe\">\n",
       "  <thead>\n",
       "    <tr style=\"text-align: right;\">\n",
       "      <th></th>\n",
       "      <th>Jan</th>\n",
       "      <th>Feb</th>\n",
       "      <th>Mar</th>\n",
       "      <th>Apr</th>\n",
       "      <th>May</th>\n",
       "      <th>Jun</th>\n",
       "      <th>Jul</th>\n",
       "      <th>Aug</th>\n",
       "      <th>Sep</th>\n",
       "      <th>Oct</th>\n",
       "      <th>Nov</th>\n",
       "      <th>Dec</th>\n",
       "      <th>Lati</th>\n",
       "      <th>Long</th>\n",
       "      <th>Moye</th>\n",
       "      <th>Ampl</th>\n",
       "      <th>Région</th>\n",
       "    </tr>\n",
       "    <tr>\n",
       "      <th>City</th>\n",
       "      <th></th>\n",
       "      <th></th>\n",
       "      <th></th>\n",
       "      <th></th>\n",
       "      <th></th>\n",
       "      <th></th>\n",
       "      <th></th>\n",
       "      <th></th>\n",
       "      <th></th>\n",
       "      <th></th>\n",
       "      <th></th>\n",
       "      <th></th>\n",
       "      <th></th>\n",
       "      <th></th>\n",
       "      <th></th>\n",
       "      <th></th>\n",
       "      <th></th>\n",
       "    </tr>\n",
       "  </thead>\n",
       "  <tbody>\n",
       "    <tr>\n",
       "      <th>Bordeaux</th>\n",
       "      <td>5.6</td>\n",
       "      <td>6.6</td>\n",
       "      <td>10.3</td>\n",
       "      <td>12.8</td>\n",
       "      <td>15.8</td>\n",
       "      <td>19.3</td>\n",
       "      <td>20.9</td>\n",
       "      <td>21.0</td>\n",
       "      <td>18.6</td>\n",
       "      <td>13.8</td>\n",
       "      <td>9.1</td>\n",
       "      <td>6.2</td>\n",
       "      <td>44.50</td>\n",
       "      <td>-0.34</td>\n",
       "      <td>13.33</td>\n",
       "      <td>15.4</td>\n",
       "      <td>SO</td>\n",
       "    </tr>\n",
       "    <tr>\n",
       "      <th>Brest</th>\n",
       "      <td>6.1</td>\n",
       "      <td>5.8</td>\n",
       "      <td>7.8</td>\n",
       "      <td>9.2</td>\n",
       "      <td>11.6</td>\n",
       "      <td>14.4</td>\n",
       "      <td>15.6</td>\n",
       "      <td>16.0</td>\n",
       "      <td>14.7</td>\n",
       "      <td>12.0</td>\n",
       "      <td>9.0</td>\n",
       "      <td>7.0</td>\n",
       "      <td>48.24</td>\n",
       "      <td>-4.29</td>\n",
       "      <td>10.77</td>\n",
       "      <td>10.2</td>\n",
       "      <td>NO</td>\n",
       "    </tr>\n",
       "    <tr>\n",
       "      <th>Clermont</th>\n",
       "      <td>2.6</td>\n",
       "      <td>3.7</td>\n",
       "      <td>7.5</td>\n",
       "      <td>10.3</td>\n",
       "      <td>13.8</td>\n",
       "      <td>17.3</td>\n",
       "      <td>19.4</td>\n",
       "      <td>19.1</td>\n",
       "      <td>16.2</td>\n",
       "      <td>11.2</td>\n",
       "      <td>6.6</td>\n",
       "      <td>3.6</td>\n",
       "      <td>45.47</td>\n",
       "      <td>3.05</td>\n",
       "      <td>10.94</td>\n",
       "      <td>16.8</td>\n",
       "      <td>SE</td>\n",
       "    </tr>\n",
       "    <tr>\n",
       "      <th>Grenoble</th>\n",
       "      <td>1.5</td>\n",
       "      <td>3.2</td>\n",
       "      <td>7.7</td>\n",
       "      <td>10.6</td>\n",
       "      <td>14.5</td>\n",
       "      <td>17.8</td>\n",
       "      <td>20.1</td>\n",
       "      <td>19.5</td>\n",
       "      <td>16.7</td>\n",
       "      <td>11.4</td>\n",
       "      <td>6.5</td>\n",
       "      <td>2.3</td>\n",
       "      <td>45.10</td>\n",
       "      <td>5.43</td>\n",
       "      <td>10.98</td>\n",
       "      <td>18.6</td>\n",
       "      <td>SE</td>\n",
       "    </tr>\n",
       "    <tr>\n",
       "      <th>...</th>\n",
       "      <td>...</td>\n",
       "      <td>...</td>\n",
       "      <td>...</td>\n",
       "      <td>...</td>\n",
       "      <td>...</td>\n",
       "      <td>...</td>\n",
       "      <td>...</td>\n",
       "      <td>...</td>\n",
       "      <td>...</td>\n",
       "      <td>...</td>\n",
       "      <td>...</td>\n",
       "      <td>...</td>\n",
       "      <td>...</td>\n",
       "      <td>...</td>\n",
       "      <td>...</td>\n",
       "      <td>...</td>\n",
       "      <td>...</td>\n",
       "    </tr>\n",
       "    <tr>\n",
       "      <th>Rennes</th>\n",
       "      <td>4.8</td>\n",
       "      <td>5.3</td>\n",
       "      <td>7.9</td>\n",
       "      <td>10.1</td>\n",
       "      <td>13.1</td>\n",
       "      <td>16.2</td>\n",
       "      <td>17.9</td>\n",
       "      <td>17.8</td>\n",
       "      <td>15.7</td>\n",
       "      <td>11.6</td>\n",
       "      <td>7.8</td>\n",
       "      <td>5.4</td>\n",
       "      <td>48.05</td>\n",
       "      <td>-1.41</td>\n",
       "      <td>11.13</td>\n",
       "      <td>13.1</td>\n",
       "      <td>NO</td>\n",
       "    </tr>\n",
       "    <tr>\n",
       "      <th>Strasbourg</th>\n",
       "      <td>0.4</td>\n",
       "      <td>1.5</td>\n",
       "      <td>5.6</td>\n",
       "      <td>9.8</td>\n",
       "      <td>14.0</td>\n",
       "      <td>17.2</td>\n",
       "      <td>19.0</td>\n",
       "      <td>18.3</td>\n",
       "      <td>15.1</td>\n",
       "      <td>9.5</td>\n",
       "      <td>4.9</td>\n",
       "      <td>1.3</td>\n",
       "      <td>48.35</td>\n",
       "      <td>7.45</td>\n",
       "      <td>9.72</td>\n",
       "      <td>18.6</td>\n",
       "      <td>NE</td>\n",
       "    </tr>\n",
       "    <tr>\n",
       "      <th>Toulouse</th>\n",
       "      <td>4.7</td>\n",
       "      <td>5.6</td>\n",
       "      <td>9.2</td>\n",
       "      <td>11.6</td>\n",
       "      <td>14.9</td>\n",
       "      <td>18.7</td>\n",
       "      <td>20.9</td>\n",
       "      <td>20.9</td>\n",
       "      <td>18.3</td>\n",
       "      <td>13.3</td>\n",
       "      <td>8.6</td>\n",
       "      <td>5.5</td>\n",
       "      <td>43.36</td>\n",
       "      <td>1.26</td>\n",
       "      <td>12.68</td>\n",
       "      <td>16.2</td>\n",
       "      <td>SO</td>\n",
       "    </tr>\n",
       "    <tr>\n",
       "      <th>Vichy</th>\n",
       "      <td>2.4</td>\n",
       "      <td>3.4</td>\n",
       "      <td>7.1</td>\n",
       "      <td>9.9</td>\n",
       "      <td>13.6</td>\n",
       "      <td>17.1</td>\n",
       "      <td>19.3</td>\n",
       "      <td>18.8</td>\n",
       "      <td>16.0</td>\n",
       "      <td>11.0</td>\n",
       "      <td>6.6</td>\n",
       "      <td>3.4</td>\n",
       "      <td>46.08</td>\n",
       "      <td>3.26</td>\n",
       "      <td>10.72</td>\n",
       "      <td>16.9</td>\n",
       "      <td>SE</td>\n",
       "    </tr>\n",
       "  </tbody>\n",
       "</table>\n",
       "<p>15 rows × 17 columns</p>\n",
       "</div>"
      ],
      "text/plain": [
       "            Jan  Feb   Mar   Apr   May   Jun   Jul   Aug   Sep   Oct  Nov  \\\n",
       "City                                                                        \n",
       "Bordeaux    5.6  6.6  10.3  12.8  15.8  19.3  20.9  21.0  18.6  13.8  9.1   \n",
       "Brest       6.1  5.8   7.8   9.2  11.6  14.4  15.6  16.0  14.7  12.0  9.0   \n",
       "Clermont    2.6  3.7   7.5  10.3  13.8  17.3  19.4  19.1  16.2  11.2  6.6   \n",
       "Grenoble    1.5  3.2   7.7  10.6  14.5  17.8  20.1  19.5  16.7  11.4  6.5   \n",
       "...         ...  ...   ...   ...   ...   ...   ...   ...   ...   ...  ...   \n",
       "Rennes      4.8  5.3   7.9  10.1  13.1  16.2  17.9  17.8  15.7  11.6  7.8   \n",
       "Strasbourg  0.4  1.5   5.6   9.8  14.0  17.2  19.0  18.3  15.1   9.5  4.9   \n",
       "Toulouse    4.7  5.6   9.2  11.6  14.9  18.7  20.9  20.9  18.3  13.3  8.6   \n",
       "Vichy       2.4  3.4   7.1   9.9  13.6  17.1  19.3  18.8  16.0  11.0  6.6   \n",
       "\n",
       "            Dec   Lati  Long   Moye  Ampl Région  \n",
       "City                                              \n",
       "Bordeaux    6.2  44.50 -0.34  13.33  15.4     SO  \n",
       "Brest       7.0  48.24 -4.29  10.77  10.2     NO  \n",
       "Clermont    3.6  45.47  3.05  10.94  16.8     SE  \n",
       "Grenoble    2.3  45.10  5.43  10.98  18.6     SE  \n",
       "...         ...    ...   ...    ...   ...    ...  \n",
       "Rennes      5.4  48.05 -1.41  11.13  13.1     NO  \n",
       "Strasbourg  1.3  48.35  7.45   9.72  18.6     NE  \n",
       "Toulouse    5.5  43.36  1.26  12.68  16.2     SO  \n",
       "Vichy       3.4  46.08  3.26  10.72  16.9     SE  \n",
       "\n",
       "[15 rows x 17 columns]"
      ]
     },
     "execution_count": 262,
     "metadata": {},
     "output_type": "execute_result"
    }
   ],
   "source": [
    "french_cities"
   ]
  },
  {
   "cell_type": "markdown",
   "metadata": {
    "slideshow": {
     "slide_type": "slide"
    }
   },
   "source": [
    "# Modifying a dataframe with multiple indexing"
   ]
  },
  {
   "cell_type": "code",
   "execution_count": 263,
   "metadata": {
    "slideshow": {
     "slide_type": "fragment"
    }
   },
   "outputs": [
    {
     "data": {
      "text/plain": [
       "15.699999999999999"
      ]
     },
     "execution_count": 263,
     "metadata": {},
     "output_type": "execute_result"
    }
   ],
   "source": [
    "# french_cities['Rennes']['Sep'] = 25 # It does not works and breaks the DataFrame\n",
    "french_cities.loc['Rennes']['Sep'] # = 25 is the right way to do it"
   ]
  },
  {
   "cell_type": "code",
   "execution_count": 264,
   "metadata": {
    "slideshow": {
     "slide_type": "skip"
    }
   },
   "outputs": [
    {
     "data": {
      "text/html": [
       "<div>\n",
       "<style>\n",
       "    .dataframe thead tr:only-child th {\n",
       "        text-align: right;\n",
       "    }\n",
       "\n",
       "    .dataframe thead th {\n",
       "        text-align: left;\n",
       "    }\n",
       "\n",
       "    .dataframe tbody tr th {\n",
       "        vertical-align: top;\n",
       "    }\n",
       "</style>\n",
       "<table border=\"1\" class=\"dataframe\">\n",
       "  <thead>\n",
       "    <tr style=\"text-align: right;\">\n",
       "      <th></th>\n",
       "      <th>Jan</th>\n",
       "      <th>Feb</th>\n",
       "      <th>Mar</th>\n",
       "      <th>Apr</th>\n",
       "      <th>May</th>\n",
       "      <th>Jun</th>\n",
       "      <th>Jul</th>\n",
       "      <th>Aug</th>\n",
       "      <th>Sep</th>\n",
       "      <th>Oct</th>\n",
       "      <th>Nov</th>\n",
       "      <th>Dec</th>\n",
       "      <th>Lati</th>\n",
       "      <th>Long</th>\n",
       "      <th>Moye</th>\n",
       "      <th>Ampl</th>\n",
       "      <th>Région</th>\n",
       "    </tr>\n",
       "    <tr>\n",
       "      <th>City</th>\n",
       "      <th></th>\n",
       "      <th></th>\n",
       "      <th></th>\n",
       "      <th></th>\n",
       "      <th></th>\n",
       "      <th></th>\n",
       "      <th></th>\n",
       "      <th></th>\n",
       "      <th></th>\n",
       "      <th></th>\n",
       "      <th></th>\n",
       "      <th></th>\n",
       "      <th></th>\n",
       "      <th></th>\n",
       "      <th></th>\n",
       "      <th></th>\n",
       "      <th></th>\n",
       "    </tr>\n",
       "  </thead>\n",
       "  <tbody>\n",
       "    <tr>\n",
       "      <th>Bordeaux</th>\n",
       "      <td>5.6</td>\n",
       "      <td>6.6</td>\n",
       "      <td>10.3</td>\n",
       "      <td>12.8</td>\n",
       "      <td>15.8</td>\n",
       "      <td>19.3</td>\n",
       "      <td>20.9</td>\n",
       "      <td>21.0</td>\n",
       "      <td>18.6</td>\n",
       "      <td>13.8</td>\n",
       "      <td>9.1</td>\n",
       "      <td>6.2</td>\n",
       "      <td>44.50</td>\n",
       "      <td>-0.34</td>\n",
       "      <td>13.33</td>\n",
       "      <td>15.4</td>\n",
       "      <td>SO</td>\n",
       "    </tr>\n",
       "    <tr>\n",
       "      <th>Brest</th>\n",
       "      <td>6.1</td>\n",
       "      <td>5.8</td>\n",
       "      <td>7.8</td>\n",
       "      <td>9.2</td>\n",
       "      <td>11.6</td>\n",
       "      <td>14.4</td>\n",
       "      <td>15.6</td>\n",
       "      <td>16.0</td>\n",
       "      <td>14.7</td>\n",
       "      <td>12.0</td>\n",
       "      <td>9.0</td>\n",
       "      <td>7.0</td>\n",
       "      <td>48.24</td>\n",
       "      <td>-4.29</td>\n",
       "      <td>10.77</td>\n",
       "      <td>10.2</td>\n",
       "      <td>NO</td>\n",
       "    </tr>\n",
       "    <tr>\n",
       "      <th>Clermont</th>\n",
       "      <td>2.6</td>\n",
       "      <td>3.7</td>\n",
       "      <td>7.5</td>\n",
       "      <td>10.3</td>\n",
       "      <td>13.8</td>\n",
       "      <td>17.3</td>\n",
       "      <td>19.4</td>\n",
       "      <td>19.1</td>\n",
       "      <td>16.2</td>\n",
       "      <td>11.2</td>\n",
       "      <td>6.6</td>\n",
       "      <td>3.6</td>\n",
       "      <td>45.47</td>\n",
       "      <td>3.05</td>\n",
       "      <td>10.94</td>\n",
       "      <td>16.8</td>\n",
       "      <td>SE</td>\n",
       "    </tr>\n",
       "    <tr>\n",
       "      <th>Grenoble</th>\n",
       "      <td>1.5</td>\n",
       "      <td>3.2</td>\n",
       "      <td>7.7</td>\n",
       "      <td>10.6</td>\n",
       "      <td>14.5</td>\n",
       "      <td>17.8</td>\n",
       "      <td>20.1</td>\n",
       "      <td>19.5</td>\n",
       "      <td>16.7</td>\n",
       "      <td>11.4</td>\n",
       "      <td>6.5</td>\n",
       "      <td>2.3</td>\n",
       "      <td>45.10</td>\n",
       "      <td>5.43</td>\n",
       "      <td>10.98</td>\n",
       "      <td>18.6</td>\n",
       "      <td>SE</td>\n",
       "    </tr>\n",
       "    <tr>\n",
       "      <th>...</th>\n",
       "      <td>...</td>\n",
       "      <td>...</td>\n",
       "      <td>...</td>\n",
       "      <td>...</td>\n",
       "      <td>...</td>\n",
       "      <td>...</td>\n",
       "      <td>...</td>\n",
       "      <td>...</td>\n",
       "      <td>...</td>\n",
       "      <td>...</td>\n",
       "      <td>...</td>\n",
       "      <td>...</td>\n",
       "      <td>...</td>\n",
       "      <td>...</td>\n",
       "      <td>...</td>\n",
       "      <td>...</td>\n",
       "      <td>...</td>\n",
       "    </tr>\n",
       "    <tr>\n",
       "      <th>Rennes</th>\n",
       "      <td>4.8</td>\n",
       "      <td>5.3</td>\n",
       "      <td>7.9</td>\n",
       "      <td>10.1</td>\n",
       "      <td>13.1</td>\n",
       "      <td>16.2</td>\n",
       "      <td>17.9</td>\n",
       "      <td>17.8</td>\n",
       "      <td>15.7</td>\n",
       "      <td>11.6</td>\n",
       "      <td>7.8</td>\n",
       "      <td>5.4</td>\n",
       "      <td>48.05</td>\n",
       "      <td>-1.41</td>\n",
       "      <td>11.13</td>\n",
       "      <td>13.1</td>\n",
       "      <td>NO</td>\n",
       "    </tr>\n",
       "    <tr>\n",
       "      <th>Strasbourg</th>\n",
       "      <td>0.4</td>\n",
       "      <td>1.5</td>\n",
       "      <td>5.6</td>\n",
       "      <td>9.8</td>\n",
       "      <td>14.0</td>\n",
       "      <td>17.2</td>\n",
       "      <td>19.0</td>\n",
       "      <td>18.3</td>\n",
       "      <td>15.1</td>\n",
       "      <td>9.5</td>\n",
       "      <td>4.9</td>\n",
       "      <td>1.3</td>\n",
       "      <td>48.35</td>\n",
       "      <td>7.45</td>\n",
       "      <td>9.72</td>\n",
       "      <td>18.6</td>\n",
       "      <td>NE</td>\n",
       "    </tr>\n",
       "    <tr>\n",
       "      <th>Toulouse</th>\n",
       "      <td>4.7</td>\n",
       "      <td>5.6</td>\n",
       "      <td>9.2</td>\n",
       "      <td>11.6</td>\n",
       "      <td>14.9</td>\n",
       "      <td>18.7</td>\n",
       "      <td>20.9</td>\n",
       "      <td>20.9</td>\n",
       "      <td>18.3</td>\n",
       "      <td>13.3</td>\n",
       "      <td>8.6</td>\n",
       "      <td>5.5</td>\n",
       "      <td>43.36</td>\n",
       "      <td>1.26</td>\n",
       "      <td>12.68</td>\n",
       "      <td>16.2</td>\n",
       "      <td>SO</td>\n",
       "    </tr>\n",
       "    <tr>\n",
       "      <th>Vichy</th>\n",
       "      <td>2.4</td>\n",
       "      <td>3.4</td>\n",
       "      <td>7.1</td>\n",
       "      <td>9.9</td>\n",
       "      <td>13.6</td>\n",
       "      <td>17.1</td>\n",
       "      <td>19.3</td>\n",
       "      <td>18.8</td>\n",
       "      <td>16.0</td>\n",
       "      <td>11.0</td>\n",
       "      <td>6.6</td>\n",
       "      <td>3.4</td>\n",
       "      <td>46.08</td>\n",
       "      <td>3.26</td>\n",
       "      <td>10.72</td>\n",
       "      <td>16.9</td>\n",
       "      <td>SE</td>\n",
       "    </tr>\n",
       "  </tbody>\n",
       "</table>\n",
       "<p>15 rows × 17 columns</p>\n",
       "</div>"
      ],
      "text/plain": [
       "            Jan  Feb   Mar   Apr   May   Jun   Jul   Aug   Sep   Oct  Nov  \\\n",
       "City                                                                        \n",
       "Bordeaux    5.6  6.6  10.3  12.8  15.8  19.3  20.9  21.0  18.6  13.8  9.1   \n",
       "Brest       6.1  5.8   7.8   9.2  11.6  14.4  15.6  16.0  14.7  12.0  9.0   \n",
       "Clermont    2.6  3.7   7.5  10.3  13.8  17.3  19.4  19.1  16.2  11.2  6.6   \n",
       "Grenoble    1.5  3.2   7.7  10.6  14.5  17.8  20.1  19.5  16.7  11.4  6.5   \n",
       "...         ...  ...   ...   ...   ...   ...   ...   ...   ...   ...  ...   \n",
       "Rennes      4.8  5.3   7.9  10.1  13.1  16.2  17.9  17.8  15.7  11.6  7.8   \n",
       "Strasbourg  0.4  1.5   5.6   9.8  14.0  17.2  19.0  18.3  15.1   9.5  4.9   \n",
       "Toulouse    4.7  5.6   9.2  11.6  14.9  18.7  20.9  20.9  18.3  13.3  8.6   \n",
       "Vichy       2.4  3.4   7.1   9.9  13.6  17.1  19.3  18.8  16.0  11.0  6.6   \n",
       "\n",
       "            Dec   Lati  Long   Moye  Ampl Région  \n",
       "City                                              \n",
       "Bordeaux    6.2  44.50 -0.34  13.33  15.4     SO  \n",
       "Brest       7.0  48.24 -4.29  10.77  10.2     NO  \n",
       "Clermont    3.6  45.47  3.05  10.94  16.8     SE  \n",
       "Grenoble    2.3  45.10  5.43  10.98  18.6     SE  \n",
       "...         ...    ...   ...    ...   ...    ...  \n",
       "Rennes      5.4  48.05 -1.41  11.13  13.1     NO  \n",
       "Strasbourg  1.3  48.35  7.45   9.72  18.6     NE  \n",
       "Toulouse    5.5  43.36  1.26  12.68  16.2     SO  \n",
       "Vichy       3.4  46.08  3.26  10.72  16.9     SE  \n",
       "\n",
       "[15 rows x 17 columns]"
      ]
     },
     "execution_count": 264,
     "metadata": {},
     "output_type": "execute_result"
    }
   ],
   "source": [
    "french_cities"
   ]
  },
  {
   "cell_type": "markdown",
   "metadata": {
    "slideshow": {
     "slide_type": "slide"
    }
   },
   "source": [
    "# Working with dates and times\n",
    "\n",
    "Index dtype is NumPy's new 'int64Index':"
   ]
  },
  {
   "cell_type": "code",
   "execution_count": 265,
   "metadata": {
    "slideshow": {
     "slide_type": "fragment"
    }
   },
   "outputs": [
    {
     "data": {
      "text/plain": [
       "dtype('int64')"
      ]
     },
     "execution_count": 265,
     "metadata": {},
     "output_type": "execute_result"
    }
   ],
   "source": [
    "full_globe_temp.index.dtype"
   ]
  },
  {
   "cell_type": "markdown",
   "metadata": {
    "slideshow": {
     "slide_type": "fragment"
    }
   },
   "source": [
    "Use Real datetime index and add a flag to signal if the value is before or after the great depression's black Friday:"
   ]
  },
  {
   "cell_type": "code",
   "execution_count": 266,
   "metadata": {
    "slideshow": {
     "slide_type": "fragment"
    }
   },
   "outputs": [
    {
     "data": {
      "text/plain": [
       "array([False, False, False, False, False, False, False, False, False,\n",
       "       False, False, False, False, False, False, False, False, False,\n",
       "       False, False, False, False, False, False, False, False, False,\n",
       "       False, False, False, False, False, False, False, False, False,\n",
       "       False, False, False, False, False, False, False, False, False,\n",
       "       False, False, False, False, False,  True,  True,  True,  True,\n",
       "        True,  True,  True,  True,  True,  True,  True,  True,  True,\n",
       "        True,  True,  True,  True,  True,  True,  True,  True,  True,\n",
       "        True,  True,  True,  True,  True,  True,  True,  True,  True,\n",
       "        True,  True,  True,  True,  True,  True,  True,  True,  True,\n",
       "        True,  True,  True,  True,  True,  True,  True,  True,  True,\n",
       "        True,  True,  True,  True,  True,  True,  True,  True,  True,\n",
       "        True,  True,  True,  True,  True,  True,  True,  True,  True,\n",
       "        True,  True,  True,  True,  True,  True,  True,  True,  True,\n",
       "        True,  True,  True,  True,  True,  True], dtype=bool)"
      ]
     },
     "execution_count": 266,
     "metadata": {},
     "output_type": "execute_result"
    }
   ],
   "source": [
    "black_friday = pd.to_datetime('1929-10-29')\n",
    "full_globe_temp.index  = pd.to_datetime(full_globe_temp.index,format='%Y')\n",
    "full_globe_temp.index > black_friday"
   ]
  },
  {
   "cell_type": "markdown",
   "metadata": {
    "slideshow": {
     "slide_type": "slide"
    }
   },
   "source": [
    "# Timestamps to periods\n",
    "Convert its index from timestamp to period is more meaningfull since it was measured and averaged over the year...\n"
   ]
  },
  {
   "cell_type": "code",
   "execution_count": 267,
   "metadata": {
    "slideshow": {
     "slide_type": "fragment"
    }
   },
   "outputs": [
    {
     "data": {
      "text/plain": [
       "year\n",
       "1880   -0.1373\n",
       "1881   -0.0600\n",
       "1882   -0.1130\n",
       "1883   -0.1505\n",
       "         ...  \n",
       "2008    0.4842\n",
       "2009    0.5588\n",
       "2010    0.6147\n",
       "2011       NaN\n",
       "Freq: A-DEC, Name: mean temp, Length: 132, dtype: float64"
      ]
     },
     "execution_count": 267,
     "metadata": {},
     "output_type": "execute_result"
    }
   ],
   "source": [
    "full_globe_temp.index = full_globe_temp.index.to_period()\n",
    "full_globe_temp"
   ]
  },
  {
   "cell_type": "code",
   "execution_count": 268,
   "metadata": {
    "slideshow": {
     "slide_type": "fragment"
    }
   },
   "outputs": [
    {
     "data": {
      "text/plain": [
       "period[A-DEC]"
      ]
     },
     "execution_count": 268,
     "metadata": {},
     "output_type": "execute_result"
    }
   ],
   "source": [
    "full_globe_temp.index.dtype"
   ]
  },
  {
   "cell_type": "markdown",
   "metadata": {
    "slideshow": {
     "slide_type": "slide"
    }
   },
   "source": [
    "## Resampling\n",
    "\n",
    "Series can be resample, downsample or upsample.\n",
    "- Frequencies can be specified as strings: \"us\", \"ms\", \"S\", \"T\", \"H\", \"D\", \"B\", \"W\", \"M\", \"A\", \"3min\", \"2h20\", ...\n",
    "- More aliases at http://pandas.pydata.org/pandas-docs/stable/timeseries.html#offset-aliases\n",
    "\n",
    "### Series converted to 10 year blocks:"
   ]
  },
  {
   "cell_type": "code",
   "execution_count": 269,
   "metadata": {
    "slideshow": {
     "slide_type": "fragment"
    }
   },
   "outputs": [
    {
     "data": {
      "text/plain": [
       "year\n",
       "1880-12-31   -0.13730\n",
       "1890-12-31   -0.16727\n",
       "1900-12-31   -0.20713\n",
       "1910-12-31   -0.31178\n",
       "               ...   \n",
       "1990-12-31    0.21704\n",
       "2000-12-31    0.36462\n",
       "2010-12-31    0.56116\n",
       "2020-12-31        NaN\n",
       "Freq: 10A-DEC, Name: mean temp, Length: 15, dtype: float64"
      ]
     },
     "execution_count": 269,
     "metadata": {},
     "output_type": "execute_result"
    }
   ],
   "source": [
    "full_globe_temp.resample(\"10A\").mean()"
   ]
  },
  {
   "cell_type": "markdown",
   "metadata": {
    "slideshow": {
     "slide_type": "slide"
    }
   },
   "source": [
    "### Upscale to a monthly series"
   ]
  },
  {
   "cell_type": "code",
   "execution_count": 270,
   "metadata": {
    "slideshow": {
     "slide_type": "fragment"
    }
   },
   "outputs": [
    {
     "data": {
      "text/plain": [
       "year\n",
       "1880-01   -0.1373\n",
       "1880-02       NaN\n",
       "1880-03       NaN\n",
       "1880-04       NaN\n",
       "            ...  \n",
       "2011-09       NaN\n",
       "2011-10       NaN\n",
       "2011-11       NaN\n",
       "2011-12       NaN\n",
       "Freq: M, Name: mean temp, Length: 1584, dtype: float64"
      ]
     },
     "execution_count": 270,
     "metadata": {},
     "output_type": "execute_result"
    }
   ],
   "source": [
    "full_globe_temp.resample(\"M\").mean()"
   ]
  },
  {
   "cell_type": "markdown",
   "metadata": {
    "slideshow": {
     "slide_type": "slide"
    }
   },
   "source": [
    "# Transforming datasets"
   ]
  },
  {
   "cell_type": "code",
   "execution_count": 271,
   "metadata": {
    "slideshow": {
     "slide_type": "fragment"
    }
   },
   "outputs": [
    {
     "data": {
      "text/plain": [
       "(9.7200000000000006, 18.600000000000001)"
      ]
     },
     "execution_count": 271,
     "metadata": {},
     "output_type": "execute_result"
    }
   ],
   "source": [
    "french_cities['Moye'].min(), french_cities['Ampl'].max()"
   ]
  },
  {
   "cell_type": "markdown",
   "metadata": {
    "slideshow": {
     "slide_type": "fragment"
    }
   },
   "source": [
    "## Apply\n",
    "\n",
    "Let's convert the temperature mean from Celsius to Fahrenheit degree."
   ]
  },
  {
   "cell_type": "code",
   "execution_count": 272,
   "metadata": {
    "slideshow": {
     "slide_type": "fragment"
    }
   },
   "outputs": [
    {
     "data": {
      "text/plain": [
       "City\n",
       "Bordeaux      55.994\n",
       "Brest         51.386\n",
       "Clermont      51.692\n",
       "Grenoble      51.764\n",
       "               ...  \n",
       "Rennes        52.034\n",
       "Strasbourg    49.496\n",
       "Toulouse      54.824\n",
       "Vichy         51.296\n",
       "Name: Moye, Length: 15, dtype: float64"
      ]
     },
     "execution_count": 272,
     "metadata": {},
     "output_type": "execute_result"
    }
   ],
   "source": [
    "fahrenheit = lambda T: T*9/5+32\n",
    "french_cities['Moye'].apply(fahrenheit)"
   ]
  },
  {
   "cell_type": "markdown",
   "metadata": {
    "slideshow": {
     "slide_type": "slide"
    }
   },
   "source": [
    "## Sort"
   ]
  },
  {
   "cell_type": "code",
   "execution_count": 273,
   "metadata": {
    "slideshow": {
     "slide_type": "fragment"
    }
   },
   "outputs": [
    {
     "data": {
      "text/html": [
       "<div>\n",
       "<style>\n",
       "    .dataframe thead tr:only-child th {\n",
       "        text-align: right;\n",
       "    }\n",
       "\n",
       "    .dataframe thead th {\n",
       "        text-align: left;\n",
       "    }\n",
       "\n",
       "    .dataframe tbody tr th {\n",
       "        vertical-align: top;\n",
       "    }\n",
       "</style>\n",
       "<table border=\"1\" class=\"dataframe\">\n",
       "  <thead>\n",
       "    <tr style=\"text-align: right;\">\n",
       "      <th></th>\n",
       "      <th>Jan</th>\n",
       "      <th>Feb</th>\n",
       "      <th>Mar</th>\n",
       "      <th>Apr</th>\n",
       "      <th>May</th>\n",
       "      <th>Jun</th>\n",
       "      <th>Jul</th>\n",
       "      <th>Aug</th>\n",
       "      <th>Sep</th>\n",
       "      <th>Oct</th>\n",
       "      <th>Nov</th>\n",
       "      <th>Dec</th>\n",
       "      <th>Lati</th>\n",
       "      <th>Long</th>\n",
       "      <th>Moye</th>\n",
       "      <th>Ampl</th>\n",
       "      <th>Région</th>\n",
       "    </tr>\n",
       "    <tr>\n",
       "      <th>City</th>\n",
       "      <th></th>\n",
       "      <th></th>\n",
       "      <th></th>\n",
       "      <th></th>\n",
       "      <th></th>\n",
       "      <th></th>\n",
       "      <th></th>\n",
       "      <th></th>\n",
       "      <th></th>\n",
       "      <th></th>\n",
       "      <th></th>\n",
       "      <th></th>\n",
       "      <th></th>\n",
       "      <th></th>\n",
       "      <th></th>\n",
       "      <th></th>\n",
       "      <th></th>\n",
       "    </tr>\n",
       "  </thead>\n",
       "  <tbody>\n",
       "    <tr>\n",
       "      <th>Marseille</th>\n",
       "      <td>5.5</td>\n",
       "      <td>6.6</td>\n",
       "      <td>10.0</td>\n",
       "      <td>13.0</td>\n",
       "      <td>16.8</td>\n",
       "      <td>20.8</td>\n",
       "      <td>23.3</td>\n",
       "      <td>22.8</td>\n",
       "      <td>19.9</td>\n",
       "      <td>15.0</td>\n",
       "      <td>10.2</td>\n",
       "      <td>6.9</td>\n",
       "      <td>43.18</td>\n",
       "      <td>5.24</td>\n",
       "      <td>14.23</td>\n",
       "      <td>17.8</td>\n",
       "      <td>SE</td>\n",
       "    </tr>\n",
       "    <tr>\n",
       "      <th>Montpellier</th>\n",
       "      <td>5.6</td>\n",
       "      <td>6.7</td>\n",
       "      <td>9.9</td>\n",
       "      <td>12.8</td>\n",
       "      <td>16.2</td>\n",
       "      <td>20.1</td>\n",
       "      <td>22.7</td>\n",
       "      <td>22.3</td>\n",
       "      <td>19.3</td>\n",
       "      <td>14.6</td>\n",
       "      <td>10.0</td>\n",
       "      <td>6.5</td>\n",
       "      <td>43.36</td>\n",
       "      <td>3.53</td>\n",
       "      <td>13.89</td>\n",
       "      <td>17.1</td>\n",
       "      <td>SE</td>\n",
       "    </tr>\n",
       "    <tr>\n",
       "      <th>Toulouse</th>\n",
       "      <td>4.7</td>\n",
       "      <td>5.6</td>\n",
       "      <td>9.2</td>\n",
       "      <td>11.6</td>\n",
       "      <td>14.9</td>\n",
       "      <td>18.7</td>\n",
       "      <td>20.9</td>\n",
       "      <td>20.9</td>\n",
       "      <td>18.3</td>\n",
       "      <td>13.3</td>\n",
       "      <td>8.6</td>\n",
       "      <td>5.5</td>\n",
       "      <td>43.36</td>\n",
       "      <td>1.26</td>\n",
       "      <td>12.68</td>\n",
       "      <td>16.2</td>\n",
       "      <td>SO</td>\n",
       "    </tr>\n",
       "    <tr>\n",
       "      <th>Nice</th>\n",
       "      <td>7.5</td>\n",
       "      <td>8.5</td>\n",
       "      <td>10.8</td>\n",
       "      <td>13.3</td>\n",
       "      <td>16.7</td>\n",
       "      <td>20.1</td>\n",
       "      <td>22.7</td>\n",
       "      <td>22.5</td>\n",
       "      <td>20.3</td>\n",
       "      <td>16.0</td>\n",
       "      <td>11.5</td>\n",
       "      <td>8.2</td>\n",
       "      <td>43.42</td>\n",
       "      <td>7.15</td>\n",
       "      <td>14.84</td>\n",
       "      <td>15.2</td>\n",
       "      <td>SE</td>\n",
       "    </tr>\n",
       "    <tr>\n",
       "      <th>...</th>\n",
       "      <td>...</td>\n",
       "      <td>...</td>\n",
       "      <td>...</td>\n",
       "      <td>...</td>\n",
       "      <td>...</td>\n",
       "      <td>...</td>\n",
       "      <td>...</td>\n",
       "      <td>...</td>\n",
       "      <td>...</td>\n",
       "      <td>...</td>\n",
       "      <td>...</td>\n",
       "      <td>...</td>\n",
       "      <td>...</td>\n",
       "      <td>...</td>\n",
       "      <td>...</td>\n",
       "      <td>...</td>\n",
       "      <td>...</td>\n",
       "    </tr>\n",
       "    <tr>\n",
       "      <th>Brest</th>\n",
       "      <td>6.1</td>\n",
       "      <td>5.8</td>\n",
       "      <td>7.8</td>\n",
       "      <td>9.2</td>\n",
       "      <td>11.6</td>\n",
       "      <td>14.4</td>\n",
       "      <td>15.6</td>\n",
       "      <td>16.0</td>\n",
       "      <td>14.7</td>\n",
       "      <td>12.0</td>\n",
       "      <td>9.0</td>\n",
       "      <td>7.0</td>\n",
       "      <td>48.24</td>\n",
       "      <td>-4.29</td>\n",
       "      <td>10.77</td>\n",
       "      <td>10.2</td>\n",
       "      <td>NO</td>\n",
       "    </tr>\n",
       "    <tr>\n",
       "      <th>Strasbourg</th>\n",
       "      <td>0.4</td>\n",
       "      <td>1.5</td>\n",
       "      <td>5.6</td>\n",
       "      <td>9.8</td>\n",
       "      <td>14.0</td>\n",
       "      <td>17.2</td>\n",
       "      <td>19.0</td>\n",
       "      <td>18.3</td>\n",
       "      <td>15.1</td>\n",
       "      <td>9.5</td>\n",
       "      <td>4.9</td>\n",
       "      <td>1.3</td>\n",
       "      <td>48.35</td>\n",
       "      <td>7.45</td>\n",
       "      <td>9.72</td>\n",
       "      <td>18.6</td>\n",
       "      <td>NE</td>\n",
       "    </tr>\n",
       "    <tr>\n",
       "      <th>Paris</th>\n",
       "      <td>3.4</td>\n",
       "      <td>4.1</td>\n",
       "      <td>7.6</td>\n",
       "      <td>10.7</td>\n",
       "      <td>14.3</td>\n",
       "      <td>17.5</td>\n",
       "      <td>19.1</td>\n",
       "      <td>18.7</td>\n",
       "      <td>16.0</td>\n",
       "      <td>11.4</td>\n",
       "      <td>7.1</td>\n",
       "      <td>4.3</td>\n",
       "      <td>48.52</td>\n",
       "      <td>2.20</td>\n",
       "      <td>11.18</td>\n",
       "      <td>15.7</td>\n",
       "      <td>NE</td>\n",
       "    </tr>\n",
       "    <tr>\n",
       "      <th>Lille</th>\n",
       "      <td>2.4</td>\n",
       "      <td>2.9</td>\n",
       "      <td>6.0</td>\n",
       "      <td>8.9</td>\n",
       "      <td>12.4</td>\n",
       "      <td>15.3</td>\n",
       "      <td>17.1</td>\n",
       "      <td>17.1</td>\n",
       "      <td>14.7</td>\n",
       "      <td>10.4</td>\n",
       "      <td>6.1</td>\n",
       "      <td>3.5</td>\n",
       "      <td>50.38</td>\n",
       "      <td>3.04</td>\n",
       "      <td>9.73</td>\n",
       "      <td>14.7</td>\n",
       "      <td>NE</td>\n",
       "    </tr>\n",
       "  </tbody>\n",
       "</table>\n",
       "<p>15 rows × 17 columns</p>\n",
       "</div>"
      ],
      "text/plain": [
       "             Jan  Feb   Mar   Apr   May   Jun   Jul   Aug   Sep   Oct   Nov  \\\n",
       "City                                                                          \n",
       "Marseille    5.5  6.6  10.0  13.0  16.8  20.8  23.3  22.8  19.9  15.0  10.2   \n",
       "Montpellier  5.6  6.7   9.9  12.8  16.2  20.1  22.7  22.3  19.3  14.6  10.0   \n",
       "Toulouse     4.7  5.6   9.2  11.6  14.9  18.7  20.9  20.9  18.3  13.3   8.6   \n",
       "Nice         7.5  8.5  10.8  13.3  16.7  20.1  22.7  22.5  20.3  16.0  11.5   \n",
       "...          ...  ...   ...   ...   ...   ...   ...   ...   ...   ...   ...   \n",
       "Brest        6.1  5.8   7.8   9.2  11.6  14.4  15.6  16.0  14.7  12.0   9.0   \n",
       "Strasbourg   0.4  1.5   5.6   9.8  14.0  17.2  19.0  18.3  15.1   9.5   4.9   \n",
       "Paris        3.4  4.1   7.6  10.7  14.3  17.5  19.1  18.7  16.0  11.4   7.1   \n",
       "Lille        2.4  2.9   6.0   8.9  12.4  15.3  17.1  17.1  14.7  10.4   6.1   \n",
       "\n",
       "             Dec   Lati  Long   Moye  Ampl Région  \n",
       "City                                               \n",
       "Marseille    6.9  43.18  5.24  14.23  17.8     SE  \n",
       "Montpellier  6.5  43.36  3.53  13.89  17.1     SE  \n",
       "Toulouse     5.5  43.36  1.26  12.68  16.2     SO  \n",
       "Nice         8.2  43.42  7.15  14.84  15.2     SE  \n",
       "...          ...    ...   ...    ...   ...    ...  \n",
       "Brest        7.0  48.24 -4.29  10.77  10.2     NO  \n",
       "Strasbourg   1.3  48.35  7.45   9.72  18.6     NE  \n",
       "Paris        4.3  48.52  2.20  11.18  15.7     NE  \n",
       "Lille        3.5  50.38  3.04   9.73  14.7     NE  \n",
       "\n",
       "[15 rows x 17 columns]"
      ]
     },
     "execution_count": 273,
     "metadata": {},
     "output_type": "execute_result"
    }
   ],
   "source": [
    "french_cities.sort_values(by='Lati')"
   ]
  },
  {
   "cell_type": "code",
   "execution_count": 274,
   "metadata": {
    "slideshow": {
     "slide_type": "slide"
    }
   },
   "outputs": [
    {
     "data": {
      "text/html": [
       "<div>\n",
       "<style>\n",
       "    .dataframe thead tr:only-child th {\n",
       "        text-align: right;\n",
       "    }\n",
       "\n",
       "    .dataframe thead th {\n",
       "        text-align: left;\n",
       "    }\n",
       "\n",
       "    .dataframe tbody tr th {\n",
       "        vertical-align: top;\n",
       "    }\n",
       "</style>\n",
       "<table border=\"1\" class=\"dataframe\">\n",
       "  <thead>\n",
       "    <tr style=\"text-align: right;\">\n",
       "      <th></th>\n",
       "      <th>Jan</th>\n",
       "      <th>Feb</th>\n",
       "      <th>Mar</th>\n",
       "      <th>Apr</th>\n",
       "      <th>May</th>\n",
       "      <th>Jun</th>\n",
       "      <th>Jul</th>\n",
       "      <th>Aug</th>\n",
       "      <th>Sep</th>\n",
       "      <th>Oct</th>\n",
       "      <th>Nov</th>\n",
       "      <th>Dec</th>\n",
       "      <th>Lati</th>\n",
       "      <th>Long</th>\n",
       "      <th>Moye</th>\n",
       "      <th>Ampl</th>\n",
       "      <th>Région</th>\n",
       "    </tr>\n",
       "    <tr>\n",
       "      <th>City</th>\n",
       "      <th></th>\n",
       "      <th></th>\n",
       "      <th></th>\n",
       "      <th></th>\n",
       "      <th></th>\n",
       "      <th></th>\n",
       "      <th></th>\n",
       "      <th></th>\n",
       "      <th></th>\n",
       "      <th></th>\n",
       "      <th></th>\n",
       "      <th></th>\n",
       "      <th></th>\n",
       "      <th></th>\n",
       "      <th></th>\n",
       "      <th></th>\n",
       "      <th></th>\n",
       "    </tr>\n",
       "  </thead>\n",
       "  <tbody>\n",
       "    <tr>\n",
       "      <th>Lille</th>\n",
       "      <td>2.4</td>\n",
       "      <td>2.9</td>\n",
       "      <td>6.0</td>\n",
       "      <td>8.9</td>\n",
       "      <td>12.4</td>\n",
       "      <td>15.3</td>\n",
       "      <td>17.1</td>\n",
       "      <td>17.1</td>\n",
       "      <td>14.7</td>\n",
       "      <td>10.4</td>\n",
       "      <td>6.1</td>\n",
       "      <td>3.5</td>\n",
       "      <td>50.38</td>\n",
       "      <td>3.04</td>\n",
       "      <td>9.73</td>\n",
       "      <td>14.7</td>\n",
       "      <td>NE</td>\n",
       "    </tr>\n",
       "    <tr>\n",
       "      <th>Paris</th>\n",
       "      <td>3.4</td>\n",
       "      <td>4.1</td>\n",
       "      <td>7.6</td>\n",
       "      <td>10.7</td>\n",
       "      <td>14.3</td>\n",
       "      <td>17.5</td>\n",
       "      <td>19.1</td>\n",
       "      <td>18.7</td>\n",
       "      <td>16.0</td>\n",
       "      <td>11.4</td>\n",
       "      <td>7.1</td>\n",
       "      <td>4.3</td>\n",
       "      <td>48.52</td>\n",
       "      <td>2.20</td>\n",
       "      <td>11.18</td>\n",
       "      <td>15.7</td>\n",
       "      <td>NE</td>\n",
       "    </tr>\n",
       "    <tr>\n",
       "      <th>Strasbourg</th>\n",
       "      <td>0.4</td>\n",
       "      <td>1.5</td>\n",
       "      <td>5.6</td>\n",
       "      <td>9.8</td>\n",
       "      <td>14.0</td>\n",
       "      <td>17.2</td>\n",
       "      <td>19.0</td>\n",
       "      <td>18.3</td>\n",
       "      <td>15.1</td>\n",
       "      <td>9.5</td>\n",
       "      <td>4.9</td>\n",
       "      <td>1.3</td>\n",
       "      <td>48.35</td>\n",
       "      <td>7.45</td>\n",
       "      <td>9.72</td>\n",
       "      <td>18.6</td>\n",
       "      <td>NE</td>\n",
       "    </tr>\n",
       "    <tr>\n",
       "      <th>Brest</th>\n",
       "      <td>6.1</td>\n",
       "      <td>5.8</td>\n",
       "      <td>7.8</td>\n",
       "      <td>9.2</td>\n",
       "      <td>11.6</td>\n",
       "      <td>14.4</td>\n",
       "      <td>15.6</td>\n",
       "      <td>16.0</td>\n",
       "      <td>14.7</td>\n",
       "      <td>12.0</td>\n",
       "      <td>9.0</td>\n",
       "      <td>7.0</td>\n",
       "      <td>48.24</td>\n",
       "      <td>-4.29</td>\n",
       "      <td>10.77</td>\n",
       "      <td>10.2</td>\n",
       "      <td>NO</td>\n",
       "    </tr>\n",
       "    <tr>\n",
       "      <th>...</th>\n",
       "      <td>...</td>\n",
       "      <td>...</td>\n",
       "      <td>...</td>\n",
       "      <td>...</td>\n",
       "      <td>...</td>\n",
       "      <td>...</td>\n",
       "      <td>...</td>\n",
       "      <td>...</td>\n",
       "      <td>...</td>\n",
       "      <td>...</td>\n",
       "      <td>...</td>\n",
       "      <td>...</td>\n",
       "      <td>...</td>\n",
       "      <td>...</td>\n",
       "      <td>...</td>\n",
       "      <td>...</td>\n",
       "      <td>...</td>\n",
       "    </tr>\n",
       "    <tr>\n",
       "      <th>Nice</th>\n",
       "      <td>7.5</td>\n",
       "      <td>8.5</td>\n",
       "      <td>10.8</td>\n",
       "      <td>13.3</td>\n",
       "      <td>16.7</td>\n",
       "      <td>20.1</td>\n",
       "      <td>22.7</td>\n",
       "      <td>22.5</td>\n",
       "      <td>20.3</td>\n",
       "      <td>16.0</td>\n",
       "      <td>11.5</td>\n",
       "      <td>8.2</td>\n",
       "      <td>43.42</td>\n",
       "      <td>7.15</td>\n",
       "      <td>14.84</td>\n",
       "      <td>15.2</td>\n",
       "      <td>SE</td>\n",
       "    </tr>\n",
       "    <tr>\n",
       "      <th>Montpellier</th>\n",
       "      <td>5.6</td>\n",
       "      <td>6.7</td>\n",
       "      <td>9.9</td>\n",
       "      <td>12.8</td>\n",
       "      <td>16.2</td>\n",
       "      <td>20.1</td>\n",
       "      <td>22.7</td>\n",
       "      <td>22.3</td>\n",
       "      <td>19.3</td>\n",
       "      <td>14.6</td>\n",
       "      <td>10.0</td>\n",
       "      <td>6.5</td>\n",
       "      <td>43.36</td>\n",
       "      <td>3.53</td>\n",
       "      <td>13.89</td>\n",
       "      <td>17.1</td>\n",
       "      <td>SE</td>\n",
       "    </tr>\n",
       "    <tr>\n",
       "      <th>Toulouse</th>\n",
       "      <td>4.7</td>\n",
       "      <td>5.6</td>\n",
       "      <td>9.2</td>\n",
       "      <td>11.6</td>\n",
       "      <td>14.9</td>\n",
       "      <td>18.7</td>\n",
       "      <td>20.9</td>\n",
       "      <td>20.9</td>\n",
       "      <td>18.3</td>\n",
       "      <td>13.3</td>\n",
       "      <td>8.6</td>\n",
       "      <td>5.5</td>\n",
       "      <td>43.36</td>\n",
       "      <td>1.26</td>\n",
       "      <td>12.68</td>\n",
       "      <td>16.2</td>\n",
       "      <td>SO</td>\n",
       "    </tr>\n",
       "    <tr>\n",
       "      <th>Marseille</th>\n",
       "      <td>5.5</td>\n",
       "      <td>6.6</td>\n",
       "      <td>10.0</td>\n",
       "      <td>13.0</td>\n",
       "      <td>16.8</td>\n",
       "      <td>20.8</td>\n",
       "      <td>23.3</td>\n",
       "      <td>22.8</td>\n",
       "      <td>19.9</td>\n",
       "      <td>15.0</td>\n",
       "      <td>10.2</td>\n",
       "      <td>6.9</td>\n",
       "      <td>43.18</td>\n",
       "      <td>5.24</td>\n",
       "      <td>14.23</td>\n",
       "      <td>17.8</td>\n",
       "      <td>SE</td>\n",
       "    </tr>\n",
       "  </tbody>\n",
       "</table>\n",
       "<p>15 rows × 17 columns</p>\n",
       "</div>"
      ],
      "text/plain": [
       "             Jan  Feb   Mar   Apr   May   Jun   Jul   Aug   Sep   Oct   Nov  \\\n",
       "City                                                                          \n",
       "Lille        2.4  2.9   6.0   8.9  12.4  15.3  17.1  17.1  14.7  10.4   6.1   \n",
       "Paris        3.4  4.1   7.6  10.7  14.3  17.5  19.1  18.7  16.0  11.4   7.1   \n",
       "Strasbourg   0.4  1.5   5.6   9.8  14.0  17.2  19.0  18.3  15.1   9.5   4.9   \n",
       "Brest        6.1  5.8   7.8   9.2  11.6  14.4  15.6  16.0  14.7  12.0   9.0   \n",
       "...          ...  ...   ...   ...   ...   ...   ...   ...   ...   ...   ...   \n",
       "Nice         7.5  8.5  10.8  13.3  16.7  20.1  22.7  22.5  20.3  16.0  11.5   \n",
       "Montpellier  5.6  6.7   9.9  12.8  16.2  20.1  22.7  22.3  19.3  14.6  10.0   \n",
       "Toulouse     4.7  5.6   9.2  11.6  14.9  18.7  20.9  20.9  18.3  13.3   8.6   \n",
       "Marseille    5.5  6.6  10.0  13.0  16.8  20.8  23.3  22.8  19.9  15.0  10.2   \n",
       "\n",
       "             Dec   Lati  Long   Moye  Ampl Région  \n",
       "City                                               \n",
       "Lille        3.5  50.38  3.04   9.73  14.7     NE  \n",
       "Paris        4.3  48.52  2.20  11.18  15.7     NE  \n",
       "Strasbourg   1.3  48.35  7.45   9.72  18.6     NE  \n",
       "Brest        7.0  48.24 -4.29  10.77  10.2     NO  \n",
       "...          ...    ...   ...    ...   ...    ...  \n",
       "Nice         8.2  43.42  7.15  14.84  15.2     SE  \n",
       "Montpellier  6.5  43.36  3.53  13.89  17.1     SE  \n",
       "Toulouse     5.5  43.36  1.26  12.68  16.2     SO  \n",
       "Marseille    6.9  43.18  5.24  14.23  17.8     SE  \n",
       "\n",
       "[15 rows x 17 columns]"
      ]
     },
     "execution_count": 274,
     "metadata": {},
     "output_type": "execute_result"
    }
   ],
   "source": [
    "french_cities = french_cities.sort_values(by='Lati',ascending=False)\n",
    "french_cities"
   ]
  },
  {
   "cell_type": "markdown",
   "metadata": {
    "slideshow": {
     "slide_type": "slide"
    }
   },
   "source": [
    "## Stack and unstack\n",
    "\n",
    "Instead of seeing the months along the axis 1, and the cities along the axis 0, let's try to convert these into an outer and an inner axis along only 1 time dimension."
   ]
  },
  {
   "cell_type": "code",
   "execution_count": 275,
   "metadata": {
    "slideshow": {
     "slide_type": "fragment"
    }
   },
   "outputs": [
    {
     "data": {
      "text/plain": [
       "     City       \n",
       "Jan  Lille          2.4\n",
       "     Paris          3.4\n",
       "     Strasbourg     0.4\n",
       "     Brest          6.1\n",
       "     Rennes         4.8\n",
       "     Nantes         5.0\n",
       "     Vichy          2.4\n",
       "     Clermont       2.6\n",
       "     Lyon           2.1\n",
       "     Grenoble       1.5\n",
       "                   ... \n",
       "Dec  Nantes         5.5\n",
       "     Vichy          3.4\n",
       "     Clermont       3.6\n",
       "     Lyon           3.1\n",
       "     Grenoble       2.3\n",
       "     Bordeaux       6.2\n",
       "     Nice           8.2\n",
       "     Montpellier    6.5\n",
       "     Toulouse       5.5\n",
       "     Marseille      6.9\n",
       "Length: 180, dtype: float64"
      ]
     },
     "execution_count": 275,
     "metadata": {},
     "output_type": "execute_result"
    }
   ],
   "source": [
    "pd.set_option(\"display.max_rows\", 20)\n",
    "unstacked = french_cities.iloc[:,:12].unstack()\n",
    "unstacked"
   ]
  },
  {
   "cell_type": "code",
   "execution_count": 276,
   "metadata": {
    "slideshow": {
     "slide_type": "subslide"
    }
   },
   "outputs": [
    {
     "data": {
      "text/plain": [
       "pandas.core.series.Series"
      ]
     },
     "execution_count": 276,
     "metadata": {},
     "output_type": "execute_result"
    }
   ],
   "source": [
    "type(unstacked)"
   ]
  },
  {
   "cell_type": "markdown",
   "metadata": {
    "slideshow": {
     "slide_type": "slide"
    }
   },
   "source": [
    "## Transpose"
   ]
  },
  {
   "cell_type": "markdown",
   "metadata": {
    "slideshow": {
     "slide_type": "fragment"
    }
   },
   "source": [
    "The result is grouped in the wrong order since it sorts first the axis that was unstacked. We need to transpose the dataframe."
   ]
  },
  {
   "cell_type": "code",
   "execution_count": 277,
   "metadata": {
    "slideshow": {
     "slide_type": "slide"
    }
   },
   "outputs": [
    {
     "data": {
      "text/html": [
       "<div>\n",
       "<style>\n",
       "    .dataframe thead tr:only-child th {\n",
       "        text-align: right;\n",
       "    }\n",
       "\n",
       "    .dataframe thead th {\n",
       "        text-align: left;\n",
       "    }\n",
       "\n",
       "    .dataframe tbody tr th {\n",
       "        vertical-align: top;\n",
       "    }\n",
       "</style>\n",
       "<table border=\"1\" class=\"dataframe\">\n",
       "  <thead>\n",
       "    <tr style=\"text-align: right;\">\n",
       "      <th>City</th>\n",
       "      <th>Lille</th>\n",
       "      <th>Paris</th>\n",
       "      <th>Strasbourg</th>\n",
       "      <th>Brest</th>\n",
       "      <th>Rennes</th>\n",
       "      <th>Nantes</th>\n",
       "      <th>Vichy</th>\n",
       "      <th>Clermont</th>\n",
       "      <th>Lyon</th>\n",
       "      <th>Grenoble</th>\n",
       "      <th>Bordeaux</th>\n",
       "      <th>Nice</th>\n",
       "      <th>Montpellier</th>\n",
       "      <th>Toulouse</th>\n",
       "      <th>Marseille</th>\n",
       "    </tr>\n",
       "  </thead>\n",
       "  <tbody>\n",
       "    <tr>\n",
       "      <th>Jan</th>\n",
       "      <td>2.4</td>\n",
       "      <td>3.4</td>\n",
       "      <td>0.4</td>\n",
       "      <td>6.1</td>\n",
       "      <td>4.8</td>\n",
       "      <td>5.0</td>\n",
       "      <td>2.4</td>\n",
       "      <td>2.6</td>\n",
       "      <td>2.1</td>\n",
       "      <td>1.5</td>\n",
       "      <td>5.6</td>\n",
       "      <td>7.5</td>\n",
       "      <td>5.6</td>\n",
       "      <td>4.7</td>\n",
       "      <td>5.5</td>\n",
       "    </tr>\n",
       "    <tr>\n",
       "      <th>Feb</th>\n",
       "      <td>2.9</td>\n",
       "      <td>4.1</td>\n",
       "      <td>1.5</td>\n",
       "      <td>5.8</td>\n",
       "      <td>5.3</td>\n",
       "      <td>5.3</td>\n",
       "      <td>3.4</td>\n",
       "      <td>3.7</td>\n",
       "      <td>3.3</td>\n",
       "      <td>3.2</td>\n",
       "      <td>6.6</td>\n",
       "      <td>8.5</td>\n",
       "      <td>6.7</td>\n",
       "      <td>5.6</td>\n",
       "      <td>6.6</td>\n",
       "    </tr>\n",
       "    <tr>\n",
       "      <th>Mar</th>\n",
       "      <td>6.0</td>\n",
       "      <td>7.6</td>\n",
       "      <td>5.6</td>\n",
       "      <td>7.8</td>\n",
       "      <td>7.9</td>\n",
       "      <td>8.4</td>\n",
       "      <td>7.1</td>\n",
       "      <td>7.5</td>\n",
       "      <td>7.7</td>\n",
       "      <td>7.7</td>\n",
       "      <td>10.3</td>\n",
       "      <td>10.8</td>\n",
       "      <td>9.9</td>\n",
       "      <td>9.2</td>\n",
       "      <td>10.0</td>\n",
       "    </tr>\n",
       "    <tr>\n",
       "      <th>Apr</th>\n",
       "      <td>8.9</td>\n",
       "      <td>10.7</td>\n",
       "      <td>9.8</td>\n",
       "      <td>9.2</td>\n",
       "      <td>10.1</td>\n",
       "      <td>10.8</td>\n",
       "      <td>9.9</td>\n",
       "      <td>10.3</td>\n",
       "      <td>10.9</td>\n",
       "      <td>10.6</td>\n",
       "      <td>12.8</td>\n",
       "      <td>13.3</td>\n",
       "      <td>12.8</td>\n",
       "      <td>11.6</td>\n",
       "      <td>13.0</td>\n",
       "    </tr>\n",
       "    <tr>\n",
       "      <th>May</th>\n",
       "      <td>12.4</td>\n",
       "      <td>14.3</td>\n",
       "      <td>14.0</td>\n",
       "      <td>11.6</td>\n",
       "      <td>13.1</td>\n",
       "      <td>13.9</td>\n",
       "      <td>13.6</td>\n",
       "      <td>13.8</td>\n",
       "      <td>14.9</td>\n",
       "      <td>14.5</td>\n",
       "      <td>15.8</td>\n",
       "      <td>16.7</td>\n",
       "      <td>16.2</td>\n",
       "      <td>14.9</td>\n",
       "      <td>16.8</td>\n",
       "    </tr>\n",
       "    <tr>\n",
       "      <th>Jun</th>\n",
       "      <td>15.3</td>\n",
       "      <td>17.5</td>\n",
       "      <td>17.2</td>\n",
       "      <td>14.4</td>\n",
       "      <td>16.2</td>\n",
       "      <td>17.2</td>\n",
       "      <td>17.1</td>\n",
       "      <td>17.3</td>\n",
       "      <td>18.5</td>\n",
       "      <td>17.8</td>\n",
       "      <td>19.3</td>\n",
       "      <td>20.1</td>\n",
       "      <td>20.1</td>\n",
       "      <td>18.7</td>\n",
       "      <td>20.8</td>\n",
       "    </tr>\n",
       "    <tr>\n",
       "      <th>Jul</th>\n",
       "      <td>17.1</td>\n",
       "      <td>19.1</td>\n",
       "      <td>19.0</td>\n",
       "      <td>15.6</td>\n",
       "      <td>17.9</td>\n",
       "      <td>18.8</td>\n",
       "      <td>19.3</td>\n",
       "      <td>19.4</td>\n",
       "      <td>20.7</td>\n",
       "      <td>20.1</td>\n",
       "      <td>20.9</td>\n",
       "      <td>22.7</td>\n",
       "      <td>22.7</td>\n",
       "      <td>20.9</td>\n",
       "      <td>23.3</td>\n",
       "    </tr>\n",
       "    <tr>\n",
       "      <th>Aug</th>\n",
       "      <td>17.1</td>\n",
       "      <td>18.7</td>\n",
       "      <td>18.3</td>\n",
       "      <td>16.0</td>\n",
       "      <td>17.8</td>\n",
       "      <td>18.6</td>\n",
       "      <td>18.8</td>\n",
       "      <td>19.1</td>\n",
       "      <td>20.1</td>\n",
       "      <td>19.5</td>\n",
       "      <td>21.0</td>\n",
       "      <td>22.5</td>\n",
       "      <td>22.3</td>\n",
       "      <td>20.9</td>\n",
       "      <td>22.8</td>\n",
       "    </tr>\n",
       "    <tr>\n",
       "      <th>Sep</th>\n",
       "      <td>14.7</td>\n",
       "      <td>16.0</td>\n",
       "      <td>15.1</td>\n",
       "      <td>14.7</td>\n",
       "      <td>15.7</td>\n",
       "      <td>16.4</td>\n",
       "      <td>16.0</td>\n",
       "      <td>16.2</td>\n",
       "      <td>16.9</td>\n",
       "      <td>16.7</td>\n",
       "      <td>18.6</td>\n",
       "      <td>20.3</td>\n",
       "      <td>19.3</td>\n",
       "      <td>18.3</td>\n",
       "      <td>19.9</td>\n",
       "    </tr>\n",
       "    <tr>\n",
       "      <th>Oct</th>\n",
       "      <td>10.4</td>\n",
       "      <td>11.4</td>\n",
       "      <td>9.5</td>\n",
       "      <td>12.0</td>\n",
       "      <td>11.6</td>\n",
       "      <td>12.2</td>\n",
       "      <td>11.0</td>\n",
       "      <td>11.2</td>\n",
       "      <td>11.4</td>\n",
       "      <td>11.4</td>\n",
       "      <td>13.8</td>\n",
       "      <td>16.0</td>\n",
       "      <td>14.6</td>\n",
       "      <td>13.3</td>\n",
       "      <td>15.0</td>\n",
       "    </tr>\n",
       "    <tr>\n",
       "      <th>Nov</th>\n",
       "      <td>6.1</td>\n",
       "      <td>7.1</td>\n",
       "      <td>4.9</td>\n",
       "      <td>9.0</td>\n",
       "      <td>7.8</td>\n",
       "      <td>8.2</td>\n",
       "      <td>6.6</td>\n",
       "      <td>6.6</td>\n",
       "      <td>6.7</td>\n",
       "      <td>6.5</td>\n",
       "      <td>9.1</td>\n",
       "      <td>11.5</td>\n",
       "      <td>10.0</td>\n",
       "      <td>8.6</td>\n",
       "      <td>10.2</td>\n",
       "    </tr>\n",
       "    <tr>\n",
       "      <th>Dec</th>\n",
       "      <td>3.5</td>\n",
       "      <td>4.3</td>\n",
       "      <td>1.3</td>\n",
       "      <td>7.0</td>\n",
       "      <td>5.4</td>\n",
       "      <td>5.5</td>\n",
       "      <td>3.4</td>\n",
       "      <td>3.6</td>\n",
       "      <td>3.1</td>\n",
       "      <td>2.3</td>\n",
       "      <td>6.2</td>\n",
       "      <td>8.2</td>\n",
       "      <td>6.5</td>\n",
       "      <td>5.5</td>\n",
       "      <td>6.9</td>\n",
       "    </tr>\n",
       "  </tbody>\n",
       "</table>\n",
       "</div>"
      ],
      "text/plain": [
       "City  Lille  Paris  Strasbourg  Brest  Rennes  Nantes  Vichy  Clermont  Lyon  \\\n",
       "Jan     2.4    3.4         0.4    6.1     4.8     5.0    2.4       2.6   2.1   \n",
       "Feb     2.9    4.1         1.5    5.8     5.3     5.3    3.4       3.7   3.3   \n",
       "Mar     6.0    7.6         5.6    7.8     7.9     8.4    7.1       7.5   7.7   \n",
       "Apr     8.9   10.7         9.8    9.2    10.1    10.8    9.9      10.3  10.9   \n",
       "May    12.4   14.3        14.0   11.6    13.1    13.9   13.6      13.8  14.9   \n",
       "Jun    15.3   17.5        17.2   14.4    16.2    17.2   17.1      17.3  18.5   \n",
       "Jul    17.1   19.1        19.0   15.6    17.9    18.8   19.3      19.4  20.7   \n",
       "Aug    17.1   18.7        18.3   16.0    17.8    18.6   18.8      19.1  20.1   \n",
       "Sep    14.7   16.0        15.1   14.7    15.7    16.4   16.0      16.2  16.9   \n",
       "Oct    10.4   11.4         9.5   12.0    11.6    12.2   11.0      11.2  11.4   \n",
       "Nov     6.1    7.1         4.9    9.0     7.8     8.2    6.6       6.6   6.7   \n",
       "Dec     3.5    4.3         1.3    7.0     5.4     5.5    3.4       3.6   3.1   \n",
       "\n",
       "City  Grenoble  Bordeaux  Nice  Montpellier  Toulouse  Marseille  \n",
       "Jan        1.5       5.6   7.5          5.6       4.7        5.5  \n",
       "Feb        3.2       6.6   8.5          6.7       5.6        6.6  \n",
       "Mar        7.7      10.3  10.8          9.9       9.2       10.0  \n",
       "Apr       10.6      12.8  13.3         12.8      11.6       13.0  \n",
       "May       14.5      15.8  16.7         16.2      14.9       16.8  \n",
       "Jun       17.8      19.3  20.1         20.1      18.7       20.8  \n",
       "Jul       20.1      20.9  22.7         22.7      20.9       23.3  \n",
       "Aug       19.5      21.0  22.5         22.3      20.9       22.8  \n",
       "Sep       16.7      18.6  20.3         19.3      18.3       19.9  \n",
       "Oct       11.4      13.8  16.0         14.6      13.3       15.0  \n",
       "Nov        6.5       9.1  11.5         10.0       8.6       10.2  \n",
       "Dec        2.3       6.2   8.2          6.5       5.5        6.9  "
      ]
     },
     "execution_count": 277,
     "metadata": {},
     "output_type": "execute_result"
    }
   ],
   "source": [
    "city_temp = french_cities.iloc[:,:12].transpose()\n",
    "city_temp"
   ]
  },
  {
   "cell_type": "code",
   "execution_count": 278,
   "metadata": {
    "slideshow": {
     "slide_type": "slide"
    }
   },
   "outputs": [
    {
     "data": {
      "image/png": "[encoded data removed]",
      "text/plain": [
       "<matplotlib.figure.Figure at 0x1134e4390>"
      ]
     },
     "metadata": {
      "image/png": {
       "height": 396,
       "width": 534
      }
     },
     "output_type": "display_data"
    }
   ],
   "source": [
    "city_temp.boxplot(rot=90);"
   ]
  },
  {
   "cell_type": "markdown",
   "metadata": {
    "slideshow": {
     "slide_type": "slide"
    }
   },
   "source": [
    "# Describing"
   ]
  },
  {
   "cell_type": "code",
   "execution_count": 279,
   "metadata": {
    "slideshow": {
     "slide_type": "fragment"
    }
   },
   "outputs": [
    {
     "data": {
      "text/plain": [
       "count     15\n",
       "unique     4\n",
       "top       SE\n",
       "freq       7\n",
       "Name: Région, dtype: object"
      ]
     },
     "execution_count": 279,
     "metadata": {},
     "output_type": "execute_result"
    }
   ],
   "source": [
    "french_cities['Région'].describe()"
   ]
  },
  {
   "cell_type": "code",
   "execution_count": 280,
   "metadata": {
    "slideshow": {
     "slide_type": "fragment"
    }
   },
   "outputs": [
    {
     "data": {
      "text/plain": [
       "array(['NE', 'NO', 'SE', 'SO'], dtype=object)"
      ]
     },
     "execution_count": 280,
     "metadata": {},
     "output_type": "execute_result"
    }
   ],
   "source": [
    "french_cities['Région'].unique()"
   ]
  },
  {
   "cell_type": "code",
   "execution_count": 281,
   "metadata": {
    "slideshow": {
     "slide_type": "fragment"
    }
   },
   "outputs": [
    {
     "data": {
      "text/plain": [
       "SE    7\n",
       "NO    3\n",
       "NE    3\n",
       "SO    2\n",
       "Name: Région, dtype: int64"
      ]
     },
     "execution_count": 281,
     "metadata": {},
     "output_type": "execute_result"
    }
   ],
   "source": [
    "french_cities['Région'].value_counts()"
   ]
  },
  {
   "cell_type": "code",
   "execution_count": 282,
   "metadata": {
    "collapsed": true,
    "slideshow": {
     "slide_type": "fragment"
    }
   },
   "outputs": [],
   "source": [
    "# To save memory, we can convert it to a categorical column:\n",
    "french_cities[\"Région\"] = french_cities[\"Région\"].astype(\"category\")"
   ]
  },
  {
   "cell_type": "code",
   "execution_count": 283,
   "metadata": {
    "slideshow": {
     "slide_type": "skip"
    }
   },
   "outputs": [
    {
     "data": {
      "text/plain": [
       "Index     760\n",
       "Jan       120\n",
       "Feb       120\n",
       "Mar       120\n",
       "Apr       120\n",
       "May       120\n",
       "Jun       120\n",
       "Jul       120\n",
       "Aug       120\n",
       "Sep       120\n",
       "Oct       120\n",
       "Nov       120\n",
       "Dec       120\n",
       "Lati      120\n",
       "Long      120\n",
       "Moye      120\n",
       "Ampl      120\n",
       "Région    207\n",
       "dtype: int64"
      ]
     },
     "execution_count": 283,
     "metadata": {},
     "output_type": "execute_result"
    }
   ],
   "source": [
    "french_cities.memory_usage()"
   ]
  },
  {
   "cell_type": "markdown",
   "metadata": {
    "slideshow": {
     "slide_type": "slide"
    }
   },
   "source": [
    "# Data Aggregation/summarization\n",
    "\n",
    "## groupby"
   ]
  },
  {
   "cell_type": "code",
   "execution_count": 284,
   "metadata": {
    "slideshow": {
     "slide_type": "fragment"
    }
   },
   "outputs": [
    {
     "data": {
      "text/plain": [
       "pandas.core.groupby.DataFrameGroupBy"
      ]
     },
     "execution_count": 284,
     "metadata": {},
     "output_type": "execute_result"
    }
   ],
   "source": [
    "fc_grouped_region = french_cities.groupby(\"Région\")\n",
    "type(fc_grouped_region)"
   ]
  },
  {
   "cell_type": "code",
   "execution_count": 285,
   "metadata": {
    "slideshow": {
     "slide_type": "fragment"
    }
   },
   "outputs": [
    {
     "name": "stdout",
     "output_type": "stream",
     "text": [
      "NE\n",
      "            Jan  Feb  Mar   Apr   May   Jun   Jul   Aug   Sep   Oct  Nov  Dec  \\\n",
      "City                                                                            \n",
      "Lille       2.4  2.9  6.0   8.9  12.4  15.3  17.1  17.1  14.7  10.4  6.1  3.5   \n",
      "Paris       3.4  4.1  7.6  10.7  14.3  17.5  19.1  18.7  16.0  11.4  7.1  4.3   \n",
      "Strasbourg  0.4  1.5  5.6   9.8  14.0  17.2  19.0  18.3  15.1   9.5  4.9  1.3   \n",
      "\n",
      "             Lati  Long   Moye  Ampl Région  \n",
      "City                                         \n",
      "Lille       50.38  3.04   9.73  14.7     NE  \n",
      "Paris       48.52  2.20  11.18  15.7     NE  \n",
      "Strasbourg  48.35  7.45   9.72  18.6     NE  \n",
      "\n",
      "NO\n",
      "        Jan  Feb  Mar   Apr   May   Jun   Jul   Aug   Sep   Oct  Nov  Dec  \\\n",
      "City                                                                        \n",
      "Brest   6.1  5.8  7.8   9.2  11.6  14.4  15.6  16.0  14.7  12.0  9.0  7.0   \n",
      "Rennes  4.8  5.3  7.9  10.1  13.1  16.2  17.9  17.8  15.7  11.6  7.8  5.4   \n",
      "Nantes  5.0  5.3  8.4  10.8  13.9  17.2  18.8  18.6  16.4  12.2  8.2  5.5   \n",
      "\n",
      "         Lati  Long   Moye  Ampl Région  \n",
      "City                                     \n",
      "Brest   48.24 -4.29  10.77  10.2     NO  \n",
      "Rennes  48.05 -1.41  11.13  13.1     NO  \n",
      "Nantes  47.13 -1.33  11.69  13.8     NO  \n",
      "\n",
      "SE\n",
      "             Jan  Feb   Mar   Apr   May   Jun   Jul   Aug   Sep   Oct   Nov  \\\n",
      "City                                                                          \n",
      "Vichy        2.4  3.4   7.1   9.9  13.6  17.1  19.3  18.8  16.0  11.0   6.6   \n",
      "Clermont     2.6  3.7   7.5  10.3  13.8  17.3  19.4  19.1  16.2  11.2   6.6   \n",
      "Lyon         2.1  3.3   7.7  10.9  14.9  18.5  20.7  20.1  16.9  11.4   6.7   \n",
      "Grenoble     1.5  3.2   7.7  10.6  14.5  17.8  20.1  19.5  16.7  11.4   6.5   \n",
      "Nice         7.5  8.5  10.8  13.3  16.7  20.1  22.7  22.5  20.3  16.0  11.5   \n",
      "Montpellier  5.6  6.7   9.9  12.8  16.2  20.1  22.7  22.3  19.3  14.6  10.0   \n",
      "Marseille    5.5  6.6  10.0  13.0  16.8  20.8  23.3  22.8  19.9  15.0  10.2   \n",
      "\n",
      "             Dec   Lati  Long   Moye  Ampl Région  \n",
      "City                                               \n",
      "Vichy        3.4  46.08  3.26  10.72  16.9     SE  \n",
      "Clermont     3.6  45.47  3.05  10.94  16.8     SE  \n",
      "Lyon         3.1  45.45  4.51  11.36  18.6     SE  \n",
      "Grenoble     2.3  45.10  5.43  10.98  18.6     SE  \n",
      "Nice         8.2  43.42  7.15  14.84  15.2     SE  \n",
      "Montpellier  6.5  43.36  3.53  13.89  17.1     SE  \n",
      "Marseille    6.9  43.18  5.24  14.23  17.8     SE  \n",
      "\n",
      "SO\n",
      "          Jan  Feb   Mar   Apr   May   Jun   Jul   Aug   Sep   Oct  Nov  Dec  \\\n",
      "City                                                                           \n",
      "Bordeaux  5.6  6.6  10.3  12.8  15.8  19.3  20.9  21.0  18.6  13.8  9.1  6.2   \n",
      "Toulouse  4.7  5.6   9.2  11.6  14.9  18.7  20.9  20.9  18.3  13.3  8.6  5.5   \n",
      "\n",
      "           Lati  Long   Moye  Ampl Région  \n",
      "City                                       \n",
      "Bordeaux  44.50 -0.34  13.33  15.4     SO  \n",
      "Toulouse  43.36  1.26  12.68  16.2     SO  \n",
      "\n"
     ]
    }
   ],
   "source": [
    "for group_name, subdf in fc_grouped_region:\n",
    "    print(group_name)\n",
    "    print(subdf)\n",
    "    print(\"\")"
   ]
  },
  {
   "cell_type": "markdown",
   "metadata": {
    "slideshow": {
     "slide_type": "slide"
    }
   },
   "source": [
    "## Transferring R data sets into Python"
   ]
  },
  {
   "cell_type": "code",
   "execution_count": 286,
   "metadata": {
    "slideshow": {
     "slide_type": "fragment"
    }
   },
   "outputs": [
    {
     "name": "stdout",
     "output_type": "stream",
     "text": [
      "The rpy2.ipython extension is already loaded. To reload it, use:\n",
      "  %reload_ext rpy2.ipython\n"
     ]
    }
   ],
   "source": [
    "%load_ext rpy2.ipython"
   ]
  },
  {
   "cell_type": "markdown",
   "metadata": {
    "slideshow": {
     "slide_type": "fragment"
    }
   },
   "source": [
    "- conversions of R to pandas objects will be done automatically"
   ]
  },
  {
   "cell_type": "code",
   "execution_count": 287,
   "metadata": {
    "collapsed": true,
    "slideshow": {
     "slide_type": "fragment"
    }
   },
   "outputs": [],
   "source": [
    "from rpy2.robjects import r, pandas2ri\n",
    "\n",
    "pandas2ri.activate()\n",
    "r.library('missMDA')\n",
    "r.data('orange')\n",
    "orange = r('orange')"
   ]
  },
  {
   "cell_type": "code",
   "execution_count": 288,
   "metadata": {
    "slideshow": {
     "slide_type": "slide"
    }
   },
   "outputs": [
    {
     "data": {
      "text/html": [
       "<div>\n",
       "<style>\n",
       "    .dataframe thead tr:only-child th {\n",
       "        text-align: right;\n",
       "    }\n",
       "\n",
       "    .dataframe thead th {\n",
       "        text-align: left;\n",
       "    }\n",
       "\n",
       "    .dataframe tbody tr th {\n",
       "        vertical-align: top;\n",
       "    }\n",
       "</style>\n",
       "<table border=\"1\" class=\"dataframe\">\n",
       "  <thead>\n",
       "    <tr style=\"text-align: right;\">\n",
       "      <th></th>\n",
       "      <th>Color.intensity</th>\n",
       "      <th>Odor.intensity</th>\n",
       "      <th>Attack.intensity</th>\n",
       "      <th>Sweet</th>\n",
       "      <th>Acid</th>\n",
       "      <th>Bitter</th>\n",
       "      <th>Pulp</th>\n",
       "      <th>Typicity</th>\n",
       "    </tr>\n",
       "  </thead>\n",
       "  <tbody>\n",
       "    <tr>\n",
       "      <th>1</th>\n",
       "      <td>4.791667</td>\n",
       "      <td>5.291667</td>\n",
       "      <td>NaN</td>\n",
       "      <td>NaN</td>\n",
       "      <td>NaN</td>\n",
       "      <td>2.833333</td>\n",
       "      <td>NaN</td>\n",
       "      <td>5.208333</td>\n",
       "    </tr>\n",
       "    <tr>\n",
       "      <th>2</th>\n",
       "      <td>4.583333</td>\n",
       "      <td>6.041667</td>\n",
       "      <td>4.416667</td>\n",
       "      <td>5.458333</td>\n",
       "      <td>4.125000</td>\n",
       "      <td>3.541667</td>\n",
       "      <td>4.625000</td>\n",
       "      <td>4.458333</td>\n",
       "    </tr>\n",
       "    <tr>\n",
       "      <th>3</th>\n",
       "      <td>4.708333</td>\n",
       "      <td>5.333333</td>\n",
       "      <td>NaN</td>\n",
       "      <td>NaN</td>\n",
       "      <td>4.291667</td>\n",
       "      <td>3.166667</td>\n",
       "      <td>6.250000</td>\n",
       "      <td>5.166667</td>\n",
       "    </tr>\n",
       "    <tr>\n",
       "      <th>4</th>\n",
       "      <td>6.583333</td>\n",
       "      <td>6.000000</td>\n",
       "      <td>7.416667</td>\n",
       "      <td>4.166667</td>\n",
       "      <td>6.750000</td>\n",
       "      <td>NaN</td>\n",
       "      <td>1.416667</td>\n",
       "      <td>3.416667</td>\n",
       "    </tr>\n",
       "    <tr>\n",
       "      <th>5</th>\n",
       "      <td>NaN</td>\n",
       "      <td>6.166667</td>\n",
       "      <td>5.333333</td>\n",
       "      <td>4.083333</td>\n",
       "      <td>NaN</td>\n",
       "      <td>4.375000</td>\n",
       "      <td>3.416667</td>\n",
       "      <td>4.416667</td>\n",
       "    </tr>\n",
       "    <tr>\n",
       "      <th>6</th>\n",
       "      <td>6.333333</td>\n",
       "      <td>5.000000</td>\n",
       "      <td>5.375000</td>\n",
       "      <td>5.000000</td>\n",
       "      <td>5.500000</td>\n",
       "      <td>3.625000</td>\n",
       "      <td>4.208333</td>\n",
       "      <td>4.875000</td>\n",
       "    </tr>\n",
       "    <tr>\n",
       "      <th>7</th>\n",
       "      <td>4.291667</td>\n",
       "      <td>4.916667</td>\n",
       "      <td>5.291667</td>\n",
       "      <td>5.541667</td>\n",
       "      <td>5.250000</td>\n",
       "      <td>NaN</td>\n",
       "      <td>1.291667</td>\n",
       "      <td>4.333333</td>\n",
       "    </tr>\n",
       "    <tr>\n",
       "      <th>8</th>\n",
       "      <td>NaN</td>\n",
       "      <td>4.541667</td>\n",
       "      <td>4.833333</td>\n",
       "      <td>NaN</td>\n",
       "      <td>4.958333</td>\n",
       "      <td>2.916667</td>\n",
       "      <td>1.541667</td>\n",
       "      <td>3.958333</td>\n",
       "    </tr>\n",
       "    <tr>\n",
       "      <th>9</th>\n",
       "      <td>4.416667</td>\n",
       "      <td>NaN</td>\n",
       "      <td>5.166667</td>\n",
       "      <td>4.625000</td>\n",
       "      <td>5.041667</td>\n",
       "      <td>3.666667</td>\n",
       "      <td>1.541667</td>\n",
       "      <td>3.958333</td>\n",
       "    </tr>\n",
       "    <tr>\n",
       "      <th>10</th>\n",
       "      <td>4.541667</td>\n",
       "      <td>4.291667</td>\n",
       "      <td>NaN</td>\n",
       "      <td>5.791667</td>\n",
       "      <td>4.375000</td>\n",
       "      <td>NaN</td>\n",
       "      <td>NaN</td>\n",
       "      <td>5.000000</td>\n",
       "    </tr>\n",
       "    <tr>\n",
       "      <th>11</th>\n",
       "      <td>4.083333</td>\n",
       "      <td>5.125000</td>\n",
       "      <td>3.916667</td>\n",
       "      <td>NaN</td>\n",
       "      <td>NaN</td>\n",
       "      <td>NaN</td>\n",
       "      <td>7.333333</td>\n",
       "      <td>5.250000</td>\n",
       "    </tr>\n",
       "    <tr>\n",
       "      <th>12</th>\n",
       "      <td>6.500000</td>\n",
       "      <td>5.875000</td>\n",
       "      <td>6.125000</td>\n",
       "      <td>4.875000</td>\n",
       "      <td>5.291667</td>\n",
       "      <td>4.166667</td>\n",
       "      <td>1.500000</td>\n",
       "      <td>3.500000</td>\n",
       "    </tr>\n",
       "  </tbody>\n",
       "</table>\n",
       "</div>"
      ],
      "text/plain": [
       "    Color.intensity  Odor.intensity  Attack.intensity     Sweet      Acid  \\\n",
       "1          4.791667        5.291667               NaN       NaN       NaN   \n",
       "2          4.583333        6.041667          4.416667  5.458333  4.125000   \n",
       "3          4.708333        5.333333               NaN       NaN  4.291667   \n",
       "4          6.583333        6.000000          7.416667  4.166667  6.750000   \n",
       "5               NaN        6.166667          5.333333  4.083333       NaN   \n",
       "6          6.333333        5.000000          5.375000  5.000000  5.500000   \n",
       "7          4.291667        4.916667          5.291667  5.541667  5.250000   \n",
       "8               NaN        4.541667          4.833333       NaN  4.958333   \n",
       "9          4.416667             NaN          5.166667  4.625000  5.041667   \n",
       "10         4.541667        4.291667               NaN  5.791667  4.375000   \n",
       "11         4.083333        5.125000          3.916667       NaN       NaN   \n",
       "12         6.500000        5.875000          6.125000  4.875000  5.291667   \n",
       "\n",
       "      Bitter      Pulp  Typicity  \n",
       "1   2.833333       NaN  5.208333  \n",
       "2   3.541667  4.625000  4.458333  \n",
       "3   3.166667  6.250000  5.166667  \n",
       "4        NaN  1.416667  3.416667  \n",
       "5   4.375000  3.416667  4.416667  \n",
       "6   3.625000  4.208333  4.875000  \n",
       "7        NaN  1.291667  4.333333  \n",
       "8   2.916667  1.541667  3.958333  \n",
       "9   3.666667  1.541667  3.958333  \n",
       "10       NaN       NaN  5.000000  \n",
       "11       NaN  7.333333  5.250000  \n",
       "12  4.166667  1.500000  3.500000  "
      ]
     },
     "execution_count": 288,
     "metadata": {},
     "output_type": "execute_result"
    }
   ],
   "source": [
    "orange"
   ]
  },
  {
   "cell_type": "code",
   "execution_count": 289,
   "metadata": {
    "slideshow": {
     "slide_type": "slide"
    }
   },
   "outputs": [
    {
     "data": {
      "text/plain": [
       "$ncp\n",
       "[1] 2\n",
       "\n",
       "$criterion\n",
       "        0         1         2         3         4         5 \n",
       "1.0388714 0.9279948 0.5976727 0.7855501 2.0250470 2.6741735 \n",
       "\n"
      ]
     },
     "metadata": {},
     "output_type": "display_data"
    }
   ],
   "source": [
    "%%R\n",
    "\n",
    "library('missMDA')\n",
    "data(orange)\n",
    "estim_ncpPCA(orange)"
   ]
  },
  {
   "cell_type": "code",
   "execution_count": 290,
   "metadata": {
    "slideshow": {
     "slide_type": "fragment"
    }
   },
   "outputs": [
    {
     "data": {
      "text/plain": [
       "(rpy2.robjects.vectors.ListVector,\n",
       " [rpy2.robjects.vectors.Matrix, rpy2.robjects.vectors.Matrix])"
      ]
     },
     "execution_count": 290,
     "metadata": {},
     "output_type": "execute_result"
    }
   ],
   "source": [
    "from rpy2.robjects.packages import importr\n",
    "\n",
    "miss_mda = importr('missMDA')\n",
    "res = miss_mda.imputePCA(orange,ncp=2)\n",
    "type(res), [type(elt) for elt in res]"
   ]
  },
  {
   "cell_type": "code",
   "execution_count": 291,
   "metadata": {
    "slideshow": {
     "slide_type": "slide"
    }
   },
   "outputs": [
    {
     "name": "stdout",
     "output_type": "stream",
     "text": [
      "   Color.intensity Odor.intensity Attack.intensity    Sweet     Acid   Bitter\n",
      "1         4.791667       5.291667         4.077034 5.527352 4.177564 2.833333\n",
      "2         4.583333       6.041667         4.416667 5.458333 4.125000 3.541667\n",
      "3         4.708333       5.333333         4.158054 5.442936 4.291667 3.166667\n",
      "4         6.583333       6.000000         7.416667 4.166667 6.750000 4.702509\n",
      "5         6.271605       6.166667         5.333333 4.083333 5.455805 4.375000\n",
      "6         6.333333       5.000000         5.375000 5.000000 5.500000 3.625000\n",
      "7         4.291667       4.916667         5.291667 5.541667 5.250000 3.214232\n",
      "8         4.460613       4.541667         4.833333 5.479128 4.958333 2.916667\n",
      "9         4.416667       5.136550         5.166667 4.625000 5.041667 3.666667\n",
      "10        4.541667       4.291667         4.176991 5.791667 4.375000 2.735255\n",
      "11        4.083333       5.125000         3.916667 5.703297 3.900164 2.815857\n",
      "12        6.500000       5.875000         6.125000 4.875000 5.291667 4.166667\n",
      "       Pulp Typicity\n",
      "1  5.711715 5.208333\n",
      "2  4.625000 4.458333\n",
      "3  6.250000 5.166667\n",
      "4  1.416667 3.416667\n",
      "5  3.416667 4.416667\n",
      "6  4.208333 4.875000\n",
      "7  1.291667 4.333333\n",
      "8  1.541667 3.958333\n",
      "9  1.541667 3.958333\n",
      "10 4.026062 5.000000\n",
      "11 7.333333 5.250000\n",
      "12 1.500000 3.500000\n",
      "\n"
     ]
    }
   ],
   "source": [
    "print(res[0])"
   ]
  },
  {
   "cell_type": "code",
   "execution_count": 292,
   "metadata": {
    "slideshow": {
     "slide_type": "slide"
    }
   },
   "outputs": [
    {
     "data": {
      "text/html": [
       "<div>\n",
       "<style>\n",
       "    .dataframe thead tr:only-child th {\n",
       "        text-align: right;\n",
       "    }\n",
       "\n",
       "    .dataframe thead th {\n",
       "        text-align: left;\n",
       "    }\n",
       "\n",
       "    .dataframe tbody tr th {\n",
       "        vertical-align: top;\n",
       "    }\n",
       "</style>\n",
       "<table border=\"1\" class=\"dataframe\">\n",
       "  <thead>\n",
       "    <tr style=\"text-align: right;\">\n",
       "      <th></th>\n",
       "      <th>Color.intensity</th>\n",
       "      <th>Odor.intensity</th>\n",
       "      <th>Attack.intensity</th>\n",
       "      <th>Sweet</th>\n",
       "      <th>Acid</th>\n",
       "      <th>Bitter</th>\n",
       "      <th>Pulp</th>\n",
       "      <th>Typicity</th>\n",
       "    </tr>\n",
       "  </thead>\n",
       "  <tbody>\n",
       "    <tr>\n",
       "      <th>0</th>\n",
       "      <td>4.791667</td>\n",
       "      <td>5.291667</td>\n",
       "      <td>4.077034</td>\n",
       "      <td>5.527352</td>\n",
       "      <td>4.177564</td>\n",
       "      <td>2.833333</td>\n",
       "      <td>5.711715</td>\n",
       "      <td>5.208333</td>\n",
       "    </tr>\n",
       "    <tr>\n",
       "      <th>1</th>\n",
       "      <td>4.583333</td>\n",
       "      <td>6.041667</td>\n",
       "      <td>4.416667</td>\n",
       "      <td>5.458333</td>\n",
       "      <td>4.125000</td>\n",
       "      <td>3.541667</td>\n",
       "      <td>4.625000</td>\n",
       "      <td>4.458333</td>\n",
       "    </tr>\n",
       "    <tr>\n",
       "      <th>2</th>\n",
       "      <td>4.708333</td>\n",
       "      <td>5.333333</td>\n",
       "      <td>4.158054</td>\n",
       "      <td>5.442936</td>\n",
       "      <td>4.291667</td>\n",
       "      <td>3.166667</td>\n",
       "      <td>6.250000</td>\n",
       "      <td>5.166667</td>\n",
       "    </tr>\n",
       "    <tr>\n",
       "      <th>3</th>\n",
       "      <td>6.583333</td>\n",
       "      <td>6.000000</td>\n",
       "      <td>7.416667</td>\n",
       "      <td>4.166667</td>\n",
       "      <td>6.750000</td>\n",
       "      <td>4.702509</td>\n",
       "      <td>1.416667</td>\n",
       "      <td>3.416667</td>\n",
       "    </tr>\n",
       "    <tr>\n",
       "      <th>4</th>\n",
       "      <td>6.271605</td>\n",
       "      <td>6.166667</td>\n",
       "      <td>5.333333</td>\n",
       "      <td>4.083333</td>\n",
       "      <td>5.455805</td>\n",
       "      <td>4.375000</td>\n",
       "      <td>3.416667</td>\n",
       "      <td>4.416667</td>\n",
       "    </tr>\n",
       "    <tr>\n",
       "      <th>5</th>\n",
       "      <td>6.333333</td>\n",
       "      <td>5.000000</td>\n",
       "      <td>5.375000</td>\n",
       "      <td>5.000000</td>\n",
       "      <td>5.500000</td>\n",
       "      <td>3.625000</td>\n",
       "      <td>4.208333</td>\n",
       "      <td>4.875000</td>\n",
       "    </tr>\n",
       "    <tr>\n",
       "      <th>6</th>\n",
       "      <td>4.291667</td>\n",
       "      <td>4.916667</td>\n",
       "      <td>5.291667</td>\n",
       "      <td>5.541667</td>\n",
       "      <td>5.250000</td>\n",
       "      <td>3.214232</td>\n",
       "      <td>1.291667</td>\n",
       "      <td>4.333333</td>\n",
       "    </tr>\n",
       "    <tr>\n",
       "      <th>7</th>\n",
       "      <td>4.460613</td>\n",
       "      <td>4.541667</td>\n",
       "      <td>4.833333</td>\n",
       "      <td>5.479128</td>\n",
       "      <td>4.958333</td>\n",
       "      <td>2.916667</td>\n",
       "      <td>1.541667</td>\n",
       "      <td>3.958333</td>\n",
       "    </tr>\n",
       "    <tr>\n",
       "      <th>8</th>\n",
       "      <td>4.416667</td>\n",
       "      <td>5.136550</td>\n",
       "      <td>5.166667</td>\n",
       "      <td>4.625000</td>\n",
       "      <td>5.041667</td>\n",
       "      <td>3.666667</td>\n",
       "      <td>1.541667</td>\n",
       "      <td>3.958333</td>\n",
       "    </tr>\n",
       "    <tr>\n",
       "      <th>9</th>\n",
       "      <td>4.541667</td>\n",
       "      <td>4.291667</td>\n",
       "      <td>4.176991</td>\n",
       "      <td>5.791667</td>\n",
       "      <td>4.375000</td>\n",
       "      <td>2.735255</td>\n",
       "      <td>4.026062</td>\n",
       "      <td>5.000000</td>\n",
       "    </tr>\n",
       "    <tr>\n",
       "      <th>10</th>\n",
       "      <td>4.083333</td>\n",
       "      <td>5.125000</td>\n",
       "      <td>3.916667</td>\n",
       "      <td>5.703297</td>\n",
       "      <td>3.900164</td>\n",
       "      <td>2.815857</td>\n",
       "      <td>7.333333</td>\n",
       "      <td>5.250000</td>\n",
       "    </tr>\n",
       "    <tr>\n",
       "      <th>11</th>\n",
       "      <td>6.500000</td>\n",
       "      <td>5.875000</td>\n",
       "      <td>6.125000</td>\n",
       "      <td>4.875000</td>\n",
       "      <td>5.291667</td>\n",
       "      <td>4.166667</td>\n",
       "      <td>1.500000</td>\n",
       "      <td>3.500000</td>\n",
       "    </tr>\n",
       "  </tbody>\n",
       "</table>\n",
       "</div>"
      ],
      "text/plain": [
       "    Color.intensity  Odor.intensity  Attack.intensity     Sweet      Acid  \\\n",
       "0          4.791667        5.291667          4.077034  5.527352  4.177564   \n",
       "1          4.583333        6.041667          4.416667  5.458333  4.125000   \n",
       "2          4.708333        5.333333          4.158054  5.442936  4.291667   \n",
       "3          6.583333        6.000000          7.416667  4.166667  6.750000   \n",
       "4          6.271605        6.166667          5.333333  4.083333  5.455805   \n",
       "5          6.333333        5.000000          5.375000  5.000000  5.500000   \n",
       "6          4.291667        4.916667          5.291667  5.541667  5.250000   \n",
       "7          4.460613        4.541667          4.833333  5.479128  4.958333   \n",
       "8          4.416667        5.136550          5.166667  4.625000  5.041667   \n",
       "9          4.541667        4.291667          4.176991  5.791667  4.375000   \n",
       "10         4.083333        5.125000          3.916667  5.703297  3.900164   \n",
       "11         6.500000        5.875000          6.125000  4.875000  5.291667   \n",
       "\n",
       "      Bitter      Pulp  Typicity  \n",
       "0   2.833333  5.711715  5.208333  \n",
       "1   3.541667  4.625000  4.458333  \n",
       "2   3.166667  6.250000  5.166667  \n",
       "3   4.702509  1.416667  3.416667  \n",
       "4   4.375000  3.416667  4.416667  \n",
       "5   3.625000  4.208333  4.875000  \n",
       "6   3.214232  1.291667  4.333333  \n",
       "7   2.916667  1.541667  3.958333  \n",
       "8   3.666667  1.541667  3.958333  \n",
       "9   2.735255  4.026062  5.000000  \n",
       "10  2.815857  7.333333  5.250000  \n",
       "11  4.166667  1.500000  3.500000  "
      ]
     },
     "execution_count": 292,
     "metadata": {},
     "output_type": "execute_result"
    }
   ],
   "source": [
    "orange = pandas2ri.ri2py_dataframe(res[0])\n",
    "orange.columns = res[0].colnames\n",
    "orange"
   ]
  },
  {
   "cell_type": "code",
   "execution_count": 293,
   "metadata": {
    "slideshow": {
     "slide_type": "slide"
    }
   },
   "outputs": [
    {
     "data": {
      "text/html": [
       "<div>\n",
       "<style>\n",
       "    .dataframe thead tr:only-child th {\n",
       "        text-align: right;\n",
       "    }\n",
       "\n",
       "    .dataframe thead th {\n",
       "        text-align: left;\n",
       "    }\n",
       "\n",
       "    .dataframe tbody tr th {\n",
       "        vertical-align: top;\n",
       "    }\n",
       "</style>\n",
       "<table border=\"1\" class=\"dataframe\">\n",
       "  <thead>\n",
       "    <tr style=\"text-align: right;\">\n",
       "      <th></th>\n",
       "      <th>Color.intensity</th>\n",
       "      <th>Odor.intensity</th>\n",
       "      <th>Attack.intensity</th>\n",
       "      <th>Sweet</th>\n",
       "      <th>Acid</th>\n",
       "      <th>Bitter</th>\n",
       "      <th>Pulp</th>\n",
       "      <th>Typicity</th>\n",
       "    </tr>\n",
       "  </thead>\n",
       "  <tbody>\n",
       "    <tr>\n",
       "      <th>1</th>\n",
       "      <td>4.791667</td>\n",
       "      <td>5.291667</td>\n",
       "      <td>4.077034</td>\n",
       "      <td>5.527352</td>\n",
       "      <td>4.177564</td>\n",
       "      <td>2.833333</td>\n",
       "      <td>5.711715</td>\n",
       "      <td>5.208333</td>\n",
       "    </tr>\n",
       "    <tr>\n",
       "      <th>2</th>\n",
       "      <td>4.583333</td>\n",
       "      <td>6.041667</td>\n",
       "      <td>4.416667</td>\n",
       "      <td>5.458333</td>\n",
       "      <td>4.125000</td>\n",
       "      <td>3.541667</td>\n",
       "      <td>4.625000</td>\n",
       "      <td>4.458333</td>\n",
       "    </tr>\n",
       "    <tr>\n",
       "      <th>3</th>\n",
       "      <td>4.708333</td>\n",
       "      <td>5.333333</td>\n",
       "      <td>4.158054</td>\n",
       "      <td>5.442936</td>\n",
       "      <td>4.291667</td>\n",
       "      <td>3.166667</td>\n",
       "      <td>6.250000</td>\n",
       "      <td>5.166667</td>\n",
       "    </tr>\n",
       "    <tr>\n",
       "      <th>4</th>\n",
       "      <td>6.583333</td>\n",
       "      <td>6.000000</td>\n",
       "      <td>7.416667</td>\n",
       "      <td>4.166667</td>\n",
       "      <td>6.750000</td>\n",
       "      <td>4.702509</td>\n",
       "      <td>1.416667</td>\n",
       "      <td>3.416667</td>\n",
       "    </tr>\n",
       "    <tr>\n",
       "      <th>5</th>\n",
       "      <td>6.271605</td>\n",
       "      <td>6.166667</td>\n",
       "      <td>5.333333</td>\n",
       "      <td>4.083333</td>\n",
       "      <td>5.455805</td>\n",
       "      <td>4.375000</td>\n",
       "      <td>3.416667</td>\n",
       "      <td>4.416667</td>\n",
       "    </tr>\n",
       "    <tr>\n",
       "      <th>6</th>\n",
       "      <td>6.333333</td>\n",
       "      <td>5.000000</td>\n",
       "      <td>5.375000</td>\n",
       "      <td>5.000000</td>\n",
       "      <td>5.500000</td>\n",
       "      <td>3.625000</td>\n",
       "      <td>4.208333</td>\n",
       "      <td>4.875000</td>\n",
       "    </tr>\n",
       "    <tr>\n",
       "      <th>7</th>\n",
       "      <td>4.291667</td>\n",
       "      <td>4.916667</td>\n",
       "      <td>5.291667</td>\n",
       "      <td>5.541667</td>\n",
       "      <td>5.250000</td>\n",
       "      <td>3.214232</td>\n",
       "      <td>1.291667</td>\n",
       "      <td>4.333333</td>\n",
       "    </tr>\n",
       "    <tr>\n",
       "      <th>8</th>\n",
       "      <td>4.460613</td>\n",
       "      <td>4.541667</td>\n",
       "      <td>4.833333</td>\n",
       "      <td>5.479128</td>\n",
       "      <td>4.958333</td>\n",
       "      <td>2.916667</td>\n",
       "      <td>1.541667</td>\n",
       "      <td>3.958333</td>\n",
       "    </tr>\n",
       "    <tr>\n",
       "      <th>9</th>\n",
       "      <td>4.416667</td>\n",
       "      <td>5.136550</td>\n",
       "      <td>5.166667</td>\n",
       "      <td>4.625000</td>\n",
       "      <td>5.041667</td>\n",
       "      <td>3.666667</td>\n",
       "      <td>1.541667</td>\n",
       "      <td>3.958333</td>\n",
       "    </tr>\n",
       "    <tr>\n",
       "      <th>10</th>\n",
       "      <td>4.541667</td>\n",
       "      <td>4.291667</td>\n",
       "      <td>4.176991</td>\n",
       "      <td>5.791667</td>\n",
       "      <td>4.375000</td>\n",
       "      <td>2.735255</td>\n",
       "      <td>4.026062</td>\n",
       "      <td>5.000000</td>\n",
       "    </tr>\n",
       "    <tr>\n",
       "      <th>11</th>\n",
       "      <td>4.083333</td>\n",
       "      <td>5.125000</td>\n",
       "      <td>3.916667</td>\n",
       "      <td>5.703297</td>\n",
       "      <td>3.900164</td>\n",
       "      <td>2.815857</td>\n",
       "      <td>7.333333</td>\n",
       "      <td>5.250000</td>\n",
       "    </tr>\n",
       "    <tr>\n",
       "      <th>12</th>\n",
       "      <td>6.500000</td>\n",
       "      <td>5.875000</td>\n",
       "      <td>6.125000</td>\n",
       "      <td>4.875000</td>\n",
       "      <td>5.291667</td>\n",
       "      <td>4.166667</td>\n",
       "      <td>1.500000</td>\n",
       "      <td>3.500000</td>\n",
       "    </tr>\n",
       "  </tbody>\n",
       "</table>\n",
       "</div>"
      ],
      "text/plain": [
       "    Color.intensity  Odor.intensity  Attack.intensity     Sweet      Acid  \\\n",
       "1          4.791667        5.291667          4.077034  5.527352  4.177564   \n",
       "2          4.583333        6.041667          4.416667  5.458333  4.125000   \n",
       "3          4.708333        5.333333          4.158054  5.442936  4.291667   \n",
       "4          6.583333        6.000000          7.416667  4.166667  6.750000   \n",
       "5          6.271605        6.166667          5.333333  4.083333  5.455805   \n",
       "6          6.333333        5.000000          5.375000  5.000000  5.500000   \n",
       "7          4.291667        4.916667          5.291667  5.541667  5.250000   \n",
       "8          4.460613        4.541667          4.833333  5.479128  4.958333   \n",
       "9          4.416667        5.136550          5.166667  4.625000  5.041667   \n",
       "10         4.541667        4.291667          4.176991  5.791667  4.375000   \n",
       "11         4.083333        5.125000          3.916667  5.703297  3.900164   \n",
       "12         6.500000        5.875000          6.125000  4.875000  5.291667   \n",
       "\n",
       "      Bitter      Pulp  Typicity  \n",
       "1   2.833333  5.711715  5.208333  \n",
       "2   3.541667  4.625000  4.458333  \n",
       "3   3.166667  6.250000  5.166667  \n",
       "4   4.702509  1.416667  3.416667  \n",
       "5   4.375000  3.416667  4.416667  \n",
       "6   3.625000  4.208333  4.875000  \n",
       "7   3.214232  1.291667  4.333333  \n",
       "8   2.916667  1.541667  3.958333  \n",
       "9   3.666667  1.541667  3.958333  \n",
       "10  2.735255  4.026062  5.000000  \n",
       "11  2.815857  7.333333  5.250000  \n",
       "12  4.166667  1.500000  3.500000  "
      ]
     },
     "execution_count": 293,
     "metadata": {},
     "output_type": "execute_result"
    }
   ],
   "source": [
    "r('library(missMDA)')\n",
    "r('df <- imputePCA(orange,ncp=2) ')\n",
    "r('res <- as.data.frame(df$completeObs)')\n",
    "orange = r('res')\n",
    "orange"
   ]
  },
  {
   "cell_type": "code",
   "execution_count": 294,
   "metadata": {
    "slideshow": {
     "slide_type": "fragment"
    }
   },
   "outputs": [
    {
     "data": {
      "text/plain": [
       "<toyplot.mark.Plot at 0x115463898>"
      ]
     },
     "execution_count": 294,
     "metadata": {},
     "output_type": "execute_result"
    },
    {
     "data": {
      "text/html": [
       "<div class=\"toyplot\" id=\"t6b3f926849244fe6a61b0773d68a5c71\" style=\"text-align:center\"><svg class=\"toyplot-canvas-Canvas\" height=\"480.0px\" id=\"te9dd900818a74d52853f9059480c23e4\" preserveAspectRatio=\"xMidYMid meet\" style=\"background-color:transparent;fill:rgb(16.1%,15.3%,14.1%);fill-opacity:1.0;font-family:Helvetica;font-size:12px;opacity:1.0;stroke:rgb(16.1%,15.3%,14.1%);stroke-opacity:1.0;stroke-width:1.0\" viewBox=\"0 0 640.0 480.0\" width=\"640.0px\" xmlns=\"http://www.w3.org/2000/svg\" xmlns:toyplot=\"http://www.sandia.gov/toyplot\" xmlns:xlink=\"http://www.w3.org/1999/xlink\"><g class=\"toyplot-coordinates-Cartesian\" id=\"t2cc0ce2a6ad4478bbd445e97b4b490c5\"><clipPath id=\"t7bac046bad6a4452a7108766d31f7a58\"><rect height=\"400.0\" width=\"560.0\" x=\"40.0\" y=\"40.0\"></rect></clipPath><g clip-path=\"url(#t7bac046bad6a4452a7108766d31f7a58)\"><g class=\"toyplot-mark-Plot\" id=\"t93b403e1189542e48e320a8b5ee48811\" style=\"fill:none\"><g class=\"toyplot-Series\"><path d=\"M 50.0 306.74297978894646 L 53.599999999999994 280.47397603291 L 57.200000000000003 298.48506528349128 L 60.799999999999997 311.22876050795918 L 64.400000000000006 339.0270076909319 L 68.0 324.44822035414063 L 71.599999999999994 313.0638526202826 L 75.200000000000003 340.31836880701127 L 78.800000000000011 309.76748345555359 L 82.400000000000006 293.38758719370418 L 86.0 359.07708817742804 L 89.599999999999994 345.21194777320687 L 93.200000000000003 358.43140761938827 L 96.799999999999997 370.29153997495973 L 100.40000000000001 357.07208012877834 L 104.0 332.63816848506531 L 107.59999999999999 293.21767125737796 L 111.19999999999999 303.00482918976928 L 114.8 343.92058665712756 L 118.40000000000001 304.19424074405288 L 122.0 296.75192273296364 L 125.60000000000001 315.88445716329812 L 129.19999999999999 335.86657127526382 L 132.79999999999998 375.89876587372561 L 136.40000000000001 388.26864603827579 L 140.0 347.35288857091751 L 143.59999999999999 329.44374888213201 L 147.19999999999999 386.09372205329993 L 150.80000000000001 393.29815775353245 L 154.39999999999998 397.07029153997496 L 158.0 391.19120014308709 L 161.59999999999999 400.97835807547841 L 165.19999999999999 375.52495081380789 L 168.80000000000001 367.53890180647466 L 172.39999999999998 313.67554999105704 L 176.0 287.67841173314253 L 179.59999999999999 356.29046682167768 L 183.19999999999999 371.48095152924338 L 186.80000000000001 333.86156322661418 L 190.40000000000001 336.58021820783404 L 194.0 329.44374888213201 L 197.59999999999999 307.21874441065995 L 201.20000000000002 334.88105884457156 L 204.80000000000001 329.44374888213201 L 208.40000000000001 322.03541405830799 L 212.0 302.49508138079057 L 215.59999999999997 266.26900375603651 L 219.20000000000002 293.93131818994817 L 222.80000000000001 291.58647826864603 L 226.39999999999998 334.84707565730633 L 230.0 270.00715435521369 L 233.60000000000002 258.79270255768199 L 237.19999999999999 269.73528885709175 L 240.80000000000001 315.10284385619741 L 244.40000000000001 270.14308710427468 L 247.99999999999997 279.52244678948313 L 251.60000000000002 270.7208012877839 L 255.19999999999999 235.4122697191915 L 258.80000000000001 227.66410302271501 L 262.39999999999998 230.31479162940437 L 266.0 220.25576819889108 L 269.60000000000002 199.83187265247719 L 273.19999999999999 215.83795385440882 L 276.80000000000001 219.20228939366837 L 280.40000000000003 183.14612770524056 L 284.0 225.14934716508671 L 287.60000000000002 269.22554104811297 L 291.19999999999999 274.76480057234841 L 294.79999999999995 277.8912538007512 L 298.40000000000003 286.08120193167588 L 302.0 315.7825076015024 L 305.59999999999997 261.27347522804502 L 309.19999999999999 248.22393131818993 L 312.80000000000001 219.98390270076905 L 316.39999999999998 295.32462886782326 L 320.0 301.88338401001607 L 323.60000000000002 322.47719549275621 L 327.19999999999999 240.74763011983541 L 330.80000000000001 224.23180110892503 L 334.39999999999998 238.64067250939007 L 338.0 256.17599713825791 L 341.60000000000002 229.53317832230368 L 345.19999999999999 221.58111250223573 L 348.80000000000001 214.81845823645142 L 352.40000000000003 303.00482918976928 L 356.0 283.5324628867823 L 359.60000000000002 263.89018064746915 L 363.19999999999999 259.09855124306921 L 366.80000000000001 263.89018064746915 L 370.40000000000003 228.75156501520297 L 374.0 243.6022178501162 L 377.60000000000002 278.4349847969952 L 381.19999999999993 247.71418350921124 L 384.80000000000001 204.58951886961185 L 388.40000000000003 288.93578966195668 L 391.99999999999994 265.75925594705774 L 395.60000000000002 295.93632623859776 L 399.19999999999999 211.21624038633516 L 402.79999999999995 238.74262207118582 L 406.40000000000003 207.07029153997493 L 410.0 193.74888213199779 L 413.59999999999997 181.7188338401001 L 417.20000000000005 219.57610445358608 L 420.80000000000001 163.60579502772308 L 424.39999999999998 229.53317832230368 L 428.0 236.29583258808793 L 431.60000000000002 204.75943480593807 L 435.19999999999999 158.44035056340545 L 438.80000000000001 157.18297263459129 L 442.40000000000003 183.89375782507597 L 445.99999999999994 128.26328027186545 L 449.60000000000002 145.22089071722408 L 453.20000000000005 190.69039527812555 L 456.79999999999995 181.20908603112142 L 460.39999999999998 159.66374530495438 L 464.00000000000006 120.85494544804149 L 467.59999999999997 165.78071901269891 L 471.19999999999999 96.998747987837532 L 474.80000000000001 56.728671078518992 L 478.39999999999998 117.01484528706847 L 482.0 127.58361652656049 L 485.60000000000002 83.779288141656139 L 489.19999999999999 64.238955464138726 L 492.79999999999995 61.894115542836602 L 496.40000000000003 75.181541763548495 L 500.0 50.0 L 503.59999999999997 68.996601681273432 L 507.20000000000005 72.83670184224637 L 510.80000000000001 95.537470935431912 L 514.39999999999998 70.186013235557112 L 518.0 51.18941155428363\" style=\"stroke:rgb(100%,0%,0%);stroke-opacity:1.0;stroke-width:1.0\"></path></g></g><g class=\"toyplot-mark-Plot\" id=\"t960df2e9ec824751a4e1d81545d81591\" style=\"fill:none\"><g class=\"toyplot-Series\"><path d=\"M 68.0 311.69433017349309 L 71.599999999999994 316.92774101234124 L 75.200000000000003 323.40153818637094 L 78.800000000000011 329.39617241996064 L 82.400000000000006 335.30245036666071 L 86.0 337.10695761044536 L 89.599999999999994 337.92595242353781 L 93.200000000000003 335.9413342872474 L 96.799999999999997 332.20998032552319 L 100.40000000000001 335.62529064568054 L 104.0 336.70595600071545 L 107.59999999999999 330.47343945626898 L 111.19999999999999 327.54069039527815 L 114.8 325.28420676086569 L 118.40000000000001 325.84492935074229 L 122.0 328.96458594169201 L 125.60000000000001 330.43605795027725 L 129.19999999999999 334.0586657127526 L 132.79999999999998 342.36755499910572 L 136.40000000000001 347.30531210874619 L 140.0 356.59291718833839 L 143.59999999999999 366.03684492935076 L 147.19999999999999 374.54623502056876 L 150.80000000000001 378.51207297442323 L 154.39999999999998 377.67608656769818 L 158.0 370.21677696297621 L 161.59999999999999 364.24932927919872 L 165.19999999999999 366.9340010731533 L 168.80000000000001 365.47272402074765 L 172.39999999999998 359.52906456805579 L 176.0 353.48005723484169 L 179.59999999999999 347.30531210874619 L 183.19999999999999 337.92935074226432 L 186.80000000000001 333.86496154534075 L 190.40000000000001 330.05544625290645 L 194.0 330.8914326596315 L 197.59999999999999 332.37309962439633 L 201.20000000000002 323.37095331783223 L 204.80000000000001 315.61598998390269 L 208.40000000000001 311.38848148810581 L 212.0 311.21516723305314 L 215.59999999999997 305.27150778036128 L 219.20000000000002 300.42890359506345 L 222.80000000000001 293.9143265963155 L 226.39999999999998 292.480236093722 L 230.0 287.29100339831871 L 233.60000000000002 284.99373993918795 L 237.19999999999999 285.43891969236273 L 240.80000000000001 279.58701484528706 L 244.40000000000001 273.19477732069396 L 247.99999999999997 262.74154891790374 L 251.60000000000002 257.76641030227148 L 255.19999999999999 251.870327311751 L 258.80000000000001 246.48059381148275 L 262.39999999999998 236.89053836522979 L 266.0 228.19084242532639 L 269.60000000000002 222.75353246288674 L 273.19999999999999 222.6040064389197 L 276.80000000000001 226.53925952423535 L 280.40000000000003 231.56197460203896 L 284.0 237.13861563226612 L 287.60000000000002 246.69128957252721 L 291.19999999999999 252.83544983008403 L 294.79999999999995 256.07404757646214 L 298.40000000000003 256.15220890717222 L 302.0 267.37005902343049 L 305.59999999999997 275.04346270792337 L 309.19999999999999 280.36862815238771 L 312.80000000000001 276.96691110713647 L 316.39999999999998 271.60096583795382 L 320.0 266.8569128957252 L 323.60000000000002 260.89626184940073 L 327.19999999999999 257.72223215882667 L 330.80000000000001 255.05795027723119 L 334.39999999999998 254.54140583079945 L 338.0 255.30942586299406 L 341.60000000000002 253.47433375067064 L 345.19999999999999 247.615632266142 L 348.80000000000001 249.4507243784654 L 352.40000000000003 253.41656233231978 L 356.0 252.42765158290103 L 359.60000000000002 251.17027365408688 L 363.19999999999999 256.06045430155604 L 366.80000000000001 258.6737614022536 L 370.40000000000003 257.65086746556966 L 374.0 256.24396351278835 L 377.60000000000002 254.4666428188159 L 381.19999999999993 257.67125737792884 L 384.80000000000001 252.88302629225538 L 388.40000000000003 250.36827043462705 L 391.99999999999994 248.20014308710421 L 395.60000000000002 243.21480951529236 L 399.19999999999999 233.54319441960291 L 402.79999999999995 230.72938651404039 L 406.40000000000003 226.63101412985148 L 410.0 220.69075299588621 L 413.59999999999997 217.7444106599892 L 417.20000000000005 208.62672151672325 L 420.80000000000001 203.34913253443028 L 424.39999999999998 195.19316759077083 L 428.0 192.87551421928097 L 431.60000000000002 186.32695403326767 L 435.19999999999999 182.67715972098006 L 438.80000000000001 179.78858880343404 L 442.40000000000003 181.54891790377386 L 445.99999999999994 174.5619746020389 L 449.60000000000002 163.0178858880343 L 453.20000000000005 159.12001430871035 L 456.79999999999995 152.97585405115359 L 460.39999999999998 142.93042389554637 L 464.00000000000006 136.24253264174564 L 467.59999999999997 136.17456626721514 L 471.19999999999999 130.03040600965832 L 474.80000000000001 117.38526202825963 L 478.39999999999998 105.45376497943118 L 482.0 97.005544625290611 L 485.60000000000002 89.920050080486476 L 489.19999999999999 80.241638347343923 L 492.79999999999995 77.825433732784802 L 496.40000000000003 81.706313718476039 L 500.0 77.023430513324911 L 503.59999999999997 69.384010016097221\" style=\"stroke:rgb(0%,0%,100%);stroke-opacity:1.0;stroke-width:2.0\"></path></g></g></g><g class=\"toyplot-coordinates-Axis\" id=\"t60d9cdd481384fa28a4feaece7af1d6e\" transform=\"translate(50.0,430.0)translate(0,10.0)\"><line style=\"\" x1=\"0\" x2=\"471.59999999999997\" y1=\"0\" y2=\"0\"></line><g><g transform=\"translate(0.0,6)\"><text style=\"fill:rgb(16.1%,15.3%,14.1%);fill-opacity:1.0;font-family:helvetica;font-size:10.0px;font-weight:normal;stroke:none;vertical-align:baseline;white-space:pre\" x=\"-2.78\" y=\"8.555\">0</text></g><g transform=\"translate(180.0,6)\"><text style=\"fill:rgb(16.1%,15.3%,14.1%);fill-opacity:1.0;font-family:helvetica;font-size:10.0px;font-weight:normal;stroke:none;vertical-align:baseline;white-space:pre\" x=\"-5.56\" y=\"8.555\">50</text></g><g transform=\"translate(360.0,6)\"><text style=\"fill:rgb(16.1%,15.3%,14.1%);fill-opacity:1.0;font-family:helvetica;font-size:10.0px;font-weight:normal;stroke:none;vertical-align:baseline;white-space:pre\" x=\"-8.34\" y=\"8.555\">100</text></g><g transform=\"translate(540.0,6)\"><text style=\"fill:rgb(16.1%,15.3%,14.1%);fill-opacity:1.0;font-family:helvetica;font-size:10.0px;font-weight:normal;stroke:none;vertical-align:baseline;white-space:pre\" x=\"-8.34\" y=\"8.555\">150</text></g></g><g transform=\"translate(270.0,22)\"><text style=\"fill:rgb(16.1%,15.3%,14.1%);fill-opacity:1.0;font-family:helvetica;font-size:12.0px;font-weight:bold;stroke:none;vertical-align:baseline;white-space:pre\" x=\"-13.008\" y=\"10.266\">Year</text></g><g class=\"toyplot-coordinates-Axis-coordinates\" style=\"visibility:hidden\" transform=\"\"><line style=\"stroke:rgb(43.9%,50.2%,56.5%);stroke-opacity:1.0;stroke-width:1.0\" x1=\"0\" x2=\"0\" y1=\"-3.0\" y2=\"4.5\"></line><text style=\"alignment-baseline:alphabetic;fill:rgb(43.9%,50.2%,56.5%);fill-opacity:1.0;font-size:10px;font-weight:normal;stroke:none;text-anchor:middle\" x=\"0\" y=\"-6\"></text></g></g><g class=\"toyplot-coordinates-Axis\" id=\"t5fbf4801d9724d10a7bc49eb81e3e528\" transform=\"translate(50.0,430.0)rotate(-90.0)translate(0,-10.0)\"><line style=\"\" x1=\"29.021641924521546\" x2=\"380.0\" y1=\"0\" y2=\"0\"></line><g><g transform=\"translate(0.0,-6)\"><text style=\"fill:rgb(16.1%,15.3%,14.1%);fill-opacity:1.0;font-family:helvetica;font-size:10.0px;font-weight:normal;stroke:none;vertical-align:baseline;white-space:pre\" x=\"-8.615\" y=\"-4.4408920985e-16\">-0.5</text></g><g transform=\"translate(169.9159363262386,-6)\"><text style=\"fill:rgb(16.1%,15.3%,14.1%);fill-opacity:1.0;font-family:helvetica;font-size:10.0px;font-weight:normal;stroke:none;vertical-align:baseline;white-space:pre\" x=\"-6.95\" y=\"-4.4408920985e-16\">0.0</text></g><g transform=\"translate(339.8318726524772,-6)\"><text style=\"fill:rgb(16.1%,15.3%,14.1%);fill-opacity:1.0;font-family:helvetica;font-size:10.0px;font-weight:normal;stroke:none;vertical-align:baseline;white-space:pre\" x=\"-6.95\" y=\"-4.4408920985e-16\">0.5</text></g></g><g transform=\"translate(190.0,-22)\"><text style=\"fill:rgb(16.1%,15.3%,14.1%);fill-opacity:1.0;font-family:helvetica;font-size:12.0px;font-weight:bold;stroke:none;vertical-align:baseline;white-space:pre\" x=\"-44.076\" y=\"0.0\">Temperature °F</text></g><g class=\"toyplot-coordinates-Axis-coordinates\" style=\"visibility:hidden\" transform=\"\"><line style=\"stroke:rgb(43.9%,50.2%,56.5%);stroke-opacity:1.0;stroke-width:1.0\" x1=\"0\" x2=\"0\" y1=\"3.0\" y2=\"-4.5\"></line><text style=\"alignment-baseline:hanging;fill:rgb(43.9%,50.2%,56.5%);fill-opacity:1.0;font-size:10px;font-weight:normal;stroke:none;text-anchor:middle\" x=\"0\" y=\"6\"></text></g></g></g></svg><div class=\"toyplot-behavior\"><script>(function()\n",
       "{\n",
       "var modules={};\n",
       "modules[\"toyplot/tables\"] = (function()\n",
       "    {\n",
       "        var tables = [];\n",
       "\n",
       "        var module = {};\n",
       "\n",
       "        module.set = function(owner, key, names, columns)\n",
       "        {\n",
       "            tables.push({owner: owner, key: key, names: names, columns: columns});\n",
       "        }\n",
       "\n",
       "        module.get = function(owner, key)\n",
       "        {\n",
       "            for(var i = 0; i != tables.length; ++i)\n",
       "            {\n",
       "                var table = tables[i];\n",
       "                if(table.owner != owner)\n",
       "                    continue;\n",
       "                if(table.key != key)\n",
       "                    continue;\n",
       "                return {names: table.names, columns: table.columns};\n",
       "            }\n",
       "        }\n",
       "\n",
       "        module.get_csv = function(owner, key)\n",
       "        {\n",
       "            var table = module.get(owner, key);\n",
       "            if(table != undefined)\n",
       "            {\n",
       "                var csv = \"\";\n",
       "                csv += table.names.join(\",\") + \"\\n\";\n",
       "                for(var i = 0; i != table.columns[0].length; ++i)\n",
       "                {\n",
       "                  for(var j = 0; j != table.columns.length; ++j)\n",
       "                  {\n",
       "                    if(j)\n",
       "                      csv += \",\";\n",
       "                    csv += table.columns[j][i];\n",
       "                  }\n",
       "                  csv += \"\\n\";\n",
       "                }\n",
       "                return csv;\n",
       "            }\n",
       "        }\n",
       "\n",
       "        return module;\n",
       "    })();\n",
       "modules[\"toyplot/root/id\"] = \"t6b3f926849244fe6a61b0773d68a5c71\";\n",
       "modules[\"toyplot/root\"] = (function(root_id)\n",
       "    {\n",
       "        return document.querySelector(\"#\" + root_id);\n",
       "    })(modules[\"toyplot/root/id\"]);\n",
       "modules[\"toyplot/canvas/id\"] = \"te9dd900818a74d52853f9059480c23e4\";\n",
       "modules[\"toyplot/canvas\"] = (function(canvas_id)\n",
       "    {\n",
       "        return document.querySelector(\"#\" + canvas_id);\n",
       "    })(modules[\"toyplot/canvas/id\"]);\n",
       "modules[\"toyplot/menus/context\"] = (function(root, canvas)\n",
       "    {\n",
       "        var wrapper = document.createElement(\"div\");\n",
       "        wrapper.innerHTML = \"<ul class='toyplot-context-menu' style='background:#eee; border:1px solid #b8b8b8; border-radius:5px; box-shadow: 0px 0px 8px rgba(0%,0%,0%,0.25); margin:0; padding:3px 0; position:fixed; visibility:hidden;'></ul>\"\n",
       "        var menu = wrapper.firstChild;\n",
       "\n",
       "        root.appendChild(menu);\n",
       "\n",
       "        var items = [];\n",
       "\n",
       "        var ignore_mouseup = null;\n",
       "        function open_menu(e)\n",
       "        {\n",
       "            var show_menu = false;\n",
       "            for(var index=0; index != items.length; ++index)\n",
       "            {\n",
       "                var item = items[index];\n",
       "                if(item.show(e))\n",
       "                {\n",
       "                    item.item.style.display = \"block\";\n",
       "                    show_menu = true;\n",
       "                }\n",
       "                else\n",
       "                {\n",
       "                    item.item.style.display = \"none\";\n",
       "                }\n",
       "            }\n",
       "\n",
       "            if(show_menu)\n",
       "            {\n",
       "                ignore_mouseup = true;\n",
       "                menu.style.left = (e.clientX + 1) + \"px\";\n",
       "                menu.style.top = (e.clientY - 5) + \"px\";\n",
       "                menu.style.visibility = \"visible\";\n",
       "                e.stopPropagation();\n",
       "                e.preventDefault();\n",
       "            }\n",
       "        }\n",
       "\n",
       "        function close_menu()\n",
       "        {\n",
       "            menu.style.visibility = \"hidden\";\n",
       "        }\n",
       "\n",
       "        function contextmenu(e)\n",
       "        {\n",
       "            open_menu(e);\n",
       "        }\n",
       "\n",
       "        function mousemove(e)\n",
       "        {\n",
       "            ignore_mouseup = false;\n",
       "        }\n",
       "\n",
       "        function mouseup(e)\n",
       "        {\n",
       "            if(ignore_mouseup)\n",
       "            {\n",
       "                ignore_mouseup = false;\n",
       "                return;\n",
       "            }\n",
       "            close_menu();\n",
       "        }\n",
       "\n",
       "        function keydown(e)\n",
       "        {\n",
       "            if(e.key == \"Escape\" || e.key == \"Esc\" || e.keyCode == 27)\n",
       "            {\n",
       "                close_menu();\n",
       "            }\n",
       "        }\n",
       "\n",
       "        canvas.addEventListener(\"contextmenu\", contextmenu);\n",
       "        canvas.addEventListener(\"mousemove\", mousemove);\n",
       "        document.addEventListener(\"mouseup\", mouseup);\n",
       "        document.addEventListener(\"keydown\", keydown);\n",
       "\n",
       "        var module = {};\n",
       "        module.add_item = function(label, show, activate)\n",
       "        {\n",
       "            var wrapper = document.createElement(\"div\");\n",
       "            wrapper.innerHTML = \"<li class='toyplot-context-menu-item' style='background:#eee; color:#333; padding:2px 20px; list-style:none; margin:0; text-align:left;'>\" + label + \"</li>\"\n",
       "            var item = wrapper.firstChild;\n",
       "\n",
       "            items.push({item: item, show: show});\n",
       "\n",
       "            function mouseover()\n",
       "            {\n",
       "                this.style.background = \"steelblue\";\n",
       "                this.style.color = \"white\";\n",
       "            }\n",
       "\n",
       "            function mouseout()\n",
       "            {\n",
       "                this.style.background = \"#eee\";\n",
       "                this.style.color = \"#333\";\n",
       "            }\n",
       "\n",
       "            function choose_item(e)\n",
       "            {\n",
       "                close_menu();\n",
       "                activate();\n",
       "\n",
       "                e.stopPropagation();\n",
       "                e.preventDefault();\n",
       "            }\n",
       "\n",
       "            item.addEventListener(\"mouseover\", mouseover);\n",
       "            item.addEventListener(\"mouseout\", mouseout);\n",
       "            item.addEventListener(\"mouseup\", choose_item);\n",
       "            item.addEventListener(\"contextmenu\", choose_item);\n",
       "\n",
       "            menu.appendChild(item);\n",
       "        };\n",
       "        return module;\n",
       "    })(modules[\"toyplot/root\"],modules[\"toyplot/canvas\"]);\n",
       "modules[\"toyplot/io\"] = (function()\n",
       "    {\n",
       "        var module = {};\n",
       "        module.save_file = function(mime_type, charset, data, filename)\n",
       "        {\n",
       "            var uri = \"data:\" + mime_type + \";charset=\" + charset + \",\" + data;\n",
       "            uri = encodeURI(uri);\n",
       "\n",
       "            var link = document.createElement(\"a\");\n",
       "            if(typeof link.download != \"undefined\")\n",
       "            {\n",
       "              link.href = uri;\n",
       "              link.style = \"visibility:hidden\";\n",
       "              link.download = filename;\n",
       "\n",
       "              document.body.appendChild(link);\n",
       "              link.click();\n",
       "              document.body.removeChild(link);\n",
       "            }\n",
       "            else\n",
       "            {\n",
       "              window.open(uri);\n",
       "            }\n",
       "        };\n",
       "        return module;\n",
       "    })();\n",
       "modules[\"toyplot.coordinates.Axis\"] = (\n",
       "        function(canvas)\n",
       "        {\n",
       "            function sign(x)\n",
       "            {\n",
       "                return x < 0 ? -1 : x > 0 ? 1 : 0;\n",
       "            }\n",
       "\n",
       "            function mix(a, b, amount)\n",
       "            {\n",
       "                return ((1.0 - amount) * a) + (amount * b);\n",
       "            }\n",
       "\n",
       "            function log(x, base)\n",
       "            {\n",
       "                return Math.log(Math.abs(x)) / Math.log(base);\n",
       "            }\n",
       "\n",
       "            function in_range(a, x, b)\n",
       "            {\n",
       "                var left = Math.min(a, b);\n",
       "                var right = Math.max(a, b);\n",
       "                return left <= x && x <= right;\n",
       "            }\n",
       "\n",
       "            function inside(range, projection)\n",
       "            {\n",
       "                for(var i = 0; i != projection.length; ++i)\n",
       "                {\n",
       "                    var segment = projection[i];\n",
       "                    if(in_range(segment.range.min, range, segment.range.max))\n",
       "                        return true;\n",
       "                }\n",
       "                return false;\n",
       "            }\n",
       "\n",
       "            function to_domain(range, projection)\n",
       "            {\n",
       "                for(var i = 0; i != projection.length; ++i)\n",
       "                {\n",
       "                    var segment = projection[i];\n",
       "                    if(in_range(segment.range.bounds.min, range, segment.range.bounds.max))\n",
       "                    {\n",
       "                        if(segment.scale == \"linear\")\n",
       "                        {\n",
       "                            var amount = (range - segment.range.min) / (segment.range.max - segment.range.min);\n",
       "                            return mix(segment.domain.min, segment.domain.max, amount)\n",
       "                        }\n",
       "                        else if(segment.scale[0] == \"log\")\n",
       "                        {\n",
       "                            var amount = (range - segment.range.min) / (segment.range.max - segment.range.min);\n",
       "                            var base = segment.scale[1];\n",
       "                            return sign(segment.domain.min) * Math.pow(base, mix(log(segment.domain.min, base), log(segment.domain.max, base), amount));\n",
       "                        }\n",
       "                    }\n",
       "                }\n",
       "            }\n",
       "\n",
       "            var axes = {};\n",
       "\n",
       "            function display_coordinates(e)\n",
       "            {\n",
       "                var current = canvas.createSVGPoint();\n",
       "                current.x = e.clientX;\n",
       "                current.y = e.clientY;\n",
       "\n",
       "                for(var axis_id in axes)\n",
       "                {\n",
       "                    var axis = document.querySelector(\"#\" + axis_id);\n",
       "                    var coordinates = axis.querySelector(\".toyplot-coordinates-Axis-coordinates\");\n",
       "                    if(coordinates)\n",
       "                    {\n",
       "                        var projection = axes[axis_id];\n",
       "                        var local = current.matrixTransform(axis.getScreenCTM().inverse());\n",
       "                        if(inside(local.x, projection))\n",
       "                        {\n",
       "                            var domain = to_domain(local.x, projection);\n",
       "                            coordinates.style.visibility = \"visible\";\n",
       "                            coordinates.setAttribute(\"transform\", \"translate(\" + local.x + \")\");\n",
       "                            var text = coordinates.querySelector(\"text\");\n",
       "                            text.textContent = domain.toFixed(2);\n",
       "                        }\n",
       "                        else\n",
       "                        {\n",
       "                            coordinates.style.visibility= \"hidden\";\n",
       "                        }\n",
       "                    }\n",
       "                }\n",
       "            }\n",
       "\n",
       "            canvas.addEventListener(\"click\", display_coordinates);\n",
       "\n",
       "            var module = {};\n",
       "            module.show_coordinates = function(axis_id, projection)\n",
       "            {\n",
       "                axes[axis_id] = projection;\n",
       "            }\n",
       "\n",
       "            return module;\n",
       "        })(modules[\"toyplot/canvas\"]);\n",
       "(function(tables, context_menu, io, owner_id, key, label, names, columns, filename)\n",
       "        {\n",
       "            tables.set(owner_id, key, names, columns);\n",
       "\n",
       "            var owner = document.querySelector(\"#\" + owner_id);\n",
       "            function show_item(e)\n",
       "            {\n",
       "                return owner.contains(e.target);\n",
       "            }\n",
       "\n",
       "            function choose_item()\n",
       "            {\n",
       "                io.save_file(\"text/csv\", \"utf-8\", tables.get_csv(owner_id, key), filename + \".csv\");\n",
       "            }\n",
       "\n",
       "            context_menu.add_item(\"Save \" + label + \" as CSV\", show_item, choose_item);\n",
       "        })(modules[\"toyplot/tables\"],modules[\"toyplot/menus/context\"],modules[\"toyplot/io\"],\"t93b403e1189542e48e320a8b5ee48811\",\"data\",\"plot data\",[\"x\", \"y0\"],[[0, 1, 2, 3, 4, 5, 6, 7, 8, 9, 10, 11, 12, 13, 14, 15, 16, 17, 18, 19, 20, 21, 22, 23, 24, 25, 26, 27, 28, 29, 30, 31, 32, 33, 34, 35, 36, 37, 38, 39, 40, 41, 42, 43, 44, 45, 46, 47, 48, 49, 50, 51, 52, 53, 54, 55, 56, 57, 58, 59, 60, 61, 62, 63, 64, 65, 66, 67, 68, 69, 70, 71, 72, 73, 74, 75, 76, 77, 78, 79, 80, 81, 82, 83, 84, 85, 86, 87, 88, 89, 90, 91, 92, 93, 94, 95, 96, 97, 98, 99, 100, 101, 102, 103, 104, 105, 106, 107, 108, 109, 110, 111, 112, 113, 114, 115, 116, 117, 118, 119, 120, 121, 122, 123, 124, 125, 126, 127, 128, 129, 130, 131], [-0.1373, -0.06, -0.113, -0.1505, -0.2323, -0.1894, -0.1559, -0.2361, -0.1462, -0.098, -0.2913, -0.2505, -0.2894, -0.3243, -0.2854, -0.2135, -0.0975, -0.1263, -0.2467, -0.1298, -0.1079, -0.1642, -0.223, -0.3408, -0.3772, -0.2568, -0.2041, -0.3708, -0.392, -0.4031, -0.3858, -0.4146, -0.3397, -0.3162, -0.1577, -0.0812, -0.2831, -0.3278, -0.2171, -0.2251, -0.2041, -0.1387, -0.2201, -0.2041, -0.1823, -0.1248, -0.0182, -0.0996, -0.0927, -0.22, -0.0292, 0.0038, -0.0284, -0.1619, -0.0296, -0.0572, -0.0313, 0.0726, 0.0954, 0.0876, 0.1172, 0.1773, 0.1302, 0.1203, 0.2264, 0.1028, -0.0269, -0.0432, -0.0524, -0.0765, -0.1639, -0.0035, 0.0349, 0.118, -0.1037, -0.123, -0.1836, 0.0569, 0.1055, 0.0631, 0.0115, 0.0899, 0.1133, 0.1332, -0.1263, -0.069, -0.0112, 0.0029, -0.0112, 0.0922, 0.0485, -0.054, 0.0364, 0.1633, -0.0849, -0.0167, -0.1055, 0.1438, 0.0628, 0.156, 0.1952, 0.2306, 0.1192, 0.2839, 0.0899, 0.07, 0.1628, 0.2991, 0.3028, 0.2242, 0.3879, 0.338, 0.2042, 0.2321, 0.2955, 0.4097, 0.2775, 0.4799, 0.5984, 0.421, 0.3899, 0.5188, 0.5763, 0.5832, 0.5441, 0.6182, 0.5623, 0.551, 0.4842, 0.5588, 0.6147, null]],\"toyplot\");\n",
       "(function(tables, context_menu, io, owner_id, key, label, names, columns, filename)\n",
       "        {\n",
       "            tables.set(owner_id, key, names, columns);\n",
       "\n",
       "            var owner = document.querySelector(\"#\" + owner_id);\n",
       "            function show_item(e)\n",
       "            {\n",
       "                return owner.contains(e.target);\n",
       "            }\n",
       "\n",
       "            function choose_item()\n",
       "            {\n",
       "                io.save_file(\"text/csv\", \"utf-8\", tables.get_csv(owner_id, key), filename + \".csv\");\n",
       "            }\n",
       "\n",
       "            context_menu.add_item(\"Save \" + label + \" as CSV\", show_item, choose_item);\n",
       "        })(modules[\"toyplot/tables\"],modules[\"toyplot/menus/context\"],modules[\"toyplot/io\"],\"t960df2e9ec824751a4e1d81545d81591\",\"data\",\"plot data\",[\"x\", \"y0\"],[[0, 1, 2, 3, 4, 5, 6, 7, 8, 9, 10, 11, 12, 13, 14, 15, 16, 17, 18, 19, 20, 21, 22, 23, 24, 25, 26, 27, 28, 29, 30, 31, 32, 33, 34, 35, 36, 37, 38, 39, 40, 41, 42, 43, 44, 45, 46, 47, 48, 49, 50, 51, 52, 53, 54, 55, 56, 57, 58, 59, 60, 61, 62, 63, 64, 65, 66, 67, 68, 69, 70, 71, 72, 73, 74, 75, 76, 77, 78, 79, 80, 81, 82, 83, 84, 85, 86, 87, 88, 89, 90, 91, 92, 93, 94, 95, 96, 97, 98, 99, 100, 101, 102, 103, 104, 105, 106, 107, 108, 109, 110, 111, 112, 113, 114, 115, 116, 117, 118, 119, 120, 121, 122, 123, 124, 125, 126, 127, 128, 129, 130, 131], [null, null, null, null, null, -0.15187, -0.16727, -0.18631999999999999, -0.20396, -0.22134, -0.22665000000000002, -0.22905999999999999, -0.22322000000000003, -0.21224000000000004, -0.22229000000000004, -0.22547000000000006, -0.20713000000000004, -0.19850000000000007, -0.19186000000000006, -0.19351000000000002, -0.20269000000000004, -0.20702000000000007, -0.21768000000000004, -0.24213000000000004, -0.25666, -0.2839900000000001, -0.31178000000000006, -0.33682000000000006, -0.3484900000000001, -0.3460300000000001, -0.3240800000000001, -0.30652000000000007, -0.3144200000000001, -0.31012000000000006, -0.29263000000000006, -0.27483, -0.25666, -0.22907000000000002, -0.21711, -0.20590000000000003, -0.20836000000000002, -0.21272000000000002, -0.18623000000000003, -0.16341, -0.15097, -0.15045999999999998, -0.13296999999999998, -0.11871999999999998, -0.09954999999999999, -0.09532999999999998, -0.08005999999999998, -0.07329999999999998, -0.07460999999999998, -0.057389999999999976, -0.038579999999999975, -0.007819999999999975, 0.006820000000000026, 0.02417000000000003, 0.040030000000000024, 0.06825000000000003, 0.09385000000000002, 0.10985, 0.11029000000000003, 0.09871000000000003, 0.08393000000000003, 0.06752000000000002, 0.039410000000000035, 0.021330000000000033, 0.01180000000000003, 0.011570000000000028, -0.02143999999999997, -0.04401999999999997, -0.059689999999999965, -0.04967999999999997, -0.03388999999999997, -0.01992999999999997, -0.00238999999999997, 0.00695000000000003, 0.01479000000000003, 0.016310000000000036, 0.014050000000000035, 0.019450000000000033, 0.036690000000000035, 0.03129000000000003, 0.019620000000000037, 0.02253000000000004, 0.026230000000000038, 0.011840000000000038, 0.004150000000000038, 0.007160000000000036, 0.011300000000000036, 0.016530000000000038, 0.007100000000000037, 0.021190000000000035, 0.02859000000000004, 0.03497000000000004, 0.04964000000000004, 0.07810000000000004, 0.08638000000000004, 0.09844000000000004, 0.11592000000000005, 0.12459000000000005, 0.15142000000000005, 0.16695000000000004, 0.19095000000000004, 0.19777000000000006, 0.21704000000000007, 0.2277800000000001, 0.2362800000000001, 0.23110000000000008, 0.2516600000000001, 0.2856300000000001, 0.2971000000000001, 0.31518000000000007, 0.34474000000000005, 0.36442, 0.36462000000000006, 0.3827, 0.41990999999999995, 0.4550199999999999, 0.47988, 0.50073, 0.52921, 0.53632, 0.5249, 0.53868, 0.56116, null, null, null, null, null]],\"toyplot\");\n",
       "(function(axis, axis_id, projection)\n",
       "        {\n",
       "            axis.show_coordinates(axis_id, projection);\n",
       "        })(modules[\"toyplot.coordinates.Axis\"],\"t60d9cdd481384fa28a4feaece7af1d6e\",[{\"domain\": {\"bounds\": {\"max\": Infinity, \"min\": -Infinity}, \"max\": 150.0, \"min\": 0.0}, \"range\": {\"bounds\": {\"max\": Infinity, \"min\": -Infinity}, \"max\": 540.0, \"min\": 0.0}, \"scale\": \"linear\"}]);\n",
       "(function(axis, axis_id, projection)\n",
       "        {\n",
       "            axis.show_coordinates(axis_id, projection);\n",
       "        })(modules[\"toyplot.coordinates.Axis\"],\"t5fbf4801d9724d10a7bc49eb81e3e528\",[{\"domain\": {\"bounds\": {\"max\": Infinity, \"min\": -Infinity}, \"max\": 0.6182, \"min\": -0.5}, \"range\": {\"bounds\": {\"max\": Infinity, \"min\": -Infinity}, \"max\": 380.0, \"min\": 0.0}, \"scale\": \"linear\"}]);\n",
       "})();</script></div></div>"
      ]
     },
     "metadata": {},
     "output_type": "display_data"
    }
   ],
   "source": [
    "import toyplot # https://toyplot.readthedocs.io/\n",
    "canvas = toyplot.Canvas(width=640, height=480)\n",
    "rolled_series = full_globe_temp.rolling(window=10, center=True)\n",
    "axes = canvas.cartesian(xlabel=\"Year\", ylabel=u\"Temperature \\u00b0F\")\n",
    "axes.plot(full_globe_temp.values, color=\"red\", stroke_width=1)\n",
    "axes.plot(rolled_series.mean(), color=\"blue\", stroke_width=2)"
   ]
  },
  {
   "cell_type": "markdown",
   "metadata": {
    "slideshow": {
     "slide_type": "slide"
    }
   },
   "source": [
    "# matplotlib\n",
    "```bash\n",
    "pip3 install adjusttext\n",
    "```"
   ]
  },
  {
   "cell_type": "code",
   "execution_count": 295,
   "metadata": {
    "slideshow": {
     "slide_type": "fragment"
    }
   },
   "outputs": [
    {
     "data": {
      "image/png": "[encoded data removed]",
      "text/plain": [
       "<matplotlib.figure.Figure at 0x1133fb2e8>"
      ]
     },
     "metadata": {
      "image/png": {
       "height": 357,
       "width": 534
      }
     },
     "output_type": "display_data"
    }
   ],
   "source": [
    "from adjustText import adjust_text\n",
    "\n",
    "x, y = french_cities['Lati'],french_cities[\"Moye\"]\n",
    "labels = french_cities.index\n",
    "plt.scatter(x, y)\n",
    "texts = []\n",
    "for x0, y0, s0 in zip(x,y,labels):\n",
    "    texts.append(plt.text(x0, y0, s0, size=14))\n",
    "adjust_text(texts, x, y);"
   ]
  },
  {
   "cell_type": "code",
   "execution_count": 296,
   "metadata": {},
   "outputs": [
    {
     "data": {
      "text/plain": [
       "Index(['Jan', 'Feb', 'Mar', 'Apr', 'May', 'Jun', 'Jul', 'Aug', 'Sep', 'Oct',\n",
       "       'Nov', 'Dec', 'Lati', 'Long', 'Moye', 'Ampl', 'Région'],\n",
       "      dtype='object')"
      ]
     },
     "execution_count": 296,
     "metadata": {},
     "output_type": "execute_result"
    }
   ],
   "source": [
    "french_cities.columns"
   ]
  },
  {
   "cell_type": "markdown",
   "metadata": {
    "slideshow": {
     "slide_type": "slide"
    }
   },
   "source": [
    "# Altair\n",
    "\n",
    "https://altair-viz.github.io/"
   ]
  },
  {
   "cell_type": "code",
   "execution_count": 297,
   "metadata": {
    "slideshow": {
     "slide_type": "fragment"
    }
   },
   "outputs": [
    {
     "data": {
      "text/html": [
       "<div class=\"vega-embed\" id=\"18ccc04d-5e1c-4f8b-8fe0-5d8db445ceb9\"></div>\n",
       "\n",
       "<style>\n",
       ".vega-embed svg, .vega-embed canvas {\n",
       "  border: 1px dotted gray;\n",
       "}\n",
       "\n",
       ".vega-embed .vega-actions a {\n",
       "  margin-right: 6px;\n",
       "}\n",
       "</style>\n"
      ]
     },
     "metadata": {
      "jupyter-vega": "#18ccc04d-5e1c-4f8b-8fe0-5d8db445ceb9"
     },
     "output_type": "display_data"
    },
    {
     "data": {
      "application/javascript": [
       "var spec = {\"config\": {\"cell\": {\"width\": 500, \"height\": 350}}, \"encoding\": {\"color\": {\"field\": \"Moye\", \"type\": \"nominal\"}, \"text\": {\"field\": \"City\", \"type\": \"nominal\"}, \"x\": {\"field\": \"Long\", \"type\": \"quantitative\"}, \"y\": {\"field\": \"Ampl\", \"scale\": {\"zero\": false}, \"type\": \"quantitative\"}}, \"mark\": \"text\", \"data\": {\"values\": [{\"Jan\": 2.4, \"Feb\": 2.9, \"Mar\": 6.0, \"Apr\": 8.9, \"May\": 12.4, \"Jun\": 15.3, \"Jul\": 17.1, \"Aug\": 17.1, \"Sep\": 14.7, \"Oct\": 10.4, \"Nov\": 6.1, \"Dec\": 3.5, \"Lati\": 50.38, \"Long\": 3.04, \"Moye\": 9.73, \"Ampl\": 14.7, \"R\\u00e9gion\": \"NE\", \"City\": \"Lille\"}, {\"Jan\": 3.4, \"Feb\": 4.1, \"Mar\": 7.6, \"Apr\": 10.7, \"May\": 14.3, \"Jun\": 17.5, \"Jul\": 19.1, \"Aug\": 18.7, \"Sep\": 16.0, \"Oct\": 11.4, \"Nov\": 7.1, \"Dec\": 4.3, \"Lati\": 48.52, \"Long\": 2.2, \"Moye\": 11.18, \"Ampl\": 15.7, \"R\\u00e9gion\": \"NE\", \"City\": \"Paris\"}, {\"Jan\": 0.4, \"Feb\": 1.5, \"Mar\": 5.6, \"Apr\": 9.8, \"May\": 14.0, \"Jun\": 17.2, \"Jul\": 19.0, \"Aug\": 18.3, \"Sep\": 15.1, \"Oct\": 9.5, \"Nov\": 4.9, \"Dec\": 1.3, \"Lati\": 48.35, \"Long\": 7.45, \"Moye\": 9.72, \"Ampl\": 18.6, \"R\\u00e9gion\": \"NE\", \"City\": \"Strasbourg\"}, {\"Jan\": 6.1, \"Feb\": 5.8, \"Mar\": 7.8, \"Apr\": 9.2, \"May\": 11.6, \"Jun\": 14.4, \"Jul\": 15.6, \"Aug\": 16.0, \"Sep\": 14.7, \"Oct\": 12.0, \"Nov\": 9.0, \"Dec\": 7.0, \"Lati\": 48.24, \"Long\": -4.29, \"Moye\": 10.77, \"Ampl\": 10.2, \"R\\u00e9gion\": \"NO\", \"City\": \"Brest\"}, {\"Jan\": 4.8, \"Feb\": 5.3, \"Mar\": 7.9, \"Apr\": 10.1, \"May\": 13.1, \"Jun\": 16.2, \"Jul\": 17.9, \"Aug\": 17.8, \"Sep\": 15.7, \"Oct\": 11.6, \"Nov\": 7.8, \"Dec\": 5.4, \"Lati\": 48.05, \"Long\": -1.41, \"Moye\": 11.13, \"Ampl\": 13.1, \"R\\u00e9gion\": \"NO\", \"City\": \"Rennes\"}, {\"Jan\": 5.0, \"Feb\": 5.3, \"Mar\": 8.4, \"Apr\": 10.8, \"May\": 13.9, \"Jun\": 17.2, \"Jul\": 18.8, \"Aug\": 18.6, \"Sep\": 16.4, \"Oct\": 12.2, \"Nov\": 8.2, \"Dec\": 5.5, \"Lati\": 47.13, \"Long\": -1.33, \"Moye\": 11.69, \"Ampl\": 13.8, \"R\\u00e9gion\": \"NO\", \"City\": \"Nantes\"}, {\"Jan\": 2.4, \"Feb\": 3.4, \"Mar\": 7.1, \"Apr\": 9.9, \"May\": 13.6, \"Jun\": 17.1, \"Jul\": 19.3, \"Aug\": 18.8, \"Sep\": 16.0, \"Oct\": 11.0, \"Nov\": 6.6, \"Dec\": 3.4, \"Lati\": 46.08, \"Long\": 3.26, \"Moye\": 10.72, \"Ampl\": 16.9, \"R\\u00e9gion\": \"SE\", \"City\": \"Vichy\"}, {\"Jan\": 2.6, \"Feb\": 3.7, \"Mar\": 7.5, \"Apr\": 10.3, \"May\": 13.8, \"Jun\": 17.3, \"Jul\": 19.4, \"Aug\": 19.1, \"Sep\": 16.2, \"Oct\": 11.2, \"Nov\": 6.6, \"Dec\": 3.6, \"Lati\": 45.47, \"Long\": 3.05, \"Moye\": 10.94, \"Ampl\": 16.8, \"R\\u00e9gion\": \"SE\", \"City\": \"Clermont\"}, {\"Jan\": 2.1, \"Feb\": 3.3, \"Mar\": 7.7, \"Apr\": 10.9, \"May\": 14.9, \"Jun\": 18.5, \"Jul\": 20.7, \"Aug\": 20.1, \"Sep\": 16.9, \"Oct\": 11.4, \"Nov\": 6.7, \"Dec\": 3.1, \"Lati\": 45.45, \"Long\": 4.51, \"Moye\": 11.36, \"Ampl\": 18.6, \"R\\u00e9gion\": \"SE\", \"City\": \"Lyon\"}, {\"Jan\": 1.5, \"Feb\": 3.2, \"Mar\": 7.7, \"Apr\": 10.6, \"May\": 14.5, \"Jun\": 17.8, \"Jul\": 20.1, \"Aug\": 19.5, \"Sep\": 16.7, \"Oct\": 11.4, \"Nov\": 6.5, \"Dec\": 2.3, \"Lati\": 45.1, \"Long\": 5.43, \"Moye\": 10.98, \"Ampl\": 18.6, \"R\\u00e9gion\": \"SE\", \"City\": \"Grenoble\"}, {\"Jan\": 5.6, \"Feb\": 6.6, \"Mar\": 10.3, \"Apr\": 12.8, \"May\": 15.8, \"Jun\": 19.3, \"Jul\": 20.9, \"Aug\": 21.0, \"Sep\": 18.6, \"Oct\": 13.8, \"Nov\": 9.1, \"Dec\": 6.2, \"Lati\": 44.5, \"Long\": -0.34, \"Moye\": 13.33, \"Ampl\": 15.4, \"R\\u00e9gion\": \"SO\", \"City\": \"Bordeaux\"}, {\"Jan\": 7.5, \"Feb\": 8.5, \"Mar\": 10.8, \"Apr\": 13.3, \"May\": 16.7, \"Jun\": 20.1, \"Jul\": 22.7, \"Aug\": 22.5, \"Sep\": 20.3, \"Oct\": 16.0, \"Nov\": 11.5, \"Dec\": 8.2, \"Lati\": 43.42, \"Long\": 7.15, \"Moye\": 14.84, \"Ampl\": 15.2, \"R\\u00e9gion\": \"SE\", \"City\": \"Nice\"}, {\"Jan\": 5.6, \"Feb\": 6.7, \"Mar\": 9.9, \"Apr\": 12.8, \"May\": 16.2, \"Jun\": 20.1, \"Jul\": 22.7, \"Aug\": 22.3, \"Sep\": 19.3, \"Oct\": 14.6, \"Nov\": 10.0, \"Dec\": 6.5, \"Lati\": 43.36, \"Long\": 3.53, \"Moye\": 13.89, \"Ampl\": 17.1, \"R\\u00e9gion\": \"SE\", \"City\": \"Montpellier\"}, {\"Jan\": 4.7, \"Feb\": 5.6, \"Mar\": 9.2, \"Apr\": 11.6, \"May\": 14.9, \"Jun\": 18.7, \"Jul\": 20.9, \"Aug\": 20.9, \"Sep\": 18.3, \"Oct\": 13.3, \"Nov\": 8.6, \"Dec\": 5.5, \"Lati\": 43.36, \"Long\": 1.26, \"Moye\": 12.68, \"Ampl\": 16.2, \"R\\u00e9gion\": \"SO\", \"City\": \"Toulouse\"}, {\"Jan\": 5.5, \"Feb\": 6.6, \"Mar\": 10.0, \"Apr\": 13.0, \"May\": 16.8, \"Jun\": 20.8, \"Jul\": 23.3, \"Aug\": 22.8, \"Sep\": 19.9, \"Oct\": 15.0, \"Nov\": 10.2, \"Dec\": 6.9, \"Lati\": 43.18, \"Long\": 5.24, \"Moye\": 14.23, \"Ampl\": 17.8, \"R\\u00e9gion\": \"SE\", \"City\": \"Marseille\"}]}};\n",
       "var selector = \"#18ccc04d-5e1c-4f8b-8fe0-5d8db445ceb9\";\n",
       "var type = \"vega-lite\";\n",
       "\n",
       "var output_area = this;\n",
       "require(['nbextensions/jupyter-vega/index'], function(vega) {\n",
       "  vega.render(selector, spec, type, output_area);\n",
       "}, function (err) {\n",
       "  if (err.requireType !== 'scripterror') {\n",
       "    throw(err);\n",
       "  }\n",
       "});\n"
      ]
     },
     "metadata": {
      "jupyter-vega": "#18ccc04d-5e1c-4f8b-8fe0-5d8db445ceb9"
     },
     "output_type": "display_data"
    },
    {
     "data": {
      "image/png": "[encoded data removed]"
     },
     "metadata": {
      "jupyter-vega": "#18ccc04d-5e1c-4f8b-8fe0-5d8db445ceb9"
     },
     "output_type": "display_data"
    }
   ],
   "source": [
    "from altair import Chart, Y, Scale, Formula\n",
    "\n",
    "french_cities['City'] = french_cities.index\n",
    "\n",
    "Chart(french_cities).mark_text().encode(\n",
    "    color='Moye:N',\n",
    "    y=Y('Ampl:Q',scale=Scale(zero=False)),\n",
    "    text='City:N',\n",
    "    x='Long:Q')"
   ]
  },
  {
   "cell_type": "markdown",
   "metadata": {
    "slideshow": {
     "slide_type": "slide"
    }
   },
   "source": [
    "# Bokeh\n",
    "\n",
    "http://bokeh.pydata.org/\n",
    "\n",
    "```sh\n",
    "conda install bokeh selenium PhantomJS\n",
    "```\n",
    "or\n",
    "```sh\n",
    "sudo -H pip3 install selenium\n",
    "brew install node\n",
    "npm install -g phantomjs-prebuilt\n",
    "```"
   ]
  },
  {
   "cell_type": "code",
   "execution_count": 311,
   "metadata": {
    "slideshow": {
     "slide_type": "fragment"
    }
   },
   "outputs": [
    {
     "data": {
      "text/html": [
       "\n",
       "    <div class=\"bk-root\">\n",
       "        <a href=\"http://bokeh.pydata.org\" target=\"_blank\" class=\"bk-logo bk-logo-small bk-logo-notebook\"></a>\n",
       "        <span id=\"963e5254-0b3b-4fbd-8f90-af47eec45fb3\">Loading BokehJS ...</span>\n",
       "    </div>"
      ]
     },
     "metadata": {},
     "output_type": "display_data"
    },
    {
     "data": {
      "application/javascript": [
       "\n",
       "(function(global) {\n",
       "  function now() {\n",
       "    return new Date();\n",
       "  }\n",
       "\n",
       "  var force = true;\n",
       "\n",
       "  if (typeof (window._bokeh_onload_callbacks) === \"undefined\" || force === true) {\n",
       "    window._bokeh_onload_callbacks = [];\n",
       "    window._bokeh_is_loading = undefined;\n",
       "  }\n",
       "\n",
       "\n",
       "  \n",
       "  if (typeof (window._bokeh_timeout) === \"undefined\" || force === true) {\n",
       "    window._bokeh_timeout = Date.now() + 5000;\n",
       "    window._bokeh_failed_load = false;\n",
       "  }\n",
       "\n",
       "  var NB_LOAD_WARNING = {'data': {'text/html':\n",
       "     \"<div style='background-color: #fdd'>\\n\"+\n",
       "     \"<p>\\n\"+\n",
       "     \"BokehJS does not appear to have successfully loaded. If loading BokehJS from CDN, this \\n\"+\n",
       "     \"may be due to a slow or bad network connection. Possible fixes:\\n\"+\n",
       "     \"</p>\\n\"+\n",
       "     \"<ul>\\n\"+\n",
       "     \"<li>re-rerun `output_notebook()` to attempt to load from CDN again, or</li>\\n\"+\n",
       "     \"<li>use INLINE resources instead, as so:</li>\\n\"+\n",
       "     \"</ul>\\n\"+\n",
       "     \"<code>\\n\"+\n",
       "     \"from bokeh.resources import INLINE\\n\"+\n",
       "     \"output_notebook(resources=INLINE)\\n\"+\n",
       "     \"</code>\\n\"+\n",
       "     \"</div>\"}};\n",
       "\n",
       "  function display_loaded() {\n",
       "    if (window.Bokeh !== undefined) {\n",
       "      var el = document.getElementById(\"963e5254-0b3b-4fbd-8f90-af47eec45fb3\");\n",
       "      el.textContent = \"BokehJS \" + Bokeh.version + \" successfully loaded.\";\n",
       "    } else if (Date.now() < window._bokeh_timeout) {\n",
       "      setTimeout(display_loaded, 100)\n",
       "    }\n",
       "  }\n",
       "\n",
       "  function run_callbacks() {\n",
       "    try {\n",
       "      window._bokeh_onload_callbacks.forEach(function(callback) { callback() });\n",
       "    }\n",
       "    finally {\n",
       "      delete window._bokeh_onload_callbacks\n",
       "    }\n",
       "    console.info(\"Bokeh: all callbacks have finished\");\n",
       "  }\n",
       "\n",
       "  function load_libs(js_urls, callback) {\n",
       "    window._bokeh_onload_callbacks.push(callback);\n",
       "    if (window._bokeh_is_loading > 0) {\n",
       "      console.log(\"Bokeh: BokehJS is being loaded, scheduling callback at\", now());\n",
       "      return null;\n",
       "    }\n",
       "    if (js_urls == null || js_urls.length === 0) {\n",
       "      run_callbacks();\n",
       "      return null;\n",
       "    }\n",
       "    console.log(\"Bokeh: BokehJS not loaded, scheduling load and callback at\", now());\n",
       "    window._bokeh_is_loading = js_urls.length;\n",
       "    for (var i = 0; i < js_urls.length; i++) {\n",
       "      var url = js_urls[i];\n",
       "      var s = document.createElement('script');\n",
       "      s.src = url;\n",
       "      s.async = false;\n",
       "      s.onreadystatechange = s.onload = function() {\n",
       "        window._bokeh_is_loading--;\n",
       "        if (window._bokeh_is_loading === 0) {\n",
       "          console.log(\"Bokeh: all BokehJS libraries loaded\");\n",
       "          run_callbacks()\n",
       "        }\n",
       "      };\n",
       "      s.onerror = function() {\n",
       "        console.warn(\"failed to load library \" + url);\n",
       "      };\n",
       "      console.log(\"Bokeh: injecting script tag for BokehJS library: \", url);\n",
       "      document.getElementsByTagName(\"head\")[0].appendChild(s);\n",
       "    }\n",
       "  };var element = document.getElementById(\"963e5254-0b3b-4fbd-8f90-af47eec45fb3\");\n",
       "  if (element == null) {\n",
       "    console.log(\"Bokeh: ERROR: autoload.js configured with elementid '963e5254-0b3b-4fbd-8f90-af47eec45fb3' but no matching script tag was found. \")\n",
       "    return false;\n",
       "  }\n",
       "\n",
       "  var js_urls = [\"https://cdn.pydata.org/bokeh/release/bokeh-0.12.6.min.js\", \"https://cdn.pydata.org/bokeh/release/bokeh-widgets-0.12.6.min.js\"];\n",
       "\n",
       "  var inline_js = [\n",
       "    function(Bokeh) {\n",
       "      Bokeh.set_log_level(\"info\");\n",
       "    },\n",
       "    \n",
       "    function(Bokeh) {\n",
       "      \n",
       "    },\n",
       "    \n",
       "    function(Bokeh) {\n",
       "      \n",
       "      document.getElementById(\"963e5254-0b3b-4fbd-8f90-af47eec45fb3\").textContent = \"BokehJS is loading...\";\n",
       "    },\n",
       "    function(Bokeh) {\n",
       "      console.log(\"Bokeh: injecting CSS: https://cdn.pydata.org/bokeh/release/bokeh-0.12.6.min.css\");\n",
       "      Bokeh.embed.inject_css(\"https://cdn.pydata.org/bokeh/release/bokeh-0.12.6.min.css\");\n",
       "      console.log(\"Bokeh: injecting CSS: https://cdn.pydata.org/bokeh/release/bokeh-widgets-0.12.6.min.css\");\n",
       "      Bokeh.embed.inject_css(\"https://cdn.pydata.org/bokeh/release/bokeh-widgets-0.12.6.min.css\");\n",
       "    }\n",
       "  ];\n",
       "\n",
       "  function run_inline_js() {\n",
       "    \n",
       "    if ((window.Bokeh !== undefined) || (force === true)) {\n",
       "      for (var i = 0; i < inline_js.length; i++) {\n",
       "        inline_js[i](window.Bokeh);\n",
       "      }if (force === true) {\n",
       "        display_loaded();\n",
       "      }} else if (Date.now() < window._bokeh_timeout) {\n",
       "      setTimeout(run_inline_js, 100);\n",
       "    } else if (!window._bokeh_failed_load) {\n",
       "      console.log(\"Bokeh: BokehJS failed to load within specified timeout.\");\n",
       "      window._bokeh_failed_load = true;\n",
       "    } else if (force !== true) {\n",
       "      var cell = $(document.getElementById(\"963e5254-0b3b-4fbd-8f90-af47eec45fb3\")).parents('.cell').data().cell;\n",
       "      cell.output_area.append_execute_result(NB_LOAD_WARNING)\n",
       "    }\n",
       "\n",
       "  }\n",
       "\n",
       "  if (window._bokeh_is_loading === 0) {\n",
       "    console.log(\"Bokeh: BokehJS loaded, going straight to plotting\");\n",
       "    run_inline_js();\n",
       "  } else {\n",
       "    load_libs(js_urls, function() {\n",
       "      console.log(\"Bokeh: BokehJS plotting callback run at\", now());\n",
       "      run_inline_js();\n",
       "    });\n",
       "  }\n",
       "}(this));"
      ]
     },
     "metadata": {},
     "output_type": "display_data"
    }
   ],
   "source": [
    "from bokeh.plotting import figure, output_notebook, show, reset_output\n",
    "from bokeh.io import export_png\n",
    "reset_output()\n",
    "output_notebook()"
   ]
  },
  {
   "cell_type": "code",
   "execution_count": 310,
   "metadata": {
    "slideshow": {
     "slide_type": "slide"
    }
   },
   "outputs": [
    {
     "data": {
      "text/plain": [
       "'/Users/navaro/notebooks-python/bokeh_example.png'"
      ]
     },
     "execution_count": 310,
     "metadata": {},
     "output_type": "execute_result"
    }
   ],
   "source": [
    "from collections import OrderedDict\n",
    "from math import log, sqrt\n",
    "\n",
    "import numpy as np\n",
    "import pandas as pd\n",
    "\n",
    "city_color = OrderedDict([\n",
    "    (\"Lille\",        \"black\"),\n",
    "    (\"Paris\",        \"darkblue\"),\n",
    "    (\"Strasbourg\",   \"blue\"),\n",
    "    (\"Brest\",        \"grey\"),\n",
    "    (\"Rennes\",       \"red\"),\n",
    "    (\"Nantes\",       \"yellow\"),\n",
    "    (\"Vichy\",        \"lightcyan\"),\n",
    "    (\"Clermont\",     \"green\"),\n",
    "    (\"Lyon\",         \"darkred\"),\n",
    "    (\"Grenoble\",     \"pink\"),\n",
    "    (\"Bordeaux\",     \"navyblue\"),\n",
    "    (\"Nice\",         \"darkred\"),\n",
    "    (\"Montpellier\",  \"orange\"),\n",
    "    (\"Toulouse\",     \"purple\"),\n",
    "    (\"Marseille\",    \"lightblue\"  ),\n",
    "])\n",
    "\n",
    "temp_color = OrderedDict([\n",
    "    (\"Moye\", \"#0d3362\"),\n",
    "    (\"Ampl\", \"#c64737\"),\n",
    "])\n",
    "\n",
    "region_color = {\n",
    "    \"NO\" : \"#b3ecff\",\n",
    "    \"NE\" : \"#ccf2ff\",\n",
    "    \"SO\" : \"#80dfff\",\n",
    "    \"SE\" : \"#99e6ff\",\n",
    "}\n",
    "\n",
    "df = french_cities.sort_values(by='Région')\n",
    "\n",
    "width = 800\n",
    "height = 800\n",
    "inner_radius = 90\n",
    "outer_radius = 300 - 10\n",
    "\n",
    "minr = 0\n",
    "maxr = 30\n",
    "a = (outer_radius - inner_radius) / (maxr - minr)\n",
    "b = inner_radius \n",
    "\n",
    "def rad(t):\n",
    "    return a * t + b\n",
    "\n",
    "big_angle = 2.0 * np.pi / (len(df) + 1)\n",
    "small_angle = big_angle / 7\n",
    "\n",
    "p = figure(plot_width=width, plot_height=height, title=\"\",\n",
    "    x_axis_type=None, y_axis_type=None,\n",
    "    x_range=(-420, 420), y_range=(-420, 420),\n",
    "    min_border=0, outline_line_color=\"black\",\n",
    "    background_fill_color=\"navajowhite\", border_fill_color=\"#f0e1d2\",\n",
    "    toolbar_sticky=False)\n",
    "\n",
    "p.xgrid.grid_line_color = None\n",
    "p.ygrid.grid_line_color = None\n",
    "\n",
    "# annular wedges\n",
    "angles = np.pi/2 - big_angle/2 - pd.RangeIndex(0,16).to_series()*big_angle\n",
    "colors = [region_color[region] for region in df.Région]\n",
    "p.annular_wedge(0, 0, inner_radius, outer_radius, -big_angle+angles[:-1], angles[:-1], color=colors,\n",
    ")\n",
    "\n",
    "# small wedges\n",
    "p.annular_wedge(0, 0, inner_radius, rad(df.Moye),\n",
    "                -big_angle+angles[:-1]+5*small_angle, -big_angle+angles[:-1]+6*small_angle,\n",
    "                color=temp_color['Moye'])\n",
    "p.annular_wedge(0, 0, inner_radius, rad(df.Ampl),\n",
    "                -big_angle+angles[:-1]+3*small_angle, -big_angle+angles[:-1]+4*small_angle,\n",
    "                color=temp_color['Ampl'])\n",
    "\n",
    "# circular axes and labels\n",
    "labels = np.arange(0, maxr, 5)\n",
    "radii  = inner_radius + labels*a\n",
    "p.circle(0, 0, radius=radii, fill_color=None, line_color=\"white\")\n",
    "p.text(0, radii[:-1], [str(r) for r in labels[:-1]],\n",
    "       text_font_size=\"8pt\", text_align=\"center\", text_baseline=\"middle\")\n",
    "# radial axes\n",
    "p.annular_wedge(0, 0, inner_radius-10, outer_radius+10,\n",
    "                -big_angle+angles, -big_angle+angles, color=\"black\")\n",
    "\n",
    "# city names\n",
    "xr = radii[-1]*np.cos(np.array(-big_angle/2 + angles[:-1]))\n",
    "yr = radii[-1]*np.sin(np.array(-big_angle/2 + angles[:-1]))\n",
    "label_angle=np.array(-big_angle/2+angles[:-1])\n",
    "label_angle[label_angle < -np.pi/2] += np.pi # easier to read labels on the left side\n",
    "p.text(xr, yr, df.City, angle=label_angle,\n",
    "       text_font_size=\"9pt\", text_align=\"center\", text_baseline=\"middle\")\n",
    "\n",
    "p.circle(np.linspace(-340,340,4), 4*[-380], color=list(region_color.values()), radius=5)\n",
    "p.text(np.linspace(-340,340,4), 4*[-380], text=[\"  Region-\" + gr for gr in region_color.keys()],\n",
    "       text_font_size=\"9pt\", text_align=\"left\", text_baseline=\"top\")\n",
    "\n",
    "p.rect([-40, -40], [18, -18], width=30, height=13,\n",
    "       color=list(temp_color.values()))\n",
    "p.text([-15, -15], [18, -18], text=list(temp_color),\n",
    "       text_font_size=\"9pt\", text_align=\"left\", text_baseline=\"middle\")\n",
    "\n",
    "export_png(p, filename=\"bokeh_example.png\")"
   ]
  },
  {
   "cell_type": "markdown",
   "metadata": {
    "slideshow": {
     "slide_type": "slide"
    }
   },
   "source": [
    "![Bokeh example](bokeh_example.png)"
   ]
  },
  {
   "cell_type": "markdown",
   "metadata": {
    "slideshow": {
     "slide_type": "slide"
    }
   },
   "source": [
    "# Saving Work"
   ]
  },
  {
   "cell_type": "markdown",
   "metadata": {
    "slideshow": {
     "slide_type": "fragment"
    }
   },
   "source": [
    "Excel Writer does not work with Series."
   ]
  },
  {
   "cell_type": "code",
   "execution_count": 300,
   "metadata": {
    "collapsed": true,
    "slideshow": {
     "slide_type": "fragment"
    }
   },
   "outputs": [],
   "source": [
    "with pd.ExcelWriter(\"data/test.xls\") as writer:\n",
    "    pd.DataFrame({\"Full Globe Temp\": full_globe_temp}).to_excel(writer, sheet_name=\"FullGlobe temp data\")"
   ]
  },
  {
   "cell_type": "markdown",
   "metadata": {
    "slideshow": {
     "slide_type": "fragment"
    }
   },
   "source": [
    "[HDF5](https://support.hdfgroup.org/HDF5/) is widely used and one of the most powerful file format to store binary data. It allows to store both Series and DataFrames."
   ]
  },
  {
   "cell_type": "code",
   "execution_count": 301,
   "metadata": {
    "collapsed": true,
    "slideshow": {
     "slide_type": "fragment"
    }
   },
   "outputs": [],
   "source": [
    "with pd.HDFStore(\"data/pandas_nb.h5\") as writer:\n",
    "    full_globe_temp.to_hdf(writer, \"/temperatures/full_globe\")\n",
    "    local_sea_level_stations.to_hdf(writer, \"/sea_level/stations\")"
   ]
  },
  {
   "cell_type": "code",
   "execution_count": 302,
   "metadata": {
    "slideshow": {
     "slide_type": "fragment"
    }
   },
   "outputs": [
    {
     "name": "stdout",
     "output_type": "stream",
     "text": [
      "cemracs.csv   pandas_nb.h5  test.xls\r\n"
     ]
    }
   ],
   "source": [
    "%ls data"
   ]
  }
 ],
 "metadata": {
  "kernelspec": {
   "display_name": "Python 3",
   "language": "python",
   "name": "python3"
  },
  "language_info": {
   "codemirror_mode": {
    "name": "ipython",
    "version": 3
   },
   "file_extension": ".py",
   "mimetype": "text/x-python",
   "name": "python",
   "nbconvert_exporter": "python",
   "pygments_lexer": "ipython3",
   "version": "3.6.2"
  }
 },
 "nbformat": 4,
 "nbformat_minor": 2
}
