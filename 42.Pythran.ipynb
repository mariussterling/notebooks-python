{
 "cells": [
  {
   "cell_type": "markdown",
   "metadata": {
    "slideshow": {
     "slide_type": "slide"
    }
   },
   "source": [
    "# Pythran\n",
    "\n",
    "- [Documentation](https://pythonhosted.org/pythran/)\n",
    "- [GitHub](https://github.com/serge-sans-paille/pythran)\n",
    "- [Pythran tutorial](http://serge-sans-paille.github.io/pythran-stories/pythran-tutorial.html)\n",
    "- [Mailing list](http://www.freelists.org/list/pythran)\n",
    "- [StackOverflow](http://stackoverflow.com/questions/tagged/pythran)\n",
    "\n",
    "\"Pythran is a Python to c++ compiler for a subset of the Python language, with a focus on scientific computing. It takes a Python module annotated with a few interface description and turns it into a native python module with the same interface, but (hopefully) faster.\"\n",
    "\n",
    "```bash\n",
    "brew install gcc gmp openblas python3\n",
    "pip3 install pythran\n",
    "```"
   ]
  },
  {
   "cell_type": "markdown",
   "metadata": {
    "slideshow": {
     "slide_type": "skip"
    }
   },
   "source": [
    "Skip the cell below if you are not on mac"
   ]
  },
  {
   "cell_type": "code",
   "execution_count": 77,
   "metadata": {
    "slideshow": {
     "slide_type": "skip"
    }
   },
   "outputs": [
    {
     "name": "stdout",
     "output_type": "stream",
     "text": [
      "Overwriting /Users/navaro/.pythranrc\n"
     ]
    }
   ],
   "source": [
    "%%file ~/.pythranrc \n",
    "[compiler]\n",
    "include_dirs=/usr/local/opt/openblas/include\n",
    "library_dirs=/usr/local/opt/openblas/lib\n",
    "blas=openblas\n",
    "CXX=g++-7\n",
    "CC=gcc-7\n"
   ]
  },
  {
   "cell_type": "markdown",
   "metadata": {
    "slideshow": {
     "slide_type": "slide"
    }
   },
   "source": [
    "# Introduction with Pi computation\n",
    "\n",
    "Computing $\\pi$ with a Fortran-like version:"
   ]
  },
  {
   "cell_type": "code",
   "execution_count": 78,
   "metadata": {
    "slideshow": {
     "slide_type": "slide"
    }
   },
   "outputs": [
    {
     "data": {
      "text/plain": [
       "3.1415926535897643"
      ]
     },
     "execution_count": 78,
     "metadata": {},
     "output_type": "execute_result"
    }
   ],
   "source": [
    "def pi_approximate(n):\n",
    "    step = 1.0 / n\n",
    "    result = 0   \n",
    "    for i in range(n):\n",
    "        x = (i + 0.5) * step\n",
    "        result += 4.0 / (1.0 + x * x)\n",
    "    return step * result\n",
    "\n",
    "pi_approximate(1000000)"
   ]
  },
  {
   "cell_type": "code",
   "execution_count": 81,
   "metadata": {
    "slideshow": {
     "slide_type": "fragment"
    }
   },
   "outputs": [
    {
     "name": "stdout",
     "output_type": "stream",
     "text": [
      "153 ms ± 7.16 ms per loop (mean ± std. dev. of 7 runs, 10 loops each)\n"
     ]
    }
   ],
   "source": [
    "%timeit pi_approximate(1000000)"
   ]
  },
  {
   "cell_type": "code",
   "execution_count": 6,
   "metadata": {
    "slideshow": {
     "slide_type": "slide"
    }
   },
   "outputs": [
    {
     "name": "stderr",
     "output_type": "stream",
     "text": [
      "WARNING  Pythran support disabled for module: omp\n",
      "WARNING:pythran:Pythran support disabled for module: omp\n"
     ]
    }
   ],
   "source": [
    "import pythran"
   ]
  },
  {
   "cell_type": "code",
   "execution_count": 7,
   "metadata": {
    "slideshow": {
     "slide_type": "fragment"
    }
   },
   "outputs": [],
   "source": [
    "%load_ext pythran.magic"
   ]
  },
  {
   "cell_type": "markdown",
   "metadata": {
    "slideshow": {
     "slide_type": "slide"
    }
   },
   "source": [
    "The additionnal line beginning by #pythran give information about the argument type. The return type is infered."
   ]
  },
  {
   "cell_type": "code",
   "execution_count": 84,
   "metadata": {
    "slideshow": {
     "slide_type": "fragment"
    }
   },
   "outputs": [
    {
     "name": "stdout",
     "output_type": "stream",
     "text": [
      "Overwriting pi_approximate_pythran.py\n"
     ]
    }
   ],
   "source": [
    "%%file pi_approximate_pythran.py\n",
    "#pythran export pi_approximate_pythran(int)\n",
    "import numpy as np\n",
    "def pi_approximate_pythran(n):\n",
    "    step = 1.0 / n\n",
    "    result = 0   \n",
    "    for i in range(n):\n",
    "        x = (i + 0.5) * step\n",
    "        result += 4.0 / (1.0 + x * x)\n",
    "    return step * result"
   ]
  },
  {
   "cell_type": "code",
   "execution_count": 85,
   "metadata": {
    "slideshow": {
     "slide_type": "slide"
    }
   },
   "outputs": [
    {
     "name": "stdout",
     "output_type": "stream",
     "text": [
      "WARNING  Pythran support disabled for module: omp\n",
      "#undef ENABLE_PYTHON_MODULE\n",
      "#define BOOST_SIMD_NO_STRICT_ALIASING 1\n",
      "#include <pythonic/core.hpp>\n",
      "#include <pythonic/python/core.hpp>\n",
      "#include <pythonic/types/bool.hpp>\n",
      "#include <pythonic/types/int.hpp>\n",
      "#ifdef _OPENMP\n",
      "#include <omp.h>\n",
      "#endif\n",
      "#include <pythonic/include/types/int.hpp>\n",
      "#include <pythonic/types/int.hpp>\n",
      "#include <pythonic/include/__builtin__/range.hpp>\n",
      "#include <pythonic/include/operator_/div.hpp>\n",
      "#include <pythonic/include/numpy/square.hpp>\n",
      "#include <pythonic/__builtin__/range.hpp>\n",
      "#include <pythonic/operator_/div.hpp>\n",
      "#include <pythonic/numpy/square.hpp>\n",
      "namespace __pythran_pi_approximate_pythran\n",
      "{\n",
      "  struct pi_approximate_pythran\n",
      "  {\n",
      "    typedef void callable;\n",
      "    typedef void pure;\n",
      "    template <typename argument_type0 >\n",
      "    struct type\n",
      "    {\n",
      "      typedef double __type0;\n",
      "      typedef typename std::remove_cv<typename std::remove_reference<argument_type0>::type>::type __type1;\n",
      "      typedef typename pythonic::assignable<decltype((pythonic::operator_::div(std::declval<__type0>(), std::declval<__type1>())))>::type __type2;\n",
      "      typedef typename pythonic::assignable<long>::type __type3;\n",
      "      typedef decltype(std::declval<typename std::remove_cv<typename std::remove_reference<decltype(pythonic::__builtin__::functor::range{})>::type>::type>()(std::declval<__type1>())) __type6;\n",
      "      typedef typename std::remove_cv<typename std::iterator_traits<typename std::remove_reference<__type6>::type::iterator>::value_type>::type __type7;\n",
      "      typedef decltype((std::declval<__type7>() + std::declval<__type0>())) __type9;\n",
      "      typedef decltype((std::declval<__type9>() * std::declval<__type2>())) __type10;\n",
      "      typedef decltype(std::declval<typename std::remove_cv<typename std::remove_reference<decltype(pythonic::numpy::functor::square{})>::type>::type>()(std::declval<__type10>())) __type11;\n",
      "      typedef decltype((std::declval<__type0>() + std::declval<__type11>())) __type12;\n",
      "      typedef decltype((pythonic::operator_::div(std::declval<__type0>(), std::declval<__type12>()))) __type13;\n",
      "      typedef decltype((std::declval<__type3>() + std::declval<__type13>())) __type14;\n",
      "      typedef typename __combined<__type3,__type13,__type14>::type __type15;\n",
      "      typedef typename pythonic::returnable<decltype((std::declval<__type2>() * std::declval<__type15>()))>::type result_type;\n",
      "    }  \n",
      "    ;\n",
      "    template <typename argument_type0 >\n",
      "    typename type<argument_type0>::result_type operator()(argument_type0 const & n) const\n",
      "    ;\n",
      "  }  ;\n",
      "  template <typename argument_type0 >\n",
      "  typename pi_approximate_pythran::type<argument_type0>::result_type pi_approximate_pythran::operator()(argument_type0 const & n) const\n",
      "  {\n",
      "    typedef typename pythonic::assignable<long>::type __type0;\n",
      "    typedef double __type1;\n",
      "    typedef typename std::remove_cv<typename std::remove_reference<argument_type0>::type>::type __type3;\n",
      "    typedef decltype(std::declval<typename std::remove_cv<typename std::remove_reference<decltype(pythonic::__builtin__::functor::range{})>::type>::type>()(std::declval<__type3>())) __type4;\n",
      "    typedef typename std::remove_cv<typename std::iterator_traits<typename std::remove_reference<__type4>::type::iterator>::value_type>::type __type5;\n",
      "    typedef decltype((std::declval<__type5>() + std::declval<__type1>())) __type7;\n",
      "    typedef typename pythonic::assignable<decltype((pythonic::operator_::div(std::declval<__type1>(), std::declval<__type3>())))>::type __type9;\n",
      "    typedef decltype((std::declval<__type7>() * std::declval<__type9>())) __type10;\n",
      "    typedef decltype(std::declval<typename std::remove_cv<typename std::remove_reference<decltype(pythonic::numpy::functor::square{})>::type>::type>()(std::declval<__type10>())) __type11;\n",
      "    typedef decltype((std::declval<__type1>() + std::declval<__type11>())) __type12;\n",
      "    typedef decltype((pythonic::operator_::div(std::declval<__type1>(), std::declval<__type12>()))) __type13;\n",
      "    typedef decltype((std::declval<__type0>() + std::declval<__type13>())) __type14;\n",
      "    typename pythonic::assignable<decltype((pythonic::operator_::div(1.0, n)))>::type step = (pythonic::operator_::div(1.0, n));\n",
      "    typename pythonic::assignable<typename __combined<__type0,__type13,__type14>::type>::type result = 0L;\n",
      "    {\n",
      "      long  __target1 = n;\n",
      "      for (long  i=0L; i < __target1; i += 1L)\n",
      "      {\n",
      "        ;\n",
      "        result += (pythonic::operator_::div(4.0, (1.0 + pythonic::numpy::functor::square{}(((i + 0.5) * step)))));\n",
      "      }\n",
      "    }\n",
      "    return (step * result);\n",
      "  }\n",
      "}\n",
      "#include <pythonic/python/exception_handler.hpp>\n",
      "#ifdef ENABLE_PYTHON_MODULE\n",
      "typename __pythran_pi_approximate_pythran::pi_approximate_pythran::type<long>::result_type pi_approximate_pythran0(long n) \n",
      "{\n",
      "  \n",
      "                            PyThreadState *_save = PyEval_SaveThread();\n",
      "                            try {\n",
      "                                auto res = __pythran_pi_approximate_pythran::pi_approximate_pythran()(n);\n",
      "                                PyEval_RestoreThread(_save);\n",
      "                                return res;\n",
      "                            }\n",
      "                            catch(...) {\n",
      "                                PyEval_RestoreThread(_save);\n",
      "                                throw;\n",
      "                            }\n",
      "                            ;\n",
      "}\n",
      "\n",
      "static PyObject *\n",
      "__pythran_wrap_pi_approximate_pythran0(PyObject *self, PyObject *args, PyObject *kw)\n",
      "{\n",
      "    PyObject* args_obj[1+1];\n",
      "    char const* keywords[] = {\"n\", nullptr};\n",
      "    if(! PyArg_ParseTupleAndKeywords(args, kw, \"O\",\n",
      "                                     (char**)keywords, &args_obj[0]))\n",
      "        return nullptr;\n",
      "    if(is_convertible<long>(args_obj[0]))\n",
      "        return to_python(pi_approximate_pythran0(from_python<long>(args_obj[0])));\n",
      "    else {\n",
      "        return nullptr;\n",
      "    }\n",
      "}\n",
      "\n",
      "            static PyObject *\n",
      "            __pythran_wrapall_pi_approximate_pythran(PyObject *self, PyObject *args, PyObject *kw)\n",
      "            {\n",
      "                return pythonic::handle_python_exception([self, args, kw]()\n",
      "                -> PyObject* {\n",
      "\n",
      "if(PyObject* obj = __pythran_wrap_pi_approximate_pythran0(self, args, kw))\n",
      "    return obj;\n",
      "PyErr_Clear();\n",
      "\n",
      "                PyErr_SetString(PyExc_TypeError,\n",
      "                \"Invalid argument type for pythranized function `pi_approximate_pythran'.\\n\"\n",
      "                \"Candidates are:\\n   pi_approximate_pythran(long)\\n\"\n",
      "                );\n",
      "                return nullptr;\n",
      "                });\n",
      "            }\n",
      "\n",
      "\n",
      "static PyMethodDef Methods[] = {\n",
      "    {\n",
      "    \"pi_approximate_pythran\",\n",
      "    (PyCFunction)__pythran_wrapall_pi_approximate_pythran,\n",
      "    METH_VARARGS | METH_KEYWORDS,\n",
      "    \"Supported prototypes:\\n    - pi_approximate_pythran(int)\\n\"},\n",
      "    {NULL, NULL, 0, NULL}\n",
      "};\n",
      "\n",
      "\n",
      "#if PY_MAJOR_VERSION >= 3\n",
      "  static struct PyModuleDef moduledef = {\n",
      "    PyModuleDef_HEAD_INIT,\n",
      "    \"pi_approximate_pythran\",            /* m_name */\n",
      "    \"\",         /* m_doc */\n",
      "    -1,                  /* m_size */\n",
      "    Methods,             /* m_methods */\n",
      "    NULL,                /* m_reload */\n",
      "    NULL,                /* m_traverse */\n",
      "    NULL,                /* m_clear */\n",
      "    NULL,                /* m_free */\n",
      "  };\n",
      "#define PYTHRAN_RETURN return theModule\n",
      "#define PYTHRAN_MODULE_INIT(s) PyInit_##s\n",
      "#else\n",
      "#define PYTHRAN_RETURN return\n",
      "#define PYTHRAN_MODULE_INIT(s) init##s\n",
      "#endif\n",
      "PyMODINIT_FUNC\n",
      "PYTHRAN_MODULE_INIT(pi_approximate_pythran)(void)\n",
      "__attribute__ ((visibility(\"default\")))\n",
      "__attribute__ ((externally_visible));\n",
      "PyMODINIT_FUNC\n",
      "PYTHRAN_MODULE_INIT(pi_approximate_pythran)(void) {\n",
      "    #ifdef PYTHONIC_TYPES_NDARRAY_HPP\n",
      "        import_array()\n",
      "    #endif\n",
      "    #if PY_MAJOR_VERSION >= 3\n",
      "    PyObject* theModule = PyModule_Create(&moduledef);\n",
      "    #else\n",
      "    PyObject* theModule = Py_InitModule3(\"pi_approximate_pythran\",\n",
      "                                         Methods,\n",
      "                                         \"\"\n",
      "    );\n",
      "    #endif\n",
      "    if(not theModule)\n",
      "        PYTHRAN_RETURN;\n",
      "    PyObject * theDoc = Py_BuildValue(\"(sss)\",\n",
      "                                      \"0.8.1\",\n",
      "                                      \"2017-09-09 14:47:35.856127\",\n",
      "                                      \"ee511a75efa8b9834d393dd619e1fdf4cd82c05d76a26d185c42245c665cd86e\");\n",
      "    if(not theDoc)\n",
      "        PYTHRAN_RETURN;\n",
      "    PyModule_AddObject(theModule,\n",
      "                       \"__pythran__\",\n",
      "                       theDoc);\n",
      "\n",
      "    PYTHRAN_RETURN;\n",
      "}\n",
      "\n",
      "#endif"
     ]
    }
   ],
   "source": [
    "!pythran -e pi_approximate_pythran.py\n",
    "!cat pi_approximate_pythran.cpp"
   ]
  },
  {
   "cell_type": "markdown",
   "metadata": {
    "collapsed": true,
    "slideshow": {
     "slide_type": "slide"
    }
   },
   "source": [
    "Hopefully, the code behaves the same:"
   ]
  },
  {
   "cell_type": "code",
   "execution_count": 88,
   "metadata": {
    "slideshow": {
     "slide_type": "fragment"
    }
   },
   "outputs": [
    {
     "name": "stdout",
     "output_type": "stream",
     "text": [
      "In file included from /usr/local/lib/python3.6/site-packages/pythran-0.8.1-py3.6.egg/pythran/pythonic/__builtin__/range.hpp:6:0,\n",
      "                 from /var/folders/56/lhgl67bx4qj6tvjx41b1wgdr0000gn/T/tmppjmz370_.cpp:16:\n",
      "/usr/local/lib/python3.6/site-packages/pythran-0.8.1-py3.6.egg/pythran/pythonic/__builtin__/xrange.hpp:102:39: warning: 'pythonic::__builtin__::xrange::reverse_iterator pythonic::__builtin__::xrange::rend() const' defined but not used [-Wunused-function]\n",
      "     typename xrange::reverse_iterator xrange::rend() const\n",
      "                                       ^~~~~~\n",
      "/usr/local/lib/python3.6/site-packages/pythran-0.8.1-py3.6.egg/pythran/pythonic/__builtin__/xrange.hpp:97:39: warning: 'pythonic::__builtin__::xrange::reverse_iterator pythonic::__builtin__::xrange::rbegin() const' defined but not used [-Wunused-function]\n",
      "     typename xrange::reverse_iterator xrange::rbegin() const\n",
      "                                       ^~~~~~\n",
      "/usr/local/lib/python3.6/site-packages/pythran-0.8.1-py3.6.egg/pythran/pythonic/__builtin__/xrange.hpp:68:10: warning: 'bool pythonic::__builtin__::{anonymous}::xrange_iterator::operator<(const pythonic::__builtin__::{anonymous}::xrange_iterator&) const' defined but not used [-Wunused-function]\n",
      "     bool xrange_iterator::operator<(xrange_iterator const &other) const\n",
      "          ^~~~~~~~~~~~~~~\n",
      "/usr/local/lib/python3.6/site-packages/pythran-0.8.1-py3.6.egg/pythran/pythonic/__builtin__/xrange.hpp:63:10: warning: 'bool pythonic::__builtin__::{anonymous}::xrange_iterator::operator==(const pythonic::__builtin__::{anonymous}::xrange_iterator&) const' defined but not used [-Wunused-function]\n",
      "     bool xrange_iterator::operator==(xrange_iterator const &other) const\n",
      "          ^~~~~~~~~~~~~~~\n",
      "/usr/local/lib/python3.6/site-packages/pythran-0.8.1-py3.6.egg/pythran/pythonic/__builtin__/xrange.hpp:58:10: warning: 'bool pythonic::__builtin__::{anonymous}::xrange_iterator::operator!=(const pythonic::__builtin__::{anonymous}::xrange_iterator&) const' defined but not used [-Wunused-function]\n",
      "     bool xrange_iterator::operator!=(xrange_iterator const &other) const\n",
      "          ^~~~~~~~~~~~~~~\n",
      "/usr/local/lib/python3.6/site-packages/pythran-0.8.1-py3.6.egg/pythran/pythonic/__builtin__/xrange.hpp:52:22: warning: 'pythonic::__builtin__::{anonymous}::xrange_iterator& pythonic::__builtin__::{anonymous}::xrange_iterator::operator+=(long int)' defined but not used [-Wunused-function]\n",
      "     xrange_iterator &xrange_iterator::operator+=(long n)\n",
      "                      ^~~~~~~~~~~~~~~\n",
      "/usr/local/lib/python3.6/site-packages/pythran-0.8.1-py3.6.egg/pythran/pythonic/__builtin__/xrange.hpp:45:21: warning: 'pythonic::__builtin__::{anonymous}::xrange_iterator pythonic::__builtin__::{anonymous}::xrange_iterator::operator++(int)' defined but not used [-Wunused-function]\n",
      "     xrange_iterator xrange_iterator::operator++(int)\n",
      "                     ^~~~~~~~~~~~~~~\n"
     ]
    }
   ],
   "source": [
    "%%pythran\n",
    "#pythran export pi_approximate_pythran(int)\n",
    "import numpy as np\n",
    "def pi_approximate_pythran(n):\n",
    "    step = 1.0 / n\n",
    "    result = 0   \n",
    "    for i in range(n):\n",
    "        x = (i + 0.5) * step\n",
    "        result += 4.0 / (1.0 + x * x)\n",
    "    return step * result"
   ]
  },
  {
   "cell_type": "code",
   "execution_count": 89,
   "metadata": {
    "slideshow": {
     "slide_type": "slide"
    }
   },
   "outputs": [
    {
     "data": {
      "text/plain": [
       "3.1415926535897643"
      ]
     },
     "execution_count": 89,
     "metadata": {},
     "output_type": "execute_result"
    }
   ],
   "source": [
    "pi_approximate_pythran(1000000)"
   ]
  },
  {
   "cell_type": "code",
   "execution_count": 90,
   "metadata": {
    "slideshow": {
     "slide_type": "fragment"
    }
   },
   "outputs": [
    {
     "name": "stdout",
     "output_type": "stream",
     "text": [
      "1.24 ms ± 45.3 µs per loop (mean ± std. dev. of 7 runs, 1000 loops each)\n"
     ]
    }
   ],
   "source": [
    "%timeit pi_approximate_pythran(1000000)"
   ]
  },
  {
   "cell_type": "markdown",
   "metadata": {
    "slideshow": {
     "slide_type": "slide"
    }
   },
   "source": [
    "The loop can run in parallel with OpenMP integration:"
   ]
  },
  {
   "cell_type": "code",
   "execution_count": 91,
   "metadata": {
    "slideshow": {
     "slide_type": "fragment"
    }
   },
   "outputs": [
    {
     "name": "stdout",
     "output_type": "stream",
     "text": [
      "In file included from /usr/local/lib/python3.6/site-packages/pythran-0.8.1-py3.6.egg/pythran/pythonic/__builtin__/range.hpp:6:0,\n",
      "                 from /var/folders/56/lhgl67bx4qj6tvjx41b1wgdr0000gn/T/tmpqcf5sqey.cpp:16:\n",
      "/usr/local/lib/python3.6/site-packages/pythran-0.8.1-py3.6.egg/pythran/pythonic/__builtin__/xrange.hpp:102:39: warning: 'pythonic::__builtin__::xrange::reverse_iterator pythonic::__builtin__::xrange::rend() const' defined but not used [-Wunused-function]\n",
      "     typename xrange::reverse_iterator xrange::rend() const\n",
      "                                       ^~~~~~\n",
      "/usr/local/lib/python3.6/site-packages/pythran-0.8.1-py3.6.egg/pythran/pythonic/__builtin__/xrange.hpp:97:39: warning: 'pythonic::__builtin__::xrange::reverse_iterator pythonic::__builtin__::xrange::rbegin() const' defined but not used [-Wunused-function]\n",
      "     typename xrange::reverse_iterator xrange::rbegin() const\n",
      "                                       ^~~~~~\n",
      "/usr/local/lib/python3.6/site-packages/pythran-0.8.1-py3.6.egg/pythran/pythonic/__builtin__/xrange.hpp:68:10: warning: 'bool pythonic::__builtin__::{anonymous}::xrange_iterator::operator<(const pythonic::__builtin__::{anonymous}::xrange_iterator&) const' defined but not used [-Wunused-function]\n",
      "     bool xrange_iterator::operator<(xrange_iterator const &other) const\n",
      "          ^~~~~~~~~~~~~~~\n",
      "/usr/local/lib/python3.6/site-packages/pythran-0.8.1-py3.6.egg/pythran/pythonic/__builtin__/xrange.hpp:63:10: warning: 'bool pythonic::__builtin__::{anonymous}::xrange_iterator::operator==(const pythonic::__builtin__::{anonymous}::xrange_iterator&) const' defined but not used [-Wunused-function]\n",
      "     bool xrange_iterator::operator==(xrange_iterator const &other) const\n",
      "          ^~~~~~~~~~~~~~~\n",
      "/usr/local/lib/python3.6/site-packages/pythran-0.8.1-py3.6.egg/pythran/pythonic/__builtin__/xrange.hpp:58:10: warning: 'bool pythonic::__builtin__::{anonymous}::xrange_iterator::operator!=(const pythonic::__builtin__::{anonymous}::xrange_iterator&) const' defined but not used [-Wunused-function]\n",
      "     bool xrange_iterator::operator!=(xrange_iterator const &other) const\n",
      "          ^~~~~~~~~~~~~~~\n",
      "/usr/local/lib/python3.6/site-packages/pythran-0.8.1-py3.6.egg/pythran/pythonic/__builtin__/xrange.hpp:52:22: warning: 'pythonic::__builtin__::{anonymous}::xrange_iterator& pythonic::__builtin__::{anonymous}::xrange_iterator::operator+=(long int)' defined but not used [-Wunused-function]\n",
      "     xrange_iterator &xrange_iterator::operator+=(long n)\n",
      "                      ^~~~~~~~~~~~~~~\n",
      "/usr/local/lib/python3.6/site-packages/pythran-0.8.1-py3.6.egg/pythran/pythonic/__builtin__/xrange.hpp:45:21: warning: 'pythonic::__builtin__::{anonymous}::xrange_iterator pythonic::__builtin__::{anonymous}::xrange_iterator::operator++(int)' defined but not used [-Wunused-function]\n",
      "     xrange_iterator xrange_iterator::operator++(int)\n",
      "                     ^~~~~~~~~~~~~~~\n"
     ]
    }
   ],
   "source": [
    "%%pythran -fopenmp\n",
    "#pythran export pi_approximate_pythran_omp(int)\n",
    "import numpy as np\n",
    "def pi_approximate_pythran_omp(n):\n",
    "    step = 1.0 / n\n",
    "    result = 0\n",
    "    #omp parallel for reduction(+:result)\n",
    "    for i in range(n):\n",
    "        x = (i + 0.5) * step\n",
    "        result += 4.0 / (1.0 + x * x)\n",
    "    return step * result"
   ]
  },
  {
   "cell_type": "code",
   "execution_count": 92,
   "metadata": {
    "slideshow": {
     "slide_type": "slide"
    }
   },
   "outputs": [
    {
     "name": "stdout",
     "output_type": "stream",
     "text": [
      "422 µs ± 39 µs per loop (mean ± std. dev. of 7 runs, 1000 loops each)\n"
     ]
    }
   ],
   "source": [
    "%timeit pi_approximate_pythran_omp(1000000)"
   ]
  },
  {
   "cell_type": "markdown",
   "metadata": {
    "slideshow": {
     "slide_type": "slide"
    }
   },
   "source": [
    "# Vectorized code"
   ]
  },
  {
   "cell_type": "code",
   "execution_count": 93,
   "metadata": {
    "collapsed": true,
    "slideshow": {
     "slide_type": "fragment"
    }
   },
   "outputs": [],
   "source": [
    "import numpy as np\n",
    "def pi_approximation_numpy(n):\n",
    "    step = 1.0 / n\n",
    "    x = (np.arange(0, n, dtype=np.float64) + 0.5) * step\n",
    "    return step * np.sum(4. / (1. + x ** 2))"
   ]
  },
  {
   "cell_type": "code",
   "execution_count": 94,
   "metadata": {
    "slideshow": {
     "slide_type": "fragment"
    }
   },
   "outputs": [
    {
     "data": {
      "text/plain": [
       "3.1415926535898775"
      ]
     },
     "execution_count": 94,
     "metadata": {},
     "output_type": "execute_result"
    }
   ],
   "source": [
    "pi_approximation_numpy(1000000)"
   ]
  },
  {
   "cell_type": "code",
   "execution_count": 95,
   "metadata": {
    "slideshow": {
     "slide_type": "fragment"
    }
   },
   "outputs": [
    {
     "name": "stdout",
     "output_type": "stream",
     "text": [
      "8.73 ms ± 69 µs per loop (mean ± std. dev. of 7 runs, 100 loops each)\n"
     ]
    }
   ],
   "source": [
    "%timeit pi_approximation_numpy(1000000)"
   ]
  },
  {
   "cell_type": "markdown",
   "metadata": {
    "slideshow": {
     "slide_type": "slide"
    }
   },
   "source": [
    "Does not work with Python3 (09/09/2017)\n",
    "\n",
    " - Pythran supports the vectorized code only for Python 2\n",
    " - SIMD code generation (-DUSE_BOOST_SIMD -march=native)"
   ]
  },
  {
   "cell_type": "markdown",
   "metadata": {
    "slideshow": {
     "slide_type": "slide"
    }
   },
   "source": [
    "# Type Annotations\n",
    "\n",
    "Consider the following function:"
   ]
  },
  {
   "cell_type": "code",
   "execution_count": 145,
   "metadata": {
    "slideshow": {
     "slide_type": "fragment"
    }
   },
   "outputs": [],
   "source": [
    "%%pythran\n",
    "#pythran export f_pythran(int, int)\n",
    "def f_pythran(u, v):\n",
    "    return u+v"
   ]
  },
  {
   "cell_type": "code",
   "execution_count": 146,
   "metadata": {
    "slideshow": {
     "slide_type": "fragment"
    }
   },
   "outputs": [
    {
     "ename": "TypeError",
     "evalue": "Invalid argument type for pythranized function `f_pythran'.\nCandidates are:\n   f_pythran(long,long)\n",
     "output_type": "error",
     "traceback": [
      "\u001b[0;31m---------------------------------------------------------------------------\u001b[0m",
      "\u001b[0;31mTypeError\u001b[0m                                 Traceback (most recent call last)",
      "\u001b[0;32m<ipython-input-146-423e2cfb3400>\u001b[0m in \u001b[0;36m<module>\u001b[0;34m()\u001b[0m\n\u001b[0;32m----> 1\u001b[0;31m \u001b[0mf_pythran\u001b[0m\u001b[0;34m(\u001b[0m\u001b[0;36m1.0\u001b[0m\u001b[0;34m,\u001b[0m\u001b[0;36m2.0\u001b[0m\u001b[0;34m)\u001b[0m\u001b[0;34m\u001b[0m\u001b[0m\n\u001b[0m",
      "\u001b[0;31mTypeError\u001b[0m: Invalid argument type for pythranized function `f_pythran'.\nCandidates are:\n   f_pythran(long,long)\n"
     ]
    }
   ],
   "source": [
    "f_pythran(1.0,2.0)"
   ]
  },
  {
   "cell_type": "markdown",
   "metadata": {
    "slideshow": {
     "slide_type": "slide"
    }
   },
   "source": [
    "Use double export to specify the overloads:"
   ]
  },
  {
   "cell_type": "code",
   "execution_count": 148,
   "metadata": {
    "slideshow": {
     "slide_type": "fragment"
    }
   },
   "outputs": [],
   "source": [
    "%%pythran\n",
    "#pythran export f_pythran(int, int)\n",
    "#pythran export f_pythran(float64, float64)\n",
    "def f_pythran(u, v):\n",
    "    return u+v"
   ]
  },
  {
   "cell_type": "code",
   "execution_count": 151,
   "metadata": {
    "slideshow": {
     "slide_type": "fragment"
    }
   },
   "outputs": [
    {
     "data": {
      "text/plain": [
       "(3.0, 2)"
      ]
     },
     "execution_count": 151,
     "metadata": {},
     "output_type": "execute_result"
    }
   ],
   "source": [
    "f_pythran(1.0,2.0), f_pythran(1,1)"
   ]
  },
  {
   "cell_type": "markdown",
   "metadata": {
    "slideshow": {
     "slide_type": "slide"
    }
   },
   "source": [
    "# Using Pythran from the Command Line\n",
    "\n",
    "1. Write your code to Pythranize into a seperate file;\n",
    "2. Call the Pythran compiler."
   ]
  },
  {
   "cell_type": "code",
   "execution_count": 152,
   "metadata": {
    "slideshow": {
     "slide_type": "fragment"
    }
   },
   "outputs": [
    {
     "name": "stdout",
     "output_type": "stream",
     "text": [
      "Overwriting scrabble.py\n"
     ]
    }
   ],
   "source": [
    "%%file scrabble.py\n",
    "#pythran export scrabble_score(str, str:int dict)\n",
    "def scrabble_score(word, scoretable):\n",
    "    score = 0\n",
    "    for letter in word:\n",
    "        if letter in scoretable:\n",
    "            score += scoretable[letter]\n",
    "    return score\n"
   ]
  },
  {
   "cell_type": "code",
   "execution_count": 153,
   "metadata": {},
   "outputs": [
    {
     "name": "stdout",
     "output_type": "stream",
     "text": [
      "WARNING  Pythran support disabled for module: omp\n",
      "running build_ext\n",
      "running build_src\n",
      "build_src\n",
      "building extension \"scrabble\" sources\n",
      "build_src: building npy-pkg config files\n",
      "new_compiler returns <class 'distutils.unixccompiler.UnixCCompiler'>\n",
      "INFO     customize UnixCCompiler\n",
      "customize UnixCCompiler using build_ext\n",
      "********************************************************************************\n",
      "<class 'distutils.unixccompiler.UnixCCompiler'>\n",
      "preprocessor  = ['gcc-7', '-E']\n",
      "compiler      = ['gcc-7', '-Wno-unused-result', '-Wsign-compare', '-Wunreachable-code', '-fno-common', '-dynamic', '-DNDEBUG', '-g', '-fwrapv', '-O3', '-Wall', '-Wstrict-prototypes']\n",
      "compiler_so   = ['gcc-7', '-Wno-unused-result', '-Wsign-compare', '-Wunreachable-code', '-fno-common', '-dynamic', '-DNDEBUG', '-g', '-fwrapv', '-O3', '-Wall', '-Wstrict-prototypes']\n",
      "compiler_cxx  = ['g++-7']\n",
      "linker_so     = ['gcc-7', '-bundle', '-undefined', 'dynamic_lookup']\n",
      "linker_exe    = ['gcc-7']\n",
      "archiver      = ['ar', 'rc']\n",
      "ranlib        = ['ranlib']\n",
      "libraries     = []\n",
      "library_dirs  = ['/usr/local/lib', '/usr/local/opt/openssl/lib', '/usr/local/opt/sqlite/lib']\n",
      "include_dirs  = ['/usr/local/include', '/usr/local/opt/openssl/include', '/usr/local/opt/sqlite/include', '/usr/local/Cellar/python3/3.6.2/Frameworks/Python.framework/Versions/3.6/include/python3.6m']\n",
      "********************************************************************************\n",
      "new_compiler returns <class 'distutils.unixccompiler.UnixCCompiler'>\n",
      "INFO     customize UnixCCompiler\n",
      "customize UnixCCompiler using build_ext\n",
      "********************************************************************************\n",
      "<class 'distutils.unixccompiler.UnixCCompiler'>\n",
      "preprocessor  = ['gcc-7', '-E']\n",
      "compiler      = ['gcc-7', '-Wno-unused-result', '-Wsign-compare', '-Wunreachable-code', '-fno-common', '-dynamic', '-DNDEBUG', '-g', '-fwrapv', '-O3', '-Wall', '-Wstrict-prototypes']\n",
      "compiler_so   = ['gcc-7', '-Wno-unused-result', '-Wsign-compare', '-Wunreachable-code', '-fno-common', '-dynamic', '-DNDEBUG', '-g', '-fwrapv', '-O3', '-Wall']\n",
      "compiler_cxx  = ['g++-7']\n",
      "linker_so     = ['gcc-7', '-bundle', '-undefined', 'dynamic_lookup']\n",
      "linker_exe    = ['gcc-7']\n",
      "archiver      = ['ar', 'rc']\n",
      "ranlib        = ['ranlib']\n",
      "libraries     = []\n",
      "library_dirs  = ['/usr/local/lib', '/usr/local/opt/openssl/lib', '/usr/local/opt/sqlite/lib']\n",
      "include_dirs  = ['/usr/local/include', '/usr/local/opt/openssl/include', '/usr/local/opt/sqlite/include', '/usr/local/Cellar/python3/3.6.2/Frameworks/Python.framework/Versions/3.6/include/python3.6m']\n",
      "********************************************************************************\n",
      "building 'scrabble' extension\n",
      "compiling C++ sources\n",
      "C compiler: g++-7 -Wno-unused-result -Wsign-compare -Wunreachable-code -fno-common -dynamic -DNDEBUG -g -fwrapv -O3 -Wall\n",
      "\n",
      "creating /var/folders/56/lhgl67bx4qj6tvjx41b1wgdr0000gn/T/tmp1f4skio5/var\n",
      "creating /var/folders/56/lhgl67bx4qj6tvjx41b1wgdr0000gn/T/tmp1f4skio5/var/folders\n",
      "creating /var/folders/56/lhgl67bx4qj6tvjx41b1wgdr0000gn/T/tmp1f4skio5/var/folders/56\n",
      "creating /var/folders/56/lhgl67bx4qj6tvjx41b1wgdr0000gn/T/tmp1f4skio5/var/folders/56/lhgl67bx4qj6tvjx41b1wgdr0000gn\n",
      "creating /var/folders/56/lhgl67bx4qj6tvjx41b1wgdr0000gn/T/tmp1f4skio5/var/folders/56/lhgl67bx4qj6tvjx41b1wgdr0000gn/T\n",
      "compile options: '-DUSE_GMP -DBOOST_SIMD_CONFIG_SUPPORT_POSIX_MEMALIGN -DENABLE_PYTHON_MODULE -D__PYTHRAN__=3 -I/usr/local/opt/openblas/include -I/usr/local/lib/python3.6/site-packages/pythran-0.8.1-py3.6.egg/pythran -I/usr/local/lib/python3.6/site-packages/numpy/core/include -I/usr/local/lib/python3.6/site-packages/numpy/core/include -I/usr/local/include -I/usr/local/opt/openssl/include -I/usr/local/opt/sqlite/include -I/usr/local/Cellar/python3/3.6.2/Frameworks/Python.framework/Versions/3.6/include/python3.6m -c'\n",
      "extra options: '-std=c++11 -fno-math-errno'\n",
      "g++-7: /var/folders/56/lhgl67bx4qj6tvjx41b1wgdr0000gn/T/tmpy_ja4svu.cpp\n",
      "exec_command(['g++-7', '-Wno-unused-result', '-Wsign-compare', '-Wunreachable-code', '-fno-common', '-dynamic', '-DNDEBUG', '-g', '-fwrapv', '-O3', '-Wall', '-DUSE_GMP', '-DBOOST_SIMD_CONFIG_SUPPORT_POSIX_MEMALIGN', '-DENABLE_PYTHON_MODULE', '-D__PYTHRAN__=3', '-I/usr/local/opt/openblas/include', '-I/usr/local/lib/python3.6/site-packages/pythran-0.8.1-py3.6.egg/pythran', '-I/usr/local/lib/python3.6/site-packages/numpy/core/include', '-I/usr/local/lib/python3.6/site-packages/numpy/core/include', '-I/usr/local/include', '-I/usr/local/opt/openssl/include', '-I/usr/local/opt/sqlite/include', '-I/usr/local/Cellar/python3/3.6.2/Frameworks/Python.framework/Versions/3.6/include/python3.6m', '-c', '/var/folders/56/lhgl67bx4qj6tvjx41b1wgdr0000gn/T/tmpy_ja4svu.cpp', '-o', '/var/folders/56/lhgl67bx4qj6tvjx41b1wgdr0000gn/T/tmp1f4skio5/var/folders/56/lhgl67bx4qj6tvjx41b1wgdr0000gn/T/tmpy_ja4svu.o', '-std=c++11', '-fno-math-errno'],)\n",
      "Retaining cwd: /Users/navaro/notebooks-python\n",
      "_preserve_environment([])\n",
      "_update_environment(...)\n",
      "_update_environment(...)\n",
      "g++-7 -bundle -undefined dynamic_lookup /var/folders/56/lhgl67bx4qj6tvjx41b1wgdr0000gn/T/tmp1f4skio5/var/folders/56/lhgl67bx4qj6tvjx41b1wgdr0000gn/T/tmpy_ja4svu.o -L/usr/local/opt/openblas/lib -L/usr/local/lib -L/usr/local/opt/openssl/lib -L/usr/local/opt/sqlite/lib -lgmp -lgmpxx -lopenblas -o /var/folders/56/lhgl67bx4qj6tvjx41b1wgdr0000gn/T/tmpw1dkg_7l/scrabble.cpython-36m-darwin.so\n",
      "exec_command(['g++-7', '-bundle', '-undefined', 'dynamic_lookup', '/var/folders/56/lhgl67bx4qj6tvjx41b1wgdr0000gn/T/tmp1f4skio5/var/folders/56/lhgl67bx4qj6tvjx41b1wgdr0000gn/T/tmpy_ja4svu.o', '-L/usr/local/opt/openblas/lib', '-L/usr/local/lib', '-L/usr/local/opt/openssl/lib', '-L/usr/local/opt/sqlite/lib', '-lgmp', '-lgmpxx', '-lopenblas', '-o', '/var/folders/56/lhgl67bx4qj6tvjx41b1wgdr0000gn/T/tmpw1dkg_7l/scrabble.cpython-36m-darwin.so'],)\n",
      "Retaining cwd: /Users/navaro/notebooks-python\n",
      "_preserve_environment([])\n",
      "_update_environment(...)\n",
      "_update_environment(...)\n",
      "INFO     Generated module: scrabble\n",
      "INFO     Output: /Users/navaro/notebooks-python/scrabble.so\n"
     ]
    }
   ],
   "source": [
    "!python3 -m pythran.run -v scrabble.py"
   ]
  },
  {
   "cell_type": "code",
   "execution_count": 1,
   "metadata": {
    "collapsed": true,
    "slideshow": {
     "slide_type": "fragment"
    }
   },
   "outputs": [],
   "source": [
    "import scrabble"
   ]
  },
  {
   "cell_type": "code",
   "execution_count": 2,
   "metadata": {
    "slideshow": {
     "slide_type": "fragment"
    }
   },
   "outputs": [
    {
     "data": {
      "text/plain": [
       "'/Users/navaro/notebooks-python/scrabble.so'"
      ]
     },
     "execution_count": 2,
     "metadata": {},
     "output_type": "execute_result"
    }
   ],
   "source": [
    "scrabble.__file__"
   ]
  },
  {
   "cell_type": "code",
   "execution_count": 3,
   "metadata": {
    "slideshow": {
     "slide_type": "fragment"
    }
   },
   "outputs": [
    {
     "data": {
      "text/plain": [
       "8"
      ]
     },
     "execution_count": 3,
     "metadata": {},
     "output_type": "execute_result"
    }
   ],
   "source": [
    "scrabble.scrabble_score(\"hello\", {\"h\": 4, \"e\": 1, \"l\": 1, \"o\": 1})"
   ]
  },
  {
   "cell_type": "markdown",
   "metadata": {
    "slideshow": {
     "slide_type": "slide"
    }
   },
   "source": [
    "# Pyhran setup.py\n",
    "\n",
    "```python\n",
    "from distutils.core import Extension\n",
    "from setuptools import setup, dist\n",
    "\n",
    "dist.Distribution(dict(setup_requires='pythran'))\n",
    "\n",
    "from pythran import PythranExtension\n",
    "module1 = PythranExtension('demo', sources = ['scrabble.py'])\n",
    "\n",
    "setup(name = 'demo',\n",
    "      version = '1.0',\n",
    "      description = 'This is a demo package',\n",
    "      ext_modules = [module1])\n",
    "```"
   ]
  },
  {
   "cell_type": "markdown",
   "metadata": {
    "slideshow": {
     "slide_type": "slide"
    }
   },
   "source": [
    "## Functions as regular values"
   ]
  },
  {
   "cell_type": "code",
   "execution_count": 8,
   "metadata": {
    "slideshow": {
     "slide_type": "fragment"
    }
   },
   "outputs": [],
   "source": [
    "%%pythran\n",
    "#pythran export modify(int, str)\n",
    "actions = {\"increase\": lambda x: x + 1,\n",
    "           \"decrease\": lambda x: x - 1}\n",
    "\n",
    "def modify(value, action):\n",
    "    what = actions[action]\n",
    "    return what(value)"
   ]
  },
  {
   "cell_type": "code",
   "execution_count": 9,
   "metadata": {
    "slideshow": {
     "slide_type": "fragment"
    }
   },
   "outputs": [
    {
     "data": {
      "text/plain": [
       "2"
      ]
     },
     "execution_count": 9,
     "metadata": {},
     "output_type": "execute_result"
    }
   ],
   "source": [
    "modify(1, \"increase\")"
   ]
  },
  {
   "cell_type": "markdown",
   "metadata": {
    "slideshow": {
     "slide_type": "fragment"
    }
   },
   "source": [
    "Passing functions in and out is not supported."
   ]
  },
  {
   "cell_type": "code",
   "execution_count": null,
   "metadata": {
    "collapsed": true
   },
   "outputs": [],
   "source": []
  }
 ],
 "metadata": {
  "celltoolbar": "Slideshow",
  "kernelspec": {
   "display_name": "Python 3",
   "language": "python",
   "name": "python3"
  },
  "language_info": {
   "codemirror_mode": {
    "name": "ipython",
    "version": 3
   },
   "file_extension": ".py",
   "mimetype": "text/x-python",
   "name": "python",
   "nbconvert_exporter": "python",
   "pygments_lexer": "ipython3",
   "version": "3.6.2"
  }
 },
 "nbformat": 4,
 "nbformat_minor": 1
}
