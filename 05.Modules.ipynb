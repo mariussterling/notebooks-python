{
 "cells": [
  {
   "cell_type": "code",
   "execution_count": null,
   "metadata": {
    "collapsed": true
   },
   "outputs": [],
   "source": [
    "\\begin{frame}[fragile]\n",
    "\\frametitle{Module python}\n",
    "\\begin{block}{dans un fichier fibo.py}\n",
    "\\begin{python}\n",
    "def fib(n):\n",
    "   \"\"\" write Fibonacci series up to n \"\"\"\n",
    "   a, b = 0, 1\n",
    "   while b < n:\n",
    "      print b\n",
    "      a, b = b, a+b\n",
    "\\end{python}\n",
    "\\end{block}\n",
    "\\pause\n",
    "Appel de la fonction fib\n",
    "\\begin{columns}[t]\n",
    "\\begin{column}{5cm}\n",
    "\\begin{block}{M\\'ethode 1}\n",
    "\\begin{python}\n",
    "import fibo\n",
    "fibo.fib(1000)\n",
    "\\end{python}\n",
    "\\end{block}\n",
    "\\end{column}\n",
    "\\begin{column}{5cm}\n",
    "\\begin{block}{M\\'ethode 2}\n",
    "\\begin{python}\n",
    "from fibo import fib\n",
    "fib(1000)\n",
    "\\end{python}\n",
    "\\end{block}\n",
    "\\end{column}\n",
    "\\end{columns}\n",
    "\\end{frame}"
   ]
  },
  {
   "cell_type": "code",
   "execution_count": null,
   "metadata": {
    "collapsed": true
   },
   "outputs": [],
   "source": [
    "frametitle{Importation d'un module python}\n",
    "\\begin{itemize}\n",
    "\\item{\\tt  import fibo }\n",
    "\\item {\\tt import fibo as f}\n",
    "\\item {\\tt from fibo import print\\_fib, list\\_fib}\n",
    "\\item {\\tt from fibo import *} (importe tous les noms sauf variables et fonctions priv�es)\n",
    "\\end{itemize}\n",
    "Remarque : En Python, les variables ou les fonctions des objets du langage commencent par \\_\\_.\n",
    "\\pause\n",
    "On peut acc\\'eder aux attributs du module avec:\n",
    "\\begin{itemize}\n",
    "\\item \\_\\_dict\\_\\_ : dictionnaire utilis� par le module pour l'espace de noms des attributs\n",
    "\\item \\_\\_name\\_\\_ : nom du module\n",
    "\\item \\_\\_file\\_\\_ : fichier du module\n",
    "\\item \\_\\_doc\\_\\_ : documentation du module\n",
    "\\end{itemize}"
   ]
  },
  {
   "cell_type": "code",
   "execution_count": null,
   "metadata": {
    "collapsed": true
   },
   "outputs": [],
   "source": [
    "begin{frame}[fragile]\n",
    "\\frametitle{Chemin de recherche d'un module python}\n",
    "\\begin{block}{Recherche dans sys.path}\n",
    "\\begin{itemize}\n",
    "\\item dans le r\\'epertoire courant\n",
    "\\item dans PYTHONPATH si d�fini (m�me syntaxe que PATH)\n",
    "\\item dans un r�pertoire par d�faut (sous Linux : /usr/lib/python)\n",
    "\\end{itemize}\n",
    "\\end{block}\n",
    "\\pause\n",
    "\\begin{block}{Ajout de mon dans sys.path}\n",
    "\\begin{python}\n",
    "import sys\n",
    "sys.path.append('le/chemin/de/mon/module')\n",
    "import mon_module\n",
    "\\end{python}\n",
    "\\end{block}\n",
    "\\end{frame}"
   ]
  },
  {
   "cell_type": "code",
   "execution_count": null,
   "metadata": {
    "collapsed": true
   },
   "outputs": [],
   "source": [
    "\\begin{frame}[fragile]\n",
    "\\frametitle{Exemple d'un module avec diff�rents r�pertoires}\n",
    "\\begin{block}{}\n",
    "\\begin{lstlisting}\n",
    "monModule/ Paquetage de niveau sup�rieur\n",
    "__init__.py Initialisation du paquetage monModule\n",
    "sous_module1/ Sous-paquetage\n",
    "__init__.py\n",
    "fichier1_1.py\n",
    "fichier1_2.py ...\n",
    "sous_module2/ Sous-paquetage\n",
    "__init__.py\n",
    "fichier2_1.py\n",
    "fichier2_2.py ...\n",
    "\\end{lstlisting}\n",
    "\\end{block}\n",
    "Le fichier \\_\\_init\\_\\_.py est obligatoire pour que Python consid�re les r�pertoires comme contenant des paquetages. Il peut-�tre vide ou contenir du code d'initialisation.\n",
    "\\end{frame}"
   ]
  }
 ],
 "metadata": {
  "kernelspec": {
   "display_name": "Python 3",
   "language": "python",
   "name": "python3"
  },
  "language_info": {
   "codemirror_mode": {
    "name": "ipython",
    "version": 3
   },
   "file_extension": ".py",
   "mimetype": "text/x-python",
   "name": "python",
   "nbconvert_exporter": "python",
   "pygments_lexer": "ipython3",
   "version": "3.6.2"
  }
 },
 "nbformat": 4,
 "nbformat_minor": 2
}
