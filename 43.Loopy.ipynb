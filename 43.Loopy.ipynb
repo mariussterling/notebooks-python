{
 "cells": [
  {
   "cell_type": "markdown",
   "metadata": {},
   "source": [
    "# Loopy\n",
    "\n",
    "A code generator for array-based code on CPUs and GPUs \n",
    "\n",
    " * [GitHub](http://github.com/inducer/loopy)\n",
    " * [Documentation](http://documen.tician.de/loopy)\n",
    " * [Homepage](http://mathema.tician.de/software/loopy)\n",
    " \n",
    " ```sh\n",
    " pip3 install loo.py pyopencl\n",
    " ```\n"
   ]
  },
  {
   "cell_type": "code",
   "execution_count": 1,
   "metadata": {
    "collapsed": true
   },
   "outputs": [],
   "source": [
    "from pyopencl.tools import get_test_platforms_and_devices"
   ]
  },
  {
   "cell_type": "code",
   "execution_count": 2,
   "metadata": {},
   "outputs": [
    {
     "data": {
      "text/plain": [
       "[(<pyopencl.Platform 'Apple' at 0x7fff0000>,\n",
       "  [<pyopencl.Device 'Intel(R) Xeon(R) CPU E5-1620 v2 @ 3.70GHz' on 'Apple' at 0xffffffff>,\n",
       "   <pyopencl.Device 'AMD Radeon HD - FirePro D300 Compute Engine' on 'Apple' at 0x1021c00>,\n",
       "   <pyopencl.Device 'AMD Radeon HD - FirePro D300 Compute Engine' on 'Apple' at 0x2021c00>])]"
      ]
     },
     "execution_count": 2,
     "metadata": {},
     "output_type": "execute_result"
    }
   ],
   "source": [
    "get_test_platforms_and_devices()"
   ]
  },
  {
   "cell_type": "code",
   "execution_count": 3,
   "metadata": {
    "collapsed": true
   },
   "outputs": [],
   "source": [
    "import numpy as np\n",
    "import pyopencl as cl\n",
    "import pyopencl.array"
   ]
  },
  {
   "cell_type": "code",
   "execution_count": 4,
   "metadata": {},
   "outputs": [],
   "source": [
    "%load_ext pyopencl.ipython_ext\n"
   ]
  },
  {
   "cell_type": "markdown",
   "metadata": {},
   "source": [
    "**Context name must be \"ctx\" or \"cl_ctx\"**"
   ]
  },
  {
   "cell_type": "code",
   "execution_count": 5,
   "metadata": {
    "collapsed": true
   },
   "outputs": [],
   "source": [
    "platform = cl.get_platforms()[0]    # Select the first platform [0]\n",
    "device = platform.get_devices()[0]  # Select the first device on this platform [0]\n",
    "cl_ctx = cl.Context([device])       # Create a context with your device\n",
    "queue = cl.CommandQueue(cl_ctx)     # Create a command queue with your context"
   ]
  },
  {
   "cell_type": "code",
   "execution_count": 6,
   "metadata": {
    "collapsed": true
   },
   "outputs": [],
   "source": [
    "n = 10000\n",
    "\n",
    "a = cl.array.empty(queue, n, dtype=np.float32)\n",
    "a.fill(15)\n",
    "\n",
    "b_host = np.random.randn(n).astype(np.float32)\n",
    "b = cl.array.to_device(queue, b_host)\n",
    "\n",
    "c = cl.array.empty_like(a)"
   ]
  },
  {
   "cell_type": "code",
   "execution_count": 7,
   "metadata": {
    "collapsed": true
   },
   "outputs": [],
   "source": [
    "%%cl_kernel -o \"-cl-fast-relaxed-math\"\n",
    "\n",
    "__kernel void sum_vector(__global const float *a,\n",
    "__global const float *b, __global float *c)\n",
    "{\n",
    "  int gid = get_global_id(0);\n",
    "  c[gid] = a[gid] + b[gid];\n",
    "}"
   ]
  },
  {
   "cell_type": "code",
   "execution_count": 8,
   "metadata": {},
   "outputs": [
    {
     "data": {
      "text/plain": [
       "array([ 15.53893852,  15.22600365,  12.92048645, ...,  15.06351471,\n",
       "        13.1458683 ,  14.53290367], dtype=float32)"
      ]
     },
     "execution_count": 8,
     "metadata": {},
     "output_type": "execute_result"
    }
   ],
   "source": [
    "sum_vector(queue, (n,), None, a.data, b.data, c.data)\n",
    "\n",
    "c.get()"
   ]
  },
  {
   "cell_type": "markdown",
   "metadata": {},
   "source": [
    "## Example: double the entries of a vector"
   ]
  },
  {
   "cell_type": "code",
   "execution_count": 9,
   "metadata": {
    "collapsed": true
   },
   "outputs": [],
   "source": [
    "import numpy as np\n",
    "import loopy as lp\n",
    "import pyopencl as cl\n",
    "import pyopencl.array\n",
    "\n",
    "# setup\n",
    "# -----\n",
    "ctx = cl.create_some_context()\n",
    "queue = cl.CommandQueue(ctx)\n",
    "\n",
    "n = 15 * 10**6\n",
    "a = cl.array.arange(queue, n, dtype=np.float32)\n",
    "\n",
    "# create\n",
    "# ------\n",
    "knl = lp.make_kernel(\n",
    "        \"{ [i]: 0<=i<n }\",\n",
    "        \"out[i] = 2*a[i]\")\n",
    "\n",
    "# transform\n",
    "# ---------\n",
    "knl = lp.split_iname(knl, \"i\", 128, outer_tag=\"g.0\", inner_tag=\"l.0\")\n",
    "\n",
    "# execute\n",
    "# -------\n",
    "evt, (out,) = knl(queue, a=a)"
   ]
  },
  {
   "cell_type": "code",
   "execution_count": 10,
   "metadata": {},
   "outputs": [
    {
     "data": {
      "text/plain": [
       "array([  0.00000000e+00,   2.00000000e+00,   4.00000000e+00, ...,\n",
       "         2.99999940e+07,   2.99999960e+07,   2.99999980e+07], dtype=float32)"
      ]
     },
     "execution_count": 10,
     "metadata": {},
     "output_type": "execute_result"
    }
   ],
   "source": [
    "out"
   ]
  },
  {
   "cell_type": "markdown",
   "metadata": {},
   "source": [
    "Components of a loopy kernel:\n",
    "\n",
    "- The loop domain: `{ [i]: 0<=i<n }`. This tells loopy the values that you would like your loop variables to assume. It is written in [ISL syntax](https://documen.tician.de/loopy/ref_kernel.html#isl-syntax).\n",
    "\n",
    "- The instructions to be executed. These are generally scalar assignments between array elements, consisting of a left hand side and a right hand side. See Assignment objects for the full syntax of an assignment."
   ]
  },
  {
   "cell_type": "code",
   "execution_count": null,
   "metadata": {
    "collapsed": true
   },
   "outputs": [],
   "source": []
  }
 ],
 "metadata": {
  "kernelspec": {
   "display_name": "Python 3",
   "language": "python",
   "name": "python3"
  },
  "language_info": {
   "codemirror_mode": {
    "name": "ipython",
    "version": 3
   },
   "file_extension": ".py",
   "mimetype": "text/x-python",
   "name": "python",
   "nbconvert_exporter": "python",
   "pygments_lexer": "ipython3",
   "version": "3.6.2"
  }
 },
 "nbformat": 4,
 "nbformat_minor": 2
}
