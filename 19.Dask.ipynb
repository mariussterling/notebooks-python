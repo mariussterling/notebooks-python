{
 "cells": [
  {
   "cell_type": "markdown",
   "metadata": {},
   "source": [
    "# References\n",
    "* [Dask website](https://dask.pydata.org/)\n",
    "* [Dask Tutorial](https://github.com/dask/dask-tutorial)\n",
    "* [Matrix multiplication by Pantelis Isaiah](https://pantelisaiah.wordpress.com/portfolio/matrix-multiplication/)"
   ]
  },
  {
   "cell_type": "markdown",
   "metadata": {},
   "source": [
    "# Matrix Multiplication\n",
    "* create a sequence of matrices of increasing size with the entries of the matrices being random numbers.\n",
    "* multiplies them.\n",
    "* times the multiplications.\n",
    "\n",
    "The **dask** python library allows the user to break the arrays into chunks. \n",
    "\n",
    "- The syntax is reminiscent of the numpy syntax.  If you\n",
    "```python\n",
    "import dask.array as da\n",
    "```\n",
    "then you just have to substitute\n",
    "```txt\n",
    "np.<method> for da.<method>\n",
    "```"
   ]
  },
  {
   "cell_type": "markdown",
   "metadata": {},
   "source": [
    "### NumPy version"
   ]
  },
  {
   "cell_type": "code",
   "execution_count": 10,
   "metadata": {
    "collapsed": true
   },
   "outputs": [],
   "source": [
    "import numpy as np\n",
    "import time\n",
    " \n",
    "array_sizes = [5] + list(range(10, 2001, 10))\n",
    " \n",
    "times_elapsed_np = np.full((len(array_sizes), 1), 0.0)\n",
    " \n",
    "num_loops = 10\n",
    "the_loop = np.array(range(1, num_loops + 1))\n",
    "chunk_size = 500\n",
    " \n",
    "k = 0\n",
    "for array_size in array_sizes:\n",
    "    A = np.random.random((array_size, array_size))\n",
    "    B = np.random.random((array_size, array_size))\n",
    "    C = np.full((array_size, array_size), 0.0)\n",
    " \n",
    "    start = time.process_time()\n",
    " \n",
    "    for loop_counter in the_loop:\n",
    "        C = A.dot(B)\n",
    " \n",
    "    times_elapsed_np[k] = (time.process_time() - start)/num_loops*1000 # in msec\n",
    "    k += 1"
   ]
  },
  {
   "cell_type": "code",
   "execution_count": 11,
   "metadata": {
    "collapsed": true
   },
   "outputs": [],
   "source": [
    "import dask\n",
    "import dask.array as da\n",
    " \n",
    "array_sizes = [5] + list(range(10, 2001, 10))\n",
    " \n",
    "times_elapsed_da = np.full((len(array_sizes), 1), 0.0)\n",
    " \n",
    "num_loops = 10\n",
    "the_loop = np.array(range(1, num_loops + 1))\n",
    "chunk_size = 500\n",
    " \n",
    "k = 0\n",
    "for array_size in array_sizes:\n",
    "    A = da.random.random((array_size, array_size), chunks = chunk_size)\n",
    "    B = da.random.random((array_size, array_size), chunks = chunk_size)\n",
    "    C = da.full((array_size, array_size), 0.0, chunks = chunk_size)\n",
    " \n",
    "    start = time.process_time()\n",
    " \n",
    "    for loop_counter in the_loop:\n",
    " \n",
    "        C = A.dot(B)\n",
    " \n",
    "    times_elapsed_da[k] = (time.process_time() - start)/num_loops*1000 # in msec\n",
    "    k += 1"
   ]
  },
  {
   "cell_type": "code",
   "execution_count": 13,
   "metadata": {},
   "outputs": [
    {
     "data": {
      "text/plain": [
       "<matplotlib.legend.Legend at 0x103b59a90>"
      ]
     },
     "execution_count": 13,
     "metadata": {},
     "output_type": "execute_result"
    },
    {
     "data": {
      "image/png": "[encoded data removed]",
      "text/plain": [
       "<matplotlib.figure.Figure at 0x1080375f8>"
      ]
     },
     "metadata": {},
     "output_type": "display_data"
    }
   ],
   "source": [
    "%matplotlib inline\n",
    "import matplotlib.pyplot as plt \n",
    "\n",
    "plt.plot(array_sizes, times_elapsed_np, label='numpy')\n",
    "plt.plot(array_sizes, times_elapsed_da, label='dask')\n",
    "plt.legend()"
   ]
  },
  {
   "cell_type": "code",
   "execution_count": null,
   "metadata": {
    "collapsed": true
   },
   "outputs": [],
   "source": []
  }
 ],
 "metadata": {
  "kernelspec": {
   "display_name": "Python 3",
   "language": "python",
   "name": "python3"
  },
  "language_info": {
   "codemirror_mode": {
    "name": "ipython",
    "version": 3
   },
   "file_extension": ".py",
   "mimetype": "text/x-python",
   "name": "python",
   "nbconvert_exporter": "python",
   "pygments_lexer": "ipython3",
   "version": "3.6.2"
  }
 },
 "nbformat": 4,
 "nbformat_minor": 2
}
