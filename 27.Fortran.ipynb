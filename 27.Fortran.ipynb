{
 "cells": [
  {
   "cell_type": "markdown",
   "metadata": {
    "collapsed": true
   },
   "source": [
    "Pierre Navaro - [Institut de Recherche Mathématique de Rennes](https://irmar.univ-rennes1.fr) - [CNRS](http://www.cnrs.fr/)"
   ]
  },
  {
   "cell_type": "markdown",
   "metadata": {},
   "source": [
    "# References\n",
    "* [F2py](http://scipy.github.io/old-wiki/pages/F2py)\n",
    "* [Fortran extension for IPython](https://github.com/mgaitan/fortran_magic)\n"
   ]
  },
  {
   "cell_type": "code",
   "execution_count": 1,
   "metadata": {
    "collapsed": true
   },
   "outputs": [],
   "source": [
    "from numpy import *\n",
    "%matplotlib inline\n",
    "%config InlineBackend.figure_format = 'retina'\n",
    "import matplotlib.pyplot as plt\n",
    "\n"
   ]
  },
  {
   "cell_type": "code",
   "execution_count": 3,
   "metadata": {
    "collapsed": true
   },
   "outputs": [],
   "source": [
    "import scipy.fftpack as sf\n",
    "import scipy.linalg as sl\n",
    "N=128 # matrix size\n",
    "# Define grid\n",
    "x=linspace(0,1,N+1)\n",
    "y=x[:-1] # periodic in y. Remove periodic point\n",
    "x=x[1:-1] # Dirichlet 0 in x. Remove both boundary points\n",
    "dx=x[1]-x[0]\n",
    "dy=y[1]-y[0]\n",
    "\n",
    "\n"
   ]
  },
  {
   "cell_type": "markdown",
   "metadata": {},
   "source": [
    "Matrix A is a 1D laplacian along x with homogeneous Dirichlet boundary condition"
   ]
  },
  {
   "cell_type": "code",
   "execution_count": 4,
   "metadata": {
    "collapsed": true
   },
   "outputs": [],
   "source": [
    "A=ones((2,N),dtype=float)\n",
    "A[0,:]=A[0,:]*(-1.)/(dx*dx)\n",
    "A[1,:]=A[1,:]*2./(dx*dx)\n",
    "\n"
   ]
  },
  {
   "cell_type": "markdown",
   "metadata": {},
   "source": [
    "Matrix with periodic boundary conditions along y is defined by its eigen values."
   ]
  },
  {
   "cell_type": "code",
   "execution_count": 5,
   "metadata": {
    "collapsed": true
   },
   "outputs": [],
   "source": [
    "c=[2./(dy**2), -1./(dy**2)] \n",
    "valp = c[0] + 2*c[1]*cos(2*pi*arange(N)/N)"
   ]
  },
  {
   "cell_type": "markdown",
   "metadata": {},
   "source": [
    "Define right-hand-side. Note that meshgrid reverses the order, so that F and Uex are of shape (ny,nx)  "
   ]
  },
  {
   "cell_type": "code",
   "execution_count": 6,
   "metadata": {
    "collapsed": true
   },
   "outputs": [],
   "source": [
    "X,Y=meshgrid(x,y)\n",
    "Uex=sin(pi*X)*cos(2*pi*Y)\n",
    "F=5*pi**2*sin(pi*X)*cos(2*pi*Y)"
   ]
  },
  {
   "cell_type": "markdown",
   "metadata": {},
   "source": [
    "Fourier transform in direction y of F  "
   ]
  },
  {
   "cell_type": "code",
   "execution_count": 7,
   "metadata": {
    "collapsed": true
   },
   "outputs": [],
   "source": [
    "for i in range(N-1):\n",
    "    F[:,i]=sf.rfft(F[:,i])\n",
    "\n"
   ]
  },
  {
   "cell_type": "code",
   "execution_count": 8,
   "metadata": {},
   "outputs": [
    {
     "name": "stderr",
     "output_type": "stream",
     "text": [
      "/usr/local/lib/python3.6/site-packages/fortranmagic.py:147: UserWarning: get_ipython_cache_dir has moved to the IPython.paths module since IPython 4.0.\n",
      "  self._lib_dir = os.path.join(get_ipython_cache_dir(), 'fortran')\n"
     ]
    },
    {
     "data": {
      "application/javascript": [
       "$.getScript(\"https://raw.github.com/marijnh/CodeMirror/master/mode/fortran/fortran.js\", function () {\n",
       "IPython.config.cell_magic_highlight['magic_fortran'] = {'reg':[/^%%fortran/]};});\n"
      ]
     },
     "metadata": {},
     "output_type": "display_data"
    }
   ],
   "source": [
    "%load_ext fortranmagic"
   ]
  },
  {
   "cell_type": "code",
   "execution_count": 9,
   "metadata": {
    "collapsed": true
   },
   "outputs": [],
   "source": [
    "%%fortran --link lapack\n",
    "subroutine poisson2d(U,F,nx,ny,dx,dy)\n",
    "    ! Solve 2D Poisson equation using 2nd order FD on structured grid \n",
    "    ! with Dirichlet BC in x and periodic in y\n",
    "    ! Tensor product technique used to bring the solution back to 1D problems\n",
    "    integer :: nx, ny  ! grid size, ny is expected to be a power of 2 for efficiency\n",
    "    real(8), dimension(ny,nx), intent(out) :: U ! solution in matrix form\n",
    "    real(8), dimension(ny,nx), intent(in) :: F !  RHS in matrix form\n",
    "    real(8) :: dx, dy ! cell size in x and y\n",
    "\n",
    "    integer :: info\n",
    "    real(8), dimension(2,nx) :: A, B ! banded matrices for problem in x \n",
    "    real(8), dimension(ny) :: valp ! eigenvalues of circulant matrix for problem in y direction \n",
    "    real(8) :: c0,c1  ! upper part of circulant matrix\n",
    "    real(8), parameter :: pi = 3.1415926535897931\n",
    "    real(8), dimension(nx,2) :: v\n",
    "            \n",
    "    !Assemble banded matrix and factor for Dirichlet problem for use with \n",
    "    !LAPACK Cholesky factorization DPBTRF and solve DPBTRS\n",
    "    A(1,:) = -1.0/(dx*dx)\n",
    "    A(2,:) = 2.0/(dx*dx)\n",
    "    !compute eigenvalues of circulant matrix\n",
    "    c0 = 2.0/(dy*dy)\n",
    "    c1 = -1.0/(dy*dy)\n",
    "    do k=1,ny\n",
    "       valp(k) = c0 + 2*c1*cos(2*pi*(k-1)/ny)\n",
    "    end do\n",
    "    ! Tridiagonal solves in x direction\n",
    "    U(:,:) = F(:,:)  ! copy rhs into solution\n",
    "    B(1,:)=A(1,:) \n",
    "    B(2,:)=A(2,:)+valp(1) ! add eigenvalue on diagonal  \n",
    "    call DPBTRF( 'U', nx, 1, B, 2, info ) ! Cholesky factorisation of B\n",
    "    call DPBTRS( 'U', nx, 1, 1, B, 2, U(1,:), nx, info ) ! Solution\n",
    "    do k = 1, ny/2-1\n",
    "       B(1,:)=A(1,:)\n",
    "       B(2,:)=A(2,:)+valp(k+1) ! add eigenvalue on diagonal\n",
    "       call DPBTRF( 'U', nx, 1, B, 2, info ) ! Cholesky factorisation of B\n",
    "       v = transpose(U(2*k:2*k+1,:))\n",
    "       call DPBTRS( 'U', nx, 1, 2, B, 2, v, nx, info ) ! Solution\n",
    "       U(2*k:2*k+1,:)=transpose(v)\n",
    "    end do\n",
    "    B(1,:)=A(1,:)\n",
    "    B(2,:)=A(2,:)+valp(ny/2+1) ! add eigenvalue on diagonal\n",
    "    call DPBTRF( 'U', nx, 1, B, 2, info ) ! Cholesky factorisation of B\n",
    "    call DPBTRS( 'U', nx, 1, 1, B, 2, U(ny,:), nx, info ) ! Solution\n",
    "end subroutine poisson2d\n",
    "\n"
   ]
  },
  {
   "cell_type": "markdown",
   "metadata": {},
   "source": [
    "Tridiagonal solves in x direction  "
   ]
  },
  {
   "cell_type": "code",
   "execution_count": 10,
   "metadata": {
    "collapsed": true
   },
   "outputs": [],
   "source": [
    "U=poisson2d(F,dx,dy)"
   ]
  },
  {
   "cell_type": "markdown",
   "metadata": {},
   "source": [
    "Inverse Fourier transform in direction y of U  "
   ]
  },
  {
   "cell_type": "code",
   "execution_count": 11,
   "metadata": {
    "collapsed": true
   },
   "outputs": [],
   "source": [
    "for i in range(N-1):\n",
    "    U[:,i]=sf.irfft(U[:,i])\n",
    "\n"
   ]
  },
  {
   "cell_type": "code",
   "execution_count": 12,
   "metadata": {},
   "outputs": [
    {
     "name": "stdout",
     "output_type": "stream",
     "text": [
      " error = 0.000170649480012 \n"
     ]
    }
   ],
   "source": [
    "print (\" error = %s \" % max(abs(ravel(U-Uex))))\n",
    "\n"
   ]
  },
  {
   "cell_type": "code",
   "execution_count": 14,
   "metadata": {},
   "outputs": [
    {
     "data": {
      "image/png": "[encoded data removed]",
      "text/plain": [
       "<matplotlib.figure.Figure at 0x1093d80b8>"
      ]
     },
     "metadata": {
      "image/png": {
       "height": 252,
       "width": 364
      }
     },
     "output_type": "display_data"
    }
   ],
   "source": [
    "cs = plt.contourf(X,Y,U)\n",
    "cb = plt.colorbar(cs)"
   ]
  },
  {
   "cell_type": "code",
   "execution_count": null,
   "metadata": {
    "collapsed": true
   },
   "outputs": [],
   "source": []
  }
 ],
 "metadata": {
  "kernelspec": {
   "display_name": "Python 3",
   "language": "python",
   "name": "python3"
  },
  "language_info": {
   "codemirror_mode": {
    "name": "ipython",
    "version": 3
   },
   "file_extension": ".py",
   "mimetype": "text/x-python",
   "name": "python",
   "nbconvert_exporter": "python",
   "pygments_lexer": "ipython3",
   "version": "3.6.2"
  }
 },
 "nbformat": 4,
 "nbformat_minor": 2
}
