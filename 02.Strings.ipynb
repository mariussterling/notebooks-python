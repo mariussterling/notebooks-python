{
 "cells": [
  {
   "cell_type": "raw",
   "metadata": {
    "slideshow": {
     "slide_type": "slide"
    }
   },
   "source": [
    "<script>\n",
    "    function hide_prompt() {\n",
    "        $('div.prompt').hide(); // always hide prompt\n",
    "    }\n",
    "    $( document ).ready(hide_prompt);\n",
    "</script>"
   ]
  },
  {
   "cell_type": "markdown",
   "metadata": {
    "slideshow": {
     "slide_type": "slide"
    }
   },
   "source": [
    "# Python Strings\n",
    "https://github.com/pnavaro/notebooks-python/blob/master/02.Strings.ipynb"
   ]
  },
  {
   "cell_type": "markdown",
   "metadata": {
    "slideshow": {
     "slide_type": "slide"
    }
   },
   "source": [
    "# Strings and `print` Function\n",
    "Strings can be enclosed in single quotes ('...') or double quotes (\"...\") with the same result. \\ can be used to escape quotes:\n",
    "\n"
   ]
  },
  {
   "cell_type": "code",
   "execution_count": 1,
   "metadata": {
    "slideshow": {
     "slide_type": "fragment"
    }
   },
   "outputs": [
    {
     "name": "stdout",
     "output_type": "stream",
     "text": [
      "spam eggs\n",
      "doesn't\n",
      "doesn't\n",
      "\"Yes,\" he said.\n",
      "\"Yes,\" he said.\n",
      "\"Yes,\" he said.\n",
      "\"Isn't,\" she said.\n"
     ]
    }
   ],
   "source": [
    "print('spam eggs')  # single quotes\n",
    "print('doesn\\'t') # use \\' to escape the single quote...\n",
    "print(\"doesn't\")  # ...or use double quotes instead\n",
    "print('\"Yes,\" he said.')\n",
    "print(\"\\\"Yes,\\\" he said.\")\n",
    "print('\"Yes,\" he said.')\n",
    "print('\"Isn\\'t,\" she said.')\n"
   ]
  },
  {
   "cell_type": "markdown",
   "metadata": {
    "slideshow": {
     "slide_type": "slide"
    }
   },
   "source": [
    "`print` function translates C special characters"
   ]
  },
  {
   "cell_type": "code",
   "execution_count": 2,
   "metadata": {
    "slideshow": {
     "slide_type": "fragment"
    }
   },
   "outputs": [
    {
     "name": "stdout",
     "output_type": "stream",
     "text": [
      "\tFirst line.\n",
      "Second line.\n",
      "\\tFirst line.\\nSecond line.\n"
     ]
    }
   ],
   "source": [
    "s = '\\tFirst line.\\nSecond line.'  # \\n means newline \\t inserts tab\n",
    "print(s)  # with print(), \\n produces a new line\n",
    "print(r'\\tFirst line.\\nSecond line.')  # note the r before the quote"
   ]
  },
  {
   "cell_type": "markdown",
   "metadata": {
    "slideshow": {
     "slide_type": "slide"
    }
   },
   "source": [
    "# String literals with multiple lines"
   ]
  },
  {
   "cell_type": "code",
   "execution_count": 3,
   "metadata": {
    "slideshow": {
     "slide_type": "fragment"
    }
   },
   "outputs": [
    {
     "name": "stdout",
     "output_type": "stream",
     "text": [
      "Usage: thingy [OPTIONS]\n",
      "     -h                        Display this usage message\n",
      "     -H hostname               Hostname to connect to\n",
      "\n"
     ]
    }
   ],
   "source": [
    "print(\"\"\"\\\n",
    "Usage: thingy [OPTIONS]\n",
    "     -h                        Display this usage message\n",
    "     -H hostname               Hostname to connect to\n",
    "\"\"\") "
   ]
  },
  {
   "cell_type": "markdown",
   "metadata": {
    "slideshow": {
     "slide_type": "fragment"
    }
   },
   "source": [
    "\\ character removes the initial newline.\n",
    "\n",
    "Strings can be concatenated (glued together) with the + operator, and repeated with *"
   ]
  },
  {
   "cell_type": "code",
   "execution_count": 4,
   "metadata": {
    "slideshow": {
     "slide_type": "fragment"
    }
   },
   "outputs": [
    {
     "name": "stdout",
     "output_type": "stream",
     "text": [
      "unununium\n"
     ]
    }
   ],
   "source": [
    "# 3 times 'un', followed by 'ium'\n",
    "print(3 * 'un' + 'ium')\n"
   ]
  },
  {
   "cell_type": "markdown",
   "metadata": {
    "slideshow": {
     "slide_type": "slide"
    }
   },
   "source": [
    "Two or more string literals next to each other are automatically concatenated."
   ]
  },
  {
   "cell_type": "code",
   "execution_count": 5,
   "metadata": {
    "slideshow": {
     "slide_type": "fragment"
    }
   },
   "outputs": [
    {
     "name": "stdout",
     "output_type": "stream",
     "text": [
      "Put several strings within parentheses to have them joined together.\n"
     ]
    }
   ],
   "source": [
    "text = ('Put several strings within parentheses '\n",
    "         'to have them joined together.')\n",
    "print(text)"
   ]
  },
  {
   "cell_type": "markdown",
   "metadata": {
    "slideshow": {
     "slide_type": "slide"
    }
   },
   "source": [
    "Strings can be indexed, with the first character having index 0. There is no separate character type; a character is simply a string of size one"
   ]
  },
  {
   "cell_type": "code",
   "execution_count": 6,
   "metadata": {
    "slideshow": {
     "slide_type": "fragment"
    }
   },
   "outputs": [
    {
     "name": "stdout",
     "output_type": "stream",
     "text": [
      "P\n",
      "n\n"
     ]
    }
   ],
   "source": [
    "word = 'Python'\n",
    "print(word[0]) # character in position 0\n",
    "print(word[5]) # character in position 5\n",
    "\n",
    "\n"
   ]
  },
  {
   "cell_type": "markdown",
   "metadata": {
    "slideshow": {
     "slide_type": "fragment"
    }
   },
   "source": [
    "Indices may also be negative numbers, to start counting from the right"
   ]
  },
  {
   "cell_type": "code",
   "execution_count": 7,
   "metadata": {
    "slideshow": {
     "slide_type": "fragment"
    }
   },
   "outputs": [
    {
     "name": "stdout",
     "output_type": "stream",
     "text": [
      "n\n",
      "o\n"
     ]
    }
   ],
   "source": [
    "print(word[-1])  # last character\n",
    "print(word[-2])  # second-last character\n"
   ]
  },
  {
   "cell_type": "markdown",
   "metadata": {
    "slideshow": {
     "slide_type": "slide"
    }
   },
   "source": [
    "# Slicing Strings\n",
    "- Omitted first index defaults to zero, \n",
    "- Omitted second index defaults to the size of the string being sliced.\n",
    "- Step can be set with the third index\n",
    "\n"
   ]
  },
  {
   "cell_type": "code",
   "execution_count": 8,
   "metadata": {
    "slideshow": {
     "slide_type": "fragment"
    }
   },
   "outputs": [
    {
     "name": "stdout",
     "output_type": "stream",
     "text": [
      "Py\n",
      "on\n",
      "on\n",
      "nohtyP\n"
     ]
    }
   ],
   "source": [
    "print(word[:2])  # character from the beginning to position 2 (excluded)\n",
    "print(word[4:])  # characters from position 4 (included) to the end\n",
    "print(word[-2:]) # characters from the second-last (included) to the end\n",
    "print(word[::-1]) # This is the reversed string!\n"
   ]
  },
  {
   "cell_type": "markdown",
   "metadata": {
    "slideshow": {
     "slide_type": "slide"
    }
   },
   "source": [
    "Python strings cannot be changed — they are immutable.\n",
    "If you need a different string, you should create a new or use Lists.\n",
    "\n"
   ]
  },
  {
   "cell_type": "code",
   "execution_count": 9,
   "metadata": {
    "slideshow": {
     "slide_type": "fragment"
    }
   },
   "outputs": [
    {
     "ename": "TypeError",
     "evalue": "'str' object does not support item assignment",
     "output_type": "error",
     "traceback": [
      "\u001b[0;31m---------------------------------------------------------------------------\u001b[0m",
      "\u001b[0;31mTypeError\u001b[0m                                 Traceback (most recent call last)",
      "\u001b[0;32m<ipython-input-9-197b67ffdd83>\u001b[0m in \u001b[0;36m<module>\u001b[0;34m()\u001b[0m\n\u001b[0;32m----> 1\u001b[0;31m \u001b[0mword\u001b[0m\u001b[0;34m[\u001b[0m\u001b[0;36m0\u001b[0m\u001b[0;34m]\u001b[0m \u001b[0;34m=\u001b[0m \u001b[0;34m'J'\u001b[0m\u001b[0;34m\u001b[0m\u001b[0m\n\u001b[0m",
      "\u001b[0;31mTypeError\u001b[0m: 'str' object does not support item assignment"
     ]
    }
   ],
   "source": [
    "word[0] = 'J'"
   ]
  }
 ],
 "metadata": {
  "celltoolbar": "Slideshow",
  "kernelspec": {
   "display_name": "Python 3",
   "language": "python",
   "name": "python3"
  },
  "language_info": {
   "codemirror_mode": {
    "name": "ipython",
    "version": 3
   },
   "file_extension": ".py",
   "mimetype": "text/x-python",
   "name": "python",
   "nbconvert_exporter": "python",
   "pygments_lexer": "ipython3",
   "version": "3.6.2"
  }
 },
 "nbformat": 4,
 "nbformat_minor": 1
}
