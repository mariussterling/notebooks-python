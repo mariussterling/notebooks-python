{
 "cells": [
  {
   "cell_type": "code",
   "execution_count": 17,
   "metadata": {},
   "outputs": [
    {
     "data": {
      "text/plain": [
       "(6, 9)"
      ]
     },
     "execution_count": 17,
     "metadata": {},
     "output_type": "execute_result"
    }
   ],
   "source": [
    "\n",
    "class MaClasse:\n",
    "   'Ma premiere classe'\n",
    "   def __init__(self, i, j):\n",
    "      self.i = i; self.j = j\n",
    "   def write(self):\n",
    "      print (\"MaClasse: i=\",self.i,\"j=\",self.j)\n",
    "\n",
    "obj1 = MaClasse(6,9)\n",
    "obj1.i, obj1.j\n"
   ]
  },
  {
   "cell_type": "code",
   "execution_count": 18,
   "metadata": {},
   "outputs": [
    {
     "name": "stdout",
     "output_type": "stream",
     "text": [
      "6 9\n",
      "MaClasse: i=6j=9\n"
     ]
    }
   ],
   "source": [
    "class MaClasse:\n",
    "   \"\"\"Ma premiere classe avec surcharge de \"\"\"\n",
    "   def __init__(self, i, j):\n",
    "      self.i = i; self.j = j\n",
    "   def write(self):\n",
    "      print (\"MaClasse: i=\",self.i,\"j=\",self.j)\n",
    "   def __repr__(self):\n",
    "      return \"MaClasse: i=\"+str(self.i)+\"j=\"+str(self.j)\n",
    "obj1 = MaClasse(6,9)\n",
    "print (obj1.i, obj1.j)\n",
    "print (obj1)"
   ]
  },
  {
   "cell_type": "code",
   "execution_count": 19,
   "metadata": {},
   "outputs": [
    {
     "name": "stdout",
     "output_type": "stream",
     "text": [
      "MaClasse: i= 6 j= 9\n",
      "MaSousClasse: i= 6 j= 9 k= 12\n"
     ]
    }
   ],
   "source": [
    "class MaSousClasse(MaClasse):\n",
    "   def __init__(self, i, j, k):\n",
    "      MaClasse.__init__(self,i,j)\n",
    "      self.k = k\n",
    "   def write(self):\n",
    "      print (\"MaSousClasse: i=\",self.i,\"j=\",self.j, \"k=\", self.k)\n",
    "obj1 = MaClasse(6,9)\n",
    "obj1.write()\n",
    "obj2 = MaSousClasse(6,9,12)\n",
    "obj2.write()"
   ]
  },
  {
   "cell_type": "code",
   "execution_count": 13,
   "metadata": {},
   "outputs": [
    {
     "ename": "AttributeError",
     "evalue": "'MaClasse' object has no attribute 'methode_publique'",
     "output_type": "error",
     "traceback": [
      "\u001b[0;31m---------------------------------------------------------------------------\u001b[0m",
      "\u001b[0;31mAttributeError\u001b[0m                            Traceback (most recent call last)",
      "\u001b[0;32m<ipython-input-13-b8471dfb5bc9>\u001b[0m in \u001b[0;36m<module>\u001b[0;34m()\u001b[0m\n\u001b[1;32m      6\u001b[0m \u001b[0;34m\u001b[0m\u001b[0m\n\u001b[1;32m      7\u001b[0m \u001b[0mobj\u001b[0m \u001b[0;34m=\u001b[0m \u001b[0mMaClasse\u001b[0m\u001b[0;34m(\u001b[0m\u001b[0;34m)\u001b[0m\u001b[0;34m\u001b[0m\u001b[0m\n\u001b[0;32m----> 8\u001b[0;31m \u001b[0mobj\u001b[0m\u001b[0;34m.\u001b[0m\u001b[0mmethode_publique\u001b[0m\u001b[0;34m(\u001b[0m\u001b[0;34m)\u001b[0m\u001b[0;34m\u001b[0m\u001b[0m\n\u001b[0m\u001b[1;32m      9\u001b[0m \u001b[0mobj\u001b[0m\u001b[0;34m.\u001b[0m\u001b[0m__ma_methode_privee\u001b[0m\u001b[0;34m(\u001b[0m\u001b[0;34m)\u001b[0m\u001b[0;34m\u001b[0m\u001b[0m\n",
      "\u001b[0;31mAttributeError\u001b[0m: 'MaClasse' object has no attribute 'methode_publique'"
     ]
    }
   ],
   "source": [
    "class MaClasse:\n",
    "    def ma_methode_publique(self):\n",
    "        print ('publique')\n",
    "    def __ma_methode_privee(self):\n",
    "        print ('prive!!')\n",
    "\n",
    "obj = MaClasse()\n",
    "obj.methode_publique()\n",
    "obj.__ma_methode_privee()\n"
   ]
  },
  {
   "cell_type": "code",
   "execution_count": 14,
   "metadata": {},
   "outputs": [
    {
     "data": {
      "text/plain": [
       "['_MaClasse__ma_methode_privee',\n",
       " '__class__',\n",
       " '__delattr__',\n",
       " '__dict__',\n",
       " '__dir__',\n",
       " '__doc__',\n",
       " '__eq__',\n",
       " '__format__',\n",
       " '__ge__',\n",
       " '__getattribute__',\n",
       " '__gt__',\n",
       " '__hash__',\n",
       " '__init__',\n",
       " '__init_subclass__',\n",
       " '__le__',\n",
       " '__lt__',\n",
       " '__module__',\n",
       " '__ne__',\n",
       " '__new__',\n",
       " '__reduce__',\n",
       " '__reduce_ex__',\n",
       " '__repr__',\n",
       " '__setattr__',\n",
       " '__sizeof__',\n",
       " '__str__',\n",
       " '__subclasshook__',\n",
       " '__weakref__',\n",
       " 'ma_methode_publique']"
      ]
     },
     "execution_count": 14,
     "metadata": {},
     "output_type": "execute_result"
    }
   ],
   "source": [
    "dir(obj)"
   ]
  },
  {
   "cell_type": "code",
   "execution_count": 16,
   "metadata": {},
   "outputs": [
    {
     "name": "stdout",
     "output_type": "stream",
     "text": [
      "prive!!\n"
     ]
    }
   ],
   "source": [
    "obj._MaClasse__ma_methode_privee()"
   ]
  },
  {
   "cell_type": "code",
   "execution_count": 21,
   "metadata": {},
   "outputs": [
    {
     "data": {
      "text/plain": [
       "11"
      ]
     },
     "execution_count": 21,
     "metadata": {},
     "output_type": "execute_result"
    }
   ],
   "source": [
    "class F:\n",
    "   def __init__(self, a=1, b=1, c=1):\n",
    "      self.a=a; self.b=b; self.c=c\n",
    "   def __call__(self, x, y):\n",
    "      return self.a+self.b*x+self.c*y*y\n",
    "\n",
    "f = F(a=2,b=4)\n",
    "f(2,1) "
   ]
  },
  {
   "cell_type": "code",
   "execution_count": 22,
   "metadata": {
    "collapsed": true
   },
   "outputs": [],
   "source": [
    "class Vecteur:\n",
    "   dimension = 2\n",
    "   def __init__(self, x=0, y=0):\n",
    "      self.x=x\n",
    "      self.y=y\n",
    "   def __eq__(self, vB):\n",
    "      return (self.x==vB.x) and (self.y==vB.y)\n",
    "   def __add__(self, vB):\n",
    "      return Vecteur(self.x+vB.x,self.y+vB.y)\n",
    "   def __sub__(self, vB):\n",
    "      return Vecteur(self.x-vB.x,self.y-vB.y)\n",
    "   def __mul__(self, c):\n",
    "      if isinstance(c,Vecteur):\n",
    "         return self.x*c.x+self.y*c.y\n",
    "      else:\n",
    "         return Vecteur(c*self.x,c*self.y)"
   ]
  },
  {
   "cell_type": "code",
   "execution_count": 23,
   "metadata": {},
   "outputs": [
    {
     "data": {
      "text/plain": [
       "(<__main__.Vecteur at 0x102710710>, <__main__.Vecteur at 0x102710470>)"
      ]
     },
     "execution_count": 23,
     "metadata": {},
     "output_type": "execute_result"
    }
   ],
   "source": [
    "U = Vecteur(); U.x,U.y = 0,1\n",
    "V = Vecteur(); V.x,V.y = 1,0\n",
    "U, V\n"
   ]
  },
  {
   "cell_type": "code",
   "execution_count": 24,
   "metadata": {},
   "outputs": [
    {
     "name": "stdout",
     "output_type": "stream",
     "text": [
      "<__main__.Vecteur object at 0x1027345c0>\n"
     ]
    }
   ],
   "source": [
    "W = U+V\n",
    "print (W)\n"
   ]
  },
  {
   "cell_type": "code",
   "execution_count": 25,
   "metadata": {},
   "outputs": [
    {
     "data": {
      "text/plain": [
       "3"
      ]
     },
     "execution_count": 25,
     "metadata": {},
     "output_type": "execute_result"
    }
   ],
   "source": [
    "Vecteur.dimension=3\n",
    "U.dimension\n"
   ]
  },
  {
   "cell_type": "code",
   "execution_count": 26,
   "metadata": {},
   "outputs": [
    {
     "data": {
      "text/plain": [
       "3"
      ]
     },
     "execution_count": 26,
     "metadata": {},
     "output_type": "execute_result"
    }
   ],
   "source": [
    "V.dimension"
   ]
  },
  {
   "cell_type": "code",
   "execution_count": 27,
   "metadata": {
    "collapsed": true
   },
   "outputs": [],
   "source": [
    "U.dimension=4"
   ]
  },
  {
   "cell_type": "code",
   "execution_count": 28,
   "metadata": {},
   "outputs": [
    {
     "data": {
      "text/plain": [
       "3"
      ]
     },
     "execution_count": 28,
     "metadata": {},
     "output_type": "execute_result"
    }
   ],
   "source": [
    "V.dimension\n"
   ]
  },
  {
   "cell_type": "code",
   "execution_count": 29,
   "metadata": {},
   "outputs": [
    {
     "data": {
      "text/plain": [
       "4"
      ]
     },
     "execution_count": 29,
     "metadata": {},
     "output_type": "execute_result"
    }
   ],
   "source": [
    "Vecteur.dimension=5\n",
    "U.dimension"
   ]
  },
  {
   "cell_type": "code",
   "execution_count": 30,
   "metadata": {},
   "outputs": [
    {
     "data": {
      "text/plain": [
       "5"
      ]
     },
     "execution_count": 30,
     "metadata": {},
     "output_type": "execute_result"
    }
   ],
   "source": [
    "V.dimension"
   ]
  },
  {
   "cell_type": "code",
   "execution_count": null,
   "metadata": {
    "collapsed": true
   },
   "outputs": [],
   "source": []
  }
 ],
 "metadata": {
  "kernelspec": {
   "display_name": "Python 3",
   "language": "python",
   "name": "python3"
  },
  "language_info": {
   "codemirror_mode": {
    "name": "ipython",
    "version": 3
   },
   "file_extension": ".py",
   "mimetype": "text/x-python",
   "name": "python",
   "nbconvert_exporter": "python",
   "pygments_lexer": "ipython3",
   "version": "3.6.2"
  }
 },
 "nbformat": 4,
 "nbformat_minor": 2
}
